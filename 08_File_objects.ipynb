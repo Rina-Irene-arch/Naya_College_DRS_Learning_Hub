{
 "cells": [
  {
   "cell_type": "markdown",
   "metadata": {
    "id": "jIL0Y87E5mvp"
   },
   "source": [
    "> **Disclaimer:** Working with I/O is different depending on your working environment. Make sure you understand how to allow your notebook access to the files."
   ]
  },
  {
   "cell_type": "markdown",
   "metadata": {
    "id": "PJscuO5csW6c"
   },
   "source": [
    "# Introduction"
   ]
  },
  {
   "cell_type": "markdown",
   "metadata": {
    "id": "Goi3wHOpTAUO"
   },
   "source": [
    "First of all - **File object and file content are NOT the same**. A [file object][File] is the Pythonic way of \"communicating\" with the file, e.g. query its properties, manage its attributes, etc. One of the many actions applicable with a file object is to read/write its content. This \"communication\" is implemented by the built-in function [`open()`][open], which also sets some preliminary features of the object.\n",
    "\n",
    "[File]: https://docs.python.org/2/library/stdtypes.html#file-objects \"File object\"\n",
    "[open]: https://docs.python.org/2/library/functions.html#open \"open() documentation\""
   ]
  },
  {
   "cell_type": "markdown",
   "metadata": {
    "id": "AYtGG1HaTAUP"
   },
   "source": [
    "## Open and close"
   ]
  },
  {
   "cell_type": "markdown",
   "metadata": {
    "id": "yLA7cyZbTAUR"
   },
   "source": [
    "_File_ objects are created by the `open(name[, mode])` built-in function, where _name_ is the full file path and _mode_ is the mode in which the file is opened. Several modes are available, but the most common ones are **'r'** for reading (default), **'w'** for writing and **'a'** for appending.\n",
    "\n",
    "It is not a healthy habit to leave open _File_ objects \"hanging\" in the file system, so we make sure to close them after we are done with them. The following three scripts illustrate exceedingly better syntaxes for addressing a file."
   ]
  },
  {
   "cell_type": "markdown",
   "metadata": {
    "id": "xeC1P4Pw5K-B"
   },
   "source": [
    "> **Note:** This example uses the file example.txt, which is available [here](https://drive.google.com/drive/folders/1KQXg5CpZ8u59ybkvOnFPzo_WaLHxek_g?usp=sharing)."
   ]
  },
  {
   "cell_type": "markdown",
   "metadata": {
    "id": "I0m0odSYTAUZ"
   },
   "source": [
    "#### open() - 1"
   ]
  },
  {
   "cell_type": "code",
   "execution_count": 1,
   "metadata": {
    "executionInfo": {
     "elapsed": 293,
     "status": "ok",
     "timestamp": 1720546553678,
     "user": {
      "displayName": "Alon Tam",
      "userId": "13843051219737434027"
     },
     "user_tz": -180
    },
    "id": "wxkfokecotwS"
   },
   "outputs": [],
   "source": [
    "fname = \"example.txt\""
   ]
  },
  {
   "cell_type": "code",
   "execution_count": 2,
   "metadata": {
    "executionInfo": {
     "elapsed": 306,
     "status": "ok",
     "timestamp": 1720546711834,
     "user": {
      "displayName": "Alon Tam",
      "userId": "13843051219737434027"
     },
     "user_tz": -180
    },
    "id": "LjOxo2cqTAUa"
   },
   "outputs": [],
   "source": [
    "my_file = open(fname, 'r')\n",
    "# Here do something with the file...\n",
    "\n",
    "# my_file.closed\n",
    "# my_file.close()"
   ]
  },
  {
   "cell_type": "code",
   "execution_count": null,
   "metadata": {
    "id": "6cI5P4ibk4Im"
   },
   "outputs": [],
   "source": [
    "my_file.close()"
   ]
  },
  {
   "cell_type": "markdown",
   "metadata": {
    "id": "2-ZEHItDTAUi"
   },
   "source": [
    "#### open() - 2"
   ]
  },
  {
   "cell_type": "markdown",
   "metadata": {
    "id": "z2fxSWqnTAUj"
   },
   "source": [
    "Finally, Python supports the following syntax to wrap it all compactly. **This is how it is usually done.**"
   ]
  },
  {
   "cell_type": "code",
   "execution_count": null,
   "metadata": {
    "id": "cBxl44uUTAUk"
   },
   "outputs": [],
   "source": [
    "with open(fname, 'r') as my_file:\n",
    "    # Here do something with the file...\n",
    "    pass\n",
    "\n",
    "print(\"Done!\")"
   ]
  },
  {
   "cell_type": "markdown",
   "metadata": {
    "id": "mX2051A-tXDF"
   },
   "source": [
    "# Reading"
   ]
  },
  {
   "cell_type": "markdown",
   "metadata": {
    "id": "ul48YzJMTAUy"
   },
   "source": [
    "There are several ways to read the data of a file, and we will see two of them:\n",
    "* Iteratively with a `for`-loop\n",
    "* As a whole with the `read()` method"
   ]
  },
  {
   "cell_type": "markdown",
   "metadata": {
    "id": "YrWGBcGZTAUz"
   },
   "source": [
    "## Read with a `for`-loop"
   ]
  },
  {
   "cell_type": "markdown",
   "metadata": {
    "id": "CNl15FgyTAU0"
   },
   "source": [
    "_File_ objects are their own iterators, and their \"elements\" are their lines. Iterating a _File_ object with a _for_ loop will ieterate the lines of the file. Note that the lines include the \"\\n\" at the end of each line (therefore the double-space print)."
   ]
  },
  {
   "cell_type": "code",
   "execution_count": 7,
   "metadata": {
    "colab": {
     "base_uri": "https://localhost:8080/"
    },
    "executionInfo": {
     "elapsed": 273,
     "status": "ok",
     "timestamp": 1720547358385,
     "user": {
      "displayName": "Alon Tam",
      "userId": "13843051219737434027"
     },
     "user_tz": -180
    },
    "id": "EjM4Ma3eTAU1",
    "outputId": "be5d1d5b-1d7f-486a-fd92-2b94b283b9b9"
   },
   "outputs": [
    {
     "name": "stdout",
     "output_type": "stream",
     "text": [
      "1 : This is the first line.\n",
      "\n",
      "2 : This is the second line.\n",
      "\n",
      "3 : This is the third and last line.\n",
      "Done reading the file!\n"
     ]
    }
   ],
   "source": [
    "fname = \"example.txt\"\n",
    "line_counter = 1\n",
    "\n",
    "with open(fname) as f:\n",
    "    for line in f:\n",
    "        print(line_counter, \":\", line)\n",
    "        line_counter += 1\n",
    "    print(\"Done reading the file!\")"
   ]
  },
  {
   "cell_type": "code",
   "execution_count": 4,
   "metadata": {
    "executionInfo": {
     "elapsed": 321,
     "status": "ok",
     "timestamp": 1720547249569,
     "user": {
      "displayName": "Alon Tam",
      "userId": "13843051219737434027"
     },
     "user_tz": -180
    },
    "id": "trKAYizRqrEk"
   },
   "outputs": [],
   "source": [
    "fname = \"example.txt\"\n",
    "\n",
    "with open(fname) as f:\n",
    "  lines = list(f)"
   ]
  },
  {
   "cell_type": "code",
   "execution_count": 5,
   "metadata": {
    "colab": {
     "base_uri": "https://localhost:8080/"
    },
    "executionInfo": {
     "elapsed": 298,
     "status": "ok",
     "timestamp": 1720547251207,
     "user": {
      "displayName": "Alon Tam",
      "userId": "13843051219737434027"
     },
     "user_tz": -180
    },
    "id": "ik06VWmNrHxi",
    "outputId": "f352364f-591e-4293-ccea-617e4c65f4ed"
   },
   "outputs": [
    {
     "data": {
      "text/plain": [
       "['This is the first line.\\n',\n",
       " 'This is the second line.\\n',\n",
       " 'This is the third and last line.']"
      ]
     },
     "execution_count": 5,
     "metadata": {},
     "output_type": "execute_result"
    }
   ],
   "source": [
    "lines"
   ]
  },
  {
   "cell_type": "markdown",
   "metadata": {
    "id": "Wbk3QcdBt9wI"
   },
   "source": [
    "> **Note:** Why are there double spaces in the output in the example above?"
   ]
  },
  {
   "cell_type": "markdown",
   "metadata": {
    "id": "LO1BbwkhTAU_"
   },
   "source": [
    "## Read with _read()_"
   ]
  },
  {
   "cell_type": "markdown",
   "metadata": {
    "id": "hflOjq65TAVA"
   },
   "source": [
    "This method is the most simple one, as it simply reads the entire content of the file into a single string."
   ]
  },
  {
   "cell_type": "code",
   "execution_count": 18,
   "metadata": {
    "executionInfo": {
     "elapsed": 280,
     "status": "ok",
     "timestamp": 1720548421676,
     "user": {
      "displayName": "Alon Tam",
      "userId": "13843051219737434027"
     },
     "user_tz": -180
    },
    "id": "3GWKFS-jTAVB"
   },
   "outputs": [],
   "source": [
    "fname = \"example.txt\"\n",
    "\n",
    "with open(fname) as f:\n",
    "    text = f.read()"
   ]
  },
  {
   "cell_type": "code",
   "execution_count": 19,
   "metadata": {
    "colab": {
     "base_uri": "https://localhost:8080/",
     "height": 36
    },
    "executionInfo": {
     "elapsed": 6,
     "status": "ok",
     "timestamp": 1720548422953,
     "user": {
      "displayName": "Alon Tam",
      "userId": "13843051219737434027"
     },
     "user_tz": -180
    },
    "id": "7GRZ0cnirhFJ",
    "outputId": "4ab02ac0-7abc-4bf1-e2d4-4a786d7ec427"
   },
   "outputs": [
    {
     "data": {
      "application/vnd.google.colaboratory.intrinsic+json": {
       "type": "string"
      },
      "text/plain": [
       "'This is the first line.\\nThis is the second line.\\nThis is the third and last line.'"
      ]
     },
     "execution_count": 19,
     "metadata": {},
     "output_type": "execute_result"
    }
   ],
   "source": [
    "text"
   ]
  },
  {
   "cell_type": "code",
   "execution_count": null,
   "metadata": {
    "id": "Guf5_wXMrtn6"
   },
   "outputs": [],
   "source": [
    "text.split(\"\\n\")"
   ]
  },
  {
   "cell_type": "markdown",
   "metadata": {
    "id": "Jn2kTA1j0DaK"
   },
   "source": [
    "> **Your turn:** Read the file \"players.txt\". Can you tell how many lines does it have?"
   ]
  },
  {
   "cell_type": "markdown",
   "metadata": {
    "id": "BUO5ZoK5iumQ",
    "tags": []
   },
   "source": [
    "### Solution"
   ]
  },
  {
   "cell_type": "code",
   "execution_count": 10,
   "metadata": {
    "executionInfo": {
     "elapsed": 349,
     "status": "ok",
     "timestamp": 1720548017112,
     "user": {
      "displayName": "Alon Tam",
      "userId": "13843051219737434027"
     },
     "user_tz": -180
    },
    "id": "hpZSj2PZpvhd"
   },
   "outputs": [],
   "source": [
    "open?"
   ]
  },
  {
   "cell_type": "code",
   "execution_count": 11,
   "metadata": {
    "colab": {
     "base_uri": "https://localhost:8080/"
    },
    "executionInfo": {
     "elapsed": 304,
     "status": "ok",
     "timestamp": 1720548090016,
     "user": {
      "displayName": "Alon Tam",
      "userId": "13843051219737434027"
     },
     "user_tz": -180
    },
    "id": "WEdVi7Ncw0LC",
    "outputId": "7daea2c2-e75e-42ce-acf7-fbe6bcf08c67"
   },
   "outputs": [
    {
     "data": {
      "text/plain": [
       "7"
      ]
     },
     "execution_count": 11,
     "metadata": {},
     "output_type": "execute_result"
    }
   ],
   "source": [
    "with open(\"players.txt\") as players_file:\n",
    "    line_count = 0\n",
    "    for line in players_file:\n",
    "        line_count +=1\n",
    "\n",
    "line_count"
   ]
  },
  {
   "cell_type": "code",
   "execution_count": 14,
   "metadata": {
    "colab": {
     "base_uri": "https://localhost:8080/"
    },
    "executionInfo": {
     "elapsed": 396,
     "status": "ok",
     "timestamp": 1720548236294,
     "user": {
      "displayName": "Alon Tam",
      "userId": "13843051219737434027"
     },
     "user_tz": -180
    },
    "id": "a9IaqhcQqMox",
    "outputId": "a7d8329f-b096-423f-cd93-20ca2739f184"
   },
   "outputs": [
    {
     "data": {
      "text/plain": [
       "6"
      ]
     },
     "execution_count": 14,
     "metadata": {},
     "output_type": "execute_result"
    }
   ],
   "source": [
    "with open(\"players.txt\") as players_file:\n",
    "  text = players_file.read()\n",
    "  line_count = text.count(\"\\n\")\n",
    "\n",
    "line_count"
   ]
  },
  {
   "cell_type": "markdown",
   "metadata": {
    "id": "5_FSteYuTAVQ"
   },
   "source": [
    "# Writing"
   ]
  },
  {
   "cell_type": "markdown",
   "metadata": {
    "id": "Z_oBmqHXTAVT"
   },
   "source": [
    "### Writing methods"
   ]
  },
  {
   "cell_type": "markdown",
   "metadata": {
    "id": "UP-ZgrEfTAVU"
   },
   "source": [
    "Similarly to `read()`, there is `write()` for writing. `write()` expects a single string and writes it directly to the file. `write()` automatically creates a new file if required, and overwrites the content of the file if it already exists."
   ]
  },
  {
   "cell_type": "code",
   "execution_count": 20,
   "metadata": {
    "executionInfo": {
     "elapsed": 311,
     "status": "ok",
     "timestamp": 1720548488134,
     "user": {
      "displayName": "Alon Tam",
      "userId": "13843051219737434027"
     },
     "user_tz": -180
    },
    "id": "80RHn3O3sMkC"
   },
   "outputs": [],
   "source": [
    "fname = \"example.txt\"\n",
    "\n",
    "str1 = \"I. This is the first line.\"\n",
    "str2 = \"II. This is the second line.\"\n",
    "str3 = \"III. This is the third and last line.\""
   ]
  },
  {
   "cell_type": "code",
   "execution_count": 24,
   "metadata": {
    "executionInfo": {
     "elapsed": 302,
     "status": "ok",
     "timestamp": 1720548619787,
     "user": {
      "displayName": "Alon Tam",
      "userId": "13843051219737434027"
     },
     "user_tz": -180
    },
    "id": "XdaluPeUTAVV"
   },
   "outputs": [],
   "source": [
    "with open(fname, 'w') as f:\n",
    "    f.write(str1 + '\\n')\n",
    "    f.write(str2 + '\\n')\n",
    "    f.write(str3)"
   ]
  },
  {
   "cell_type": "code",
   "execution_count": 25,
   "metadata": {
    "colab": {
     "base_uri": "https://localhost:8080/"
    },
    "executionInfo": {
     "elapsed": 5,
     "status": "ok",
     "timestamp": 1720548667655,
     "user": {
      "displayName": "Alon Tam",
      "userId": "13843051219737434027"
     },
     "user_tz": -180
    },
    "id": "VAJb39AVy1Wp",
    "outputId": "2995b867-7f4b-4a07-d605-4cd17218fa1e"
   },
   "outputs": [
    {
     "name": "stdout",
     "output_type": "stream",
     "text": [
      "['I. This is the first line.\\n', 'II. This is the second line.\\n', 'III. This is the third and last line.\\n']\n"
     ]
    }
   ],
   "source": [
    "lines = [\n",
    "    f\"{str1}\\n\",\n",
    "    f\"{str2}\\n\",\n",
    "    f\"{str3}\\n\"\n",
    "]\n",
    "\n",
    "print(lines)\n",
    "\n",
    "with open(fname, 'w') as f:\n",
    "  f.writelines(lines)\n",
    "  # Same as:\n",
    "  # for line in lines:\n",
    "  #   f.write(line)"
   ]
  },
  {
   "cell_type": "markdown",
   "metadata": {
    "id": "au8lyKDlTAVd"
   },
   "source": [
    "### Writing modes"
   ]
  },
  {
   "cell_type": "markdown",
   "metadata": {
    "id": "Isv6xwQ1TAVe"
   },
   "source": [
    "In standard writing mode, indicated by 'w', a new file will be created and an existing file will be overwritten.\n",
    "\n",
    "Compare the example above with the following:"
   ]
  },
  {
   "cell_type": "code",
   "execution_count": 29,
   "metadata": {
    "executionInfo": {
     "elapsed": 315,
     "status": "ok",
     "timestamp": 1720549195169,
     "user": {
      "displayName": "Alon Tam",
      "userId": "13843051219737434027"
     },
     "user_tz": -180
    },
    "id": "lwURhO85Nj_E"
   },
   "outputs": [],
   "source": [
    "with open(fname, 'w') as f:\n",
    "    f.write(str1 + '\\n')\n",
    "\n",
    "with open(fname, 'w') as f:\n",
    "    f.write(str2 + '\\n')\n",
    "\n",
    "with open(fname, 'w') as f:\n",
    "    f.write(str3)"
   ]
  },
  {
   "cell_type": "markdown",
   "metadata": {
    "id": "lRdeB8sGOMed"
   },
   "source": [
    "Testing..."
   ]
  },
  {
   "cell_type": "code",
   "execution_count": 27,
   "metadata": {
    "colab": {
     "base_uri": "https://localhost:8080/"
    },
    "executionInfo": {
     "elapsed": 392,
     "status": "ok",
     "timestamp": 1720549024850,
     "user": {
      "displayName": "Alon Tam",
      "userId": "13843051219737434027"
     },
     "user_tz": -180
    },
    "id": "KxvVAyiIN8H2",
    "outputId": "bf0f164a-af67-48c8-eadc-cc859e15ab2a"
   },
   "outputs": [
    {
     "name": "stdout",
     "output_type": "stream",
     "text": [
      "III. This is the third and last line.\n"
     ]
    }
   ],
   "source": [
    "with open(fname, 'r') as f:\n",
    "    print(f.read())"
   ]
  },
  {
   "cell_type": "markdown",
   "metadata": {
    "id": "m7v2f7MuNkQG"
   },
   "source": [
    "If we want to append the data to what is already in the file, then we should use the append mode, indicated by 'a'."
   ]
  },
  {
   "cell_type": "code",
   "execution_count": 31,
   "metadata": {
    "executionInfo": {
     "elapsed": 307,
     "status": "ok",
     "timestamp": 1720549333134,
     "user": {
      "displayName": "Alon Tam",
      "userId": "13843051219737434027"
     },
     "user_tz": -180
    },
    "id": "TcJqkVxxTAVg"
   },
   "outputs": [],
   "source": [
    "with open(fname, 'w') as f:\n",
    "    f.write(str1 + '\\n')\n",
    "\n",
    "with open(fname, 'a') as f:\n",
    "    f.write(str2 + '\\n')\n",
    "\n",
    "with open(fname, 'a') as f:\n",
    "    f.write(str3)"
   ]
  },
  {
   "cell_type": "markdown",
   "metadata": {
    "id": "GfLYBsZROQ0E"
   },
   "source": [
    "Testing..."
   ]
  },
  {
   "cell_type": "code",
   "execution_count": null,
   "metadata": {
    "id": "pIFOJmCyOKEH"
   },
   "outputs": [],
   "source": [
    "with open(fname, 'r') as f:\n",
    "    print(f.read())"
   ]
  },
  {
   "cell_type": "code",
   "execution_count": 32,
   "metadata": {
    "executionInfo": {
     "elapsed": 450,
     "status": "ok",
     "timestamp": 1720549727062,
     "user": {
      "displayName": "Alon Tam",
      "userId": "13843051219737434027"
     },
     "user_tz": -180
    },
    "id": "_Yua9v62wTAl"
   },
   "outputs": [],
   "source": [
    "import os"
   ]
  },
  {
   "cell_type": "code",
   "execution_count": 33,
   "metadata": {
    "colab": {
     "base_uri": "https://localhost:8080/"
    },
    "executionInfo": {
     "elapsed": 298,
     "status": "ok",
     "timestamp": 1720549736779,
     "user": {
      "displayName": "Alon Tam",
      "userId": "13843051219737434027"
     },
     "user_tz": -180
    },
    "id": "NI0FsEBgwWME",
    "outputId": "16a1429e-7dc4-4fe8-e78c-87803667b671"
   },
   "outputs": [
    {
     "data": {
      "text/plain": [
       "['.config', 'word length.txt', 'example.txt', 'players.txt', 'sample_data']"
      ]
     },
     "execution_count": 33,
     "metadata": {},
     "output_type": "execute_result"
    }
   ],
   "source": [
    "os.listdir()"
   ]
  },
  {
   "cell_type": "markdown",
   "metadata": {
    "id": "wgXMy82LTAVy"
   },
   "source": [
    "## Additional notes"
   ]
  },
  {
   "cell_type": "markdown",
   "metadata": {
    "id": "qdF9OH3cTAVz"
   },
   "source": [
    "* Many other file-related functionalities (copy, remove, delete, existence, etc.) are available in other modules.\n",
    "\n",
    "* The concept of \"openning\" is very general and is in use by many other **file-like** objects, including web-pages, I/O streams and others.\n",
    "\n",
    "* Two other common aspects of working with files are not covered here, and the reader is encouraged to explore them further by referring to the following:\n",
    "    * Buffering - the _open()_ argument _buffering_ and the _File_ method _flush()_\n",
    "    * Position - the _File_ methods _seek()_ and _tell()_\n",
    "\n",
    "* File extensions (e.g. txt, csv, html, etc.) are irrelevant for the _open()_ functionality. They are used by the OS to relate files to their relevant application.\n",
    "\n",
    "* for dealing with paths, see [blog post about the python pathlib module][1]\n",
    "\n",
    "\n",
    "[1]: https://treyhunner.com/2018/12/why-you-should-be-using-pathlib/"
   ]
  },
  {
   "cell_type": "markdown",
   "metadata": {
    "id": "bJOv_xF_Q_3g"
   },
   "source": [
    "# Exercises\n"
   ]
  },
  {
   "cell_type": "markdown",
   "metadata": {
    "id": "3lFAiDwzREHo"
   },
   "source": [
    "## Exercise 1 <--- Homework 9/7/2024"
   ]
  },
  {
   "cell_type": "markdown",
   "metadata": {
    "id": "Dj9TYDpLRHxk"
   },
   "source": [
    "> Part 1: Create a new empty file named \"my_file.txt\".<br/>\n",
    "> Part 2: Write into the new file the words: \"hello world\".<br/>\n",
    "> Part 3: open the file and check the contents."
   ]
  },
  {
   "cell_type": "markdown",
   "metadata": {
    "id": "EUdVVs3TRnbc"
   },
   "source": [
    "### Solution"
   ]
  },
  {
   "cell_type": "code",
   "execution_count": null,
   "metadata": {
    "id": "rpT1B4PdRDpu"
   },
   "outputs": [],
   "source": [
    "# Option 1\n",
    "my_file = open(\"new_file.txt\", 'w')\n",
    "my_file.write(\"hello world\")\n",
    "my_file.close()"
   ]
  },
  {
   "cell_type": "code",
   "execution_count": null,
   "metadata": {
    "id": "uCPRfLfFSDpf"
   },
   "outputs": [],
   "source": [
    "# Option 2\n",
    "with open(\"new_file.txt\", 'w') as my_file:\n",
    "  my_file.write(\"hello world\")"
   ]
  },
  {
   "cell_type": "code",
   "execution_count": null,
   "metadata": {
    "id": "j1Y3FAsnR16N"
   },
   "outputs": [],
   "source": [
    "# Double click on the file in colab and see \"Hello world\""
   ]
  },
  {
   "cell_type": "markdown",
   "metadata": {
    "id": "LvrsS70tSW_E"
   },
   "source": [
    "## Exercise 2"
   ]
  },
  {
   "cell_type": "markdown",
   "metadata": {
    "id": "1_lQIAYISmyh"
   },
   "source": [
    "* Part 1 -  Use the list of words to create a file called “word length.txt”, containing a line saying “The word \\<word\\> has \\<n\\> letters” for each word in the list.\n",
    "* Part 2 - Read the file \"word_length.txt\" and print its contents."
   ]
  },
  {
   "cell_type": "code",
   "execution_count": null,
   "metadata": {
    "id": "C2mketOuSXaA"
   },
   "outputs": [],
   "source": [
    "my_words = ['The', 'quick', 'brown', 'fox', 'jumps', 'over', 'the', 'lazy', 'dog']"
   ]
  },
  {
   "cell_type": "markdown",
   "metadata": {
    "id": "o_Cj_e8MSzZ5"
   },
   "source": [
    "### Solution"
   ]
  },
  {
   "cell_type": "code",
   "execution_count": null,
   "metadata": {
    "id": "H5oJQ4s3Szpx"
   },
   "outputs": [],
   "source": [
    "# part 1:\n",
    "with open('word length.txt', 'w') as f:\n",
    "    for word in my_words:\n",
    "        f.write('The word {} has {} letters.\\n'.format(word, len(word)))    # you could use f-strings just the same\n",
    "\n",
    "# part 2:\n",
    "with open('word length.txt', 'r') as f:\n",
    "    print(f.read())"
   ]
  }
 ],
 "metadata": {
  "colab": {
   "collapsed_sections": [
    "EUdVVs3TRnbc",
    "o_Cj_e8MSzZ5"
   ],
   "provenance": []
  },
  "kernelspec": {
   "display_name": "Python 3 (ipykernel)",
   "language": "python",
   "name": "python3"
  },
  "language_info": {
   "codemirror_mode": {
    "name": "ipython",
    "version": 3
   },
   "file_extension": ".py",
   "mimetype": "text/x-python",
   "name": "python",
   "nbconvert_exporter": "python",
   "pygments_lexer": "ipython3",
   "version": "3.9.7"
  }
 },
 "nbformat": 4,
 "nbformat_minor": 1
}
