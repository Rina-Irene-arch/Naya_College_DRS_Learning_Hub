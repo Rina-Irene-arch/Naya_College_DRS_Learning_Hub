{
 "cells": [
  {
   "cell_type": "markdown",
   "metadata": {
    "id": "o9W_piFc9KEb"
   },
   "source": [
    "> **Credits:** Many thanks to **Liran Nahum** for his contributions to this chapter."
   ]
  },
  {
   "cell_type": "code",
   "execution_count": 66,
   "metadata": {
    "executionInfo": {
     "elapsed": 971,
     "status": "ok",
     "timestamp": 1721142013046,
     "user": {
      "displayName": "Alon Tam",
      "userId": "13843051219737434027"
     },
     "user_tz": -180
    },
    "id": "IW3u_sWar8N8"
   },
   "outputs": [],
   "source": [
    "import pandas as pd\n",
    "import matplotlib.pyplot as plt\n",
    "import numpy as np\n",
    "\n",
    "%matplotlib inline"
   ]
  },
  {
   "cell_type": "markdown",
   "metadata": {
    "id": "xsl6bMesr8N6"
   },
   "source": [
    "[_Pandas_][1] is the most exahustive library for data analysis in Python, and it can be described as the Pythonic son of SQL and Excel. It is based on [*NumPy*](https://www.numpy.org/) and [*matplotlib*](https://matplotlib.org/), but provides a unified API for many data-related operations, including manipulation, I/O, indexing, alignment, vizualizations, pivoting, grouping, etc.. In addition, it provides an impressive set of tools for working with time-series.\n",
    "\n",
    "[1]: http://pandas.pydata.org/ \"pandas org\""
   ]
  },
  {
   "cell_type": "markdown",
   "metadata": {
    "id": "qCp2eDAVArRz"
   },
   "source": [
    "> **Note:** NumPy is the mathematical infrastructure of pandas, and although most of our work will be done with pandas, it is a good idea to get acquainted with numpy basics through the [chapter about numpy](https://drive.google.com/drive/folders/1YzgjBy8ETzWWHrnYThl9qA_qRH8AcA-o?usp=sharing). More specifically, one should be familiar with the concepts of numpy array, advanced indexing and broadcasting."
   ]
  },
  {
   "cell_type": "markdown",
   "metadata": {
    "id": "6wrAFBLir8OB"
   },
   "source": [
    "# The _Series_ class"
   ]
  },
  {
   "cell_type": "markdown",
   "metadata": {
    "id": "e8Ugmaw8oBea"
   },
   "source": [
    "## Basics"
   ]
  },
  {
   "cell_type": "markdown",
   "metadata": {
    "id": "gP9g5eTUr8OC"
   },
   "source": [
    "_Series_ objects should be thought of as table columns. Although they are not exactly like _NumPy's_ 1-dimensional arrays, they are very similar, and behave similarly in many cases. _Series_ objects have many attributes and support many methods, which are all documented alphabetically [here][1] and by subject [here][2].\n",
    "\n",
    "The elements of the series (and the rows of the data-frame, as we'll see later) are **labeled** by an important attribute called **_index_**, which is an instance of the class [`Index`][3] (or one of its subclasses). If _index_ is not specified, then the elements are labeled by the regular row-counter, and the _index_ of the _series_ contains the integers from 0 to _n-1_.\n",
    "\n",
    "[1]: http://pandas.pydata.org/pandas-docs/stable/generated/pandas.Series.html \"Series API documentation A-Z\"\n",
    "[2]: http://pandas.pydata.org/pandas-docs/stable/api.html#series \"Series API documentation\"\n",
    "[3]: http://pandas.pydata.org/pandas-docs/stable/generated/pandas.Index.html \"Index API documentation\""
   ]
  },
  {
   "cell_type": "code",
   "execution_count": 67,
   "metadata": {
    "colab": {
     "base_uri": "https://localhost:8080/"
    },
    "executionInfo": {
     "elapsed": 345,
     "status": "ok",
     "timestamp": 1721142377407,
     "user": {
      "displayName": "Alon Tam",
      "userId": "13843051219737434027"
     },
     "user_tz": -180
    },
    "id": "Zne-DHIjr8OM",
    "outputId": "297b76c2-3633-405b-a928-9d98aaf61fd2"
   },
   "outputs": [
    {
     "name": "stdout",
     "output_type": "stream",
     "text": [
      "0    24\n",
      "1    25\n",
      "2    20\n",
      "3    24\n",
      "4    19\n",
      "dtype: int64\n"
     ]
    }
   ],
   "source": [
    "dudes_ages = pd.Series([24, 25, 20, 24, 19])\n",
    "print(dudes_ages)"
   ]
  },
  {
   "cell_type": "code",
   "execution_count": 68,
   "metadata": {
    "colab": {
     "base_uri": "https://localhost:8080/"
    },
    "executionInfo": {
     "elapsed": 313,
     "status": "ok",
     "timestamp": 1721142610256,
     "user": {
      "displayName": "Alon Tam",
      "userId": "13843051219737434027"
     },
     "user_tz": -180
    },
    "id": "eIgBb-bm9SWP",
    "outputId": "6aa96183-1379-4244-bc4c-3fe01a059a92"
   },
   "outputs": [
    {
     "data": {
      "text/plain": [
       "0    24\n",
       "1    25\n",
       "2    20\n",
       "3    24\n",
       "4    19\n",
       "dtype: int64"
      ]
     },
     "execution_count": 68,
     "metadata": {},
     "output_type": "execute_result"
    }
   ],
   "source": [
    "dudes_ages"
   ]
  },
  {
   "cell_type": "code",
   "execution_count": 69,
   "metadata": {
    "colab": {
     "base_uri": "https://localhost:8080/",
     "height": 203
    },
    "executionInfo": {
     "elapsed": 303,
     "status": "ok",
     "timestamp": 1721142613432,
     "user": {
      "displayName": "Alon Tam",
      "userId": "13843051219737434027"
     },
     "user_tz": -180
    },
    "id": "NV9zkui3g3Mn",
    "outputId": "c6194778-a7bc-4631-c730-bb7eebbd4008"
   },
   "outputs": [
    {
     "data": {
      "text/plain": [
       "pandas.core.series.Series"
      ]
     },
     "execution_count": 69,
     "metadata": {},
     "output_type": "execute_result"
    }
   ],
   "source": [
    "type(dudes_ages)"
   ]
  },
  {
   "cell_type": "code",
   "execution_count": 70,
   "metadata": {
    "colab": {
     "base_uri": "https://localhost:8080/"
    },
    "executionInfo": {
     "elapsed": 323,
     "status": "ok",
     "timestamp": 1721143050594,
     "user": {
      "displayName": "Alon Tam",
      "userId": "13843051219737434027"
     },
     "user_tz": -180
    },
    "id": "iE4H5oRthWRV",
    "outputId": "10763c0c-ad01-4f7a-aa7a-c325eb89dfa5"
   },
   "outputs": [
    {
     "data": {
      "text/plain": [
       "0        24\n",
       "1        25\n",
       "2        20\n",
       "3        24\n",
       "4        19\n",
       "5    199.35\n",
       "6     123.4\n",
       "dtype: object"
      ]
     },
     "execution_count": 70,
     "metadata": {},
     "output_type": "execute_result"
    }
   ],
   "source": [
    "pd.Series([24, 25, 20, 24, 19, 199.35, \"123.4\"])"
   ]
  },
  {
   "cell_type": "code",
   "execution_count": 71,
   "metadata": {
    "colab": {
     "base_uri": "https://localhost:8080/"
    },
    "executionInfo": {
     "elapsed": 300,
     "status": "ok",
     "timestamp": 1721143335446,
     "user": {
      "displayName": "Alon Tam",
      "userId": "13843051219737434027"
     },
     "user_tz": -180
    },
    "id": "qA7LNhd3H3CH",
    "outputId": "44d7d2bd-c2a7-4404-eb5d-bcb767a51224"
   },
   "outputs": [
    {
     "data": {
      "text/plain": [
       "0     24.000000\n",
       "1     25.000000\n",
       "2     20.000000\n",
       "3     24.000000\n",
       "4     19.000000\n",
       "5    199.350006\n",
       "6    123.400002\n",
       "dtype: float32"
      ]
     },
     "execution_count": 71,
     "metadata": {},
     "output_type": "execute_result"
    }
   ],
   "source": [
    "pd.Series([24, 25, 20, 24, 19, 199.35, \"123.4\"], dtype=\"float32\")"
   ]
  },
  {
   "cell_type": "markdown",
   "metadata": {
    "id": "Lb58DAnn6qYv"
   },
   "source": [
    "We can also specify the index."
   ]
  },
  {
   "cell_type": "code",
   "execution_count": 72,
   "metadata": {
    "executionInfo": {
     "elapsed": 339,
     "status": "ok",
     "timestamp": 1721143479555,
     "user": {
      "displayName": "Alon Tam",
      "userId": "13843051219737434027"
     },
     "user_tz": -180
    },
    "id": "oH7jPY7BiZyj"
   },
   "outputs": [],
   "source": [
    "pd.Series?"
   ]
  },
  {
   "cell_type": "code",
   "execution_count": 73,
   "metadata": {
    "colab": {
     "base_uri": "https://localhost:8080/"
    },
    "executionInfo": {
     "elapsed": 333,
     "status": "ok",
     "timestamp": 1721143528115,
     "user": {
      "displayName": "Alon Tam",
      "userId": "13843051219737434027"
     },
     "user_tz": -180
    },
    "id": "5JjjOKyQr8OR",
    "outputId": "e24fdd95-cd2d-45b2-e1e2-d2d9aa60fc0b"
   },
   "outputs": [
    {
     "name": "stdout",
     "output_type": "stream",
     "text": [
      "Avi    24\n",
      "Ben    25\n",
      "Gad    20\n",
      "Ben    24\n",
      "Hen    19\n",
      "dtype: int64\n"
     ]
    }
   ],
   "source": [
    "dudes_ages = pd.Series(\n",
    "    [24, 25, 20, 24, 19],\n",
    "    index=['Avi', 'Ben', 'Gad', 'Ben', 'Hen']\n",
    ")\n",
    "print(dudes_ages)"
   ]
  },
  {
   "cell_type": "code",
   "execution_count": 74,
   "metadata": {
    "colab": {
     "base_uri": "https://localhost:8080/"
    },
    "executionInfo": {
     "elapsed": 336,
     "status": "ok",
     "timestamp": 1721143739255,
     "user": {
      "displayName": "Alon Tam",
      "userId": "13843051219737434027"
     },
     "user_tz": -180
    },
    "id": "yWJrZ4lYOaV9",
    "outputId": "5dc448c3-d3b1-4a29-9f57-51c520f79fff"
   },
   "outputs": [
    {
     "data": {
      "text/plain": [
       "Avi    12.0\n",
       "Ben    12.5\n",
       "Gad    10.0\n",
       "Ben    12.0\n",
       "Hen     9.5\n",
       "dtype: float64"
      ]
     },
     "execution_count": 74,
     "metadata": {},
     "output_type": "execute_result"
    }
   ],
   "source": [
    "dudes_ages / 2"
   ]
  },
  {
   "cell_type": "code",
   "execution_count": 75,
   "metadata": {
    "colab": {
     "base_uri": "https://localhost:8080/"
    },
    "executionInfo": {
     "elapsed": 306,
     "status": "ok",
     "timestamp": 1721143930076,
     "user": {
      "displayName": "Alon Tam",
      "userId": "13843051219737434027"
     },
     "user_tz": -180
    },
    "id": "Nx2TPxZnOxfu",
    "outputId": "c3ebf126-79fd-4b96-8069-43b389649c86"
   },
   "outputs": [
    {
     "data": {
      "text/plain": [
       "Avi    False\n",
       "Ben    False\n",
       "Gad     True\n",
       "Ben    False\n",
       "Hen    False\n",
       "dtype: bool"
      ]
     },
     "execution_count": 75,
     "metadata": {},
     "output_type": "execute_result"
    }
   ],
   "source": [
    "dudes_ages == 20 # we got new series when appling vecor masks"
   ]
  },
  {
   "cell_type": "markdown",
   "metadata": {
    "id": "hoht0p2Sr8OE"
   },
   "source": [
    "> **Note:** The index values do **NOT** have to be unique. This is actually a very important concept, which has a lot to do with the speed of pandas. We will see its usage below."
   ]
  },
  {
   "cell_type": "markdown",
   "metadata": {
    "id": "sKKpO1cn63ih"
   },
   "source": [
    "Series support broadcasting much like numpy arrays. Note that the index is kept in the result."
   ]
  },
  {
   "cell_type": "code",
   "execution_count": 76,
   "metadata": {
    "colab": {
     "base_uri": "https://localhost:8080/"
    },
    "executionInfo": {
     "elapsed": 317,
     "status": "ok",
     "timestamp": 1721144003935,
     "user": {
      "displayName": "Alon Tam",
      "userId": "13843051219737434027"
     },
     "user_tz": -180
    },
    "id": "BylXaaOzr8OW",
    "outputId": "748b05d9-f526-4224-bd4a-85bedb66c37e"
   },
   "outputs": [
    {
     "data": {
      "text/plain": [
       "Avi    False\n",
       "Ben    False\n",
       "Gad     True\n",
       "Ben    False\n",
       "Hen     True\n",
       "dtype: bool"
      ]
     },
     "execution_count": 76,
     "metadata": {},
     "output_type": "execute_result"
    }
   ],
   "source": [
    "dudes_young = dudes_ages < 21\n",
    "dudes_young"
   ]
  },
  {
   "cell_type": "code",
   "execution_count": 77,
   "metadata": {
    "colab": {
     "base_uri": "https://localhost:8080/"
    },
    "executionInfo": {
     "elapsed": 307,
     "status": "ok",
     "timestamp": 1721144012633,
     "user": {
      "displayName": "Alon Tam",
      "userId": "13843051219737434027"
     },
     "user_tz": -180
    },
    "id": "6H9EPaPBr8Oa",
    "outputId": "a4f8d95c-7079-4aaf-cb1a-9b4b3c1c4b71"
   },
   "outputs": [
    {
     "data": {
      "text/plain": [
       "Avi    25\n",
       "Ben    26\n",
       "Gad    21\n",
       "Ben    25\n",
       "Hen    20\n",
       "dtype: int64"
      ]
     },
     "execution_count": 77,
     "metadata": {},
     "output_type": "execute_result"
    }
   ],
   "source": [
    "dudes_ages = dudes_ages + 1\n",
    "dudes_ages"
   ]
  },
  {
   "cell_type": "code",
   "execution_count": 78,
   "metadata": {
    "colab": {
     "base_uri": "https://localhost:8080/"
    },
    "executionInfo": {
     "elapsed": 324,
     "status": "ok",
     "timestamp": 1721144019051,
     "user": {
      "displayName": "Alon Tam",
      "userId": "13843051219737434027"
     },
     "user_tz": -180
    },
    "id": "JfE6tCFtKZm1",
    "outputId": "54ffe989-8992-475b-e9b2-f8327f09fa3e"
   },
   "outputs": [
    {
     "name": "stdout",
     "output_type": "stream",
     "text": [
      "Avi       10\n",
      "Ben       30\n",
      "Gad       40\n",
      "Yair      82\n",
      "Hen      116\n",
      "Yuval    160\n",
      "Dan      174\n",
      "dtype: int64\n"
     ]
    }
   ],
   "source": [
    "data = pd.Series([5, 15, 20, 41, 58, 80, 87],\n",
    "                 index=['Avi', 'Ben', 'Gad', 'Yair', 'Hen', \"Yuval\", \"Dan\"])\n",
    "\n",
    "print(data * 2)"
   ]
  },
  {
   "cell_type": "markdown",
   "metadata": {
    "id": "d3CC6uCEdOaw"
   },
   "source": [
    "> Your turn:\n",
    "\n",
    "1. Create a series named 'ser1' with the following data, and print it: 87, 41, 23, 56, 81, 84, 1, 2, 4.\n",
    "2. Create a series named 'scores' with the same data but add the following keys: 'Avi', 'Ben', 'Gad', 'Yair', 'Hen', \"Yuval\", \"Dan\" , \"Bob\", \"Tzvi\".\n",
    "3. Add the value 20 to all scores and print the result (series 'scores').\n",
    "4. Print True or False for every value that is greater than 50."
   ]
  },
  {
   "cell_type": "code",
   "execution_count": 79,
   "metadata": {},
   "outputs": [
    {
     "name": "stdout",
     "output_type": "stream",
     "text": [
      "The result of adding the value 20 to all scores\n",
      " Avi      107\n",
      "Ben       61\n",
      "Gad       43\n",
      "Yair      76\n",
      "Hen      101\n",
      "Yuval    104\n",
      "Dan       21\n",
      "Bob       22\n",
      "Tzvi      24\n",
      "dtype: int64\n",
      "Which score's values greate than 50?\n",
      " Avi       True\n",
      "Ben      False\n",
      "Gad      False\n",
      "Yair      True\n",
      "Hen       True\n",
      "Yuval     True\n",
      "Dan      False\n",
      "Bob      False\n",
      "Tzvi     False\n",
      "dtype: bool\n"
     ]
    }
   ],
   "source": [
    "'''\n",
    "1. Create a series named 'ser1' with the following data, and print it: 87, 41, 23, 56, 81, 84, 1, 2, 4.\n",
    "2. Create a series named 'scores' with the same data but add the following keys: 'Avi', 'Ben', 'Gad', 'Yair', 'Hen', \"Yuval\", \"Dan\" , \"Bob\", \"Tzvi\".\n",
    "3. Add the value 20 to all scores and print the result (series 'scores').\n",
    "4. Print True or False for every value that is greater than 50.\n",
    "'''\n",
    "\n",
    "ser1 = pd.Series([87, 41, 23, 56, 81, 84, 1, 2, 4])\n",
    "\n",
    "scores = pd.Series([87, 41, 23, 56, 81, 84, 1, 2, 4],\n",
    "                 index=['Avi', 'Ben', 'Gad', 'Yair', 'Hen', \"Yuval\", \"Dan\", 'Bob', 'Tzvi'])\n",
    "scores_plus_20 = scores + 20\n",
    "\n",
    "print('The result of adding the value 20 to all scores\\n', scores + 20)\n",
    "\n",
    "print(\"Which score's values greate than 50?\\n\", scores > 50)\n"
   ]
  },
  {
   "cell_type": "markdown",
   "metadata": {
    "id": "fWhE49o59SWR"
   },
   "source": [
    "### Solution"
   ]
  },
  {
   "cell_type": "code",
   "execution_count": 80,
   "metadata": {
    "colab": {
     "base_uri": "https://localhost:8080/"
    },
    "executionInfo": {
     "elapsed": 324,
     "status": "ok",
     "timestamp": 1721145664502,
     "user": {
      "displayName": "Alon Tam",
      "userId": "13843051219737434027"
     },
     "user_tz": -180
    },
    "id": "IBwih5Q2nX5X",
    "outputId": "6d63ffd6-bf59-457e-907e-36fad3b69f56"
   },
   "outputs": [
    {
     "data": {
      "text/plain": [
       "0    87\n",
       "1    41\n",
       "2    23\n",
       "3    56\n",
       "4    81\n",
       "5    84\n",
       "6     1\n",
       "7     2\n",
       "8     4\n",
       "dtype: int64"
      ]
     },
     "execution_count": 80,
     "metadata": {},
     "output_type": "execute_result"
    }
   ],
   "source": [
    "# 1.\n",
    "ser1 = pd.Series([87, 41, 23, 56, 81, 84, 1, 2, 4])\n",
    "ser1"
   ]
  },
  {
   "cell_type": "code",
   "execution_count": 81,
   "metadata": {
    "colab": {
     "base_uri": "https://localhost:8080/"
    },
    "executionInfo": {
     "elapsed": 327,
     "status": "ok",
     "timestamp": 1721145666248,
     "user": {
      "displayName": "Alon Tam",
      "userId": "13843051219737434027"
     },
     "user_tz": -180
    },
    "id": "haT_jVP_nhCm",
    "outputId": "8bdaa2ca-636b-4004-e28c-710681079235"
   },
   "outputs": [
    {
     "data": {
      "text/plain": [
       "Avi      87\n",
       "Ben      41\n",
       "Gad      23\n",
       "Yair     56\n",
       "Hen      81\n",
       "Yuval    84\n",
       "Dan       1\n",
       "Bob       2\n",
       "Tzvi      4\n",
       "dtype: int64"
      ]
     },
     "execution_count": 81,
     "metadata": {},
     "output_type": "execute_result"
    }
   ],
   "source": [
    "# 2.\n",
    "scores = pd.Series(\n",
    "    [87, 41, 23, 56, 81, 84, 1, 2, 4],\n",
    "    index=['Avi', 'Ben', 'Gad', 'Yair', 'Hen', \"Yuval\", \"Dan\" , \"Bob\", \"Tzvi\"]\n",
    ")\n",
    "scores"
   ]
  },
  {
   "cell_type": "code",
   "execution_count": 82,
   "metadata": {
    "colab": {
     "base_uri": "https://localhost:8080/"
    },
    "executionInfo": {
     "elapsed": 4,
     "status": "ok",
     "timestamp": 1721145669491,
     "user": {
      "displayName": "Alon Tam",
      "userId": "13843051219737434027"
     },
     "user_tz": -180
    },
    "id": "gNA2kTZinvzV",
    "outputId": "6896b721-22e3-4352-a6f4-7b70859e1542"
   },
   "outputs": [
    {
     "name": "stdout",
     "output_type": "stream",
     "text": [
      "Avi      107\n",
      "Ben       61\n",
      "Gad       43\n",
      "Yair      76\n",
      "Hen      101\n",
      "Yuval    104\n",
      "Dan       21\n",
      "Bob       22\n",
      "Tzvi      24\n",
      "dtype: int64\n"
     ]
    }
   ],
   "source": [
    "# 3.\n",
    "print(scores + 20)"
   ]
  },
  {
   "cell_type": "code",
   "execution_count": 83,
   "metadata": {
    "colab": {
     "base_uri": "https://localhost:8080/"
    },
    "executionInfo": {
     "elapsed": 341,
     "status": "ok",
     "timestamp": 1721145678906,
     "user": {
      "displayName": "Alon Tam",
      "userId": "13843051219737434027"
     },
     "user_tz": -180
    },
    "id": "GzqmLEClnzT2",
    "outputId": "da45c27b-7332-45c3-872f-62292ef86aec"
   },
   "outputs": [
    {
     "name": "stdout",
     "output_type": "stream",
     "text": [
      "Avi       True\n",
      "Ben      False\n",
      "Gad      False\n",
      "Yair      True\n",
      "Hen       True\n",
      "Yuval     True\n",
      "Dan      False\n",
      "Bob      False\n",
      "Tzvi     False\n",
      "dtype: bool\n"
     ]
    }
   ],
   "source": [
    "# 4.\n",
    "print(scores > 50)"
   ]
  },
  {
   "cell_type": "markdown",
   "metadata": {
    "id": "vw_6PAc-r8Od"
   },
   "source": [
    "## Indexing and selecting data"
   ]
  },
  {
   "cell_type": "markdown",
   "metadata": {
    "id": "o6k3TCiXr8Oe"
   },
   "source": [
    "Being both array-like and dictionary-like, _Series_ objects intuitively support the standard item-getters of the form `s[label]`, `s.label` and `s[i]`. However, these may be both impractical or ambiguous in some cases, so to provide maximum clarity, *pandas* supports two methods for indexing and selecting data:\n",
    "\n",
    "* Label-based - implemented by the item-getter `.loc[]`\n",
    "* integer-position-based - implemented by the item-getter `.iloc[]`\n"
   ]
  },
  {
   "cell_type": "markdown",
   "metadata": {
    "id": "Use2mBES7LY7"
   },
   "source": [
    "> **Note:** These methods support simple cases, but may be very confusing in more complex scenarios. In such cases it is a good idea to try the thorough documentation for [indexing and selecting data][1]. This is, however, beyond the scope of our course.\n",
    "\n",
    "[1]: http://pandas.pydata.org/pandas-docs/stable/indexing.html#indexing-and-selecting-data \"indexing and selecting data\""
   ]
  },
  {
   "cell_type": "code",
   "execution_count": 84,
   "metadata": {
    "colab": {
     "base_uri": "https://localhost:8080/"
    },
    "executionInfo": {
     "elapsed": 319,
     "status": "ok",
     "timestamp": 1721145820177,
     "user": {
      "displayName": "Alon Tam",
      "userId": "13843051219737434027"
     },
     "user_tz": -180
    },
    "id": "ujpoKY_2r8Oh",
    "outputId": "d7b85309-e29a-4a7e-e8f4-cc0b6ad13c9e"
   },
   "outputs": [
    {
     "name": "stdout",
     "output_type": "stream",
     "text": [
      "Alon          Beer Sheba\n",
      "Ari             Tel Aviv\n",
      "Barak              Haifa\n",
      "Itamar     Rishon LeZion\n",
      "Yarden         Beersheba\n",
      "Ofer            Herzliya\n",
      "Liran           Tal-Aviv\n",
      "Oren       Rishon-Lezion\n",
      "Ron            Jerusalem\n",
      "Shachar     Petach-Tikva\n",
      "Shalom      Petach Tikva\n",
      "Tal        Rishon-LeZion\n",
      "Yosi             Telaviv\n",
      "Tomer             Beer-7\n",
      "Nir             Tel-Aviv\n",
      "Yaniv          Jerusalem\n",
      "Maor               Haifa\n",
      "Guy        Rishon LeZion\n",
      "Nir           Beer-Sheba\n",
      "Yosi            Tel-Aviv\n",
      "dtype: object\n"
     ]
    }
   ],
   "source": [
    "names = ['Alon', 'Ari','Barak', 'Itamar','Yarden','Ofer', 'Liran',\n",
    "         'Oren', 'Ron','Shachar','Shalom','Tal', 'Yosi', 'Tomer',\n",
    "         'Nir', 'Yaniv', 'Maor', 'Guy', 'Nir', 'Yosi']\n",
    "\n",
    "cities = ['Beer Sheba', 'Tel Aviv', 'Haifa', 'Rishon LeZion', 'Beersheba',\n",
    "          'Herzliya', 'Tal-Aviv', 'Rishon-Lezion', 'Jerusalem', 'Petach-Tikva',\n",
    "          'Petach Tikva', 'Rishon-LeZion', 'Telaviv', 'Beer-7', 'Tel-Aviv',\n",
    "          'Jerusalem', 'Haifa', 'Rishon LeZion', 'Beer-Sheba', 'Tel-Aviv']\n",
    "\n",
    "dudes_cities = pd.Series(data=cities, index=names)\n",
    "print(dudes_cities)"
   ]
  },
  {
   "cell_type": "code",
   "execution_count": 85,
   "metadata": {
    "colab": {
     "base_uri": "https://localhost:8080/",
     "height": 35
    },
    "executionInfo": {
     "elapsed": 347,
     "status": "ok",
     "timestamp": 1721145887802,
     "user": {
      "displayName": "Alon Tam",
      "userId": "13843051219737434027"
     },
     "user_tz": -180
    },
    "id": "J6bKIOA_oW81",
    "outputId": "372b651e-dd3b-46a7-f51b-750d84921f8f"
   },
   "outputs": [
    {
     "data": {
      "text/plain": [
       "'Rishon-LeZion'"
      ]
     },
     "execution_count": 85,
     "metadata": {},
     "output_type": "execute_result"
    }
   ],
   "source": [
    "dudes_cities[\"Tal\"]"
   ]
  },
  {
   "cell_type": "code",
   "execution_count": 86,
   "metadata": {
    "colab": {
     "base_uri": "https://localhost:8080/"
    },
    "executionInfo": {
     "elapsed": 312,
     "status": "ok",
     "timestamp": 1721145931995,
     "user": {
      "displayName": "Alon Tam",
      "userId": "13843051219737434027"
     },
     "user_tz": -180
    },
    "id": "n5PTafD4oslF",
    "outputId": "eb1b47c5-eccc-4bf8-ec5c-adba9a7ded72"
   },
   "outputs": [
    {
     "data": {
      "text/plain": [
       "Yosi     Telaviv\n",
       "Yosi    Tel-Aviv\n",
       "dtype: object"
      ]
     },
     "execution_count": 86,
     "metadata": {},
     "output_type": "execute_result"
    }
   ],
   "source": [
    "dudes_cities.Yosi"
   ]
  },
  {
   "cell_type": "code",
   "execution_count": 87,
   "metadata": {
    "colab": {
     "base_uri": "https://localhost:8080/"
    },
    "executionInfo": {
     "elapsed": 329,
     "status": "ok",
     "timestamp": 1721145973395,
     "user": {
      "displayName": "Alon Tam",
      "userId": "13843051219737434027"
     },
     "user_tz": -180
    },
    "id": "1cU6GccrSzsk",
    "outputId": "218fbe79-9fd3-4f6e-b96e-deb0b75a9f4a"
   },
   "outputs": [
    {
     "data": {
      "text/plain": [
       "Yosi     Telaviv\n",
       "Yosi    Tel-Aviv\n",
       "dtype: object"
      ]
     },
     "execution_count": 87,
     "metadata": {},
     "output_type": "execute_result"
    }
   ],
   "source": [
    "dudes_cities[\"Yosi\"]"
   ]
  },
  {
   "cell_type": "code",
   "execution_count": 88,
   "metadata": {
    "colab": {
     "base_uri": "https://localhost:8080/"
    },
    "executionInfo": {
     "elapsed": 337,
     "status": "ok",
     "timestamp": 1721153663356,
     "user": {
      "displayName": "Alon Tam",
      "userId": "13843051219737434027"
     },
     "user_tz": -180
    },
    "id": "KLHUO7ccTGVg",
    "outputId": "8f8ecc0b-2614-4cf7-aff5-d16453f1d013"
   },
   "outputs": [
    {
     "name": "stdout",
     "output_type": "stream",
     "text": [
      "12          Telaviv\n",
      "19         Tel-Aviv\n",
      "14         Tel-Aviv\n",
      "1          Tel Aviv\n",
      "6          Tal-Aviv\n",
      "7     Rishon-Lezion\n",
      "11    Rishon-LeZion\n",
      "17    Rishon LeZion\n",
      "3     Rishon LeZion\n",
      "9      Petach-Tikva\n",
      "10     Petach Tikva\n",
      "8         Jerusalem\n",
      "15        Jerusalem\n",
      "5          Herzliya\n",
      "16            Haifa\n",
      "2             Haifa\n",
      "4         Beersheba\n",
      "18       Beer-Sheba\n",
      "13           Beer-7\n",
      "0        Beer Sheba\n",
      "dtype: object\n"
     ]
    }
   ],
   "source": [
    "dudes_cities2 = pd.Series(data=cities).sort_values(ascending=False)\n",
    "print(dudes_cities2)"
   ]
  },
  {
   "cell_type": "code",
   "execution_count": 89,
   "metadata": {
    "colab": {
     "base_uri": "https://localhost:8080/",
     "height": 35
    },
    "executionInfo": {
     "elapsed": 304,
     "status": "ok",
     "timestamp": 1721146229906,
     "user": {
      "displayName": "Alon Tam",
      "userId": "13843051219737434027"
     },
     "user_tz": -180
    },
    "id": "TZ_ctHG2TrrV",
    "outputId": "d192ad8e-c33c-40ac-919c-913608f291eb"
   },
   "outputs": [
    {
     "data": {
      "text/plain": [
       "'Beer Sheba'"
      ]
     },
     "execution_count": 89,
     "metadata": {},
     "output_type": "execute_result"
    }
   ],
   "source": [
    "dudes_cities2[0]"
   ]
  },
  {
   "cell_type": "code",
   "execution_count": 90,
   "metadata": {
    "colab": {
     "base_uri": "https://localhost:8080/",
     "height": 35
    },
    "executionInfo": {
     "elapsed": 344,
     "status": "ok",
     "timestamp": 1721147078835,
     "user": {
      "displayName": "Alon Tam",
      "userId": "13843051219737434027"
     },
     "user_tz": -180
    },
    "id": "gH4Gey2CW7Y2",
    "outputId": "1bd5b7c7-4d6d-47a6-a6c1-1fcccbe122f8"
   },
   "outputs": [
    {
     "data": {
      "text/plain": [
       "'Beer Sheba'"
      ]
     },
     "execution_count": 90,
     "metadata": {},
     "output_type": "execute_result"
    }
   ],
   "source": [
    "dudes_cities2.loc[0]"
   ]
  },
  {
   "cell_type": "code",
   "execution_count": 91,
   "metadata": {
    "colab": {
     "base_uri": "https://localhost:8080/",
     "height": 35
    },
    "executionInfo": {
     "elapsed": 370,
     "status": "ok",
     "timestamp": 1721147082420,
     "user": {
      "displayName": "Alon Tam",
      "userId": "13843051219737434027"
     },
     "user_tz": -180
    },
    "id": "rhzhXaUvXBKG",
    "outputId": "c166e141-8313-4fa7-cffd-f43eb78e630c"
   },
   "outputs": [
    {
     "data": {
      "text/plain": [
       "'Telaviv'"
      ]
     },
     "execution_count": 91,
     "metadata": {},
     "output_type": "execute_result"
    }
   ],
   "source": [
    "dudes_cities2.iloc[0]"
   ]
  },
  {
   "cell_type": "markdown",
   "metadata": {
    "id": "xHV3lGxxr8Ok"
   },
   "source": [
    "### _loc_ - Label-based indexing"
   ]
  },
  {
   "cell_type": "markdown",
   "metadata": {
    "id": "w9gRR8Cyr8Ol"
   },
   "source": [
    "see more at [Selection by Label][1]\n",
    "\n",
    "[1]: http://pandas.pydata.org/pandas-docs/stable/user_guide/indexing.html#indexing-label"
   ]
  },
  {
   "cell_type": "code",
   "execution_count": 92,
   "metadata": {
    "colab": {
     "base_uri": "https://localhost:8080/"
    },
    "executionInfo": {
     "elapsed": 297,
     "status": "ok",
     "timestamp": 1721146448802,
     "user": {
      "displayName": "Alon Tam",
      "userId": "13843051219737434027"
     },
     "user_tz": -180
    },
    "id": "h6JZbu8AUpJm",
    "outputId": "a19958be-e27c-4487-9d3e-4cf8fc01c748"
   },
   "outputs": [
    {
     "data": {
      "text/plain": [
       "Alon          Beer Sheba\n",
       "Ari             Tel Aviv\n",
       "Barak              Haifa\n",
       "Itamar     Rishon LeZion\n",
       "Yarden         Beersheba\n",
       "Ofer            Herzliya\n",
       "Liran           Tal-Aviv\n",
       "Oren       Rishon-Lezion\n",
       "Ron            Jerusalem\n",
       "Shachar     Petach-Tikva\n",
       "Shalom      Petach Tikva\n",
       "Tal        Rishon-LeZion\n",
       "Yosi             Telaviv\n",
       "Tomer             Beer-7\n",
       "Nir             Tel-Aviv\n",
       "Yaniv          Jerusalem\n",
       "Maor               Haifa\n",
       "Guy        Rishon LeZion\n",
       "Nir           Beer-Sheba\n",
       "Yosi            Tel-Aviv\n",
       "dtype: object"
      ]
     },
     "execution_count": 92,
     "metadata": {},
     "output_type": "execute_result"
    }
   ],
   "source": [
    "dudes_cities"
   ]
  },
  {
   "cell_type": "code",
   "execution_count": 93,
   "metadata": {
    "colab": {
     "base_uri": "https://localhost:8080/",
     "height": 35
    },
    "executionInfo": {
     "elapsed": 324,
     "status": "ok",
     "timestamp": 1721146438472,
     "user": {
      "displayName": "Alon Tam",
      "userId": "13843051219737434027"
     },
     "user_tz": -180
    },
    "id": "eCkLA5hTr8Om",
    "outputId": "f88acda2-c7e9-409e-9ad7-180964f8d3a0"
   },
   "outputs": [
    {
     "data": {
      "text/plain": [
       "'Tal-Aviv'"
      ]
     },
     "execution_count": 93,
     "metadata": {},
     "output_type": "execute_result"
    }
   ],
   "source": [
    "dudes_cities.loc['Liran']"
   ]
  },
  {
   "cell_type": "code",
   "execution_count": 94,
   "metadata": {
    "colab": {
     "base_uri": "https://localhost:8080/"
    },
    "executionInfo": {
     "elapsed": 318,
     "status": "ok",
     "timestamp": 1721146547019,
     "user": {
      "displayName": "Alon Tam",
      "userId": "13843051219737434027"
     },
     "user_tz": -180
    },
    "id": "nR9k47bx9SWT",
    "outputId": "e4a2c717-76e0-43d5-e65e-bbd0a01314e3"
   },
   "outputs": [
    {
     "data": {
      "text/plain": [
       "Liran         Tal-Aviv\n",
       "Nir           Tel-Aviv\n",
       "Nir         Beer-Sheba\n",
       "Guy      Rishon LeZion\n",
       "dtype: object"
      ]
     },
     "execution_count": 94,
     "metadata": {},
     "output_type": "execute_result"
    }
   ],
   "source": [
    "dudes_cities.loc[ ['Liran', 'Nir', 'Guy'] ]"
   ]
  },
  {
   "cell_type": "code",
   "execution_count": 95,
   "metadata": {
    "colab": {
     "base_uri": "https://localhost:8080/"
    },
    "executionInfo": {
     "elapsed": 297,
     "status": "ok",
     "timestamp": 1721146717482,
     "user": {
      "displayName": "Alon Tam",
      "userId": "13843051219737434027"
     },
     "user_tz": -180
    },
    "id": "LgjsBYFl9SWT",
    "outputId": "aaf90162-90ed-492f-c4ed-8961655e33a8"
   },
   "outputs": [
    {
     "data": {
      "text/plain": [
       "Liran           Tal-Aviv\n",
       "Oren       Rishon-Lezion\n",
       "Ron            Jerusalem\n",
       "Shachar     Petach-Tikva\n",
       "Shalom      Petach Tikva\n",
       "Tal        Rishon-LeZion\n",
       "Yosi             Telaviv\n",
       "Tomer             Beer-7\n",
       "Nir             Tel-Aviv\n",
       "Yaniv          Jerusalem\n",
       "Maor               Haifa\n",
       "dtype: object"
      ]
     },
     "execution_count": 95,
     "metadata": {},
     "output_type": "execute_result"
    }
   ],
   "source": [
    "# Range (slice) by label also works, but ONLY if the index values are unique.\n",
    "dudes_cities.loc['Liran':'Maor'] # slice depend on order, the index inclusive"
   ]
  },
  {
   "cell_type": "code",
   "execution_count": 96,
   "metadata": {
    "colab": {
     "base_uri": "https://localhost:8080/"
    },
    "executionInfo": {
     "elapsed": 340,
     "status": "ok",
     "timestamp": 1721146773402,
     "user": {
      "displayName": "Alon Tam",
      "userId": "13843051219737434027"
     },
     "user_tz": -180
    },
    "id": "5qLasgiEV1mP",
    "outputId": "640f6786-b999-485a-e210-792edcde0df7"
   },
   "outputs": [
    {
     "data": {
      "text/plain": [
       "Series([], dtype: object)"
      ]
     },
     "execution_count": 96,
     "metadata": {},
     "output_type": "execute_result"
    }
   ],
   "source": [
    "dudes_cities.loc['Liran':'Ari']"
   ]
  },
  {
   "cell_type": "code",
   "execution_count": 97,
   "metadata": {
    "colab": {
     "base_uri": "https://localhost:8080/",
     "height": 292
    },
    "executionInfo": {
     "elapsed": 313,
     "status": "error",
     "timestamp": 1721146807729,
     "user": {
      "displayName": "Alon Tam",
      "userId": "13843051219737434027"
     },
     "user_tz": -180
    },
    "id": "_6x7ZIRhV_re",
    "outputId": "266589ef-2189-4765-c47a-cfb11d654f60"
   },
   "outputs": [],
   "source": [
    "# dudes_cities.loc['Liran':'Nir']"
   ]
  },
  {
   "cell_type": "markdown",
   "metadata": {
    "id": "S9n3LkHi2xGw"
   },
   "source": [
    "We specifically note the `loc` option for **Boolean indexing**, which is similar to SQL's `WHERE` statement."
   ]
  },
  {
   "cell_type": "markdown",
   "metadata": {
    "id": "Mq9uU8hUr8Oq"
   },
   "source": [
    "### _iloc_ - Integer-location-based\n",
    "\n",
    "see more at [Selection by Position][1]\n",
    "\n",
    "[1]: http://pandas.pydata.org/pandas-docs/stable/user_guide/indexing.html#indexing-integer"
   ]
  },
  {
   "cell_type": "code",
   "execution_count": 98,
   "metadata": {
    "colab": {
     "base_uri": "https://localhost:8080/"
    },
    "executionInfo": {
     "elapsed": 308,
     "status": "ok",
     "timestamp": 1721146883480,
     "user": {
      "displayName": "Alon Tam",
      "userId": "13843051219737434027"
     },
     "user_tz": -180
    },
    "id": "gPjV35Y9WSUy",
    "outputId": "807eda06-2406-45da-bfb3-5cc8ff9a5c28"
   },
   "outputs": [
    {
     "data": {
      "text/plain": [
       "Alon          Beer Sheba\n",
       "Ari             Tel Aviv\n",
       "Barak              Haifa\n",
       "Itamar     Rishon LeZion\n",
       "Yarden         Beersheba\n",
       "Ofer            Herzliya\n",
       "Liran           Tal-Aviv\n",
       "Oren       Rishon-Lezion\n",
       "Ron            Jerusalem\n",
       "Shachar     Petach-Tikva\n",
       "Shalom      Petach Tikva\n",
       "Tal        Rishon-LeZion\n",
       "Yosi             Telaviv\n",
       "Tomer             Beer-7\n",
       "Nir             Tel-Aviv\n",
       "Yaniv          Jerusalem\n",
       "Maor               Haifa\n",
       "Guy        Rishon LeZion\n",
       "Nir           Beer-Sheba\n",
       "Yosi            Tel-Aviv\n",
       "dtype: object"
      ]
     },
     "execution_count": 98,
     "metadata": {},
     "output_type": "execute_result"
    }
   ],
   "source": [
    "dudes_cities"
   ]
  },
  {
   "cell_type": "code",
   "execution_count": 99,
   "metadata": {
    "colab": {
     "base_uri": "https://localhost:8080/",
     "height": 35
    },
    "executionInfo": {
     "elapsed": 495,
     "status": "ok",
     "timestamp": 1721147151746,
     "user": {
      "displayName": "Alon Tam",
      "userId": "13843051219737434027"
     },
     "user_tz": -180
    },
    "id": "boOjVLo_LDBC",
    "outputId": "de687da1-90cc-4055-cd4d-6a5285d600b7"
   },
   "outputs": [
    {
     "data": {
      "text/plain": [
       "'Beersheba'"
      ]
     },
     "execution_count": 99,
     "metadata": {},
     "output_type": "execute_result"
    }
   ],
   "source": [
    "dudes_cities.iloc[4] "
   ]
  },
  {
   "cell_type": "code",
   "execution_count": 100,
   "metadata": {
    "colab": {
     "base_uri": "https://localhost:8080/"
    },
    "executionInfo": {
     "elapsed": 316,
     "status": "ok",
     "timestamp": 1721146942563,
     "user": {
      "displayName": "Alon Tam",
      "userId": "13843051219737434027"
     },
     "user_tz": -180
    },
    "id": "d4GbiuTxLC6g",
    "outputId": "f153fd25-f3ae-41f8-d8e1-8e54010b9e4d"
   },
   "outputs": [
    {
     "data": {
      "text/plain": [
       "Alon      Beer Sheba\n",
       "Yarden     Beersheba\n",
       "Ari         Tel Aviv\n",
       "dtype: object"
      ]
     },
     "execution_count": 100,
     "metadata": {},
     "output_type": "execute_result"
    }
   ],
   "source": [
    "dudes_cities.iloc[ [0, 4, 1] ]"
   ]
  },
  {
   "cell_type": "code",
   "execution_count": 101,
   "metadata": {
    "colab": {
     "base_uri": "https://localhost:8080/"
    },
    "executionInfo": {
     "elapsed": 998,
     "status": "ok",
     "timestamp": 1721146963819,
     "user": {
      "displayName": "Alon Tam",
      "userId": "13843051219737434027"
     },
     "user_tz": -180
    },
    "id": "1_0mLHSrp-kv",
    "outputId": "5f056056-970a-4d56-cb57-3561b151377e"
   },
   "outputs": [
    {
     "data": {
      "text/plain": [
       "Barak             Haifa\n",
       "Itamar    Rishon LeZion\n",
       "Yarden        Beersheba\n",
       "Ofer           Herzliya\n",
       "dtype: object"
      ]
     },
     "execution_count": 101,
     "metadata": {},
     "output_type": "execute_result"
    }
   ],
   "source": [
    "dudes_cities.iloc[2:6] # location based slicing"
   ]
  },
  {
   "cell_type": "markdown",
   "metadata": {
    "id": "o8nyZ90Cr8Ov"
   },
   "source": [
    "## Important attributes"
   ]
  },
  {
   "cell_type": "markdown",
   "metadata": {
    "id": "Tyrg_C2Ir8Ow"
   },
   "source": [
    "`s.index` returns the index of `s` (instance of the `Index` class)."
   ]
  },
  {
   "cell_type": "code",
   "execution_count": 102,
   "metadata": {
    "colab": {
     "base_uri": "https://localhost:8080/"
    },
    "executionInfo": {
     "elapsed": 340,
     "status": "ok",
     "timestamp": 1721147209373,
     "user": {
      "displayName": "Alon Tam",
      "userId": "13843051219737434027"
     },
     "user_tz": -180
    },
    "id": "FvPm1sdFr8Oy",
    "outputId": "8a1582b4-d113-47cd-e5af-8e9d8b3bc046"
   },
   "outputs": [
    {
     "data": {
      "text/plain": [
       "Index(['Alon', 'Ari', 'Barak', 'Itamar', 'Yarden', 'Ofer', 'Liran', 'Oren',\n",
       "       'Ron', 'Shachar', 'Shalom', 'Tal', 'Yosi', 'Tomer', 'Nir', 'Yaniv',\n",
       "       'Maor', 'Guy', 'Nir', 'Yosi'],\n",
       "      dtype='object')"
      ]
     },
     "execution_count": 102,
     "metadata": {},
     "output_type": "execute_result"
    }
   ],
   "source": [
    "dudes_cities.index"
   ]
  },
  {
   "cell_type": "code",
   "execution_count": 103,
   "metadata": {
    "id": "G-dsmJFGnWMN"
   },
   "outputs": [
    {
     "name": "stdout",
     "output_type": "stream",
     "text": [
      ">>> Alon\n",
      ">>> Ari\n"
     ]
    }
   ],
   "source": [
    "for value in dudes_cities.index:\n",
    "  if value.lower().startswith(\"a\"): print(\">>>\", value)"
   ]
  },
  {
   "cell_type": "markdown",
   "metadata": {
    "id": "-MvbVpn0r8O2"
   },
   "source": [
    "`s.values` returns the values of `s` as an instance of the `array` class."
   ]
  },
  {
   "cell_type": "code",
   "execution_count": 104,
   "metadata": {
    "colab": {
     "base_uri": "https://localhost:8080/"
    },
    "executionInfo": {
     "elapsed": 308,
     "status": "ok",
     "timestamp": 1721147236321,
     "user": {
      "displayName": "Alon Tam",
      "userId": "13843051219737434027"
     },
     "user_tz": -180
    },
    "id": "Kb0cwKlpr8O4",
    "outputId": "65773192-925a-48bd-b3c3-aaecc65b80fa"
   },
   "outputs": [
    {
     "data": {
      "text/plain": [
       "array(['Beer Sheba', 'Tel Aviv', 'Haifa', 'Rishon LeZion', 'Beersheba',\n",
       "       'Herzliya', 'Tal-Aviv', 'Rishon-Lezion', 'Jerusalem',\n",
       "       'Petach-Tikva', 'Petach Tikva', 'Rishon-LeZion', 'Telaviv',\n",
       "       'Beer-7', 'Tel-Aviv', 'Jerusalem', 'Haifa', 'Rishon LeZion',\n",
       "       'Beer-Sheba', 'Tel-Aviv'], dtype=object)"
      ]
     },
     "execution_count": 104,
     "metadata": {},
     "output_type": "execute_result"
    }
   ],
   "source": [
    "dudes_cities.values\n",
    "# print(type(dudes_cities.values))"
   ]
  },
  {
   "cell_type": "markdown",
   "metadata": {
    "id": "CDh5Q1h0r8O-"
   },
   "source": [
    "## Common operations"
   ]
  },
  {
   "cell_type": "markdown",
   "metadata": {
    "id": "OGRckTg1r8O_"
   },
   "source": [
    "`Series` objects support nearly all the methods of numpy arrays, but also many more, including the following."
   ]
  },
  {
   "cell_type": "markdown",
   "metadata": {
    "id": "A9xa7rwKI9Of"
   },
   "source": [
    "### Number of elements"
   ]
  },
  {
   "cell_type": "markdown",
   "metadata": {
    "id": "fTLwkbl_I_8M"
   },
   "source": [
    "Naturally, the built-in `len()` returns the number of elements in the Series. Note that the method `count()` does not count the nulls."
   ]
  },
  {
   "cell_type": "code",
   "execution_count": 105,
   "metadata": {
    "colab": {
     "base_uri": "https://localhost:8080/"
    },
    "executionInfo": {
     "elapsed": 338,
     "status": "ok",
     "timestamp": 1721147281206,
     "user": {
      "displayName": "Alon Tam",
      "userId": "13843051219737434027"
     },
     "user_tz": -180
    },
    "id": "PE44-OFomu0W",
    "outputId": "b44ae5aa-9d94-4185-9a61-bed7aa7811ab"
   },
   "outputs": [
    {
     "data": {
      "text/plain": [
       "20"
      ]
     },
     "execution_count": 105,
     "metadata": {},
     "output_type": "execute_result"
    }
   ],
   "source": [
    "dudes_cities.count()    # <--- not including nulls / NaNs"
   ]
  },
  {
   "cell_type": "code",
   "execution_count": 106,
   "metadata": {
    "colab": {
     "base_uri": "https://localhost:8080/"
    },
    "executionInfo": {
     "elapsed": 311,
     "status": "ok",
     "timestamp": 1721147344500,
     "user": {
      "displayName": "Alon Tam",
      "userId": "13843051219737434027"
     },
     "user_tz": -180
    },
    "id": "3yQXS2E2JPoa",
    "outputId": "b8fd8e04-e5c2-4a1f-cd53-b6df0ca58977"
   },
   "outputs": [
    {
     "data": {
      "text/plain": [
       "20"
      ]
     },
     "execution_count": 106,
     "metadata": {},
     "output_type": "execute_result"
    }
   ],
   "source": [
    "len(dudes_cities) # use to count values in series"
   ]
  },
  {
   "cell_type": "code",
   "execution_count": 107,
   "metadata": {
    "colab": {
     "base_uri": "https://localhost:8080/"
    },
    "executionInfo": {
     "elapsed": 3,
     "status": "ok",
     "timestamp": 1721147350758,
     "user": {
      "displayName": "Alon Tam",
      "userId": "13843051219737434027"
     },
     "user_tz": -180
    },
    "id": "BFqgiQ-sjnzw",
    "outputId": "4dd79412-606b-470d-8c3e-81ba85775cce"
   },
   "outputs": [
    {
     "data": {
      "text/plain": [
       "20"
      ]
     },
     "execution_count": 107,
     "metadata": {},
     "output_type": "execute_result"
    }
   ],
   "source": [
    "dudes_cities.size"
   ]
  },
  {
   "cell_type": "code",
   "execution_count": 108,
   "metadata": {
    "colab": {
     "base_uri": "https://localhost:8080/"
    },
    "executionInfo": {
     "elapsed": 326,
     "status": "ok",
     "timestamp": 1721147369158,
     "user": {
      "displayName": "Alon Tam",
      "userId": "13843051219737434027"
     },
     "user_tz": -180
    },
    "id": "i2KiPyE6j0y3",
    "outputId": "fb6db122-7c52-45de-e177-c807b30626cd"
   },
   "outputs": [
    {
     "data": {
      "text/plain": [
       "(20,)"
      ]
     },
     "execution_count": 108,
     "metadata": {},
     "output_type": "execute_result"
    }
   ],
   "source": [
    "dudes_cities.shape"
   ]
  },
  {
   "cell_type": "markdown",
   "metadata": {
    "id": "2-YxHH7Lr8PB"
   },
   "source": [
    "### `head()` and `tail()`"
   ]
  },
  {
   "cell_type": "markdown",
   "metadata": {
    "id": "7Zxm4JBBr8PC"
   },
   "source": [
    "`head(n)` shows the top `n` records (n=5 by default)"
   ]
  },
  {
   "cell_type": "code",
   "execution_count": 109,
   "metadata": {
    "colab": {
     "base_uri": "https://localhost:8080/"
    },
    "executionInfo": {
     "elapsed": 336,
     "status": "ok",
     "timestamp": 1721147516001,
     "user": {
      "displayName": "Alon Tam",
      "userId": "13843051219737434027"
     },
     "user_tz": -180
    },
    "id": "QfaNPUEer8PD",
    "outputId": "5dcd524b-3479-47a2-c657-d1fcc1d6bbd6"
   },
   "outputs": [
    {
     "data": {
      "text/plain": [
       "Alon         Beer Sheba\n",
       "Ari            Tel Aviv\n",
       "Barak             Haifa\n",
       "Itamar    Rishon LeZion\n",
       "Yarden        Beersheba\n",
       "dtype: object"
      ]
     },
     "execution_count": 109,
     "metadata": {},
     "output_type": "execute_result"
    }
   ],
   "source": [
    "dudes_cities.head()"
   ]
  },
  {
   "cell_type": "markdown",
   "metadata": {
    "id": "vXh1Ez2Ar8PH"
   },
   "source": [
    "`tail(n)` shows the bottom *n* records (n=5 by default)"
   ]
  },
  {
   "cell_type": "code",
   "execution_count": 110,
   "metadata": {
    "colab": {
     "base_uri": "https://localhost:8080/"
    },
    "executionInfo": {
     "elapsed": 312,
     "status": "ok",
     "timestamp": 1721147537678,
     "user": {
      "displayName": "Alon Tam",
      "userId": "13843051219737434027"
     },
     "user_tz": -180
    },
    "id": "JZH_29cpr8PI",
    "outputId": "1f9a3b11-92d9-471a-9b67-6d0b275a58b5"
   },
   "outputs": [
    {
     "data": {
      "text/plain": [
       "Guy     Rishon LeZion\n",
       "Nir        Beer-Sheba\n",
       "Yosi         Tel-Aviv\n",
       "dtype: object"
      ]
     },
     "execution_count": 110,
     "metadata": {},
     "output_type": "execute_result"
    }
   ],
   "source": [
    "dudes_cities.tail(3)"
   ]
  },
  {
   "cell_type": "markdown",
   "metadata": {
    "id": "Igbf30j1bdZQ"
   },
   "source": [
    "`sample(n)` shows *n* random records."
   ]
  },
  {
   "cell_type": "code",
   "execution_count": 111,
   "metadata": {
    "colab": {
     "base_uri": "https://localhost:8080/"
    },
    "executionInfo": {
     "elapsed": 355,
     "status": "ok",
     "timestamp": 1721147560222,
     "user": {
      "displayName": "Alon Tam",
      "userId": "13843051219737434027"
     },
     "user_tz": -180
    },
    "id": "h9XRWK0xdLu_",
    "outputId": "adceaaa8-663c-40cc-d2bb-459b645765d0"
   },
   "outputs": [
    {
     "data": {
      "text/plain": [
       "Itamar    Rishon LeZion\n",
       "Tomer            Beer-7\n",
       "Maor              Haifa\n",
       "dtype: object"
      ]
     },
     "execution_count": 111,
     "metadata": {},
     "output_type": "execute_result"
    }
   ],
   "source": [
    "dudes_cities.sample(3) # use for introducing series"
   ]
  },
  {
   "cell_type": "markdown",
   "metadata": {
    "id": "tKtzALMQr8PL"
   },
   "source": [
    "### `unique()` and `nunique()`"
   ]
  },
  {
   "cell_type": "markdown",
   "metadata": {
    "id": "mCRdgsd_r8PM"
   },
   "source": [
    "The `unique()` method returns an array of the unique elements of the calling object. The method `nunique()` returns the number of unique values in the series."
   ]
  },
  {
   "cell_type": "code",
   "execution_count": 112,
   "metadata": {
    "colab": {
     "base_uri": "https://localhost:8080/"
    },
    "executionInfo": {
     "elapsed": 354,
     "status": "ok",
     "timestamp": 1721147937369,
     "user": {
      "displayName": "Alon Tam",
      "userId": "13843051219737434027"
     },
     "user_tz": -180
    },
    "id": "8f8oxXAJnO_Q",
    "outputId": "b8625482-be33-4e8b-c6d3-807bb66c299a"
   },
   "outputs": [
    {
     "data": {
      "text/plain": [
       "array(['Beer Sheba', 'Tel Aviv', 'Haifa', 'Rishon LeZion', 'Beersheba',\n",
       "       'Herzliya', 'Tal-Aviv', 'Rishon-Lezion', 'Jerusalem',\n",
       "       'Petach-Tikva', 'Petach Tikva', 'Rishon-LeZion', 'Telaviv',\n",
       "       'Beer-7', 'Tel-Aviv', 'Beer-Sheba'], dtype=object)"
      ]
     },
     "execution_count": 112,
     "metadata": {},
     "output_type": "execute_result"
    }
   ],
   "source": [
    "dudes_cities.unique() # use to introduce categorical values"
   ]
  },
  {
   "cell_type": "code",
   "execution_count": 113,
   "metadata": {
    "colab": {
     "base_uri": "https://localhost:8080/"
    },
    "executionInfo": {
     "elapsed": 332,
     "status": "ok",
     "timestamp": 1721148918730,
     "user": {
      "displayName": "Alon Tam",
      "userId": "13843051219737434027"
     },
     "user_tz": -180
    },
    "id": "HsKkZb0uum2a",
    "outputId": "701e0b6b-0e07-4b0b-b4f0-cb230f9dae17"
   },
   "outputs": [
    {
     "data": {
      "text/plain": [
       "Index(['Alon', 'Ari', 'Barak', 'Itamar', 'Yarden', 'Ofer', 'Liran', 'Oren',\n",
       "       'Ron', 'Shachar', 'Shalom', 'Tal', 'Yosi', 'Tomer', 'Nir', 'Yaniv',\n",
       "       'Maor', 'Guy'],\n",
       "      dtype='object')"
      ]
     },
     "execution_count": 113,
     "metadata": {},
     "output_type": "execute_result"
    }
   ],
   "source": [
    "dudes_cities.index.unique() "
   ]
  },
  {
   "cell_type": "code",
   "execution_count": 114,
   "metadata": {
    "colab": {
     "base_uri": "https://localhost:8080/"
    },
    "executionInfo": {
     "elapsed": 336,
     "status": "ok",
     "timestamp": 1721148042857,
     "user": {
      "displayName": "Alon Tam",
      "userId": "13843051219737434027"
     },
     "user_tz": -180
    },
    "id": "t2VCxBfbnd7h",
    "outputId": "1754d2c5-bc64-42a2-abec-c194af4bf23b"
   },
   "outputs": [
    {
     "data": {
      "text/plain": [
       "16"
      ]
     },
     "execution_count": 114,
     "metadata": {},
     "output_type": "execute_result"
    }
   ],
   "source": [
    "dudes_cities.nunique() # use to introduce number of categorical values"
   ]
  },
  {
   "cell_type": "markdown",
   "metadata": {
    "id": "GA6wzGXd9SWa"
   },
   "source": [
    "### Math / statistics operations"
   ]
  },
  {
   "cell_type": "code",
   "execution_count": 115,
   "metadata": {
    "colab": {
     "base_uri": "https://localhost:8080/"
    },
    "executionInfo": {
     "elapsed": 330,
     "status": "ok",
     "timestamp": 1721148944564,
     "user": {
      "displayName": "Alon Tam",
      "userId": "13843051219737434027"
     },
     "user_tz": -180
    },
    "id": "kp8k5xxQ9SWa",
    "outputId": "888303e8-dcb1-40d5-d16d-4ad82a6d9dbc"
   },
   "outputs": [
    {
     "data": {
      "text/plain": [
       "Avi    25\n",
       "Ben    26\n",
       "Gad    21\n",
       "Ben    25\n",
       "Hen    20\n",
       "dtype: int64"
      ]
     },
     "execution_count": 115,
     "metadata": {},
     "output_type": "execute_result"
    }
   ],
   "source": [
    "dudes_ages"
   ]
  },
  {
   "cell_type": "code",
   "execution_count": 116,
   "metadata": {
    "colab": {
     "base_uri": "https://localhost:8080/"
    },
    "executionInfo": {
     "elapsed": 344,
     "status": "ok",
     "timestamp": 1721148954601,
     "user": {
      "displayName": "Alon Tam",
      "userId": "13843051219737434027"
     },
     "user_tz": -180
    },
    "id": "CAQJ6_t29SWb",
    "outputId": "ed91fe8b-b5eb-4578-8e4b-85663547de55"
   },
   "outputs": [
    {
     "data": {
      "text/plain": [
       "117"
      ]
     },
     "execution_count": 116,
     "metadata": {},
     "output_type": "execute_result"
    }
   ],
   "source": [
    "dudes_ages.sum()"
   ]
  },
  {
   "cell_type": "code",
   "execution_count": 117,
   "metadata": {
    "colab": {
     "base_uri": "https://localhost:8080/",
     "height": 35
    },
    "executionInfo": {
     "elapsed": 309,
     "status": "ok",
     "timestamp": 1721149050461,
     "user": {
      "displayName": "Alon Tam",
      "userId": "13843051219737434027"
     },
     "user_tz": -180
    },
    "id": "OGcoQplkeS-x",
    "outputId": "8222352e-a377-41b7-9f01-e8280534a18e"
   },
   "outputs": [
    {
     "data": {
      "text/plain": [
       "'redgoldazul'"
      ]
     },
     "execution_count": 117,
     "metadata": {},
     "output_type": "execute_result"
    }
   ],
   "source": [
    "pd.Series([\"red\", \"gold\", \"azul\"]).sum()"
   ]
  },
  {
   "cell_type": "code",
   "execution_count": 118,
   "metadata": {
    "colab": {
     "base_uri": "https://localhost:8080/"
    },
    "executionInfo": {
     "elapsed": 330,
     "status": "ok",
     "timestamp": 1721148963370,
     "user": {
      "displayName": "Alon Tam",
      "userId": "13843051219737434027"
     },
     "user_tz": -180
    },
    "id": "jTh-FM-b9SWb",
    "outputId": "22c75efd-b5ec-47a2-bc0a-39854b7c1858"
   },
   "outputs": [
    {
     "name": "stdout",
     "output_type": "stream",
     "text": [
      "20\n"
     ]
    },
    {
     "data": {
      "text/plain": [
       "26"
      ]
     },
     "execution_count": 118,
     "metadata": {},
     "output_type": "execute_result"
    }
   ],
   "source": [
    "print(dudes_ages.min())\n",
    "dudes_ages.max()"
   ]
  },
  {
   "cell_type": "code",
   "execution_count": 119,
   "metadata": {
    "colab": {
     "base_uri": "https://localhost:8080/"
    },
    "executionInfo": {
     "elapsed": 303,
     "status": "ok",
     "timestamp": 1721149065336,
     "user": {
      "displayName": "Alon Tam",
      "userId": "13843051219737434027"
     },
     "user_tz": -180
    },
    "id": "Q7ECv0X79SWb",
    "outputId": "160bc5e8-af81-4003-fe63-eb0f235c1dd8"
   },
   "outputs": [
    {
     "data": {
      "text/plain": [
       "23.4"
      ]
     },
     "execution_count": 119,
     "metadata": {},
     "output_type": "execute_result"
    }
   ],
   "source": [
    "dudes_ages.mean()"
   ]
  },
  {
   "cell_type": "code",
   "execution_count": 120,
   "metadata": {
    "colab": {
     "base_uri": "https://localhost:8080/"
    },
    "executionInfo": {
     "elapsed": 289,
     "status": "ok",
     "timestamp": 1721149067896,
     "user": {
      "displayName": "Alon Tam",
      "userId": "13843051219737434027"
     },
     "user_tz": -180
    },
    "id": "tEj7TK769SWb",
    "outputId": "7c0aee18-b8a1-4604-c24a-bdbb6a3a2a9c"
   },
   "outputs": [
    {
     "data": {
      "text/plain": [
       "2.701851217221259"
      ]
     },
     "execution_count": 120,
     "metadata": {},
     "output_type": "execute_result"
    }
   ],
   "source": [
    "dudes_ages.std()"
   ]
  },
  {
   "cell_type": "markdown",
   "metadata": {
    "id": "HODb5i_5r8PQ"
   },
   "source": [
    "### `value_counts()`"
   ]
  },
  {
   "cell_type": "markdown",
   "metadata": {
    "id": "flkawKnFr8PR"
   },
   "source": [
    "The [`value_counts()`](https://pandas.pydata.org/pandas-docs/stable/reference/api/pandas.Series.value_counts.html) method returns a new series in which the unique elements of the calling object are the index, and the values are their corresponding counts. The returned series is sorted by the counts."
   ]
  },
  {
   "cell_type": "code",
   "execution_count": 121,
   "metadata": {
    "colab": {
     "base_uri": "https://localhost:8080/"
    },
    "executionInfo": {
     "elapsed": 352,
     "status": "ok",
     "timestamp": 1721149166876,
     "user": {
      "displayName": "Alon Tam",
      "userId": "13843051219737434027"
     },
     "user_tz": -180
    },
    "id": "mRfJakqie_w-",
    "outputId": "3ff9c3ab-77df-4c0a-e6ab-9e11a42fc0ac"
   },
   "outputs": [
    {
     "data": {
      "text/plain": [
       "Alon          Beer Sheba\n",
       "Ari             Tel Aviv\n",
       "Barak              Haifa\n",
       "Itamar     Rishon LeZion\n",
       "Yarden         Beersheba\n",
       "Ofer            Herzliya\n",
       "Liran           Tal-Aviv\n",
       "Oren       Rishon-Lezion\n",
       "Ron            Jerusalem\n",
       "Shachar     Petach-Tikva\n",
       "Shalom      Petach Tikva\n",
       "Tal        Rishon-LeZion\n",
       "Yosi             Telaviv\n",
       "Tomer             Beer-7\n",
       "Nir             Tel-Aviv\n",
       "Yaniv          Jerusalem\n",
       "Maor               Haifa\n",
       "Guy        Rishon LeZion\n",
       "Nir           Beer-Sheba\n",
       "Yosi            Tel-Aviv\n",
       "dtype: object"
      ]
     },
     "execution_count": 121,
     "metadata": {},
     "output_type": "execute_result"
    }
   ],
   "source": [
    "dudes_cities"
   ]
  },
  {
   "cell_type": "code",
   "execution_count": 122,
   "metadata": {
    "colab": {
     "base_uri": "https://localhost:8080/"
    },
    "executionInfo": {
     "elapsed": 306,
     "status": "ok",
     "timestamp": 1721149170992,
     "user": {
      "displayName": "Alon Tam",
      "userId": "13843051219737434027"
     },
     "user_tz": -180
    },
    "id": "mtr6L4PTr8PS",
    "outputId": "04c09d72-8856-4279-be51-017df32227a7"
   },
   "outputs": [
    {
     "data": {
      "text/plain": [
       "Haifa            2\n",
       "Rishon LeZion    2\n",
       "Jerusalem        2\n",
       "Tel-Aviv         2\n",
       "Beer Sheba       1\n",
       "Tel Aviv         1\n",
       "Beersheba        1\n",
       "Herzliya         1\n",
       "Tal-Aviv         1\n",
       "Rishon-Lezion    1\n",
       "Petach-Tikva     1\n",
       "Petach Tikva     1\n",
       "Rishon-LeZion    1\n",
       "Telaviv          1\n",
       "Beer-7           1\n",
       "Beer-Sheba       1\n",
       "dtype: int64"
      ]
     },
     "execution_count": 122,
     "metadata": {},
     "output_type": "execute_result"
    }
   ],
   "source": [
    "dudes_cities.value_counts() # values distribution"
   ]
  },
  {
   "cell_type": "code",
   "execution_count": 123,
   "metadata": {
    "colab": {
     "base_uri": "https://localhost:8080/"
    },
    "executionInfo": {
     "elapsed": 358,
     "status": "ok",
     "timestamp": 1721149797791,
     "user": {
      "displayName": "Alon Tam",
      "userId": "13843051219737434027"
     },
     "user_tz": -180
    },
    "id": "o4ZEIkc9bdZS",
    "outputId": "8ad4b971-ae8b-4deb-8cb4-db9046d3f971"
   },
   "outputs": [
    {
     "data": {
      "text/plain": [
       "Haifa            0.10\n",
       "Rishon LeZion    0.10\n",
       "Jerusalem        0.10\n",
       "Tel-Aviv         0.10\n",
       "Beer Sheba       0.05\n",
       "Tel Aviv         0.05\n",
       "Beersheba        0.05\n",
       "Herzliya         0.05\n",
       "Tal-Aviv         0.05\n",
       "Rishon-Lezion    0.05\n",
       "Petach-Tikva     0.05\n",
       "Petach Tikva     0.05\n",
       "Rishon-LeZion    0.05\n",
       "Telaviv          0.05\n",
       "Beer-7           0.05\n",
       "Beer-Sheba       0.05\n",
       "dtype: float64"
      ]
     },
     "execution_count": 123,
     "metadata": {},
     "output_type": "execute_result"
    }
   ],
   "source": [
    "dudes_cities.value_counts(normalize=True) # distribution ratio"
   ]
  },
  {
   "cell_type": "code",
   "execution_count": 124,
   "metadata": {
    "executionInfo": {
     "elapsed": 384,
     "status": "ok",
     "timestamp": 1721150049411,
     "user": {
      "displayName": "Alon Tam",
      "userId": "13843051219737434027"
     },
     "user_tz": -180
    },
    "id": "pOl2_kcRzyqN"
   },
   "outputs": [],
   "source": [
    "# What does the following code do? Percentage of 3 most frequent values\n",
    "\n",
    "ser_colors = pd.Series([\"green\", \"pink\", \"white\", \"green\", \"blue\", \"blue\", \"green\", \"yellow\", \"pink\", \"green\", \"gold\"])\n",
    "\n",
    "# ser_colors.value_counts(normalize=True).iloc[:3].sum()"
   ]
  },
  {
   "cell_type": "code",
   "execution_count": 125,
   "metadata": {
    "colab": {
     "base_uri": "https://localhost:8080/"
    },
    "executionInfo": {
     "elapsed": 365,
     "status": "ok",
     "timestamp": 1721150402586,
     "user": {
      "displayName": "Alon Tam",
      "userId": "13843051219737434027"
     },
     "user_tz": -180
    },
    "id": "sz-DGLXciRHn",
    "outputId": "d93d0cb1-440f-4b32-e062-09d18c5911b5"
   },
   "outputs": [
    {
     "data": {
      "text/plain": [
       "0.7272727272727273"
      ]
     },
     "execution_count": 125,
     "metadata": {},
     "output_type": "execute_result"
    }
   ],
   "source": [
    "(\n",
    "  ser_colors\n",
    "  .value_counts(normalize=True)\n",
    "  .iloc[:3]\n",
    "  .sum()\n",
    ")"
   ]
  },
  {
   "cell_type": "markdown",
   "metadata": {
    "id": "wpof0UuAr8PV"
   },
   "source": [
    "### `replace()`"
   ]
  },
  {
   "cell_type": "markdown",
   "metadata": {
    "id": "1YWDT9aOr8PW"
   },
   "source": [
    "The [`replace(to_replace, value)`][1] will replace values given in `to_replace` with `value`. We can pass `replace()` a dictionary indicating that dict's keys should be replaced by the dict's values.\n",
    "\n",
    "[1]: https://pandas.pydata.org/pandas-docs/stable/reference/api/pandas.Series.replace.html"
   ]
  },
  {
   "cell_type": "markdown",
   "metadata": {
    "id": "IhHqhyBzr8Pk"
   },
   "source": [
    "> **Note:** Like many other functions, `replace()` accepts a boolean argument **`inplace`** indicating whether to perform the operation in place or not. This kwarg affects the return value."
   ]
  },
  {
   "cell_type": "code",
   "execution_count": 126,
   "metadata": {
    "executionInfo": {
     "elapsed": 372,
     "status": "ok",
     "timestamp": 1721151398274,
     "user": {
      "displayName": "Alon Tam",
      "userId": "13843051219737434027"
     },
     "user_tz": -180
    },
    "id": "Y9rTFTShr8PZ"
   },
   "outputs": [],
   "source": [
    "cities_map_dict = {\n",
    "    'Tel Aviv': 'Tel-Aviv',\n",
    "    'Rishon LeZion': 'Rishon-LeZion',\n",
    "    'Petah Tikva': 'Petah-Tikva',\n",
    "    'Kfar Saba': 'Kfar-Saba',\n",
    "    'Beersheba': 'Beer-Sheba',\n",
    "    'Beer Sheba': 'Beer-Sheba',\n",
    "    'Rishon Lezion': 'Rishon-LeZion',\n",
    "    \"Be'er-Sheva\": \"Beer-Sheba\",\n",
    "    'Telaviv': 'Tel-Aviv',\n",
    "    'Beer-7': 'Beer-Sheba',\n",
    "    'Rishon-Lezion': 'Rishon-LeZion',\n",
    "    'Petach Tikva': 'Petach-Tikva',\n",
    "    'Tal-Aviv': 'Tel-Aviv'\n",
    "}"
   ]
  },
  {
   "cell_type": "code",
   "execution_count": 127,
   "metadata": {
    "executionInfo": {
     "elapsed": 604,
     "status": "ok",
     "timestamp": 1721151401543,
     "user": {
      "displayName": "Alon Tam",
      "userId": "13843051219737434027"
     },
     "user_tz": -180
    },
    "id": "7K3d9pRJoOyl"
   },
   "outputs": [
    {
     "ename": "SyntaxError",
     "evalue": "invalid syntax (Temp/ipykernel_10280/2531889518.py, line 1)",
     "output_type": "error",
     "traceback": [
      "\u001b[1;36m  File \u001b[1;32m\"C:\\Users\\dell\\AppData\\Local\\Temp/ipykernel_10280/2531889518.py\"\u001b[1;36m, line \u001b[1;32m1\u001b[0m\n\u001b[1;33m    dudes_cities2 = dudes_cities.replace(cities_map_dict) get dictionary - old values: new values\u001b[0m\n\u001b[1;37m                                                          ^\u001b[0m\n\u001b[1;31mSyntaxError\u001b[0m\u001b[1;31m:\u001b[0m invalid syntax\n"
     ]
    }
   ],
   "source": [
    "dudes_cities2 = dudes_cities.replace(cities_map_dict) get dictionary - old values: new values"
   ]
  },
  {
   "cell_type": "code",
   "execution_count": null,
   "metadata": {
    "colab": {
     "base_uri": "https://localhost:8080/"
    },
    "executionInfo": {
     "elapsed": 366,
     "status": "ok",
     "timestamp": 1721151406071,
     "user": {
      "displayName": "Alon Tam",
      "userId": "13843051219737434027"
     },
     "user_tz": -180
    },
    "id": "LuhzgC0hpFPZ",
    "outputId": "076da262-308a-49a7-faf7-d0310e38fa0b"
   },
   "outputs": [],
   "source": [
    "dudes_cities2"
   ]
  },
  {
   "cell_type": "code",
   "execution_count": null,
   "metadata": {
    "colab": {
     "base_uri": "https://localhost:8080/"
    },
    "executionInfo": {
     "elapsed": 320,
     "status": "ok",
     "timestamp": 1721151432092,
     "user": {
      "displayName": "Alon Tam",
      "userId": "13843051219737434027"
     },
     "user_tz": -180
    },
    "id": "1R3WNIVWnlel",
    "outputId": "1b93c330-c1fa-4c18-8d6d-b34f8ee15580"
   },
   "outputs": [],
   "source": [
    "dudes_cities2.value_counts(normalize=True)"
   ]
  },
  {
   "cell_type": "markdown",
   "metadata": {
    "id": "DZcsVPvu9SWc"
   },
   "source": [
    "> **Your turn:** <--- Homework 16/7/2024\n",
    "\n",
    "Given the *name_ser* series below:\n",
    "\n",
    "1. How many values are there in the series?\n",
    "2. How many times does each name appear in the series?\n",
    "3. Correct the series so that the names 'james' and 'frank' are capitalized (upper-cased).\n",
    "4. How many times do each name appear in the series now? Display the percentage instead of the count.\n",
    "5. Print the most common name (pick one, if there is more than one).\n",
    "6. Print the least common name (pick one, if there is more than one)."
   ]
  },
  {
   "cell_type": "code",
   "execution_count": null,
   "metadata": {
    "id": "jAcDeeMY9SWc"
   },
   "outputs": [],
   "source": [
    "names = ['John','William','James','Charles','George',\n",
    "         'frank','Joseph','Thomas','james','Charles',\n",
    "         'Arthur','Albert','William','Charles','Frank',\n",
    "         'Charles','Sam','Jacob','Elmer','Arthur','Arthur']\n",
    "\n",
    "names_ser = pd.Series(data=names)\n",
    "names_ser"
   ]
  },
  {
   "cell_type": "code",
   "execution_count": null,
   "metadata": {},
   "outputs": [],
   "source": [
    "# 1. How many values are there in the series?\n",
    "names_ser.count()\n",
    "# names_ser.size"
   ]
  },
  {
   "cell_type": "code",
   "execution_count": null,
   "metadata": {},
   "outputs": [],
   "source": [
    "# 2. How many times does each name appear in the series?\n",
    "names_ser.value_counts()\n",
    "# names_ser.value_counts()"
   ]
  },
  {
   "cell_type": "code",
   "execution_count": null,
   "metadata": {},
   "outputs": [],
   "source": [
    "# 3. Correct the series so that the names 'james' and 'frank' are capitalized (upper-cased).\n",
    "correct_values = {\n",
    "    \"frank\" : \"Frank\",\n",
    "    \"james\" : \"James\"\n",
    "}\n",
    "\n",
    "names_ser.replace(correct_values, inplace =True)\n",
    "\n",
    "\n",
    "\n",
    "'''\n",
    "corrected_names = {\n",
    "    \"frank\": \"Frank\",\n",
    "    \"james\": \"James\"\n",
    "}\n",
    "# Either use inplace=True or re-assign to names_ser (names_ser = names_ser.replace...) for the solution to #4 to work.\n",
    "names_ser.replace(corrected_names, inplace=True)\n",
    "names_ser\n",
    "\n",
    "'''"
   ]
  },
  {
   "cell_type": "code",
   "execution_count": null,
   "metadata": {},
   "outputs": [],
   "source": [
    "print(names_ser)"
   ]
  },
  {
   "cell_type": "code",
   "execution_count": null,
   "metadata": {},
   "outputs": [],
   "source": [
    "# 4. How many times do each name appear in the series now? Display the percentage instead of the count.\n",
    "names_ser.value_counts(normalize = True) "
   ]
  },
  {
   "cell_type": "code",
   "execution_count": null,
   "metadata": {},
   "outputs": [],
   "source": [
    "# 5. Print the most common name (pick one, if there is more than one).\n",
    "count_name_series = names_ser.value_counts()\n",
    "count_name_series.index[0]\n",
    "\n",
    "# names_ser.value_counts().index[0]\n"
   ]
  },
  {
   "cell_type": "code",
   "execution_count": null,
   "metadata": {},
   "outputs": [],
   "source": [
    "# 6. Print the least common name (pick one, if there is more than one).\n",
    "count_name_series = names_ser.value_counts()\n",
    "count_name_series.index[-1]\n",
    "\n",
    "# names_ser.value_counts(ascending=True).index[0]"
   ]
  },
  {
   "cell_type": "markdown",
   "metadata": {
    "id": "aflm8Em49SWd",
    "jp-MarkdownHeadingCollapsed": true,
    "tags": []
   },
   "source": [
    "### Solution"
   ]
  },
  {
   "cell_type": "code",
   "execution_count": null,
   "metadata": {
    "id": "ESU2jEJw9SWd"
   },
   "outputs": [],
   "source": [
    "# 1.\n",
    "names_ser.size"
   ]
  },
  {
   "cell_type": "code",
   "execution_count": null,
   "metadata": {
    "id": "f5MmiMo09SWd"
   },
   "outputs": [],
   "source": [
    "# 2.\n",
    "names_ser.value_counts()"
   ]
  },
  {
   "cell_type": "code",
   "execution_count": null,
   "metadata": {
    "id": "_xktRsUC9SWd"
   },
   "outputs": [],
   "source": [
    "# 3.\n",
    "corrected_names = {\n",
    "    \"frank\": \"Frank\",\n",
    "    \"james\": \"James\"\n",
    "}\n",
    "# Either use inplace=True or re-assign to names_ser (names_ser = names_ser.replace...) for the solution to #4 to work.\n",
    "names_ser.replace(corrected_names, inplace=True)\n",
    "names_ser"
   ]
  },
  {
   "cell_type": "code",
   "execution_count": null,
   "metadata": {
    "id": "UwsvFePk9SWd"
   },
   "outputs": [],
   "source": [
    "# 4.\n",
    "names_ser.value_counts(normalize=True)"
   ]
  },
  {
   "cell_type": "code",
   "execution_count": null,
   "metadata": {
    "id": "Bqs8AgPd9SWd"
   },
   "outputs": [],
   "source": [
    "# 5.\n",
    "names_ser.value_counts().index[0]"
   ]
  },
  {
   "cell_type": "code",
   "execution_count": null,
   "metadata": {
    "id": "jlZE3RSq9SWd"
   },
   "outputs": [],
   "source": [
    "# 6.\n",
    "names_ser.value_counts(ascending=True).index[0]"
   ]
  },
  {
   "cell_type": "markdown",
   "metadata": {
    "id": "xxhSfB7Sr8Pe"
   },
   "source": [
    "### _apply(func)_"
   ]
  },
  {
   "cell_type": "code",
   "execution_count": null,
   "metadata": {
    "colab": {
     "base_uri": "https://localhost:8080/"
    },
    "executionInfo": {
     "elapsed": 399,
     "status": "ok",
     "timestamp": 1721151702020,
     "user": {
      "displayName": "Alon Tam",
      "userId": "13843051219737434027"
     },
     "user_tz": -180
    },
    "id": "7r8KeSBCwSAU",
    "outputId": "b6d77164-a5c1-45a5-b3b4-70aa5e4f39a5"
   },
   "outputs": [],
   "source": [
    "dudes_cities"
   ]
  },
  {
   "cell_type": "markdown",
   "metadata": {
    "id": "0N9VrBter8Pf"
   },
   "source": [
    "The [`apply(func)`](https://pandas.pydata.org/pandas-docs/stable/reference/api/pandas.Series.apply.html) method applies the function `func` on each element of the calling series and returns a new series with the returned values."
   ]
  },
  {
   "cell_type": "code",
   "execution_count": null,
   "metadata": {
    "executionInfo": {
     "elapsed": 305,
     "status": "ok",
     "timestamp": 1721151745596,
     "user": {
      "displayName": "Alon Tam",
      "userId": "13843051219737434027"
     },
     "user_tz": -180
    },
    "id": "LRiqaWDpbdZU"
   },
   "outputs": [],
   "source": [
    "def first_letter(value):\n",
    "    return value[::-1]"
   ]
  },
  {
   "cell_type": "code",
   "execution_count": null,
   "metadata": {
    "colab": {
     "base_uri": "https://localhost:8080/"
    },
    "executionInfo": {
     "elapsed": 3,
     "status": "ok",
     "timestamp": 1721151746800,
     "user": {
      "displayName": "Alon Tam",
      "userId": "13843051219737434027"
     },
     "user_tz": -180
    },
    "id": "IPw9ITrswBnV",
    "outputId": "c12737dd-ecd1-46d1-cf0f-4b8c75f9cc69"
   },
   "outputs": [],
   "source": [
    "dudes_cities.apply(first_letter) #.head(10)"
   ]
  },
  {
   "cell_type": "code",
   "execution_count": null,
   "metadata": {
    "id": "Mmnb72UWxjPu"
   },
   "outputs": [],
   "source": [
    "pd.Series(dudes_cities.index).apply(lambda x: x.lower())"
   ]
  },
  {
   "cell_type": "code",
   "execution_count": null,
   "metadata": {
    "id": "SWEEDg9G2WOW"
   },
   "outputs": [],
   "source": [
    "dudes_cities.index"
   ]
  },
  {
   "cell_type": "code",
   "execution_count": null,
   "metadata": {
    "colab": {
     "base_uri": "https://localhost:8080/"
    },
    "executionInfo": {
     "elapsed": 307,
     "status": "ok",
     "timestamp": 1721151858643,
     "user": {
      "displayName": "Alon Tam",
      "userId": "13843051219737434027"
     },
     "user_tz": -180
    },
    "id": "qZAzkuXTxEcW",
    "outputId": "f206b5ca-1a31-4b63-f32d-5cbd3b1f6bbb"
   },
   "outputs": [],
   "source": [
    "dudes_cities.apply(len)  #.head()"
   ]
  },
  {
   "cell_type": "code",
   "execution_count": null,
   "metadata": {
    "colab": {
     "base_uri": "https://localhost:8080/"
    },
    "executionInfo": {
     "elapsed": 319,
     "status": "ok",
     "timestamp": 1721151906282,
     "user": {
      "displayName": "Alon Tam",
      "userId": "13843051219737434027"
     },
     "user_tz": -180
    },
    "id": "9TiJPqWEpcfA",
    "outputId": "e11c1895-e6cc-46ea-a99a-95b70a191728"
   },
   "outputs": [],
   "source": [
    "len(dudes_cities)"
   ]
  },
  {
   "cell_type": "markdown",
   "metadata": {
    "id": "QjWevpx2r8Pj"
   },
   "source": [
    "### `sort_values()`"
   ]
  },
  {
   "cell_type": "markdown",
   "metadata": {
    "id": "bRWjbC_QIYL9"
   },
   "source": [
    "The [`sort_values()`][1] method sorts the elements of the calling object **and keeps their index**.\n",
    "\n",
    "[1]: http://pandas.pydata.org/pandas-docs/stable/generated/pandas.Series.sort_values.html#pandas.Series.sort_values \"Series.sort_values() documentation\""
   ]
  },
  {
   "cell_type": "code",
   "execution_count": null,
   "metadata": {
    "colab": {
     "base_uri": "https://localhost:8080/"
    },
    "executionInfo": {
     "elapsed": 334,
     "status": "ok",
     "timestamp": 1721152091195,
     "user": {
      "displayName": "Alon Tam",
      "userId": "13843051219737434027"
     },
     "user_tz": -180
    },
    "id": "fFSnwBJ7qKqH",
    "outputId": "37718066-e400-42c7-fc36-62098e9e3e5c"
   },
   "outputs": [],
   "source": [
    "dudes_cities2"
   ]
  },
  {
   "cell_type": "code",
   "execution_count": null,
   "metadata": {
    "colab": {
     "base_uri": "https://localhost:8080/"
    },
    "executionInfo": {
     "elapsed": 309,
     "status": "ok",
     "timestamp": 1721152146383,
     "user": {
      "displayName": "Alon Tam",
      "userId": "13843051219737434027"
     },
     "user_tz": -180
    },
    "id": "GjIFittHzHPj",
    "outputId": "a8d2c1a6-dbc7-4756-a1ff-b6ef08667446"
   },
   "outputs": [],
   "source": [
    "dudes_cities2.value_counts(ascending=True) #<- default value"
   ]
  },
  {
   "cell_type": "code",
   "execution_count": null,
   "metadata": {
    "colab": {
     "base_uri": "https://localhost:8080/"
    },
    "executionInfo": {
     "elapsed": 301,
     "status": "ok",
     "timestamp": 1721151974338,
     "user": {
      "displayName": "Alon Tam",
      "userId": "13843051219737434027"
     },
     "user_tz": -180
    },
    "id": "lV4UIxQyptFe",
    "outputId": "90367edb-4343-4a80-beca-785dff731599"
   },
   "outputs": [],
   "source": [
    "ser_colors"
   ]
  },
  {
   "cell_type": "code",
   "execution_count": null,
   "metadata": {
    "colab": {
     "base_uri": "https://localhost:8080/"
    },
    "executionInfo": {
     "elapsed": 320,
     "status": "ok",
     "timestamp": 1721152051682,
     "user": {
      "displayName": "Alon Tam",
      "userId": "13843051219737434027"
     },
     "user_tz": -180
    },
    "id": "2SbYzzHP25Yk",
    "outputId": "873eee29-bef2-4aac-ea78-8aa18579d1ba"
   },
   "outputs": [],
   "source": [
    "ser_colors.sort_values(ascending=False)"
   ]
  },
  {
   "cell_type": "code",
   "execution_count": null,
   "metadata": {
    "colab": {
     "base_uri": "https://localhost:8080/"
    },
    "executionInfo": {
     "elapsed": 288,
     "status": "ok",
     "timestamp": 1721152181246,
     "user": {
      "displayName": "Alon Tam",
      "userId": "13843051219737434027"
     },
     "user_tz": -180
    },
    "id": "kKjfPgzm10wz",
    "outputId": "c4d3a721-6482-492d-b2ba-58e23c33b719"
   },
   "outputs": [],
   "source": [
    "dudes_cities2.sort_index()"
   ]
  },
  {
   "cell_type": "code",
   "execution_count": null,
   "metadata": {
    "colab": {
     "base_uri": "https://localhost:8080/"
    },
    "executionInfo": {
     "elapsed": 321,
     "status": "ok",
     "timestamp": 1721152458579,
     "user": {
      "displayName": "Alon Tam",
      "userId": "13843051219737434027"
     },
     "user_tz": -180
    },
    "id": "c5p93sutr8Pl",
    "outputId": "d9374a03-558b-4d92-9d87-b4476e0ad2c0"
   },
   "outputs": [],
   "source": [
    "dudes_cities2.sort_values(ascending=False, inplace=True)\n",
    "dudes_cities2"
   ]
  },
  {
   "cell_type": "markdown",
   "metadata": {
    "id": "T0OS2EFCRJmc"
   },
   "source": [
    "#### [optional] The `key` function"
   ]
  },
  {
   "cell_type": "markdown",
   "metadata": {
    "id": "VWOtcWxwRN7E"
   },
   "source": [
    "We note that the `key` argument does not work element-wise (like in the built-in `sorted()`), but rather in a *vectorized* way. This means `key` expects a Series object and returns an array-like. In other words, the key function returns the sorting criteria for *all* the values to be sorted."
   ]
  },
  {
   "cell_type": "code",
   "execution_count": null,
   "metadata": {
    "id": "ubBXqiFpRI-M"
   },
   "outputs": [],
   "source": [
    "dudes_cities.sort_values(key=lambda ser_values: ser_values.str.len())"
   ]
  },
  {
   "cell_type": "markdown",
   "metadata": {
    "id": "HkGD9Be7VG9v"
   },
   "source": [
    "And another example to illustrate a more complicated functions."
   ]
  },
  {
   "cell_type": "code",
   "execution_count": null,
   "metadata": {
    "id": "GVblLCc1S6W1"
   },
   "outputs": [],
   "source": [
    "def num_of_words(city):\n",
    "    num_words = max(len(city.split('-')), len(city.split()))\n",
    "    print(f\">>> {city:15s} -> {num_words}\")\n",
    "    return num_words\n",
    "\n",
    "def num_of_words_per_value(ser_values):\n",
    "    ser_sort_criteria = ser_values.apply(num_of_words)\n",
    "    print(\"### sort criteria series:\")\n",
    "    print(ser_sort_criteria)\n",
    "    return ser_sort_criteria\n",
    "\n",
    "dudes_cities.sort_values(key=num_of_words_per_value)"
   ]
  },
  {
   "cell_type": "markdown",
   "metadata": {
    "id": "yqZxytISr8Po"
   },
   "source": [
    "### The _str_ accessor"
   ]
  },
  {
   "cell_type": "markdown",
   "metadata": {
    "id": "7p69fTxtr8Pq"
   },
   "source": [
    "When the series dtype is 'str', there is a collection of special methods available to work with strings. They are all collected and accessed through the accessor [_str_][1], and are called only through it.\n",
    "\n",
    "[1]: http://pandas.pydata.org/pandas-docs/stable/api.html#string-handling \"The str accessor\""
   ]
  },
  {
   "cell_type": "code",
   "execution_count": null,
   "metadata": {
    "colab": {
     "base_uri": "https://localhost:8080/"
    },
    "executionInfo": {
     "elapsed": 379,
     "status": "ok",
     "timestamp": 1721153313838,
     "user": {
      "displayName": "Alon Tam",
      "userId": "13843051219737434027"
     },
     "user_tz": -180
    },
    "id": "CZtghnvnuIVd",
    "outputId": "fae983e7-bc1c-49b5-b76d-d86d483cccea"
   },
   "outputs": [],
   "source": [
    "dudes_cities2 = dudes_cities2.str.lower()\n",
    "dudes_cities2"
   ]
  },
  {
   "cell_type": "code",
   "execution_count": null,
   "metadata": {
    "colab": {
     "base_uri": "https://localhost:8080/"
    },
    "executionInfo": {
     "elapsed": 307,
     "status": "ok",
     "timestamp": 1721153061597,
     "user": {
      "displayName": "Alon Tam",
      "userId": "13843051219737434027"
     },
     "user_tz": -180
    },
    "id": "rxFO0XIi2A_i",
    "outputId": "c3df7c27-50dd-43c4-f367-7e0ac054fc8f"
   },
   "outputs": [],
   "source": [
    "dudes_cities.str.upper() # use accesor string to prevent ambigiouty"
   ]
  },
  {
   "cell_type": "code",
   "execution_count": null,
   "metadata": {
    "colab": {
     "base_uri": "https://localhost:8080/"
    },
    "executionInfo": {
     "elapsed": 310,
     "status": "ok",
     "timestamp": 1721152870041,
     "user": {
      "displayName": "Alon Tam",
      "userId": "13843051219737434027"
     },
     "user_tz": -180
    },
    "id": "xE-n4wCur8Pr",
    "outputId": "93bdf009-5099-422a-dc1e-7daa19c83dc0"
   },
   "outputs": [],
   "source": [
    "dudes_cities.str.upper() #.head()"
   ]
  },
  {
   "cell_type": "code",
   "execution_count": null,
   "metadata": {
    "id": "K30YbD723EIC"
   },
   "outputs": [],
   "source": [
    "dudes_cities"
   ]
  },
  {
   "cell_type": "code",
   "execution_count": null,
   "metadata": {
    "id": "rfGcRR5Yr8Pw"
   },
   "outputs": [],
   "source": [
    "dudes_cities.str.replace('Sheba', 'Sheva').head()"
   ]
  },
  {
   "cell_type": "markdown",
   "metadata": {
    "id": "JXMfRsCir8Py"
   },
   "source": [
    "> **Note:** _pandas_ supports several other accessors, including [`plot`][3] for plotting, [`dt`][1] for datetime dtype and [`cat`][2] for categorical data.\n",
    "\n",
    "[1]: http://pandas.pydata.org/pandas-docs/stable/api.html#datetimelike-properties \"The dt accessor\"\n",
    "[2]: http://pandas.pydata.org/pandas-docs/stable/api.html#categorical \"The cat accessor\"\n",
    "[3]: https://pandas.pydata.org/pandas-docs/stable/reference/api/pandas.Series.plot.html \"The plot accessor\""
   ]
  },
  {
   "cell_type": "markdown",
   "metadata": {
    "id": "qYs0ROjg6GL5"
   },
   "source": [
    "## Boolean Masking"
   ]
  },
  {
   "cell_type": "markdown",
   "metadata": {
    "id": "_WXrw4fd9SWg"
   },
   "source": [
    "Boolean masks are means for selecting values meeting a certain criteria from a Series. The boolean mask is generated by applying a binary test (True/False) to each value in the series, producing a new series of True/False values with the exact same index values. The boolean mask can then be used to filter values from the originating series."
   ]
  },
  {
   "cell_type": "code",
   "execution_count": null,
   "metadata": {
    "colab": {
     "base_uri": "https://localhost:8080/"
    },
    "executionInfo": {
     "elapsed": 340,
     "status": "ok",
     "timestamp": 1721153812242,
     "user": {
      "displayName": "Alon Tam",
      "userId": "13843051219737434027"
     },
     "user_tz": -180
    },
    "id": "8P9mChjR9SWg",
    "outputId": "0de4425a-9f2f-4288-d861-cb3b56edcbb1"
   },
   "outputs": [],
   "source": [
    "# Boolean mask\n",
    "dudes_cities2.str.endswith('n')"
   ]
  },
  {
   "cell_type": "code",
   "execution_count": null,
   "metadata": {
    "colab": {
     "base_uri": "https://localhost:8080/"
    },
    "executionInfo": {
     "elapsed": 336,
     "status": "ok",
     "timestamp": 1721153821532,
     "user": {
      "displayName": "Alon Tam",
      "userId": "13843051219737434027"
     },
     "user_tz": -180
    },
    "id": "EAV2q9QO589k",
    "outputId": "ae60cca0-c6e6-431e-af3d-0da59933feea"
   },
   "outputs": [],
   "source": [
    "# Using the boolean mask to filter values\n",
    "dudes_cities2.loc[dudes_cities2.str.endswith('n')]"
   ]
  },
  {
   "cell_type": "code",
   "execution_count": null,
   "metadata": {
    "colab": {
     "base_uri": "https://localhost:8080/"
    },
    "executionInfo": {
     "elapsed": 330,
     "status": "ok",
     "timestamp": 1721153711479,
     "user": {
      "displayName": "Alon Tam",
      "userId": "13843051219737434027"
     },
     "user_tz": -180
    },
    "id": "2GAA8e9N61zF",
    "outputId": "b779719c-276a-458c-f922-c74a6a496104"
   },
   "outputs": [],
   "source": [
    "dudes_ages"
   ]
  },
  {
   "cell_type": "code",
   "execution_count": null,
   "metadata": {
    "colab": {
     "base_uri": "https://localhost:8080/"
    },
    "executionInfo": {
     "elapsed": 317,
     "status": "ok",
     "timestamp": 1721153830425,
     "user": {
      "displayName": "Alon Tam",
      "userId": "13843051219737434027"
     },
     "user_tz": -180
    },
    "id": "xx-fJx747xoV",
    "outputId": "6c3f18a6-5a34-40a1-dd96-6ce05b057e3b"
   },
   "outputs": [],
   "source": [
    "(dudes_ages >= 21)"
   ]
  },
  {
   "cell_type": "code",
   "execution_count": null,
   "metadata": {
    "colab": {
     "base_uri": "https://localhost:8080/"
    },
    "executionInfo": {
     "elapsed": 315,
     "status": "ok",
     "timestamp": 1721153854944,
     "user": {
      "displayName": "Alon Tam",
      "userId": "13843051219737434027"
     },
     "user_tz": -180
    },
    "id": "3tnhqyBmw0-f",
    "outputId": "dbd70d2f-f510-44c5-9357-b0c053d410db"
   },
   "outputs": [],
   "source": [
    "dudes_ages.loc[dudes_ages >= 21]"
   ]
  },
  {
   "cell_type": "code",
   "execution_count": null,
   "metadata": {
    "colab": {
     "base_uri": "https://localhost:8080/"
    },
    "executionInfo": {
     "elapsed": 347,
     "status": "ok",
     "timestamp": 1721154536392,
     "user": {
      "displayName": "Alon Tam",
      "userId": "13843051219737434027"
     },
     "user_tz": -180
    },
    "id": "bbtbOYz5xn09",
    "outputId": "425f2b2e-0fae-4c0c-a086-5b5d65de4416"
   },
   "outputs": [],
   "source": [
    "(dudes_ages >= 21) & (dudes_ages <=25)"
   ]
  },
  {
   "cell_type": "code",
   "execution_count": null,
   "metadata": {
    "colab": {
     "base_uri": "https://localhost:8080/"
    },
    "executionInfo": {
     "elapsed": 336,
     "status": "ok",
     "timestamp": 1721154612767,
     "user": {
      "displayName": "Alon Tam",
      "userId": "13843051219737434027"
     },
     "user_tz": -180
    },
    "id": "pljz2EoX7Exz",
    "outputId": "c85f4216-62ed-4a07-cee5-5118d318bde9"
   },
   "outputs": [],
   "source": [
    "dudes_ages[(dudes_ages >= 21) & (dudes_ages <=25)]"
   ]
  },
  {
   "cell_type": "code",
   "execution_count": null,
   "metadata": {
    "colab": {
     "base_uri": "https://localhost:8080/"
    },
    "executionInfo": {
     "elapsed": 315,
     "status": "ok",
     "timestamp": 1721154269231,
     "user": {
      "displayName": "Alon Tam",
      "userId": "13843051219737434027"
     },
     "user_tz": -180
    },
    "id": "8IAvaJyvxto_",
    "outputId": "96d09f5c-b9eb-4bb0-bcf7-22b4bae5c0b9"
   },
   "outputs": [],
   "source": [
    "selection_criteria = (dudes_ages >= 21) & (dudes_ages <=25)\n",
    "selection_criteria"
   ]
  },
  {
   "cell_type": "markdown",
   "metadata": {},
   "source": [
    "logic operators &(AND) |(OR) ~()NOT  must be in ()"
   ]
  },
  {
   "cell_type": "code",
   "execution_count": null,
   "metadata": {
    "colab": {
     "base_uri": "https://localhost:8080/"
    },
    "executionInfo": {
     "elapsed": 346,
     "status": "ok",
     "timestamp": 1721154098994,
     "user": {
      "displayName": "Alon Tam",
      "userId": "13843051219737434027"
     },
     "user_tz": -180
    },
    "id": "q5VStFBpxyU-",
    "outputId": "fd8f3423-4c07-43ff-bbf6-1716daa9ce5f"
   },
   "outputs": [],
   "source": [
    "dudes_ages[selection_criteria]"
   ]
  },
  {
   "cell_type": "code",
   "execution_count": null,
   "metadata": {
    "colab": {
     "base_uri": "https://localhost:8080/"
    },
    "executionInfo": {
     "elapsed": 328,
     "status": "ok",
     "timestamp": 1721154132902,
     "user": {
      "displayName": "Alon Tam",
      "userId": "13843051219737434027"
     },
     "user_tz": -180
    },
    "id": "NfSd8VdXx783",
    "outputId": "db4e7b20-be56-4bc1-b376-bf0069221cf8"
   },
   "outputs": [],
   "source": [
    "dudes_ages"
   ]
  },
  {
   "cell_type": "code",
   "execution_count": null,
   "metadata": {
    "colab": {
     "base_uri": "https://localhost:8080/"
    },
    "executionInfo": {
     "elapsed": 4,
     "status": "ok",
     "timestamp": 1721154163229,
     "user": {
      "displayName": "Alon Tam",
      "userId": "13843051219737434027"
     },
     "user_tz": -180
    },
    "id": "-0e13DkQx-nj",
    "outputId": "8f83c54e-dc77-411d-ad81-0d78ae5590bb"
   },
   "outputs": [],
   "source": [
    "dudes_ages[[True, False, True, False, True]]"
   ]
  },
  {
   "cell_type": "code",
   "execution_count": null,
   "metadata": {
    "colab": {
     "base_uri": "https://localhost:8080/"
    },
    "executionInfo": {
     "elapsed": 340,
     "status": "ok",
     "timestamp": 1721154334705,
     "user": {
      "displayName": "Alon Tam",
      "userId": "13843051219737434027"
     },
     "user_tz": -180
    },
    "id": "5QEgKj_uyhbA",
    "outputId": "06cbc0ed-57df-4c2a-f5fa-6a9f753f163e"
   },
   "outputs": [],
   "source": [
    "dudes_ages[dudes_ages.between(25, 27)]"
   ]
  },
  {
   "cell_type": "markdown",
   "metadata": {
    "id": "6sAf_eptbdZZ",
    "tags": []
   },
   "source": [
    "### Missing values"
   ]
  },
  {
   "cell_type": "markdown",
   "metadata": {
    "id": "7L1lYr78bdZa"
   },
   "source": [
    "It is possible to find missing values in a series. Missing values are **NaN** values, which are common when dealing with tabular data, where not all the fields in a row must have values (sometimes they must and we need to find those which don't and deal with them).\n",
    "\n",
    "There are several related methods which can be used:<br/>\n",
    "`isnull()`, `isna()`, `notnull()` and `notna()`. These methods return a new series made of boolean, one per each value (matching index is preserved) which is the result of applying the requested test (i.e., *isnull*, *notnull*, and so on)."
   ]
  },
  {
   "cell_type": "code",
   "execution_count": null,
   "metadata": {
    "id": "nuy_Oal89KSj"
   },
   "outputs": [],
   "source": [
    "# pandas is on the top of numpy\n",
    "ser_nan = pd.Series([100, 150, np.NaN, 133, 97, np.NaN, 12, np.NaN, 99])"
   ]
  },
  {
   "cell_type": "code",
   "execution_count": null,
   "metadata": {
    "id": "PYbzgy1Q-GmE"
   },
   "outputs": [],
   "source": [
    "ser_nan.isnull() #.sum()"
   ]
  },
  {
   "cell_type": "code",
   "execution_count": null,
   "metadata": {
    "id": "pPSeHjbr-sUU"
   },
   "outputs": [],
   "source": [
    "ser_nan.isna()"
   ]
  },
  {
   "cell_type": "code",
   "execution_count": null,
   "metadata": {
    "id": "S_eRnpDd-G3U"
   },
   "outputs": [],
   "source": [
    "ser_nan.notnull().sum() # ser_nan.count()"
   ]
  },
  {
   "cell_type": "code",
   "execution_count": null,
   "metadata": {
    "id": "_FBljRy5-HKU"
   },
   "outputs": [],
   "source": [
    "ser_nan.notna()"
   ]
  },
  {
   "cell_type": "code",
   "execution_count": null,
   "metadata": {},
   "outputs": [],
   "source": [
    "ser_nan_not_null = ser_nan.loc[ser_nan.notnull()]\n",
    "ser_nan_not_null"
   ]
  },
  {
   "cell_type": "code",
   "execution_count": null,
   "metadata": {
    "id": "D_SG32KO-Hdj"
   },
   "outputs": [],
   "source": [
    "ser_nan"
   ]
  },
  {
   "cell_type": "code",
   "execution_count": null,
   "metadata": {
    "id": "HCNpA6J3-HwT"
   },
   "outputs": [],
   "source": [
    "ser_nan[ser_nan.notnull()]"
   ]
  },
  {
   "cell_type": "code",
   "execution_count": null,
   "metadata": {
    "id": "1TtWDQF2--VT"
   },
   "outputs": [],
   "source": [
    "~ser_nan.isnull() # ~ not"
   ]
  },
  {
   "cell_type": "code",
   "execution_count": null,
   "metadata": {
    "id": "8i-Vfr8m--kk"
   },
   "outputs": [],
   "source": [
    "# imputation - manage missing value\n",
    "# if missing values < 10% \n",
    "\n",
    "ser_nan.mean()"
   ]
  },
  {
   "cell_type": "code",
   "execution_count": null,
   "metadata": {
    "id": "BbRGAeIY--4D"
   },
   "outputs": [],
   "source": [
    "ser_nan.fillna(ser_nan.mean())"
   ]
  },
  {
   "cell_type": "markdown",
   "metadata": {
    "id": "Ir-ENtEgv0uz"
   },
   "source": [
    "> **Your turn 1:**<br/>\n",
    "> Using the *names_series* (defined below):<br/>\n",
    "> 1. Convert all names to lower case.<br/>\n",
    "> 2. Find all names which end with an 's'.<br/>\n",
    "> 3. Sort the names lexicographically and print the top 10.<br/>\n",
    "> 4. What is the most common name?\n",
    "> 5. [hard] Which is the longest name? (print only one if there are multiple names with the same length).<br/>"
   ]
  },
  {
   "cell_type": "code",
   "execution_count": null,
   "metadata": {
    "id": "b03QRUE1AtBQ"
   },
   "outputs": [],
   "source": [
    "names = ['John','William','James','Charles','George',\n",
    "         'Frank','Joseph','Thomas','James','Charles',\n",
    "         'Arthur','Albert','William','Charles','Frank',\n",
    "         'Charles','Sam','Jacob','Elmer','Arthur','Arthur']\n",
    "\n",
    "names_series = pd.Series(data=names, index=names)\n",
    "print(names_series)"
   ]
  },
  {
   "cell_type": "code",
   "execution_count": null,
   "metadata": {},
   "outputs": [],
   "source": [
    "# 1. Convert all names to lower case.\n",
    "names_series.str.lower()\n"
   ]
  },
  {
   "cell_type": "code",
   "execution_count": null,
   "metadata": {},
   "outputs": [],
   "source": [
    "# 2. Find all names which end with an 's'.\n",
    "names_series.str.endswith('s')"
   ]
  },
  {
   "cell_type": "code",
   "execution_count": null,
   "metadata": {},
   "outputs": [],
   "source": [
    "# 3. Sort the names lexicographically and print the top 10.\n",
    "names_series.sort_values().head(10)"
   ]
  },
  {
   "cell_type": "code",
   "execution_count": null,
   "metadata": {},
   "outputs": [],
   "source": [
    "# 4. What is the most common name?\n",
    "\n",
    "names_series.value_counts()[0]"
   ]
  },
  {
   "cell_type": "code",
   "execution_count": null,
   "metadata": {},
   "outputs": [],
   "source": [
    "# 5. [hard] Which is the longest name? (print only one if there are multiple names with the same length).\n",
    "names_series_len = names_series.str.len().sort_values(ascending=False)\n",
    "print(names_series_len.index[0], names_series_len[0]) "
   ]
  },
  {
   "cell_type": "code",
   "execution_count": null,
   "metadata": {},
   "outputs": [],
   "source": [
    "# optional solution\n",
    "names_series[names_series.str.len() == names_series.str.len().max()].iloc[0]"
   ]
  },
  {
   "cell_type": "markdown",
   "metadata": {
    "id": "pIdLhOl8bdZb",
    "tags": []
   },
   "source": [
    "### Solution"
   ]
  },
  {
   "cell_type": "code",
   "execution_count": null,
   "metadata": {
    "id": "xjZH18IKbdZb"
   },
   "outputs": [],
   "source": [
    "# 1. Convert all names to lower case.\n",
    "names_series = names_series.str.lower()\n",
    "names_series"
   ]
  },
  {
   "cell_type": "code",
   "execution_count": 128,
   "metadata": {
    "id": "iYocxP6-bdZc"
   },
   "outputs": [
    {
     "ename": "NameError",
     "evalue": "name 'names_series' is not defined",
     "output_type": "error",
     "traceback": [
      "\u001b[1;31m---------------------------------------------------------------------------\u001b[0m",
      "\u001b[1;31mNameError\u001b[0m                                 Traceback (most recent call last)",
      "\u001b[1;32m~\\AppData\\Local\\Temp/ipykernel_10280/3889367200.py\u001b[0m in \u001b[0;36m<module>\u001b[1;34m\u001b[0m\n\u001b[0;32m      1\u001b[0m \u001b[1;31m# 2. Find all names which end with an 's'.\u001b[0m\u001b[1;33m\u001b[0m\u001b[1;33m\u001b[0m\u001b[0m\n\u001b[1;32m----> 2\u001b[1;33m \u001b[0mnames_series\u001b[0m\u001b[1;33m.\u001b[0m\u001b[0mloc\u001b[0m\u001b[1;33m[\u001b[0m\u001b[0mnames_series\u001b[0m\u001b[1;33m.\u001b[0m\u001b[0mstr\u001b[0m\u001b[1;33m.\u001b[0m\u001b[0mendswith\u001b[0m\u001b[1;33m(\u001b[0m\u001b[1;34m\"s\"\u001b[0m\u001b[1;33m)\u001b[0m\u001b[1;33m]\u001b[0m\u001b[1;33m\u001b[0m\u001b[1;33m\u001b[0m\u001b[0m\n\u001b[0m",
      "\u001b[1;31mNameError\u001b[0m: name 'names_series' is not defined"
     ]
    }
   ],
   "source": [
    "# 2. Find all names which end with an 's'.\n",
    "names_series.loc[names_series.str.endswith(\"s\")]"
   ]
  },
  {
   "cell_type": "code",
   "execution_count": null,
   "metadata": {
    "id": "CMjtYBU2bdZc"
   },
   "outputs": [],
   "source": [
    "# 3. Sort the names lexicographically and print the top 10.\n",
    "names_series.sort_values().iloc[:10]\n",
    "# Another option\n",
    "# names_series.sort_values().head(10)"
   ]
  },
  {
   "cell_type": "code",
   "execution_count": null,
   "metadata": {
    "id": "iMcrw_53bdZc"
   },
   "outputs": [],
   "source": [
    "# 4.What is the most common name?\n",
    "names_series.value_counts().index[0]"
   ]
  },
  {
   "cell_type": "code",
   "execution_count": null,
   "metadata": {
    "id": "F4tSNtX0bdZc"
   },
   "outputs": [],
   "source": [
    "# 5. Which is the longest name? (print only one if there are multiple names with the same length).\n",
    "names_series.str.len().sort_values(ascending=False).index[0]"
   ]
  },
  {
   "cell_type": "code",
   "execution_count": null,
   "metadata": {
    "id": "pTVOmoMJ9SWj"
   },
   "outputs": [],
   "source": [
    "names_series.apply(len).sort_values(ascending=False).index[0]"
   ]
  },
  {
   "cell_type": "markdown",
   "metadata": {
    "id": "GDfzedcT8yv4"
   },
   "source": [
    "> **Your turn 2:** <br/> \n",
    "Homework 18/7/2024\n",
    "\n",
    "Import the data from the file *english words.txt* (available [here](https://drive.google.com/drive/folders/1KQXg5CpZ8u59ybkvOnFPzo_WaLHxek_g?usp=sharing)), using the command `pd.read_csv('english words.txt').squeeze=()` and follow the next questions and tasks:\n",
    ">* Task 1: How many words are listed in the file? Consider that there may be NaNs among the words...\n",
    ">* Task 2: Find the longest words in the file.\n",
    ">* Task 3: Find all the words which are palindromes."
   ]
  },
  {
   "cell_type": "code",
   "execution_count": null,
   "metadata": {
    "id": "Eq0ncCYEHVYx"
   },
   "outputs": [],
   "source": [
    "words = pd.read_csv('english words.txt', header=None).squeeze()"
   ]
  },
  {
   "cell_type": "code",
   "execution_count": null,
   "metadata": {},
   "outputs": [],
   "source": [
    "words.sample(5)"
   ]
  },
  {
   "cell_type": "code",
   "execution_count": null,
   "metadata": {},
   "outputs": [],
   "source": [
    "# Task 1: How many words are listed in the file? Consider that there may be NaNs among the words...\n",
    "\n",
    "words[words.isnull()] # How many NaNs in the set # words.isnull() is used as selection criteria"
   ]
  },
  {
   "cell_type": "code",
   "execution_count": null,
   "metadata": {},
   "outputs": [],
   "source": [
    "# Words not null\n",
    "len(words) - len(words[words.isnull()])"
   ]
  },
  {
   "cell_type": "code",
   "execution_count": null,
   "metadata": {},
   "outputs": [],
   "source": [
    "# Words not null - optimal option\n",
    "words.count()"
   ]
  },
  {
   "cell_type": "code",
   "execution_count": null,
   "metadata": {},
   "outputs": [],
   "source": [
    "# remove the null values\n",
    "words = words.loc[words.notnull()]\n",
    "len(words)"
   ]
  },
  {
   "cell_type": "code",
   "execution_count": null,
   "metadata": {},
   "outputs": [],
   "source": [
    "# Task 2: Find the longest words in the file.\n",
    "words.loc[words.str.len() == words.str.len().max()]"
   ]
  },
  {
   "cell_type": "code",
   "execution_count": null,
   "metadata": {},
   "outputs": [],
   "source": [
    "# Task 3: Find all the words which are palindromes.\n",
    "\n",
    "def reverse_word(word):\n",
    "    return word[::-1]\n",
    "\n",
    "# Assuming words is a pandas Series\n",
    "words_series = pd.Series(words)\n",
    "\n",
    "# Ensure all elements are strings\n",
    "words_series = words_series.astype(str)\n",
    "\n",
    "# Create a series of reversed words\n",
    "# words_reversed = words_series.apply(lambda word: word[::-1]) # shortcut way\n",
    "words_reversed = words.apply(reverse_word)\n",
    "words_reversed"
   ]
  },
  {
   "cell_type": "code",
   "execution_count": null,
   "metadata": {},
   "outputs": [],
   "source": [
    "words == words_reversed # camparing element in serious - vector actions"
   ]
  },
  {
   "cell_type": "code",
   "execution_count": null,
   "metadata": {},
   "outputs": [],
   "source": [
    "words[words == words_reversed]"
   ]
  },
  {
   "cell_type": "code",
   "execution_count": null,
   "metadata": {},
   "outputs": [],
   "source": [
    "# Assuming words_series is your pandas Series\n",
    "data_types = words_series.apply(lambda x: type(x))\n",
    "print(data_types)"
   ]
  },
  {
   "cell_type": "code",
   "execution_count": null,
   "metadata": {},
   "outputs": [],
   "source": [
    "# What if we wanted only 4 letters or longer palindromes:\n",
    "(words == words_reversed) & (words.str.len() >= 4)"
   ]
  },
  {
   "cell_type": "code",
   "execution_count": null,
   "metadata": {},
   "outputs": [],
   "source": [
    "words.loc[(words == words_reversed) & (words.str.len() >= 4)]"
   ]
  },
  {
   "cell_type": "markdown",
   "metadata": {
    "id": "tUhQy79sbdZd",
    "tags": []
   },
   "source": [
    "### Solution"
   ]
  },
  {
   "cell_type": "code",
   "execution_count": null,
   "metadata": {
    "id": "CidzKjB4ZDyz"
   },
   "outputs": [],
   "source": [
    "words.sample(5)"
   ]
  },
  {
   "cell_type": "code",
   "execution_count": null,
   "metadata": {
    "id": "OQGgFWSaZDy2"
   },
   "outputs": [],
   "source": [
    "# Task 1: How many words are listed in the file? Note there are some missing entries and clean them...\n",
    "words[words.isnull()]"
   ]
  },
  {
   "cell_type": "code",
   "execution_count": null,
   "metadata": {
    "id": "oob-B7ACZDy3"
   },
   "outputs": [],
   "source": [
    "len(words) - len(words[words.isnull()])"
   ]
  },
  {
   "cell_type": "code",
   "execution_count": null,
   "metadata": {
    "id": "wX9rOjBf8gpi"
   },
   "outputs": [],
   "source": [
    "# Another option\n",
    "len(words.loc[~words.isnull()])\n",
    "# len(words.loc[words.notnull()])"
   ]
  },
  {
   "cell_type": "code",
   "execution_count": null,
   "metadata": {
    "id": "cWHHrNwd9BPt"
   },
   "outputs": [],
   "source": [
    "# Yet another option\n",
    "words.loc[words.notnull()].shape"
   ]
  },
  {
   "cell_type": "code",
   "execution_count": null,
   "metadata": {
    "id": "qgCUt17-L_wP"
   },
   "outputs": [],
   "source": [
    "# And another\n",
    "words.count()"
   ]
  },
  {
   "cell_type": "code",
   "execution_count": null,
   "metadata": {
    "id": "KI8HIHWA9tXK"
   },
   "outputs": [],
   "source": [
    "# Remove the null values\n",
    "words = words.loc[words.notnull()]\n",
    "len(words)"
   ]
  },
  {
   "cell_type": "code",
   "execution_count": null,
   "metadata": {
    "id": "l8fimmTO9u9A"
   },
   "outputs": [],
   "source": [
    "# Task 2: Find the longest words in the file and\n",
    "\n",
    "# The length of the longest word\n",
    "words.str.len().max()"
   ]
  },
  {
   "cell_type": "code",
   "execution_count": null,
   "metadata": {
    "id": "_3yl9ti5Aqc8"
   },
   "outputs": [],
   "source": [
    "# Boolean mask finding all the words of the \"longest word\" length\n",
    "words.str.len() == words.str.len().max()"
   ]
  },
  {
   "cell_type": "code",
   "execution_count": null,
   "metadata": {
    "id": "jDgK2t1OBEVJ"
   },
   "outputs": [],
   "source": [
    "# Retrieve only the longest words\n",
    "words.loc[words.str.len() == words.str.len().max()]"
   ]
  },
  {
   "cell_type": "code",
   "execution_count": null,
   "metadata": {
    "id": "Yptea133ZDy8"
   },
   "outputs": [],
   "source": [
    "# Task 3: Find all the words which are palindromes.\n",
    "\n",
    "# Create a series of reversed words\n",
    "words_reversed = words.apply(lambda word: word[::-1])\n",
    "words_reversed"
   ]
  },
  {
   "cell_type": "code",
   "execution_count": null,
   "metadata": {
    "id": "fcXZW3GVvn3Z"
   },
   "outputs": [],
   "source": [
    "# Boolean mask for words which are the same as their reversed counterparts.\n",
    "words == words_reversed"
   ]
  },
  {
   "cell_type": "code",
   "execution_count": null,
   "metadata": {
    "id": "0g2s6YvrvvGB"
   },
   "outputs": [],
   "source": [
    "words[words == words_reversed]"
   ]
  },
  {
   "cell_type": "code",
   "execution_count": null,
   "metadata": {
    "id": "mEuiv95_ZDy8"
   },
   "outputs": [],
   "source": [
    "# Option 2\n",
    "words.loc[words == words.apply(lambda word: word[::-1])]"
   ]
  },
  {
   "cell_type": "code",
   "execution_count": null,
   "metadata": {
    "id": "_DHpYY1pQYtn"
   },
   "outputs": [],
   "source": [
    "# What if we wanted only 4 letters or longer palindromes?\n",
    "\n",
    "(words == words_reversed) & (words.str.len() >= 4)"
   ]
  },
  {
   "cell_type": "code",
   "execution_count": null,
   "metadata": {
    "id": "_HMKCUmPQme2"
   },
   "outputs": [],
   "source": [
    "words.loc[(words == words_reversed) & (words.str.len() >= 4)]"
   ]
  },
  {
   "cell_type": "markdown",
   "metadata": {
    "id": "m31K-bLpmYfd",
    "tags": []
   },
   "source": [
    "## @@@ Extras"
   ]
  },
  {
   "cell_type": "code",
   "execution_count": null,
   "metadata": {
    "id": "uNiEz7DxmYfh"
   },
   "outputs": [],
   "source": [
    "# Binning - categorizing numeric value ranges\n",
    "customer_ages = pd.Series([18, 27, 83, 41, 15, 38, 62, 77, 25, 34, 46])\n",
    "# Function cut does not depend on series\n",
    "customer_age_groups = pd.cut(\n",
    "    customer_ages,\n",
    "    bins=[0, 18, 30, 60, 120],\n",
    "    labels=[\"underage\", \"young adult\", \"adult\", \"senior\"]\n",
    ")\n",
    "customer_age_groups"
   ]
  },
  {
   "cell_type": "code",
   "execution_count": 129,
   "metadata": {
    "id": "OBQxm0XToMrB"
   },
   "outputs": [
    {
     "ename": "NameError",
     "evalue": "name 'customer_age_groups' is not defined",
     "output_type": "error",
     "traceback": [
      "\u001b[1;31m---------------------------------------------------------------------------\u001b[0m",
      "\u001b[1;31mNameError\u001b[0m                                 Traceback (most recent call last)",
      "\u001b[1;32m~\\AppData\\Local\\Temp/ipykernel_10280/2065267598.py\u001b[0m in \u001b[0;36m<module>\u001b[1;34m\u001b[0m\n\u001b[0;32m      1\u001b[0m \u001b[1;31m# Panda's \"in\" operator - look for a value in a list of other values\u001b[0m\u001b[1;33m\u001b[0m\u001b[1;33m\u001b[0m\u001b[0m\n\u001b[1;32m----> 2\u001b[1;33m \u001b[0mcan_sell_to\u001b[0m \u001b[1;33m=\u001b[0m \u001b[0mcustomer_age_groups\u001b[0m\u001b[1;33m.\u001b[0m\u001b[0misin\u001b[0m\u001b[1;33m(\u001b[0m\u001b[1;33m[\u001b[0m\u001b[1;34m\"young adult\"\u001b[0m\u001b[1;33m,\u001b[0m \u001b[1;34m\"adult\"\u001b[0m\u001b[1;33m,\u001b[0m \u001b[1;34m\"senior\"\u001b[0m\u001b[1;33m]\u001b[0m\u001b[1;33m)\u001b[0m\u001b[1;33m\u001b[0m\u001b[1;33m\u001b[0m\u001b[0m\n\u001b[0m\u001b[0;32m      3\u001b[0m \u001b[0mcan_sell_to\u001b[0m\u001b[1;33m\u001b[0m\u001b[1;33m\u001b[0m\u001b[0m\n",
      "\u001b[1;31mNameError\u001b[0m: name 'customer_age_groups' is not defined"
     ]
    }
   ],
   "source": [
    "# Panda's \"in\" operator - look for a value in a list of other values\n",
    "can_sell_to = customer_age_groups.isin([\"young adult\", \"adult\", \"senior\"])\n",
    "can_sell_to"
   ]
  },
  {
   "cell_type": "code",
   "execution_count": null,
   "metadata": {
    "id": "VvBzZuvPyp05"
   },
   "outputs": [],
   "source": [
    "customer_age_groups[can_sell_to]"
   ]
  },
  {
   "cell_type": "markdown",
   "metadata": {
    "id": "RyIpCOXpr8Qn",
    "tags": []
   },
   "source": [
    "# The _DataFrame_ class"
   ]
  },
  {
   "cell_type": "markdown",
   "metadata": {
    "id": "3ah1eqAPaZS9"
   },
   "source": [
    "## Basics"
   ]
  },
  {
   "cell_type": "markdown",
   "metadata": {
    "id": "xmWf5waOr8Qn"
   },
   "source": [
    "The _DataFrame_ is the primary _pandas_ data structure, and can be thought of as a dict-like container for _Series_ objects. _DataFrame_ objects have many attributes and support many methods, which are all documented alphabetically [here][1] and by subject [here][2].\n",
    "\n",
    "Like in the _Series_ objects, the rows are labeled by the **_index_**, but for DataFrames there is another labeling for the columns, called **columns** (which is also an instance of the _Index_ class). If either is not specified, then the elements are labeled by the regular row-counter.\n",
    "\n",
    "Most of the fundamental functionalities of _DataFrames_ are similar to those of the _Series_, so we will suffice with a short demonstration.\n",
    "\n",
    "[1]: http://pandas.pydata.org/pandas-docs/stable/generated/pandas.DataFrame.html#pandas.DataFrame \"DataFrame API documentation A-Z\"\n",
    "[2]: http://pandas.pydata.org/pandas-docs/stable/api.html#dataframe \"DataFrame API documentation\""
   ]
  },
  {
   "cell_type": "code",
   "execution_count": null,
   "metadata": {
    "id": "K--7i7Bgr8Qo"
   },
   "outputs": [],
   "source": [
    "dudes_names = pd.Series(['Avi', 'Ben', 'Avi', 'Dor', 'Hen'])\n",
    "dudes_ages = pd.Series([32, 34, 21, 53, 19])\n",
    "dudes_married = pd.Series([True, False, False, True, True])"
   ]
  },
  {
   "cell_type": "code",
   "execution_count": null,
   "metadata": {
    "id": "Cs_7NIU3r8Qu"
   },
   "outputs": [],
   "source": [
    "data = {'Name': dudes_names,\n",
    "        'Age': dudes_ages,\n",
    "        'is_married': dudes_married}"
   ]
  },
  {
   "cell_type": "code",
   "execution_count": null,
   "metadata": {
    "id": "MPTNUSBur8Qv"
   },
   "outputs": [],
   "source": [
    "df = pd.DataFrame(data)\n",
    "df.head()"
   ]
  },
  {
   "cell_type": "code",
   "execution_count": null,
   "metadata": {
    "id": "zZGdEttf_ldw"
   },
   "outputs": [],
   "source": [
    "df.columns"
   ]
  },
  {
   "cell_type": "code",
   "execution_count": null,
   "metadata": {
    "id": "ufC-NCgS_lKy"
   },
   "outputs": [],
   "source": [
    "df.index"
   ]
  },
  {
   "cell_type": "code",
   "execution_count": null,
   "metadata": {
    "id": "NXJDpcwiAbyQ"
   },
   "outputs": [],
   "source": [
    "df * 2"
   ]
  },
  {
   "cell_type": "code",
   "execution_count": null,
   "metadata": {
    "id": "ncYb5p24RIuC"
   },
   "outputs": [],
   "source": [
    "df[\"Name\"] # defalut index of column"
   ]
  },
  {
   "cell_type": "code",
   "execution_count": null,
   "metadata": {
    "id": "dAYNAHsWRo1T"
   },
   "outputs": [],
   "source": [
    "df.Name"
   ]
  },
  {
   "cell_type": "code",
   "execution_count": 130,
   "metadata": {
    "id": "RrF2XQ2PQKE2"
   },
   "outputs": [
    {
     "ename": "NameError",
     "evalue": "name 'df' is not defined",
     "output_type": "error",
     "traceback": [
      "\u001b[1;31m---------------------------------------------------------------------------\u001b[0m",
      "\u001b[1;31mNameError\u001b[0m                                 Traceback (most recent call last)",
      "\u001b[1;32m~\\AppData\\Local\\Temp/ipykernel_10280/1979556937.py\u001b[0m in \u001b[0;36m<module>\u001b[1;34m\u001b[0m\n\u001b[1;32m----> 1\u001b[1;33m \u001b[1;36m2024\u001b[0m \u001b[1;33m-\u001b[0m \u001b[0mdf\u001b[0m\u001b[1;33m[\u001b[0m\u001b[1;34m'Age'\u001b[0m\u001b[1;33m]\u001b[0m \u001b[1;31m#\u001b[0m\u001b[1;33m\u001b[0m\u001b[1;33m\u001b[0m\u001b[0m\n\u001b[0m",
      "\u001b[1;31mNameError\u001b[0m: name 'df' is not defined"
     ]
    }
   ],
   "source": [
    "2024 - df['Age'] # "
   ]
  },
  {
   "cell_type": "code",
   "execution_count": null,
   "metadata": {},
   "outputs": [],
   "source": []
  },
  {
   "cell_type": "code",
   "execution_count": null,
   "metadata": {
    "id": "zcbS_NJAAs_R"
   },
   "outputs": [],
   "source": [
    "df['birth year'] = 2024 - df['Age'] # calculated column # create new column"
   ]
  },
  {
   "cell_type": "code",
   "execution_count": null,
   "metadata": {
    "id": "8ddM8FzIQUzS"
   },
   "outputs": [],
   "source": [
    "df"
   ]
  },
  {
   "cell_type": "code",
   "execution_count": null,
   "metadata": {
    "id": "iDKdVYwiR0cD"
   },
   "outputs": [],
   "source": [
    "df[\"birth year\"] # the result in format series"
   ]
  },
  {
   "cell_type": "code",
   "execution_count": null,
   "metadata": {
    "id": "N80CrnpoSMUC"
   },
   "outputs": [],
   "source": [
    "~df['is_married']"
   ]
  },
  {
   "cell_type": "code",
   "execution_count": 131,
   "metadata": {
    "id": "k7yefeC_Awmx"
   },
   "outputs": [
    {
     "ename": "NameError",
     "evalue": "name 'df' is not defined",
     "output_type": "error",
     "traceback": [
      "\u001b[1;31m---------------------------------------------------------------------------\u001b[0m",
      "\u001b[1;31mNameError\u001b[0m                                 Traceback (most recent call last)",
      "\u001b[1;32m~\\AppData\\Local\\Temp/ipykernel_10280/3658254228.py\u001b[0m in \u001b[0;36m<module>\u001b[1;34m\u001b[0m\n\u001b[1;32m----> 1\u001b[1;33m \u001b[0mdf\u001b[0m\u001b[1;33m[\u001b[0m\u001b[1;34m'is_single'\u001b[0m\u001b[1;33m]\u001b[0m \u001b[1;33m=\u001b[0m \u001b[1;33m~\u001b[0m\u001b[0mdf\u001b[0m\u001b[1;33m[\u001b[0m\u001b[1;34m'is_married'\u001b[0m\u001b[1;33m]\u001b[0m\u001b[1;33m\u001b[0m\u001b[1;33m\u001b[0m\u001b[0m\n\u001b[0m",
      "\u001b[1;31mNameError\u001b[0m: name 'df' is not defined"
     ]
    }
   ],
   "source": [
    "df['is_single'] = ~df['is_married']"
   ]
  },
  {
   "cell_type": "code",
   "execution_count": null,
   "metadata": {},
   "outputs": [],
   "source": [
    "df"
   ]
  },
  {
   "cell_type": "code",
   "execution_count": null,
   "metadata": {
    "id": "qaQfhf2tSf-R"
   },
   "outputs": [],
   "source": [
    "df[\"new_age\"] = df.Age / 2 # new column"
   ]
  },
  {
   "cell_type": "code",
   "execution_count": null,
   "metadata": {
    "id": "b9LmUuV8SsnD"
   },
   "outputs": [],
   "source": [
    "df['Age'] + df['new_age']"
   ]
  },
  {
   "cell_type": "code",
   "execution_count": null,
   "metadata": {
    "id": "ous2qRcwA-YA"
   },
   "outputs": [],
   "source": [
    "df['age+new_age'] = df.Age + df['new_age']"
   ]
  },
  {
   "cell_type": "code",
   "execution_count": 132,
   "metadata": {
    "id": "PvtT-ZMb_sRo"
   },
   "outputs": [
    {
     "ename": "NameError",
     "evalue": "name 'df' is not defined",
     "output_type": "error",
     "traceback": [
      "\u001b[1;31m---------------------------------------------------------------------------\u001b[0m",
      "\u001b[1;31mNameError\u001b[0m                                 Traceback (most recent call last)",
      "\u001b[1;32m~\\AppData\\Local\\Temp/ipykernel_10280/525018039.py\u001b[0m in \u001b[0;36m<module>\u001b[1;34m\u001b[0m\n\u001b[1;32m----> 1\u001b[1;33m \u001b[0mdf\u001b[0m\u001b[1;33m[\u001b[0m\u001b[1;34m\"Age\"\u001b[0m\u001b[1;33m]\u001b[0m\u001b[1;33m\u001b[0m\u001b[1;33m\u001b[0m\u001b[0m\n\u001b[0m",
      "\u001b[1;31mNameError\u001b[0m: name 'df' is not defined"
     ]
    }
   ],
   "source": [
    "df[\"Age\"]"
   ]
  },
  {
   "cell_type": "code",
   "execution_count": null,
   "metadata": {
    "id": "ktSyg_E3S4-4"
   },
   "outputs": [],
   "source": [
    "df[\"stam\"] = [111, 222, 333, 444, 555]"
   ]
  },
  {
   "cell_type": "code",
   "execution_count": null,
   "metadata": {
    "id": "0NstYSOcTA5S"
   },
   "outputs": [],
   "source": [
    "df"
   ]
  },
  {
   "cell_type": "code",
   "execution_count": null,
   "metadata": {
    "id": "DXz6IdXGSKoq"
   },
   "outputs": [],
   "source": [
    "(df['Age'] > 23) & (df['new_age'] < 100)"
   ]
  },
  {
   "cell_type": "code",
   "execution_count": null,
   "metadata": {
    "id": "1NXSBqk-BRiR"
   },
   "outputs": [],
   "source": [
    "df[(df['Age'] > 23) & (df['new_age'] < 100)] # bolean masks in data frame results rows\n",
    "# & -> and\n",
    "# | -> or\n",
    "# =\n",
    "# != -> not ="
   ]
  },
  {
   "cell_type": "markdown",
   "metadata": {
    "id": "Wa2KeYt0BTXW"
   },
   "source": [
    "> **Note:** Most of the time you will not have to construct a DataFrame yourself, rather it will be uploaded from some data resource, e.g. file or database."
   ]
  },
  {
   "cell_type": "markdown",
   "metadata": {
    "id": "HB7grXj_r8Qx"
   },
   "source": [
    "Adding columns is as simple as adding an item to a dictionary..."
   ]
  },
  {
   "cell_type": "code",
   "execution_count": null,
   "metadata": {
    "id": "CuZp2Xd-r8Qy",
    "tags": []
   },
   "outputs": [],
   "source": [
    "df['birth year'] = 2021 - df['Age']\n",
    "df"
   ]
  },
  {
   "cell_type": "markdown",
   "metadata": {
    "id": "g5ub_gPl-mZW"
   },
   "source": [
    "### Axis"
   ]
  },
  {
   "cell_type": "code",
   "execution_count": 133,
   "metadata": {
    "id": "rtfgPNd--lds"
   },
   "outputs": [
    {
     "data": {
      "text/html": [
       "<div>\n",
       "<style scoped>\n",
       "    .dataframe tbody tr th:only-of-type {\n",
       "        vertical-align: middle;\n",
       "    }\n",
       "\n",
       "    .dataframe tbody tr th {\n",
       "        vertical-align: top;\n",
       "    }\n",
       "\n",
       "    .dataframe thead th {\n",
       "        text-align: right;\n",
       "    }\n",
       "</style>\n",
       "<table border=\"1\" class=\"dataframe\">\n",
       "  <thead>\n",
       "    <tr style=\"text-align: right;\">\n",
       "      <th></th>\n",
       "      <th>0</th>\n",
       "      <th>1</th>\n",
       "      <th>2</th>\n",
       "    </tr>\n",
       "  </thead>\n",
       "  <tbody>\n",
       "    <tr>\n",
       "      <th>0</th>\n",
       "      <td>1</td>\n",
       "      <td>2</td>\n",
       "      <td>3</td>\n",
       "    </tr>\n",
       "    <tr>\n",
       "      <th>1</th>\n",
       "      <td>10</td>\n",
       "      <td>20</td>\n",
       "      <td>30</td>\n",
       "    </tr>\n",
       "    <tr>\n",
       "      <th>2</th>\n",
       "      <td>100</td>\n",
       "      <td>200</td>\n",
       "      <td>300</td>\n",
       "    </tr>\n",
       "  </tbody>\n",
       "</table>\n",
       "</div>"
      ],
      "text/plain": [
       "     0    1    2\n",
       "0    1    2    3\n",
       "1   10   20   30\n",
       "2  100  200  300"
      ]
     },
     "execution_count": 133,
     "metadata": {},
     "output_type": "execute_result"
    }
   ],
   "source": [
    "dfx = pd.DataFrame(\n",
    "    [\n",
    "        [1,2,3],\n",
    "        [10, 20, 30],\n",
    "        [100, 200, 300]\n",
    "    ]\n",
    ")\n",
    "dfx"
   ]
  },
  {
   "cell_type": "code",
   "execution_count": 134,
   "metadata": {
    "id": "rcRhaDt1-9IE"
   },
   "outputs": [
    {
     "data": {
      "text/plain": [
       "0    111\n",
       "1    222\n",
       "2    333\n",
       "dtype: int64"
      ]
     },
     "execution_count": 134,
     "metadata": {},
     "output_type": "execute_result"
    }
   ],
   "source": [
    "# Axis 0 - operate on the COLUMNS\n",
    "dfx.sum(axis=0) # default, agregate values in columns"
   ]
  },
  {
   "cell_type": "code",
   "execution_count": 135,
   "metadata": {
    "id": "ZvBEY5RO_aT-"
   },
   "outputs": [
    {
     "data": {
      "text/plain": [
       "0      6\n",
       "1     60\n",
       "2    600\n",
       "dtype: int64"
      ]
     },
     "execution_count": 135,
     "metadata": {},
     "output_type": "execute_result"
    }
   ],
   "source": [
    "# Axis 1 - operate on the ROWS\n",
    "dfx.sum(axis=1) # agregate values in rows"
   ]
  },
  {
   "cell_type": "markdown",
   "metadata": {
    "id": "v20E84fer8Q0"
   },
   "source": [
    "## Important attributes"
   ]
  },
  {
   "cell_type": "markdown",
   "metadata": {
    "id": "0dc3qm8Jr8Q6"
   },
   "source": [
    "Note that just like the intuitive rows index is an `Index` instance, the `columns` attribute is also an `Index` instance. If we choose a single row, we get a `Series` object whose index is `df.columns`."
   ]
  },
  {
   "cell_type": "code",
   "execution_count": 136,
   "metadata": {
    "id": "z9k7M3FVr8Q0"
   },
   "outputs": [
    {
     "ename": "NameError",
     "evalue": "name 'df' is not defined",
     "output_type": "error",
     "traceback": [
      "\u001b[1;31m---------------------------------------------------------------------------\u001b[0m",
      "\u001b[1;31mNameError\u001b[0m                                 Traceback (most recent call last)",
      "\u001b[1;32m~\\AppData\\Local\\Temp/ipykernel_10280/662266792.py\u001b[0m in \u001b[0;36m<module>\u001b[1;34m\u001b[0m\n\u001b[1;32m----> 1\u001b[1;33m \u001b[0mdf\u001b[0m\u001b[1;33m.\u001b[0m\u001b[0mindex\u001b[0m\u001b[1;33m\u001b[0m\u001b[1;33m\u001b[0m\u001b[0m\n\u001b[0m",
      "\u001b[1;31mNameError\u001b[0m: name 'df' is not defined"
     ]
    }
   ],
   "source": [
    "df.index"
   ]
  },
  {
   "cell_type": "code",
   "execution_count": null,
   "metadata": {
    "id": "aaIiFSbXr8Q4"
   },
   "outputs": [],
   "source": [
    "df.columns"
   ]
  },
  {
   "cell_type": "code",
   "execution_count": null,
   "metadata": {
    "id": "6Y6Odp5zEpT1",
    "tags": []
   },
   "outputs": [],
   "source": [
    "df.shape # the result is tuple with 2 values"
   ]
  },
  {
   "cell_type": "markdown",
   "metadata": {
    "id": "SslU0pKU9SWr",
    "tags": []
   },
   "source": [
    "## Indexing and selecting data"
   ]
  },
  {
   "cell_type": "code",
   "execution_count": null,
   "metadata": {},
   "outputs": [],
   "source": [
    "df.Age"
   ]
  },
  {
   "cell_type": "code",
   "execution_count": null,
   "metadata": {
    "id": "U3knemboEIPg"
   },
   "outputs": [],
   "source": [
    "# Select a subset of columns\n",
    "df[[\"Age\",\"is_married\"]] # list of columns result new data frame with selected columns"
   ]
  },
  {
   "cell_type": "code",
   "execution_count": null,
   "metadata": {
    "id": "cpOMqau5VIXK"
   },
   "outputs": [],
   "source": [
    "# Select rows by index values range\n",
    "df.loc[1:3]"
   ]
  },
  {
   "cell_type": "code",
   "execution_count": null,
   "metadata": {
    "id": "E1_Pe2zgV2yO"
   },
   "outputs": [],
   "source": [
    "# Filter by: rows index range and a single column\n",
    "df.loc[1:3, \"Age\"] # the result is series"
   ]
  },
  {
   "cell_type": "code",
   "execution_count": null,
   "metadata": {
    "id": "l7VzzJU3V8GH"
   },
   "outputs": [],
   "source": [
    "# Filter by: rows index range and multiple columns\n",
    "df.loc[1:3, [\"Age\", \"is_married\"]]"
   ]
  },
  {
   "cell_type": "code",
   "execution_count": 137,
   "metadata": {
    "id": "vM936ROIWCvP"
   },
   "outputs": [
    {
     "ename": "NameError",
     "evalue": "name 'df' is not defined",
     "output_type": "error",
     "traceback": [
      "\u001b[1;31m---------------------------------------------------------------------------\u001b[0m",
      "\u001b[1;31mNameError\u001b[0m                                 Traceback (most recent call last)",
      "\u001b[1;32m~\\AppData\\Local\\Temp/ipykernel_10280/2508304245.py\u001b[0m in \u001b[0;36m<module>\u001b[1;34m\u001b[0m\n\u001b[0;32m      1\u001b[0m \u001b[1;31m# Filter by: arbitrary rows indexes and multiple columns\u001b[0m\u001b[1;33m\u001b[0m\u001b[1;33m\u001b[0m\u001b[0m\n\u001b[1;32m----> 2\u001b[1;33m \u001b[0mdf\u001b[0m\u001b[1;33m.\u001b[0m\u001b[0mloc\u001b[0m\u001b[1;33m[\u001b[0m\u001b[1;33m[\u001b[0m\u001b[1;36m2\u001b[0m\u001b[1;33m,\u001b[0m \u001b[1;36m0\u001b[0m\u001b[1;33m,\u001b[0m \u001b[1;36m3\u001b[0m\u001b[1;33m]\u001b[0m\u001b[1;33m,\u001b[0m \u001b[1;33m[\u001b[0m\u001b[1;34m\"Age\"\u001b[0m\u001b[1;33m,\u001b[0m \u001b[1;34m\"is_married\"\u001b[0m\u001b[1;33m]\u001b[0m\u001b[1;33m]\u001b[0m \u001b[1;31m# this index so it's inclusive\u001b[0m\u001b[1;33m\u001b[0m\u001b[1;33m\u001b[0m\u001b[0m\n\u001b[0m",
      "\u001b[1;31mNameError\u001b[0m: name 'df' is not defined"
     ]
    }
   ],
   "source": [
    "# Filter by: arbitrary rows indexes and multiple columns\n",
    "df.loc[[2, 0, 3], [\"Age\", \"is_married\"]] # this index so it's inclusive"
   ]
  },
  {
   "cell_type": "code",
   "execution_count": null,
   "metadata": {
    "id": "Z3K-wFCAC0yq"
   },
   "outputs": [],
   "source": [
    "# Filter by: rows index range and columns range\n",
    "df.loc[:3, \"Age\":\"is_single\"]"
   ]
  },
  {
   "cell_type": "markdown",
   "metadata": {
    "id": "JPqkYua29SWs"
   },
   "source": [
    "Selection by location using `.iloc` is also available."
   ]
  },
  {
   "cell_type": "code",
   "execution_count": null,
   "metadata": {
    "id": "5V_YlkRs9SWs"
   },
   "outputs": [],
   "source": [
    "df.iloc[2:4, [0, 2]] # iloc is for location, so it exclusive"
   ]
  },
  {
   "cell_type": "markdown",
   "metadata": {
    "id": "j6IZlr9Ir8RC"
   },
   "source": [
    "## Common operations"
   ]
  },
  {
   "cell_type": "markdown",
   "metadata": {
    "id": "-WeTUZjAeuSK"
   },
   "source": [
    "DataFrames have [many methods](https://pandas.pydata.org/pandas-docs/stable/reference/frame.html), which are for many purposes. It is useful to think of them in \"families\", as grouped in the docs."
   ]
  },
  {
   "cell_type": "markdown",
   "metadata": {
    "id": "bvo64rZy9SWs"
   },
   "source": [
    "### `info()` and `describe()` (DataFrame overview)"
   ]
  },
  {
   "cell_type": "code",
   "execution_count": null,
   "metadata": {
    "id": "yHzomXfXr8RA"
   },
   "outputs": [],
   "source": [
    "df.info() # metadata about dataframe"
   ]
  },
  {
   "cell_type": "code",
   "execution_count": 138,
   "metadata": {
    "id": "ohKOdI_KXgV6"
   },
   "outputs": [
    {
     "ename": "NameError",
     "evalue": "name 'df' is not defined",
     "output_type": "error",
     "traceback": [
      "\u001b[1;31m---------------------------------------------------------------------------\u001b[0m",
      "\u001b[1;31mNameError\u001b[0m                                 Traceback (most recent call last)",
      "\u001b[1;32m~\\AppData\\Local\\Temp/ipykernel_10280/1704828547.py\u001b[0m in \u001b[0;36m<module>\u001b[1;34m\u001b[0m\n\u001b[1;32m----> 1\u001b[1;33m \u001b[0mdf\u001b[0m\u001b[1;33m.\u001b[0m\u001b[0mdescribe\u001b[0m\u001b[1;33m(\u001b[0m\u001b[1;33m)\u001b[0m \u001b[1;31m# descriptive statistics\u001b[0m\u001b[1;33m\u001b[0m\u001b[1;33m\u001b[0m\u001b[0m\n\u001b[0m",
      "\u001b[1;31mNameError\u001b[0m: name 'df' is not defined"
     ]
    }
   ],
   "source": [
    "df.describe() # descriptive statistics"
   ]
  },
  {
   "cell_type": "markdown",
   "metadata": {
    "id": "m_twf9-8r8RD"
   },
   "source": [
    "### `head()` and `tail()` (Indexing and iteration)"
   ]
  },
  {
   "cell_type": "markdown",
   "metadata": {
    "id": "jlobmkchr8RD"
   },
   "source": [
    "The methods _head()_ and _tail()_ print the first and last rows respectively of a DataFrame."
   ]
  },
  {
   "cell_type": "code",
   "execution_count": null,
   "metadata": {
    "id": "rbr6ir_fr8RD"
   },
   "outputs": [],
   "source": [
    "df.head()"
   ]
  },
  {
   "cell_type": "code",
   "execution_count": 139,
   "metadata": {
    "id": "s7gdzSpEr8RG"
   },
   "outputs": [
    {
     "ename": "NameError",
     "evalue": "name 'df' is not defined",
     "output_type": "error",
     "traceback": [
      "\u001b[1;31m---------------------------------------------------------------------------\u001b[0m",
      "\u001b[1;31mNameError\u001b[0m                                 Traceback (most recent call last)",
      "\u001b[1;32m~\\AppData\\Local\\Temp/ipykernel_10280/1716507674.py\u001b[0m in \u001b[0;36m<module>\u001b[1;34m\u001b[0m\n\u001b[1;32m----> 1\u001b[1;33m \u001b[0mdf\u001b[0m\u001b[1;33m.\u001b[0m\u001b[0mtail\u001b[0m\u001b[1;33m(\u001b[0m\u001b[1;36m3\u001b[0m\u001b[1;33m)\u001b[0m\u001b[1;33m\u001b[0m\u001b[1;33m\u001b[0m\u001b[0m\n\u001b[0m",
      "\u001b[1;31mNameError\u001b[0m: name 'df' is not defined"
     ]
    }
   ],
   "source": [
    "df.tail(3)"
   ]
  },
  {
   "cell_type": "code",
   "execution_count": null,
   "metadata": {
    "id": "sCWpWV_9OZ6C"
   },
   "outputs": [],
   "source": [
    "df.sample(3) # default is 1"
   ]
  },
  {
   "cell_type": "markdown",
   "metadata": {
    "id": "fcNzrkjwr8RI"
   },
   "source": [
    "### `set_index()` and `reset_index()` (Reindexing / selection / label manipulation)"
   ]
  },
  {
   "cell_type": "markdown",
   "metadata": {
    "id": "BXOfyh_kr8RI"
   },
   "source": [
    "`set_index()` allows to set the `DataFrame` index (row labels) using one or more existing columns."
   ]
  },
  {
   "cell_type": "code",
   "execution_count": null,
   "metadata": {
    "id": "ftmm1uqcGGwP"
   },
   "outputs": [],
   "source": [
    "df.head()"
   ]
  },
  {
   "cell_type": "code",
   "execution_count": null,
   "metadata": {
    "id": "Lz8RFU7gr8RJ"
   },
   "outputs": [],
   "source": [
    "df.set_index('Name', inplace=True, drop=True) # the coulmn 'Name' sets as index # index does not have to be unique"
   ]
  },
  {
   "cell_type": "code",
   "execution_count": 140,
   "metadata": {
    "id": "1Qc1PQ6Ybw77"
   },
   "outputs": [
    {
     "ename": "NameError",
     "evalue": "name 'df' is not defined",
     "output_type": "error",
     "traceback": [
      "\u001b[1;31m---------------------------------------------------------------------------\u001b[0m",
      "\u001b[1;31mNameError\u001b[0m                                 Traceback (most recent call last)",
      "\u001b[1;32m~\\AppData\\Local\\Temp/ipykernel_10280/3528875173.py\u001b[0m in \u001b[0;36m<module>\u001b[1;34m\u001b[0m\n\u001b[1;32m----> 1\u001b[1;33m \u001b[0mdf\u001b[0m\u001b[1;33m.\u001b[0m\u001b[0mloc\u001b[0m\u001b[1;33m[\u001b[0m\u001b[1;33m[\u001b[0m\u001b[1;34m\"Ben\"\u001b[0m\u001b[1;33m,\u001b[0m \u001b[1;34m\"Avi\"\u001b[0m\u001b[1;33m]\u001b[0m\u001b[1;33m,\u001b[0m \u001b[1;33m[\u001b[0m\u001b[1;34m\"Age\"\u001b[0m\u001b[1;33m,\u001b[0m \u001b[1;34m\"is_single\"\u001b[0m\u001b[1;33m]\u001b[0m\u001b[1;33m]\u001b[0m\u001b[1;33m\u001b[0m\u001b[1;33m\u001b[0m\u001b[0m\n\u001b[0m",
      "\u001b[1;31mNameError\u001b[0m: name 'df' is not defined"
     ]
    }
   ],
   "source": [
    "df.loc[[\"Ben\", \"Avi\"], [\"Age\", \"is_single\"]]"
   ]
  },
  {
   "cell_type": "markdown",
   "metadata": {
    "id": "aZSMt0_8r8RN"
   },
   "source": [
    "*reset_index()* reset the index, turn the index values to a column and generate a sequence of integers as index"
   ]
  },
  {
   "cell_type": "code",
   "execution_count": null,
   "metadata": {
    "id": "rB7j0dGsr8RN"
   },
   "outputs": [],
   "source": [
    "df.reset_index(inplace=True) # undo to original index\n",
    "df"
   ]
  },
  {
   "cell_type": "markdown",
   "metadata": {
    "id": "JiVJYourr8RR"
   },
   "source": [
    "### `read_csv()`"
   ]
  },
  {
   "cell_type": "markdown",
   "metadata": {
    "id": "EClxYYZ5r8RR"
   },
   "source": [
    "One of `pandas` greatest features is its wrappers for I/O operations with various file formats. The entire list is documented [here][1], but we will look here the most common method - [`read_csv()`][2].\n",
    "\n",
    "[1]: http://pandas.pydata.org/pandas-docs/stable/api.html#input-output \"DataFrame I/O documentation\"\n",
    "[2]: http://pandas.pydata.org/pandas-docs/stable/generated/pandas.read_csv.html \"read_csv() documentation\""
   ]
  },
  {
   "cell_type": "markdown",
   "metadata": {
    "id": "egyxdruOLaZy"
   },
   "source": [
    "> **Note:** For this example to run, the file 'dessert.csv' (available [here](https://drive.google.com/drive/folders/1KQXg5CpZ8u59ybkvOnFPzo_WaLHxek_g?usp=sharing)) should be uploaded to your local environment. If you run this notebook in Google Colab you may use the Upload option."
   ]
  },
  {
   "cell_type": "code",
   "execution_count": null,
   "metadata": {},
   "outputs": [],
   "source": [
    "!head dessert.csv"
   ]
  },
  {
   "cell_type": "code",
   "execution_count": 141,
   "metadata": {
    "id": "z5VQqTWrc0Re"
   },
   "outputs": [],
   "source": [
    "pd.read_csv?"
   ]
  },
  {
   "cell_type": "code",
   "execution_count": 142,
   "metadata": {
    "id": "1UswPtpVr8RS"
   },
   "outputs": [
    {
     "data": {
      "text/html": [
       "<div>\n",
       "<style scoped>\n",
       "    .dataframe tbody tr th:only-of-type {\n",
       "        vertical-align: middle;\n",
       "    }\n",
       "\n",
       "    .dataframe tbody tr th {\n",
       "        vertical-align: top;\n",
       "    }\n",
       "\n",
       "    .dataframe thead th {\n",
       "        text-align: right;\n",
       "    }\n",
       "</style>\n",
       "<table border=\"1\" class=\"dataframe\">\n",
       "  <thead>\n",
       "    <tr style=\"text-align: right;\">\n",
       "      <th></th>\n",
       "      <th>day.of.week</th>\n",
       "      <th>num.of.guests</th>\n",
       "      <th>hour</th>\n",
       "      <th>table</th>\n",
       "      <th>dessert</th>\n",
       "    </tr>\n",
       "    <tr>\n",
       "      <th>id</th>\n",
       "      <th></th>\n",
       "      <th></th>\n",
       "      <th></th>\n",
       "      <th></th>\n",
       "      <th></th>\n",
       "    </tr>\n",
       "  </thead>\n",
       "  <tbody>\n",
       "    <tr>\n",
       "      <th>1</th>\n",
       "      <td>Monday</td>\n",
       "      <td>2</td>\n",
       "      <td>evening</td>\n",
       "      <td>13</td>\n",
       "      <td>True</td>\n",
       "    </tr>\n",
       "    <tr>\n",
       "      <th>2</th>\n",
       "      <td>Saturday</td>\n",
       "      <td>4</td>\n",
       "      <td>night</td>\n",
       "      <td>19</td>\n",
       "      <td>True</td>\n",
       "    </tr>\n",
       "    <tr>\n",
       "      <th>3</th>\n",
       "      <td>Saturday</td>\n",
       "      <td>4</td>\n",
       "      <td>after-noon</td>\n",
       "      <td>12</td>\n",
       "      <td>False</td>\n",
       "    </tr>\n",
       "    <tr>\n",
       "      <th>4</th>\n",
       "      <td>Thursday</td>\n",
       "      <td>3</td>\n",
       "      <td>night</td>\n",
       "      <td>5</td>\n",
       "      <td>True</td>\n",
       "    </tr>\n",
       "    <tr>\n",
       "      <th>5</th>\n",
       "      <td>Monday</td>\n",
       "      <td>7</td>\n",
       "      <td>noon</td>\n",
       "      <td>10</td>\n",
       "      <td>True</td>\n",
       "    </tr>\n",
       "  </tbody>\n",
       "</table>\n",
       "</div>"
      ],
      "text/plain": [
       "   day.of.week  num.of.guests        hour  table  dessert\n",
       "id                                                       \n",
       "1       Monday              2     evening     13     True\n",
       "2     Saturday              4       night     19     True\n",
       "3     Saturday              4  after-noon     12    False\n",
       "4     Thursday              3       night      5     True\n",
       "5       Monday              7        noon     10     True"
      ]
     },
     "execution_count": 142,
     "metadata": {},
     "output_type": "execute_result"
    }
   ],
   "source": [
    "df = pd.read_csv(\"dessert.csv\", index_col='id')\n",
    "df.head()"
   ]
  },
  {
   "cell_type": "code",
   "execution_count": 143,
   "metadata": {
    "id": "BePrqmJsr8RU"
   },
   "outputs": [
    {
     "name": "stdout",
     "output_type": "stream",
     "text": [
      "<class 'pandas.core.frame.DataFrame'>\n",
      "Int64Index: 1000 entries, 1 to 1000\n",
      "Data columns (total 5 columns):\n",
      " #   Column         Non-Null Count  Dtype \n",
      "---  ------         --------------  ----- \n",
      " 0   day.of.week    1000 non-null   object\n",
      " 1   num.of.guests  1000 non-null   int64 \n",
      " 2   hour           1000 non-null   object\n",
      " 3   table          1000 non-null   int64 \n",
      " 4   dessert        1000 non-null   bool  \n",
      "dtypes: bool(1), int64(2), object(2)\n",
      "memory usage: 40.0+ KB\n"
     ]
    }
   ],
   "source": [
    "df.info()"
   ]
  },
  {
   "cell_type": "markdown",
   "metadata": {
    "id": "-jAA3QP3r8RW"
   },
   "source": [
    "> **NOTE:** `read_csv()` is a very powerful method. Note that many things are inferred automatically. In our example the header, the dtypes and the fact that the 'dessert' column is Boolean."
   ]
  },
  {
   "cell_type": "markdown",
   "metadata": {
    "id": "gG8aPaKpr8Ra"
   },
   "source": [
    "### `apply()` (Function application, GroupBy & window)"
   ]
  },
  {
   "cell_type": "markdown",
   "metadata": {
    "id": "bfdO-3Ifr8Rb"
   },
   "source": [
    "This method applies a function on every **row (or column)** of the data frame. The objects that are passed to the function (input argument) are Series objects (either a column or a row).\n",
    "\n",
    "The API is documented [here][1] and a detailed explanation on its usage ca be found [here][2].\n",
    "\n",
    "[1]: http://pandas.pydata.org/pandas-docs/stable/generated/pandas.DataFrame.apply.html \"DataFrame.apply() API\"\n",
    "[2]: http://pandas.pydata.org/pandas-docs/stable/basics.html#row-or-column-wise-function-application \"DataFrame.apply() documentation\""
   ]
  },
  {
   "cell_type": "code",
   "execution_count": 144,
   "metadata": {
    "id": "bWbz-W2Nr8Rb"
   },
   "outputs": [
    {
     "data": {
      "text/html": [
       "<div>\n",
       "<style scoped>\n",
       "    .dataframe tbody tr th:only-of-type {\n",
       "        vertical-align: middle;\n",
       "    }\n",
       "\n",
       "    .dataframe tbody tr th {\n",
       "        vertical-align: top;\n",
       "    }\n",
       "\n",
       "    .dataframe thead th {\n",
       "        text-align: right;\n",
       "    }\n",
       "</style>\n",
       "<table border=\"1\" class=\"dataframe\">\n",
       "  <thead>\n",
       "    <tr style=\"text-align: right;\">\n",
       "      <th></th>\n",
       "      <th>day.of.week</th>\n",
       "      <th>num.of.guests</th>\n",
       "      <th>hour</th>\n",
       "      <th>table</th>\n",
       "      <th>dessert</th>\n",
       "    </tr>\n",
       "    <tr>\n",
       "      <th>id</th>\n",
       "      <th></th>\n",
       "      <th></th>\n",
       "      <th></th>\n",
       "      <th></th>\n",
       "      <th></th>\n",
       "    </tr>\n",
       "  </thead>\n",
       "  <tbody>\n",
       "    <tr>\n",
       "      <th>1</th>\n",
       "      <td>Monday</td>\n",
       "      <td>2</td>\n",
       "      <td>evening</td>\n",
       "      <td>13</td>\n",
       "      <td>True</td>\n",
       "    </tr>\n",
       "    <tr>\n",
       "      <th>2</th>\n",
       "      <td>Saturday</td>\n",
       "      <td>4</td>\n",
       "      <td>night</td>\n",
       "      <td>19</td>\n",
       "      <td>True</td>\n",
       "    </tr>\n",
       "    <tr>\n",
       "      <th>3</th>\n",
       "      <td>Saturday</td>\n",
       "      <td>4</td>\n",
       "      <td>after-noon</td>\n",
       "      <td>12</td>\n",
       "      <td>False</td>\n",
       "    </tr>\n",
       "    <tr>\n",
       "      <th>4</th>\n",
       "      <td>Thursday</td>\n",
       "      <td>3</td>\n",
       "      <td>night</td>\n",
       "      <td>5</td>\n",
       "      <td>True</td>\n",
       "    </tr>\n",
       "    <tr>\n",
       "      <th>5</th>\n",
       "      <td>Monday</td>\n",
       "      <td>7</td>\n",
       "      <td>noon</td>\n",
       "      <td>10</td>\n",
       "      <td>True</td>\n",
       "    </tr>\n",
       "  </tbody>\n",
       "</table>\n",
       "</div>"
      ],
      "text/plain": [
       "   day.of.week  num.of.guests        hour  table  dessert\n",
       "id                                                       \n",
       "1       Monday              2     evening     13     True\n",
       "2     Saturday              4       night     19     True\n",
       "3     Saturday              4  after-noon     12    False\n",
       "4     Thursday              3       night      5     True\n",
       "5       Monday              7        noon     10     True"
      ]
     },
     "execution_count": 144,
     "metadata": {},
     "output_type": "execute_result"
    }
   ],
   "source": [
    "df.head()"
   ]
  },
  {
   "cell_type": "markdown",
   "metadata": {
    "id": "qXDBkE1fr8Re"
   },
   "source": [
    "By default, the given function is applied on each column."
   ]
  },
  {
   "cell_type": "code",
   "execution_count": 145,
   "metadata": {
    "id": "sWn53IH9eriM"
   },
   "outputs": [],
   "source": [
    "df.apply?"
   ]
  },
  {
   "cell_type": "code",
   "execution_count": 146,
   "metadata": {
    "id": "KjVU0qVqr8Re"
   },
   "outputs": [
    {
     "data": {
      "text/plain": [
       "day.of.week          Friday\n",
       "num.of.guests             1\n",
       "hour             after-noon\n",
       "table                     1\n",
       "dessert               False\n",
       "dtype: object"
      ]
     },
     "execution_count": 146,
     "metadata": {},
     "output_type": "execute_result"
    }
   ],
   "source": [
    "df.apply(min, axis=0) # default, agregation per column"
   ]
  },
  {
   "cell_type": "code",
   "execution_count": 147,
   "metadata": {
    "id": "vEBnIEiQe41C"
   },
   "outputs": [
    {
     "data": {
      "text/plain": [
       "day.of.week          Friday\n",
       "num.of.guests             1\n",
       "hour             after-noon\n",
       "table                     1\n",
       "dessert               False\n",
       "dtype: object"
      ]
     },
     "execution_count": 147,
     "metadata": {},
     "output_type": "execute_result"
    }
   ],
   "source": [
    "df.apply(min, axis=0) # default agregation per column, 1st argument is function's name"
   ]
  },
  {
   "cell_type": "markdown",
   "metadata": {
    "id": "rzlaDTiXr8Rh"
   },
   "source": [
    "As we saw above, when selecting a single row, we get a Series object which its Index is the `columns` attribute of the data frame.\n",
    "If we apply a function on the rows (using `axis=1`), we sometimes need to take it into account."
   ]
  },
  {
   "cell_type": "code",
   "execution_count": 148,
   "metadata": {
    "id": "lfEKw2HLr8Ri"
   },
   "outputs": [],
   "source": [
    "def is_weekend(row):\n",
    "\n",
    "    return row.loc['day.of.week'] in ['Friday', 'Saturday']\n",
    "    # same as:\n",
    "    # return row['day.of.week'] in ['Friday', 'Saturday']"
   ]
  },
  {
   "cell_type": "code",
   "execution_count": 149,
   "metadata": {
    "id": "NmxVinoo9SWv"
   },
   "outputs": [],
   "source": [
    "df['is_weekend'] = df.apply(is_weekend, axis=1)  # agregation per row, apply is_weekend on each row --> axis=1"
   ]
  },
  {
   "cell_type": "code",
   "execution_count": 150,
   "metadata": {
    "id": "qp68jxBqr8Rj"
   },
   "outputs": [
    {
     "data": {
      "text/html": [
       "<div>\n",
       "<style scoped>\n",
       "    .dataframe tbody tr th:only-of-type {\n",
       "        vertical-align: middle;\n",
       "    }\n",
       "\n",
       "    .dataframe tbody tr th {\n",
       "        vertical-align: top;\n",
       "    }\n",
       "\n",
       "    .dataframe thead th {\n",
       "        text-align: right;\n",
       "    }\n",
       "</style>\n",
       "<table border=\"1\" class=\"dataframe\">\n",
       "  <thead>\n",
       "    <tr style=\"text-align: right;\">\n",
       "      <th></th>\n",
       "      <th>day.of.week</th>\n",
       "      <th>num.of.guests</th>\n",
       "      <th>hour</th>\n",
       "      <th>table</th>\n",
       "      <th>dessert</th>\n",
       "      <th>is_weekend</th>\n",
       "    </tr>\n",
       "    <tr>\n",
       "      <th>id</th>\n",
       "      <th></th>\n",
       "      <th></th>\n",
       "      <th></th>\n",
       "      <th></th>\n",
       "      <th></th>\n",
       "      <th></th>\n",
       "    </tr>\n",
       "  </thead>\n",
       "  <tbody>\n",
       "    <tr>\n",
       "      <th>1</th>\n",
       "      <td>Monday</td>\n",
       "      <td>2</td>\n",
       "      <td>evening</td>\n",
       "      <td>13</td>\n",
       "      <td>True</td>\n",
       "      <td>False</td>\n",
       "    </tr>\n",
       "    <tr>\n",
       "      <th>2</th>\n",
       "      <td>Saturday</td>\n",
       "      <td>4</td>\n",
       "      <td>night</td>\n",
       "      <td>19</td>\n",
       "      <td>True</td>\n",
       "      <td>True</td>\n",
       "    </tr>\n",
       "    <tr>\n",
       "      <th>3</th>\n",
       "      <td>Saturday</td>\n",
       "      <td>4</td>\n",
       "      <td>after-noon</td>\n",
       "      <td>12</td>\n",
       "      <td>False</td>\n",
       "      <td>True</td>\n",
       "    </tr>\n",
       "    <tr>\n",
       "      <th>4</th>\n",
       "      <td>Thursday</td>\n",
       "      <td>3</td>\n",
       "      <td>night</td>\n",
       "      <td>5</td>\n",
       "      <td>True</td>\n",
       "      <td>False</td>\n",
       "    </tr>\n",
       "    <tr>\n",
       "      <th>5</th>\n",
       "      <td>Monday</td>\n",
       "      <td>7</td>\n",
       "      <td>noon</td>\n",
       "      <td>10</td>\n",
       "      <td>True</td>\n",
       "      <td>False</td>\n",
       "    </tr>\n",
       "  </tbody>\n",
       "</table>\n",
       "</div>"
      ],
      "text/plain": [
       "   day.of.week  num.of.guests        hour  table  dessert  is_weekend\n",
       "id                                                                   \n",
       "1       Monday              2     evening     13     True       False\n",
       "2     Saturday              4       night     19     True        True\n",
       "3     Saturday              4  after-noon     12    False        True\n",
       "4     Thursday              3       night      5     True       False\n",
       "5       Monday              7        noon     10     True       False"
      ]
     },
     "execution_count": 150,
     "metadata": {},
     "output_type": "execute_result"
    }
   ],
   "source": [
    "df.head()"
   ]
  },
  {
   "cell_type": "markdown",
   "metadata": {
    "id": "jEp0gjFfdbjR"
   },
   "source": [
    "> **Note:** `apply()` is the most common, but there are also `map()` and `applymap()`. On the difference between them you can read in [this SO answer](https://stackoverflow.com/a/19798528/3121900)."
   ]
  },
  {
   "cell_type": "markdown",
   "metadata": {
    "id": "qrnyuDrZr8Rl"
   },
   "source": [
    "### `drop()` (Reindexing / selection / label manipulation)"
   ]
  },
  {
   "cell_type": "markdown",
   "metadata": {
    "id": "5fnDXqM2r8Rl"
   },
   "source": [
    "The method [`drop()`][1] removes the specified rows/columns from the calling dataframe.\n",
    "\n",
    "[1]: http://pandas.pydata.org/pandas-docs/stable/generated/pandas.DataFrame.drop.html \"drop() API\""
   ]
  },
  {
   "cell_type": "code",
   "execution_count": 151,
   "metadata": {
    "id": "XP_-nNLejZc7"
   },
   "outputs": [
    {
     "data": {
      "text/html": [
       "<div>\n",
       "<style scoped>\n",
       "    .dataframe tbody tr th:only-of-type {\n",
       "        vertical-align: middle;\n",
       "    }\n",
       "\n",
       "    .dataframe tbody tr th {\n",
       "        vertical-align: top;\n",
       "    }\n",
       "\n",
       "    .dataframe thead th {\n",
       "        text-align: right;\n",
       "    }\n",
       "</style>\n",
       "<table border=\"1\" class=\"dataframe\">\n",
       "  <thead>\n",
       "    <tr style=\"text-align: right;\">\n",
       "      <th></th>\n",
       "      <th>day.of.week</th>\n",
       "      <th>num.of.guests</th>\n",
       "      <th>hour</th>\n",
       "      <th>table</th>\n",
       "      <th>dessert</th>\n",
       "      <th>is_weekend</th>\n",
       "    </tr>\n",
       "    <tr>\n",
       "      <th>id</th>\n",
       "      <th></th>\n",
       "      <th></th>\n",
       "      <th></th>\n",
       "      <th></th>\n",
       "      <th></th>\n",
       "      <th></th>\n",
       "    </tr>\n",
       "  </thead>\n",
       "  <tbody>\n",
       "    <tr>\n",
       "      <th>1</th>\n",
       "      <td>Monday</td>\n",
       "      <td>2</td>\n",
       "      <td>evening</td>\n",
       "      <td>13</td>\n",
       "      <td>True</td>\n",
       "      <td>False</td>\n",
       "    </tr>\n",
       "    <tr>\n",
       "      <th>2</th>\n",
       "      <td>Saturday</td>\n",
       "      <td>4</td>\n",
       "      <td>night</td>\n",
       "      <td>19</td>\n",
       "      <td>True</td>\n",
       "      <td>True</td>\n",
       "    </tr>\n",
       "    <tr>\n",
       "      <th>3</th>\n",
       "      <td>Saturday</td>\n",
       "      <td>4</td>\n",
       "      <td>after-noon</td>\n",
       "      <td>12</td>\n",
       "      <td>False</td>\n",
       "      <td>True</td>\n",
       "    </tr>\n",
       "    <tr>\n",
       "      <th>4</th>\n",
       "      <td>Thursday</td>\n",
       "      <td>3</td>\n",
       "      <td>night</td>\n",
       "      <td>5</td>\n",
       "      <td>True</td>\n",
       "      <td>False</td>\n",
       "    </tr>\n",
       "    <tr>\n",
       "      <th>5</th>\n",
       "      <td>Monday</td>\n",
       "      <td>7</td>\n",
       "      <td>noon</td>\n",
       "      <td>10</td>\n",
       "      <td>True</td>\n",
       "      <td>False</td>\n",
       "    </tr>\n",
       "  </tbody>\n",
       "</table>\n",
       "</div>"
      ],
      "text/plain": [
       "   day.of.week  num.of.guests        hour  table  dessert  is_weekend\n",
       "id                                                                   \n",
       "1       Monday              2     evening     13     True       False\n",
       "2     Saturday              4       night     19     True        True\n",
       "3     Saturday              4  after-noon     12    False        True\n",
       "4     Thursday              3       night      5     True       False\n",
       "5       Monday              7        noon     10     True       False"
      ]
     },
     "execution_count": 151,
     "metadata": {},
     "output_type": "execute_result"
    }
   ],
   "source": [
    "df.head()"
   ]
  },
  {
   "cell_type": "code",
   "execution_count": 152,
   "metadata": {
    "id": "6lF-V0WgkOPb"
   },
   "outputs": [
    {
     "data": {
      "text/html": [
       "<div>\n",
       "<style scoped>\n",
       "    .dataframe tbody tr th:only-of-type {\n",
       "        vertical-align: middle;\n",
       "    }\n",
       "\n",
       "    .dataframe tbody tr th {\n",
       "        vertical-align: top;\n",
       "    }\n",
       "\n",
       "    .dataframe thead th {\n",
       "        text-align: right;\n",
       "    }\n",
       "</style>\n",
       "<table border=\"1\" class=\"dataframe\">\n",
       "  <thead>\n",
       "    <tr style=\"text-align: right;\">\n",
       "      <th></th>\n",
       "      <th>day.of.week</th>\n",
       "      <th>num.of.guests</th>\n",
       "      <th>hour</th>\n",
       "      <th>table</th>\n",
       "      <th>dessert</th>\n",
       "      <th>is_weekend</th>\n",
       "    </tr>\n",
       "    <tr>\n",
       "      <th>id</th>\n",
       "      <th></th>\n",
       "      <th></th>\n",
       "      <th></th>\n",
       "      <th></th>\n",
       "      <th></th>\n",
       "      <th></th>\n",
       "    </tr>\n",
       "  </thead>\n",
       "  <tbody>\n",
       "    <tr>\n",
       "      <th>2</th>\n",
       "      <td>Saturday</td>\n",
       "      <td>4</td>\n",
       "      <td>night</td>\n",
       "      <td>19</td>\n",
       "      <td>True</td>\n",
       "      <td>True</td>\n",
       "    </tr>\n",
       "    <tr>\n",
       "      <th>3</th>\n",
       "      <td>Saturday</td>\n",
       "      <td>4</td>\n",
       "      <td>after-noon</td>\n",
       "      <td>12</td>\n",
       "      <td>False</td>\n",
       "      <td>True</td>\n",
       "    </tr>\n",
       "    <tr>\n",
       "      <th>4</th>\n",
       "      <td>Thursday</td>\n",
       "      <td>3</td>\n",
       "      <td>night</td>\n",
       "      <td>5</td>\n",
       "      <td>True</td>\n",
       "      <td>False</td>\n",
       "    </tr>\n",
       "    <tr>\n",
       "      <th>6</th>\n",
       "      <td>Friday</td>\n",
       "      <td>2</td>\n",
       "      <td>evening</td>\n",
       "      <td>19</td>\n",
       "      <td>False</td>\n",
       "      <td>True</td>\n",
       "    </tr>\n",
       "    <tr>\n",
       "      <th>8</th>\n",
       "      <td>Sunday</td>\n",
       "      <td>4</td>\n",
       "      <td>noon</td>\n",
       "      <td>4</td>\n",
       "      <td>True</td>\n",
       "      <td>False</td>\n",
       "    </tr>\n",
       "    <tr>\n",
       "      <th>...</th>\n",
       "      <td>...</td>\n",
       "      <td>...</td>\n",
       "      <td>...</td>\n",
       "      <td>...</td>\n",
       "      <td>...</td>\n",
       "      <td>...</td>\n",
       "    </tr>\n",
       "    <tr>\n",
       "      <th>996</th>\n",
       "      <td>Friday</td>\n",
       "      <td>3</td>\n",
       "      <td>after-noon</td>\n",
       "      <td>5</td>\n",
       "      <td>False</td>\n",
       "      <td>True</td>\n",
       "    </tr>\n",
       "    <tr>\n",
       "      <th>997</th>\n",
       "      <td>Wednesday</td>\n",
       "      <td>5</td>\n",
       "      <td>evening</td>\n",
       "      <td>14</td>\n",
       "      <td>True</td>\n",
       "      <td>False</td>\n",
       "    </tr>\n",
       "    <tr>\n",
       "      <th>998</th>\n",
       "      <td>Thursday</td>\n",
       "      <td>2</td>\n",
       "      <td>evening</td>\n",
       "      <td>20</td>\n",
       "      <td>True</td>\n",
       "      <td>False</td>\n",
       "    </tr>\n",
       "    <tr>\n",
       "      <th>999</th>\n",
       "      <td>Saturday</td>\n",
       "      <td>2</td>\n",
       "      <td>evening</td>\n",
       "      <td>3</td>\n",
       "      <td>True</td>\n",
       "      <td>True</td>\n",
       "    </tr>\n",
       "    <tr>\n",
       "      <th>1000</th>\n",
       "      <td>Friday</td>\n",
       "      <td>2</td>\n",
       "      <td>evening</td>\n",
       "      <td>9</td>\n",
       "      <td>False</td>\n",
       "      <td>True</td>\n",
       "    </tr>\n",
       "  </tbody>\n",
       "</table>\n",
       "<p>895 rows × 6 columns</p>\n",
       "</div>"
      ],
      "text/plain": [
       "     day.of.week  num.of.guests        hour  table  dessert  is_weekend\n",
       "id                                                                     \n",
       "2       Saturday              4       night     19     True        True\n",
       "3       Saturday              4  after-noon     12    False        True\n",
       "4       Thursday              3       night      5     True       False\n",
       "6         Friday              2     evening     19    False        True\n",
       "8         Sunday              4        noon      4     True       False\n",
       "...          ...            ...         ...    ...      ...         ...\n",
       "996       Friday              3  after-noon      5    False        True\n",
       "997    Wednesday              5     evening     14     True       False\n",
       "998     Thursday              2     evening     20     True       False\n",
       "999     Saturday              2     evening      3     True        True\n",
       "1000      Friday              2     evening      9    False        True\n",
       "\n",
       "[895 rows x 6 columns]"
      ]
     },
     "execution_count": 152,
     "metadata": {},
     "output_type": "execute_result"
    }
   ],
   "source": [
    "df[~(df['day.of.week'] == 'Monday')]"
   ]
  },
  {
   "cell_type": "code",
   "execution_count": 153,
   "metadata": {
    "id": "ZmY1FXTajZP7"
   },
   "outputs": [
    {
     "data": {
      "text/html": [
       "<div>\n",
       "<style scoped>\n",
       "    .dataframe tbody tr th:only-of-type {\n",
       "        vertical-align: middle;\n",
       "    }\n",
       "\n",
       "    .dataframe tbody tr th {\n",
       "        vertical-align: top;\n",
       "    }\n",
       "\n",
       "    .dataframe thead th {\n",
       "        text-align: right;\n",
       "    }\n",
       "</style>\n",
       "<table border=\"1\" class=\"dataframe\">\n",
       "  <thead>\n",
       "    <tr style=\"text-align: right;\">\n",
       "      <th></th>\n",
       "      <th>day.of.week</th>\n",
       "      <th>num.of.guests</th>\n",
       "      <th>hour</th>\n",
       "      <th>table</th>\n",
       "      <th>dessert</th>\n",
       "      <th>is_weekend</th>\n",
       "    </tr>\n",
       "    <tr>\n",
       "      <th>id</th>\n",
       "      <th></th>\n",
       "      <th></th>\n",
       "      <th></th>\n",
       "      <th></th>\n",
       "      <th></th>\n",
       "      <th></th>\n",
       "    </tr>\n",
       "  </thead>\n",
       "  <tbody>\n",
       "    <tr>\n",
       "      <th>1</th>\n",
       "      <td>Monday</td>\n",
       "      <td>2</td>\n",
       "      <td>evening</td>\n",
       "      <td>13</td>\n",
       "      <td>True</td>\n",
       "      <td>False</td>\n",
       "    </tr>\n",
       "    <tr>\n",
       "      <th>4</th>\n",
       "      <td>Thursday</td>\n",
       "      <td>3</td>\n",
       "      <td>night</td>\n",
       "      <td>5</td>\n",
       "      <td>True</td>\n",
       "      <td>False</td>\n",
       "    </tr>\n",
       "    <tr>\n",
       "      <th>5</th>\n",
       "      <td>Monday</td>\n",
       "      <td>7</td>\n",
       "      <td>noon</td>\n",
       "      <td>10</td>\n",
       "      <td>True</td>\n",
       "      <td>False</td>\n",
       "    </tr>\n",
       "    <tr>\n",
       "      <th>6</th>\n",
       "      <td>Friday</td>\n",
       "      <td>2</td>\n",
       "      <td>evening</td>\n",
       "      <td>19</td>\n",
       "      <td>False</td>\n",
       "      <td>True</td>\n",
       "    </tr>\n",
       "    <tr>\n",
       "      <th>7</th>\n",
       "      <td>Monday</td>\n",
       "      <td>2</td>\n",
       "      <td>evening</td>\n",
       "      <td>22</td>\n",
       "      <td>True</td>\n",
       "      <td>False</td>\n",
       "    </tr>\n",
       "    <tr>\n",
       "      <th>...</th>\n",
       "      <td>...</td>\n",
       "      <td>...</td>\n",
       "      <td>...</td>\n",
       "      <td>...</td>\n",
       "      <td>...</td>\n",
       "      <td>...</td>\n",
       "    </tr>\n",
       "    <tr>\n",
       "      <th>996</th>\n",
       "      <td>Friday</td>\n",
       "      <td>3</td>\n",
       "      <td>after-noon</td>\n",
       "      <td>5</td>\n",
       "      <td>False</td>\n",
       "      <td>True</td>\n",
       "    </tr>\n",
       "    <tr>\n",
       "      <th>997</th>\n",
       "      <td>Wednesday</td>\n",
       "      <td>5</td>\n",
       "      <td>evening</td>\n",
       "      <td>14</td>\n",
       "      <td>True</td>\n",
       "      <td>False</td>\n",
       "    </tr>\n",
       "    <tr>\n",
       "      <th>998</th>\n",
       "      <td>Thursday</td>\n",
       "      <td>2</td>\n",
       "      <td>evening</td>\n",
       "      <td>20</td>\n",
       "      <td>True</td>\n",
       "      <td>False</td>\n",
       "    </tr>\n",
       "    <tr>\n",
       "      <th>999</th>\n",
       "      <td>Saturday</td>\n",
       "      <td>2</td>\n",
       "      <td>evening</td>\n",
       "      <td>3</td>\n",
       "      <td>True</td>\n",
       "      <td>True</td>\n",
       "    </tr>\n",
       "    <tr>\n",
       "      <th>1000</th>\n",
       "      <td>Friday</td>\n",
       "      <td>2</td>\n",
       "      <td>evening</td>\n",
       "      <td>9</td>\n",
       "      <td>False</td>\n",
       "      <td>True</td>\n",
       "    </tr>\n",
       "  </tbody>\n",
       "</table>\n",
       "<p>998 rows × 6 columns</p>\n",
       "</div>"
      ],
      "text/plain": [
       "     day.of.week  num.of.guests        hour  table  dessert  is_weekend\n",
       "id                                                                     \n",
       "1         Monday              2     evening     13     True       False\n",
       "4       Thursday              3       night      5     True       False\n",
       "5         Monday              7        noon     10     True       False\n",
       "6         Friday              2     evening     19    False        True\n",
       "7         Monday              2     evening     22     True       False\n",
       "...          ...            ...         ...    ...      ...         ...\n",
       "996       Friday              3  after-noon      5    False        True\n",
       "997    Wednesday              5     evening     14     True       False\n",
       "998     Thursday              2     evening     20     True       False\n",
       "999     Saturday              2     evening      3     True        True\n",
       "1000      Friday              2     evening      9    False        True\n",
       "\n",
       "[998 rows x 6 columns]"
      ]
     },
     "execution_count": 153,
     "metadata": {},
     "output_type": "execute_result"
    }
   ],
   "source": [
    "# Remove rows (by indexes rows and columns)\n",
    "df.drop(index=[2, 3])"
   ]
  },
  {
   "cell_type": "code",
   "execution_count": 154,
   "metadata": {
    "id": "4vH2jjqgr8Rl"
   },
   "outputs": [],
   "source": [
    "# Remove columns (by column name / index) "
   ]
  },
  {
   "cell_type": "code",
   "execution_count": 155,
   "metadata": {
    "id": "M7AMMMDOijX6"
   },
   "outputs": [
    {
     "data": {
      "text/html": [
       "<div>\n",
       "<style scoped>\n",
       "    .dataframe tbody tr th:only-of-type {\n",
       "        vertical-align: middle;\n",
       "    }\n",
       "\n",
       "    .dataframe tbody tr th {\n",
       "        vertical-align: top;\n",
       "    }\n",
       "\n",
       "    .dataframe thead th {\n",
       "        text-align: right;\n",
       "    }\n",
       "</style>\n",
       "<table border=\"1\" class=\"dataframe\">\n",
       "  <thead>\n",
       "    <tr style=\"text-align: right;\">\n",
       "      <th></th>\n",
       "      <th>day.of.week</th>\n",
       "      <th>num.of.guests</th>\n",
       "      <th>hour</th>\n",
       "      <th>table</th>\n",
       "      <th>dessert</th>\n",
       "      <th>is_weekend</th>\n",
       "    </tr>\n",
       "    <tr>\n",
       "      <th>id</th>\n",
       "      <th></th>\n",
       "      <th></th>\n",
       "      <th></th>\n",
       "      <th></th>\n",
       "      <th></th>\n",
       "      <th></th>\n",
       "    </tr>\n",
       "  </thead>\n",
       "  <tbody>\n",
       "    <tr>\n",
       "      <th>1</th>\n",
       "      <td>Monday</td>\n",
       "      <td>2</td>\n",
       "      <td>evening</td>\n",
       "      <td>13</td>\n",
       "      <td>True</td>\n",
       "      <td>False</td>\n",
       "    </tr>\n",
       "    <tr>\n",
       "      <th>2</th>\n",
       "      <td>Saturday</td>\n",
       "      <td>4</td>\n",
       "      <td>night</td>\n",
       "      <td>19</td>\n",
       "      <td>True</td>\n",
       "      <td>True</td>\n",
       "    </tr>\n",
       "    <tr>\n",
       "      <th>3</th>\n",
       "      <td>Saturday</td>\n",
       "      <td>4</td>\n",
       "      <td>after-noon</td>\n",
       "      <td>12</td>\n",
       "      <td>False</td>\n",
       "      <td>True</td>\n",
       "    </tr>\n",
       "  </tbody>\n",
       "</table>\n",
       "</div>"
      ],
      "text/plain": [
       "   day.of.week  num.of.guests        hour  table  dessert  is_weekend\n",
       "id                                                                   \n",
       "1       Monday              2     evening     13     True       False\n",
       "2     Saturday              4       night     19     True        True\n",
       "3     Saturday              4  after-noon     12    False        True"
      ]
     },
     "execution_count": 155,
     "metadata": {},
     "output_type": "execute_result"
    }
   ],
   "source": [
    "df.head(3)"
   ]
  },
  {
   "cell_type": "code",
   "execution_count": 156,
   "metadata": {
    "id": "jxYcyUV6inbq"
   },
   "outputs": [
    {
     "data": {
      "text/html": [
       "<div>\n",
       "<style scoped>\n",
       "    .dataframe tbody tr th:only-of-type {\n",
       "        vertical-align: middle;\n",
       "    }\n",
       "\n",
       "    .dataframe tbody tr th {\n",
       "        vertical-align: top;\n",
       "    }\n",
       "\n",
       "    .dataframe thead th {\n",
       "        text-align: right;\n",
       "    }\n",
       "</style>\n",
       "<table border=\"1\" class=\"dataframe\">\n",
       "  <thead>\n",
       "    <tr style=\"text-align: right;\">\n",
       "      <th></th>\n",
       "      <th>day.of.week</th>\n",
       "      <th>num.of.guests</th>\n",
       "      <th>hour</th>\n",
       "      <th>table</th>\n",
       "      <th>dessert</th>\n",
       "      <th>is_weekend</th>\n",
       "    </tr>\n",
       "    <tr>\n",
       "      <th>id</th>\n",
       "      <th></th>\n",
       "      <th></th>\n",
       "      <th></th>\n",
       "      <th></th>\n",
       "      <th></th>\n",
       "      <th></th>\n",
       "    </tr>\n",
       "  </thead>\n",
       "  <tbody>\n",
       "    <tr>\n",
       "      <th>514</th>\n",
       "      <td>Friday</td>\n",
       "      <td>10</td>\n",
       "      <td>night</td>\n",
       "      <td>3</td>\n",
       "      <td>True</td>\n",
       "      <td>True</td>\n",
       "    </tr>\n",
       "    <tr>\n",
       "      <th>525</th>\n",
       "      <td>Friday</td>\n",
       "      <td>10</td>\n",
       "      <td>evening</td>\n",
       "      <td>18</td>\n",
       "      <td>False</td>\n",
       "      <td>True</td>\n",
       "    </tr>\n",
       "    <tr>\n",
       "      <th>559</th>\n",
       "      <td>Friday</td>\n",
       "      <td>10</td>\n",
       "      <td>noon</td>\n",
       "      <td>20</td>\n",
       "      <td>True</td>\n",
       "      <td>True</td>\n",
       "    </tr>\n",
       "    <tr>\n",
       "      <th>844</th>\n",
       "      <td>Friday</td>\n",
       "      <td>9</td>\n",
       "      <td>noon</td>\n",
       "      <td>12</td>\n",
       "      <td>True</td>\n",
       "      <td>True</td>\n",
       "    </tr>\n",
       "    <tr>\n",
       "      <th>986</th>\n",
       "      <td>Friday</td>\n",
       "      <td>9</td>\n",
       "      <td>evening</td>\n",
       "      <td>16</td>\n",
       "      <td>False</td>\n",
       "      <td>True</td>\n",
       "    </tr>\n",
       "    <tr>\n",
       "      <th>...</th>\n",
       "      <td>...</td>\n",
       "      <td>...</td>\n",
       "      <td>...</td>\n",
       "      <td>...</td>\n",
       "      <td>...</td>\n",
       "      <td>...</td>\n",
       "    </tr>\n",
       "    <tr>\n",
       "      <th>616</th>\n",
       "      <td>Wednesday</td>\n",
       "      <td>1</td>\n",
       "      <td>evening</td>\n",
       "      <td>21</td>\n",
       "      <td>False</td>\n",
       "      <td>False</td>\n",
       "    </tr>\n",
       "    <tr>\n",
       "      <th>672</th>\n",
       "      <td>Wednesday</td>\n",
       "      <td>1</td>\n",
       "      <td>noon</td>\n",
       "      <td>20</td>\n",
       "      <td>True</td>\n",
       "      <td>False</td>\n",
       "    </tr>\n",
       "    <tr>\n",
       "      <th>835</th>\n",
       "      <td>Wednesday</td>\n",
       "      <td>1</td>\n",
       "      <td>evening</td>\n",
       "      <td>16</td>\n",
       "      <td>False</td>\n",
       "      <td>False</td>\n",
       "    </tr>\n",
       "    <tr>\n",
       "      <th>864</th>\n",
       "      <td>Wednesday</td>\n",
       "      <td>1</td>\n",
       "      <td>night</td>\n",
       "      <td>12</td>\n",
       "      <td>True</td>\n",
       "      <td>False</td>\n",
       "    </tr>\n",
       "    <tr>\n",
       "      <th>914</th>\n",
       "      <td>Wednesday</td>\n",
       "      <td>1</td>\n",
       "      <td>noon</td>\n",
       "      <td>23</td>\n",
       "      <td>True</td>\n",
       "      <td>False</td>\n",
       "    </tr>\n",
       "  </tbody>\n",
       "</table>\n",
       "<p>1000 rows × 6 columns</p>\n",
       "</div>"
      ],
      "text/plain": [
       "    day.of.week  num.of.guests     hour  table  dessert  is_weekend\n",
       "id                                                                 \n",
       "514      Friday             10    night      3     True        True\n",
       "525      Friday             10  evening     18    False        True\n",
       "559      Friday             10     noon     20     True        True\n",
       "844      Friday              9     noon     12     True        True\n",
       "986      Friday              9  evening     16    False        True\n",
       "..          ...            ...      ...    ...      ...         ...\n",
       "616   Wednesday              1  evening     21    False       False\n",
       "672   Wednesday              1     noon     20     True       False\n",
       "835   Wednesday              1  evening     16    False       False\n",
       "864   Wednesday              1    night     12     True       False\n",
       "914   Wednesday              1     noon     23     True       False\n",
       "\n",
       "[1000 rows x 6 columns]"
      ]
     },
     "execution_count": 156,
     "metadata": {},
     "output_type": "execute_result"
    }
   ],
   "source": [
    "df.sort_values(by=[\"day.of.week\", \"num.of.guests\"], ascending=[True, False]) # sort values with numbers of criteria"
   ]
  },
  {
   "cell_type": "code",
   "execution_count": 157,
   "metadata": {
    "id": "i22K-wddjLey"
   },
   "outputs": [
    {
     "data": {
      "text/html": [
       "<div>\n",
       "<style scoped>\n",
       "    .dataframe tbody tr th:only-of-type {\n",
       "        vertical-align: middle;\n",
       "    }\n",
       "\n",
       "    .dataframe tbody tr th {\n",
       "        vertical-align: top;\n",
       "    }\n",
       "\n",
       "    .dataframe thead th {\n",
       "        text-align: right;\n",
       "    }\n",
       "</style>\n",
       "<table border=\"1\" class=\"dataframe\">\n",
       "  <thead>\n",
       "    <tr style=\"text-align: right;\">\n",
       "      <th></th>\n",
       "      <th>day.of.week</th>\n",
       "      <th>num.of.guests</th>\n",
       "      <th>hour-of-day</th>\n",
       "      <th>table</th>\n",
       "      <th>dessert</th>\n",
       "      <th>is_weekend</th>\n",
       "    </tr>\n",
       "    <tr>\n",
       "      <th>id</th>\n",
       "      <th></th>\n",
       "      <th></th>\n",
       "      <th></th>\n",
       "      <th></th>\n",
       "      <th></th>\n",
       "      <th></th>\n",
       "    </tr>\n",
       "  </thead>\n",
       "  <tbody>\n",
       "    <tr>\n",
       "      <th>1</th>\n",
       "      <td>Monday</td>\n",
       "      <td>2</td>\n",
       "      <td>evening</td>\n",
       "      <td>13</td>\n",
       "      <td>True</td>\n",
       "      <td>False</td>\n",
       "    </tr>\n",
       "    <tr>\n",
       "      <th>2</th>\n",
       "      <td>Saturday</td>\n",
       "      <td>4</td>\n",
       "      <td>night</td>\n",
       "      <td>19</td>\n",
       "      <td>True</td>\n",
       "      <td>True</td>\n",
       "    </tr>\n",
       "    <tr>\n",
       "      <th>3</th>\n",
       "      <td>Saturday</td>\n",
       "      <td>4</td>\n",
       "      <td>after-noon</td>\n",
       "      <td>12</td>\n",
       "      <td>False</td>\n",
       "      <td>True</td>\n",
       "    </tr>\n",
       "    <tr>\n",
       "      <th>4</th>\n",
       "      <td>Thursday</td>\n",
       "      <td>3</td>\n",
       "      <td>night</td>\n",
       "      <td>5</td>\n",
       "      <td>True</td>\n",
       "      <td>False</td>\n",
       "    </tr>\n",
       "    <tr>\n",
       "      <th>5</th>\n",
       "      <td>Monday</td>\n",
       "      <td>7</td>\n",
       "      <td>noon</td>\n",
       "      <td>10</td>\n",
       "      <td>True</td>\n",
       "      <td>False</td>\n",
       "    </tr>\n",
       "    <tr>\n",
       "      <th>...</th>\n",
       "      <td>...</td>\n",
       "      <td>...</td>\n",
       "      <td>...</td>\n",
       "      <td>...</td>\n",
       "      <td>...</td>\n",
       "      <td>...</td>\n",
       "    </tr>\n",
       "    <tr>\n",
       "      <th>996</th>\n",
       "      <td>Friday</td>\n",
       "      <td>3</td>\n",
       "      <td>after-noon</td>\n",
       "      <td>5</td>\n",
       "      <td>False</td>\n",
       "      <td>True</td>\n",
       "    </tr>\n",
       "    <tr>\n",
       "      <th>997</th>\n",
       "      <td>Wednesday</td>\n",
       "      <td>5</td>\n",
       "      <td>evening</td>\n",
       "      <td>14</td>\n",
       "      <td>True</td>\n",
       "      <td>False</td>\n",
       "    </tr>\n",
       "    <tr>\n",
       "      <th>998</th>\n",
       "      <td>Thursday</td>\n",
       "      <td>2</td>\n",
       "      <td>evening</td>\n",
       "      <td>20</td>\n",
       "      <td>True</td>\n",
       "      <td>False</td>\n",
       "    </tr>\n",
       "    <tr>\n",
       "      <th>999</th>\n",
       "      <td>Saturday</td>\n",
       "      <td>2</td>\n",
       "      <td>evening</td>\n",
       "      <td>3</td>\n",
       "      <td>True</td>\n",
       "      <td>True</td>\n",
       "    </tr>\n",
       "    <tr>\n",
       "      <th>1000</th>\n",
       "      <td>Friday</td>\n",
       "      <td>2</td>\n",
       "      <td>evening</td>\n",
       "      <td>9</td>\n",
       "      <td>False</td>\n",
       "      <td>True</td>\n",
       "    </tr>\n",
       "  </tbody>\n",
       "</table>\n",
       "<p>1000 rows × 6 columns</p>\n",
       "</div>"
      ],
      "text/plain": [
       "     day.of.week  num.of.guests hour-of-day  table  dessert  is_weekend\n",
       "id                                                                     \n",
       "1         Monday              2     evening     13     True       False\n",
       "2       Saturday              4       night     19     True        True\n",
       "3       Saturday              4  after-noon     12    False        True\n",
       "4       Thursday              3       night      5     True       False\n",
       "5         Monday              7        noon     10     True       False\n",
       "...          ...            ...         ...    ...      ...         ...\n",
       "996       Friday              3  after-noon      5    False        True\n",
       "997    Wednesday              5     evening     14     True       False\n",
       "998     Thursday              2     evening     20     True       False\n",
       "999     Saturday              2     evening      3     True        True\n",
       "1000      Friday              2     evening      9    False        True\n",
       "\n",
       "[1000 rows x 6 columns]"
      ]
     },
     "execution_count": 157,
     "metadata": {},
     "output_type": "execute_result"
    }
   ],
   "source": [
    "df.rename(columns={\"hour\": \"hour-of-day\"}) # renaming indexing"
   ]
  },
  {
   "cell_type": "markdown",
   "metadata": {
    "id": "QWCkUUZ-dZNc"
   },
   "source": [
    "> **Your turn:** Do the following with the dessert dataset:\n",
    "> * Add a column called `not_dessert` with the inverse of `dessert`\n",
    "> * Add a column with random positive numbers and call it `Bill`\n",
    "    * You can use random.randint (make sure to import the `random` module first)\n",
    "> * Use `sort_values()` to sort the data by the bill\n",
    "> * Use `rename()` to change all the points (.) to underscores (_)\n",
    "> * Create separate dataframes for working days and weekends"
   ]
  },
  {
   "cell_type": "code",
   "execution_count": 158,
   "metadata": {
    "id": "NMzo9jgVhaFO"
   },
   "outputs": [],
   "source": [
    "df = pd.read_csv(\"dessert.csv\", index_col='id')"
   ]
  },
  {
   "cell_type": "code",
   "execution_count": 159,
   "metadata": {},
   "outputs": [
    {
     "data": {
      "text/html": [
       "<div>\n",
       "<style scoped>\n",
       "    .dataframe tbody tr th:only-of-type {\n",
       "        vertical-align: middle;\n",
       "    }\n",
       "\n",
       "    .dataframe tbody tr th {\n",
       "        vertical-align: top;\n",
       "    }\n",
       "\n",
       "    .dataframe thead th {\n",
       "        text-align: right;\n",
       "    }\n",
       "</style>\n",
       "<table border=\"1\" class=\"dataframe\">\n",
       "  <thead>\n",
       "    <tr style=\"text-align: right;\">\n",
       "      <th></th>\n",
       "      <th>day.of.week</th>\n",
       "      <th>num.of.guests</th>\n",
       "      <th>hour</th>\n",
       "      <th>table</th>\n",
       "      <th>dessert</th>\n",
       "    </tr>\n",
       "    <tr>\n",
       "      <th>id</th>\n",
       "      <th></th>\n",
       "      <th></th>\n",
       "      <th></th>\n",
       "      <th></th>\n",
       "      <th></th>\n",
       "    </tr>\n",
       "  </thead>\n",
       "  <tbody>\n",
       "    <tr>\n",
       "      <th>614</th>\n",
       "      <td>Tuesday</td>\n",
       "      <td>3</td>\n",
       "      <td>evening</td>\n",
       "      <td>3</td>\n",
       "      <td>True</td>\n",
       "    </tr>\n",
       "    <tr>\n",
       "      <th>405</th>\n",
       "      <td>Monday</td>\n",
       "      <td>3</td>\n",
       "      <td>night</td>\n",
       "      <td>16</td>\n",
       "      <td>True</td>\n",
       "    </tr>\n",
       "    <tr>\n",
       "      <th>314</th>\n",
       "      <td>Monday</td>\n",
       "      <td>4</td>\n",
       "      <td>noon</td>\n",
       "      <td>7</td>\n",
       "      <td>True</td>\n",
       "    </tr>\n",
       "    <tr>\n",
       "      <th>195</th>\n",
       "      <td>Sunday</td>\n",
       "      <td>4</td>\n",
       "      <td>night</td>\n",
       "      <td>21</td>\n",
       "      <td>True</td>\n",
       "    </tr>\n",
       "    <tr>\n",
       "      <th>468</th>\n",
       "      <td>Wednesday</td>\n",
       "      <td>2</td>\n",
       "      <td>evening</td>\n",
       "      <td>20</td>\n",
       "      <td>True</td>\n",
       "    </tr>\n",
       "    <tr>\n",
       "      <th>368</th>\n",
       "      <td>Friday</td>\n",
       "      <td>4</td>\n",
       "      <td>evening</td>\n",
       "      <td>20</td>\n",
       "      <td>False</td>\n",
       "    </tr>\n",
       "    <tr>\n",
       "      <th>918</th>\n",
       "      <td>Friday</td>\n",
       "      <td>3</td>\n",
       "      <td>night</td>\n",
       "      <td>22</td>\n",
       "      <td>False</td>\n",
       "    </tr>\n",
       "    <tr>\n",
       "      <th>772</th>\n",
       "      <td>Tuesday</td>\n",
       "      <td>7</td>\n",
       "      <td>noon</td>\n",
       "      <td>18</td>\n",
       "      <td>True</td>\n",
       "    </tr>\n",
       "    <tr>\n",
       "      <th>441</th>\n",
       "      <td>Sunday</td>\n",
       "      <td>2</td>\n",
       "      <td>after-noon</td>\n",
       "      <td>8</td>\n",
       "      <td>False</td>\n",
       "    </tr>\n",
       "    <tr>\n",
       "      <th>312</th>\n",
       "      <td>Friday</td>\n",
       "      <td>2</td>\n",
       "      <td>evening</td>\n",
       "      <td>17</td>\n",
       "      <td>False</td>\n",
       "    </tr>\n",
       "  </tbody>\n",
       "</table>\n",
       "</div>"
      ],
      "text/plain": [
       "    day.of.week  num.of.guests        hour  table  dessert\n",
       "id                                                        \n",
       "614     Tuesday              3     evening      3     True\n",
       "405      Monday              3       night     16     True\n",
       "314      Monday              4        noon      7     True\n",
       "195      Sunday              4       night     21     True\n",
       "468   Wednesday              2     evening     20     True\n",
       "368      Friday              4     evening     20    False\n",
       "918      Friday              3       night     22    False\n",
       "772     Tuesday              7        noon     18     True\n",
       "441      Sunday              2  after-noon      8    False\n",
       "312      Friday              2     evening     17    False"
      ]
     },
     "execution_count": 159,
     "metadata": {},
     "output_type": "execute_result"
    }
   ],
   "source": [
    "df.sample(10)"
   ]
  },
  {
   "cell_type": "code",
   "execution_count": 160,
   "metadata": {},
   "outputs": [
    {
     "data": {
      "text/html": [
       "<div>\n",
       "<style scoped>\n",
       "    .dataframe tbody tr th:only-of-type {\n",
       "        vertical-align: middle;\n",
       "    }\n",
       "\n",
       "    .dataframe tbody tr th {\n",
       "        vertical-align: top;\n",
       "    }\n",
       "\n",
       "    .dataframe thead th {\n",
       "        text-align: right;\n",
       "    }\n",
       "</style>\n",
       "<table border=\"1\" class=\"dataframe\">\n",
       "  <thead>\n",
       "    <tr style=\"text-align: right;\">\n",
       "      <th></th>\n",
       "      <th>day.of.week</th>\n",
       "      <th>num.of.guests</th>\n",
       "      <th>hour</th>\n",
       "      <th>table</th>\n",
       "      <th>dessert</th>\n",
       "      <th>not_dessert</th>\n",
       "    </tr>\n",
       "    <tr>\n",
       "      <th>id</th>\n",
       "      <th></th>\n",
       "      <th></th>\n",
       "      <th></th>\n",
       "      <th></th>\n",
       "      <th></th>\n",
       "      <th></th>\n",
       "    </tr>\n",
       "  </thead>\n",
       "  <tbody>\n",
       "    <tr>\n",
       "      <th>1</th>\n",
       "      <td>Monday</td>\n",
       "      <td>2</td>\n",
       "      <td>evening</td>\n",
       "      <td>13</td>\n",
       "      <td>True</td>\n",
       "      <td>False</td>\n",
       "    </tr>\n",
       "    <tr>\n",
       "      <th>2</th>\n",
       "      <td>Saturday</td>\n",
       "      <td>4</td>\n",
       "      <td>night</td>\n",
       "      <td>19</td>\n",
       "      <td>True</td>\n",
       "      <td>False</td>\n",
       "    </tr>\n",
       "    <tr>\n",
       "      <th>3</th>\n",
       "      <td>Saturday</td>\n",
       "      <td>4</td>\n",
       "      <td>after-noon</td>\n",
       "      <td>12</td>\n",
       "      <td>False</td>\n",
       "      <td>True</td>\n",
       "    </tr>\n",
       "    <tr>\n",
       "      <th>4</th>\n",
       "      <td>Thursday</td>\n",
       "      <td>3</td>\n",
       "      <td>night</td>\n",
       "      <td>5</td>\n",
       "      <td>True</td>\n",
       "      <td>False</td>\n",
       "    </tr>\n",
       "    <tr>\n",
       "      <th>5</th>\n",
       "      <td>Monday</td>\n",
       "      <td>7</td>\n",
       "      <td>noon</td>\n",
       "      <td>10</td>\n",
       "      <td>True</td>\n",
       "      <td>False</td>\n",
       "    </tr>\n",
       "  </tbody>\n",
       "</table>\n",
       "</div>"
      ],
      "text/plain": [
       "   day.of.week  num.of.guests        hour  table  dessert  not_dessert\n",
       "id                                                                    \n",
       "1       Monday              2     evening     13     True        False\n",
       "2     Saturday              4       night     19     True        False\n",
       "3     Saturday              4  after-noon     12    False         True\n",
       "4     Thursday              3       night      5     True        False\n",
       "5       Monday              7        noon     10     True        False"
      ]
     },
     "execution_count": 160,
     "metadata": {},
     "output_type": "execute_result"
    }
   ],
   "source": [
    "1. # Add a column called not_dessert with the inverse of dessert\n",
    "df['not_dessert'] = ~df['dessert']\n",
    "df.head()"
   ]
  },
  {
   "cell_type": "code",
   "execution_count": 161,
   "metadata": {},
   "outputs": [
    {
     "data": {
      "text/html": [
       "<div>\n",
       "<style scoped>\n",
       "    .dataframe tbody tr th:only-of-type {\n",
       "        vertical-align: middle;\n",
       "    }\n",
       "\n",
       "    .dataframe tbody tr th {\n",
       "        vertical-align: top;\n",
       "    }\n",
       "\n",
       "    .dataframe thead th {\n",
       "        text-align: right;\n",
       "    }\n",
       "</style>\n",
       "<table border=\"1\" class=\"dataframe\">\n",
       "  <thead>\n",
       "    <tr style=\"text-align: right;\">\n",
       "      <th></th>\n",
       "      <th>day.of.week</th>\n",
       "      <th>num.of.guests</th>\n",
       "      <th>hour</th>\n",
       "      <th>table</th>\n",
       "      <th>dessert</th>\n",
       "      <th>not_dessert</th>\n",
       "      <th>Bill</th>\n",
       "    </tr>\n",
       "    <tr>\n",
       "      <th>id</th>\n",
       "      <th></th>\n",
       "      <th></th>\n",
       "      <th></th>\n",
       "      <th></th>\n",
       "      <th></th>\n",
       "      <th></th>\n",
       "      <th></th>\n",
       "    </tr>\n",
       "  </thead>\n",
       "  <tbody>\n",
       "    <tr>\n",
       "      <th>1</th>\n",
       "      <td>Monday</td>\n",
       "      <td>2</td>\n",
       "      <td>evening</td>\n",
       "      <td>13</td>\n",
       "      <td>True</td>\n",
       "      <td>False</td>\n",
       "      <td>76</td>\n",
       "    </tr>\n",
       "    <tr>\n",
       "      <th>2</th>\n",
       "      <td>Saturday</td>\n",
       "      <td>4</td>\n",
       "      <td>night</td>\n",
       "      <td>19</td>\n",
       "      <td>True</td>\n",
       "      <td>False</td>\n",
       "      <td>64</td>\n",
       "    </tr>\n",
       "    <tr>\n",
       "      <th>3</th>\n",
       "      <td>Saturday</td>\n",
       "      <td>4</td>\n",
       "      <td>after-noon</td>\n",
       "      <td>12</td>\n",
       "      <td>False</td>\n",
       "      <td>True</td>\n",
       "      <td>47</td>\n",
       "    </tr>\n",
       "    <tr>\n",
       "      <th>4</th>\n",
       "      <td>Thursday</td>\n",
       "      <td>3</td>\n",
       "      <td>night</td>\n",
       "      <td>5</td>\n",
       "      <td>True</td>\n",
       "      <td>False</td>\n",
       "      <td>20</td>\n",
       "    </tr>\n",
       "    <tr>\n",
       "      <th>5</th>\n",
       "      <td>Monday</td>\n",
       "      <td>7</td>\n",
       "      <td>noon</td>\n",
       "      <td>10</td>\n",
       "      <td>True</td>\n",
       "      <td>False</td>\n",
       "      <td>81</td>\n",
       "    </tr>\n",
       "    <tr>\n",
       "      <th>...</th>\n",
       "      <td>...</td>\n",
       "      <td>...</td>\n",
       "      <td>...</td>\n",
       "      <td>...</td>\n",
       "      <td>...</td>\n",
       "      <td>...</td>\n",
       "      <td>...</td>\n",
       "    </tr>\n",
       "    <tr>\n",
       "      <th>996</th>\n",
       "      <td>Friday</td>\n",
       "      <td>3</td>\n",
       "      <td>after-noon</td>\n",
       "      <td>5</td>\n",
       "      <td>False</td>\n",
       "      <td>True</td>\n",
       "      <td>14</td>\n",
       "    </tr>\n",
       "    <tr>\n",
       "      <th>997</th>\n",
       "      <td>Wednesday</td>\n",
       "      <td>5</td>\n",
       "      <td>evening</td>\n",
       "      <td>14</td>\n",
       "      <td>True</td>\n",
       "      <td>False</td>\n",
       "      <td>79</td>\n",
       "    </tr>\n",
       "    <tr>\n",
       "      <th>998</th>\n",
       "      <td>Thursday</td>\n",
       "      <td>2</td>\n",
       "      <td>evening</td>\n",
       "      <td>20</td>\n",
       "      <td>True</td>\n",
       "      <td>False</td>\n",
       "      <td>32</td>\n",
       "    </tr>\n",
       "    <tr>\n",
       "      <th>999</th>\n",
       "      <td>Saturday</td>\n",
       "      <td>2</td>\n",
       "      <td>evening</td>\n",
       "      <td>3</td>\n",
       "      <td>True</td>\n",
       "      <td>False</td>\n",
       "      <td>40</td>\n",
       "    </tr>\n",
       "    <tr>\n",
       "      <th>1000</th>\n",
       "      <td>Friday</td>\n",
       "      <td>2</td>\n",
       "      <td>evening</td>\n",
       "      <td>9</td>\n",
       "      <td>False</td>\n",
       "      <td>True</td>\n",
       "      <td>45</td>\n",
       "    </tr>\n",
       "  </tbody>\n",
       "</table>\n",
       "<p>1000 rows × 7 columns</p>\n",
       "</div>"
      ],
      "text/plain": [
       "     day.of.week  num.of.guests        hour  table  dessert  not_dessert  Bill\n",
       "id                                                                            \n",
       "1         Monday              2     evening     13     True        False    76\n",
       "2       Saturday              4       night     19     True        False    64\n",
       "3       Saturday              4  after-noon     12    False         True    47\n",
       "4       Thursday              3       night      5     True        False    20\n",
       "5         Monday              7        noon     10     True        False    81\n",
       "...          ...            ...         ...    ...      ...          ...   ...\n",
       "996       Friday              3  after-noon      5    False         True    14\n",
       "997    Wednesday              5     evening     14     True        False    79\n",
       "998     Thursday              2     evening     20     True        False    32\n",
       "999     Saturday              2     evening      3     True        False    40\n",
       "1000      Friday              2     evening      9    False         True    45\n",
       "\n",
       "[1000 rows x 7 columns]"
      ]
     },
     "execution_count": 161,
     "metadata": {},
     "output_type": "execute_result"
    }
   ],
   "source": [
    "2. # Add a column with random positive numbers and call it Bill\n",
    "# You can use random.randint (make sure to import the random module first)\n",
    "import random\n",
    "\n",
    "df['Bill'] = np.random.randint(1, 101, size=len(df))  # Random integers between 1 and 100\n",
    "df\n"
   ]
  },
  {
   "cell_type": "code",
   "execution_count": 162,
   "metadata": {},
   "outputs": [
    {
     "data": {
      "text/html": [
       "<div>\n",
       "<style scoped>\n",
       "    .dataframe tbody tr th:only-of-type {\n",
       "        vertical-align: middle;\n",
       "    }\n",
       "\n",
       "    .dataframe tbody tr th {\n",
       "        vertical-align: top;\n",
       "    }\n",
       "\n",
       "    .dataframe thead th {\n",
       "        text-align: right;\n",
       "    }\n",
       "</style>\n",
       "<table border=\"1\" class=\"dataframe\">\n",
       "  <thead>\n",
       "    <tr style=\"text-align: right;\">\n",
       "      <th></th>\n",
       "      <th>day.of.week</th>\n",
       "      <th>num.of.guests</th>\n",
       "      <th>hour</th>\n",
       "      <th>table</th>\n",
       "      <th>dessert</th>\n",
       "      <th>not_dessert</th>\n",
       "      <th>Bill</th>\n",
       "    </tr>\n",
       "    <tr>\n",
       "      <th>id</th>\n",
       "      <th></th>\n",
       "      <th></th>\n",
       "      <th></th>\n",
       "      <th></th>\n",
       "      <th></th>\n",
       "      <th></th>\n",
       "      <th></th>\n",
       "    </tr>\n",
       "  </thead>\n",
       "  <tbody>\n",
       "    <tr>\n",
       "      <th>754</th>\n",
       "      <td>Tuesday</td>\n",
       "      <td>4</td>\n",
       "      <td>night</td>\n",
       "      <td>4</td>\n",
       "      <td>True</td>\n",
       "      <td>False</td>\n",
       "      <td>1</td>\n",
       "    </tr>\n",
       "    <tr>\n",
       "      <th>105</th>\n",
       "      <td>Sunday</td>\n",
       "      <td>2</td>\n",
       "      <td>evening</td>\n",
       "      <td>3</td>\n",
       "      <td>True</td>\n",
       "      <td>False</td>\n",
       "      <td>1</td>\n",
       "    </tr>\n",
       "    <tr>\n",
       "      <th>872</th>\n",
       "      <td>Saturday</td>\n",
       "      <td>9</td>\n",
       "      <td>noon</td>\n",
       "      <td>13</td>\n",
       "      <td>True</td>\n",
       "      <td>False</td>\n",
       "      <td>2</td>\n",
       "    </tr>\n",
       "    <tr>\n",
       "      <th>916</th>\n",
       "      <td>Friday</td>\n",
       "      <td>4</td>\n",
       "      <td>after-noon</td>\n",
       "      <td>18</td>\n",
       "      <td>False</td>\n",
       "      <td>True</td>\n",
       "      <td>2</td>\n",
       "    </tr>\n",
       "    <tr>\n",
       "      <th>462</th>\n",
       "      <td>Friday</td>\n",
       "      <td>3</td>\n",
       "      <td>evening</td>\n",
       "      <td>21</td>\n",
       "      <td>False</td>\n",
       "      <td>True</td>\n",
       "      <td>2</td>\n",
       "    </tr>\n",
       "    <tr>\n",
       "      <th>...</th>\n",
       "      <td>...</td>\n",
       "      <td>...</td>\n",
       "      <td>...</td>\n",
       "      <td>...</td>\n",
       "      <td>...</td>\n",
       "      <td>...</td>\n",
       "      <td>...</td>\n",
       "    </tr>\n",
       "    <tr>\n",
       "      <th>186</th>\n",
       "      <td>Monday</td>\n",
       "      <td>6</td>\n",
       "      <td>evening</td>\n",
       "      <td>13</td>\n",
       "      <td>True</td>\n",
       "      <td>False</td>\n",
       "      <td>100</td>\n",
       "    </tr>\n",
       "    <tr>\n",
       "      <th>103</th>\n",
       "      <td>Saturday</td>\n",
       "      <td>2</td>\n",
       "      <td>noon</td>\n",
       "      <td>1</td>\n",
       "      <td>True</td>\n",
       "      <td>False</td>\n",
       "      <td>100</td>\n",
       "    </tr>\n",
       "    <tr>\n",
       "      <th>338</th>\n",
       "      <td>Tuesday</td>\n",
       "      <td>4</td>\n",
       "      <td>evening</td>\n",
       "      <td>19</td>\n",
       "      <td>True</td>\n",
       "      <td>False</td>\n",
       "      <td>100</td>\n",
       "    </tr>\n",
       "    <tr>\n",
       "      <th>73</th>\n",
       "      <td>Monday</td>\n",
       "      <td>2</td>\n",
       "      <td>night</td>\n",
       "      <td>1</td>\n",
       "      <td>True</td>\n",
       "      <td>False</td>\n",
       "      <td>100</td>\n",
       "    </tr>\n",
       "    <tr>\n",
       "      <th>771</th>\n",
       "      <td>Wednesday</td>\n",
       "      <td>3</td>\n",
       "      <td>evening</td>\n",
       "      <td>6</td>\n",
       "      <td>True</td>\n",
       "      <td>False</td>\n",
       "      <td>100</td>\n",
       "    </tr>\n",
       "  </tbody>\n",
       "</table>\n",
       "<p>1000 rows × 7 columns</p>\n",
       "</div>"
      ],
      "text/plain": [
       "    day.of.week  num.of.guests        hour  table  dessert  not_dessert  Bill\n",
       "id                                                                           \n",
       "754     Tuesday              4       night      4     True        False     1\n",
       "105      Sunday              2     evening      3     True        False     1\n",
       "872    Saturday              9        noon     13     True        False     2\n",
       "916      Friday              4  after-noon     18    False         True     2\n",
       "462      Friday              3     evening     21    False         True     2\n",
       "..          ...            ...         ...    ...      ...          ...   ...\n",
       "186      Monday              6     evening     13     True        False   100\n",
       "103    Saturday              2        noon      1     True        False   100\n",
       "338     Tuesday              4     evening     19     True        False   100\n",
       "73       Monday              2       night      1     True        False   100\n",
       "771   Wednesday              3     evening      6     True        False   100\n",
       "\n",
       "[1000 rows x 7 columns]"
      ]
     },
     "execution_count": 162,
     "metadata": {},
     "output_type": "execute_result"
    }
   ],
   "source": [
    "# 3. Use sort_values() to sort the data by the Bill\n",
    "\n",
    "df.sort_values(by=\"Bill\", inplace=True)\n",
    "df "
   ]
  },
  {
   "cell_type": "code",
   "execution_count": 163,
   "metadata": {},
   "outputs": [
    {
     "data": {
      "text/html": [
       "<div>\n",
       "<style scoped>\n",
       "    .dataframe tbody tr th:only-of-type {\n",
       "        vertical-align: middle;\n",
       "    }\n",
       "\n",
       "    .dataframe tbody tr th {\n",
       "        vertical-align: top;\n",
       "    }\n",
       "\n",
       "    .dataframe thead th {\n",
       "        text-align: right;\n",
       "    }\n",
       "</style>\n",
       "<table border=\"1\" class=\"dataframe\">\n",
       "  <thead>\n",
       "    <tr style=\"text-align: right;\">\n",
       "      <th></th>\n",
       "      <th>day_of_week</th>\n",
       "      <th>num_of_guests</th>\n",
       "      <th>hour</th>\n",
       "      <th>table</th>\n",
       "      <th>dessert</th>\n",
       "      <th>not_dessert</th>\n",
       "      <th>Bill</th>\n",
       "    </tr>\n",
       "    <tr>\n",
       "      <th>id</th>\n",
       "      <th></th>\n",
       "      <th></th>\n",
       "      <th></th>\n",
       "      <th></th>\n",
       "      <th></th>\n",
       "      <th></th>\n",
       "      <th></th>\n",
       "    </tr>\n",
       "  </thead>\n",
       "  <tbody>\n",
       "    <tr>\n",
       "      <th>754</th>\n",
       "      <td>Tuesday</td>\n",
       "      <td>4</td>\n",
       "      <td>night</td>\n",
       "      <td>4</td>\n",
       "      <td>True</td>\n",
       "      <td>False</td>\n",
       "      <td>1</td>\n",
       "    </tr>\n",
       "    <tr>\n",
       "      <th>105</th>\n",
       "      <td>Sunday</td>\n",
       "      <td>2</td>\n",
       "      <td>evening</td>\n",
       "      <td>3</td>\n",
       "      <td>True</td>\n",
       "      <td>False</td>\n",
       "      <td>1</td>\n",
       "    </tr>\n",
       "    <tr>\n",
       "      <th>872</th>\n",
       "      <td>Saturday</td>\n",
       "      <td>9</td>\n",
       "      <td>noon</td>\n",
       "      <td>13</td>\n",
       "      <td>True</td>\n",
       "      <td>False</td>\n",
       "      <td>2</td>\n",
       "    </tr>\n",
       "    <tr>\n",
       "      <th>916</th>\n",
       "      <td>Friday</td>\n",
       "      <td>4</td>\n",
       "      <td>after-noon</td>\n",
       "      <td>18</td>\n",
       "      <td>False</td>\n",
       "      <td>True</td>\n",
       "      <td>2</td>\n",
       "    </tr>\n",
       "    <tr>\n",
       "      <th>462</th>\n",
       "      <td>Friday</td>\n",
       "      <td>3</td>\n",
       "      <td>evening</td>\n",
       "      <td>21</td>\n",
       "      <td>False</td>\n",
       "      <td>True</td>\n",
       "      <td>2</td>\n",
       "    </tr>\n",
       "  </tbody>\n",
       "</table>\n",
       "</div>"
      ],
      "text/plain": [
       "    day_of_week  num_of_guests        hour  table  dessert  not_dessert  Bill\n",
       "id                                                                           \n",
       "754     Tuesday              4       night      4     True        False     1\n",
       "105      Sunday              2     evening      3     True        False     1\n",
       "872    Saturday              9        noon     13     True        False     2\n",
       "916      Friday              4  after-noon     18    False         True     2\n",
       "462      Friday              3     evening     21    False         True     2"
      ]
     },
     "execution_count": 163,
     "metadata": {},
     "output_type": "execute_result"
    }
   ],
   "source": [
    "# 4. Use rename() to change all the points (.) to underscores (_)\n",
    "df.rename(columns={\n",
    "    \"day.of.week\": \"day_of_week\",\n",
    "    \"num.of.guests\":\"num_of_guests\"},\n",
    "          inplace=True) \n",
    "#df.rename(mapper={\"day.of.week\": \"day_of_week\", \"num.of.guests\": \"num_of_guests\"}, axis=1, inplace=True)\n",
    "df.head()"
   ]
  },
  {
   "cell_type": "code",
   "execution_count": 164,
   "metadata": {},
   "outputs": [
    {
     "data": {
      "text/html": [
       "<div>\n",
       "<style scoped>\n",
       "    .dataframe tbody tr th:only-of-type {\n",
       "        vertical-align: middle;\n",
       "    }\n",
       "\n",
       "    .dataframe tbody tr th {\n",
       "        vertical-align: top;\n",
       "    }\n",
       "\n",
       "    .dataframe thead th {\n",
       "        text-align: right;\n",
       "    }\n",
       "</style>\n",
       "<table border=\"1\" class=\"dataframe\">\n",
       "  <thead>\n",
       "    <tr style=\"text-align: right;\">\n",
       "      <th></th>\n",
       "      <th>day_of_week</th>\n",
       "      <th>num_of_guests</th>\n",
       "      <th>hour</th>\n",
       "      <th>table</th>\n",
       "      <th>dessert</th>\n",
       "      <th>not_dessert</th>\n",
       "      <th>Bill</th>\n",
       "    </tr>\n",
       "    <tr>\n",
       "      <th>id</th>\n",
       "      <th></th>\n",
       "      <th></th>\n",
       "      <th></th>\n",
       "      <th></th>\n",
       "      <th></th>\n",
       "      <th></th>\n",
       "      <th></th>\n",
       "    </tr>\n",
       "  </thead>\n",
       "  <tbody>\n",
       "    <tr>\n",
       "      <th>105</th>\n",
       "      <td>Sunday</td>\n",
       "      <td>2</td>\n",
       "      <td>evening</td>\n",
       "      <td>3</td>\n",
       "      <td>True</td>\n",
       "      <td>False</td>\n",
       "      <td>1</td>\n",
       "    </tr>\n",
       "    <tr>\n",
       "      <th>872</th>\n",
       "      <td>Saturday</td>\n",
       "      <td>9</td>\n",
       "      <td>noon</td>\n",
       "      <td>13</td>\n",
       "      <td>True</td>\n",
       "      <td>False</td>\n",
       "      <td>2</td>\n",
       "    </tr>\n",
       "    <tr>\n",
       "      <th>814</th>\n",
       "      <td>Saturday</td>\n",
       "      <td>5</td>\n",
       "      <td>noon</td>\n",
       "      <td>3</td>\n",
       "      <td>True</td>\n",
       "      <td>False</td>\n",
       "      <td>3</td>\n",
       "    </tr>\n",
       "    <tr>\n",
       "      <th>400</th>\n",
       "      <td>Saturday</td>\n",
       "      <td>3</td>\n",
       "      <td>evening</td>\n",
       "      <td>5</td>\n",
       "      <td>False</td>\n",
       "      <td>True</td>\n",
       "      <td>3</td>\n",
       "    </tr>\n",
       "    <tr>\n",
       "      <th>508</th>\n",
       "      <td>Saturday</td>\n",
       "      <td>5</td>\n",
       "      <td>after-noon</td>\n",
       "      <td>8</td>\n",
       "      <td>False</td>\n",
       "      <td>True</td>\n",
       "      <td>3</td>\n",
       "    </tr>\n",
       "  </tbody>\n",
       "</table>\n",
       "</div>"
      ],
      "text/plain": [
       "    day_of_week  num_of_guests        hour  table  dessert  not_dessert  Bill\n",
       "id                                                                           \n",
       "105      Sunday              2     evening      3     True        False     1\n",
       "872    Saturday              9        noon     13     True        False     2\n",
       "814    Saturday              5        noon      3     True        False     3\n",
       "400    Saturday              3     evening      5    False         True     3\n",
       "508    Saturday              5  after-noon      8    False         True     3"
      ]
     },
     "execution_count": 164,
     "metadata": {},
     "output_type": "execute_result"
    }
   ],
   "source": [
    "# 5. Create separate dataframes for working days and weekends\n",
    "\n",
    "df_weekends = df.loc[df['day_of_week'].isin(['Saturday', 'Sunday'])]\n",
    "df_weekends.head()"
   ]
  },
  {
   "cell_type": "code",
   "execution_count": 165,
   "metadata": {},
   "outputs": [
    {
     "data": {
      "text/html": [
       "<div>\n",
       "<style scoped>\n",
       "    .dataframe tbody tr th:only-of-type {\n",
       "        vertical-align: middle;\n",
       "    }\n",
       "\n",
       "    .dataframe tbody tr th {\n",
       "        vertical-align: top;\n",
       "    }\n",
       "\n",
       "    .dataframe thead th {\n",
       "        text-align: right;\n",
       "    }\n",
       "</style>\n",
       "<table border=\"1\" class=\"dataframe\">\n",
       "  <thead>\n",
       "    <tr style=\"text-align: right;\">\n",
       "      <th></th>\n",
       "      <th>day_of_week</th>\n",
       "      <th>num_of_guests</th>\n",
       "      <th>hour</th>\n",
       "      <th>table</th>\n",
       "      <th>dessert</th>\n",
       "      <th>not_dessert</th>\n",
       "      <th>Bill</th>\n",
       "    </tr>\n",
       "    <tr>\n",
       "      <th>id</th>\n",
       "      <th></th>\n",
       "      <th></th>\n",
       "      <th></th>\n",
       "      <th></th>\n",
       "      <th></th>\n",
       "      <th></th>\n",
       "      <th></th>\n",
       "    </tr>\n",
       "  </thead>\n",
       "  <tbody>\n",
       "    <tr>\n",
       "      <th>754</th>\n",
       "      <td>Tuesday</td>\n",
       "      <td>4</td>\n",
       "      <td>night</td>\n",
       "      <td>4</td>\n",
       "      <td>True</td>\n",
       "      <td>False</td>\n",
       "      <td>1</td>\n",
       "    </tr>\n",
       "    <tr>\n",
       "      <th>916</th>\n",
       "      <td>Friday</td>\n",
       "      <td>4</td>\n",
       "      <td>after-noon</td>\n",
       "      <td>18</td>\n",
       "      <td>False</td>\n",
       "      <td>True</td>\n",
       "      <td>2</td>\n",
       "    </tr>\n",
       "    <tr>\n",
       "      <th>462</th>\n",
       "      <td>Friday</td>\n",
       "      <td>3</td>\n",
       "      <td>evening</td>\n",
       "      <td>21</td>\n",
       "      <td>False</td>\n",
       "      <td>True</td>\n",
       "      <td>2</td>\n",
       "    </tr>\n",
       "    <tr>\n",
       "      <th>719</th>\n",
       "      <td>Friday</td>\n",
       "      <td>2</td>\n",
       "      <td>after-noon</td>\n",
       "      <td>4</td>\n",
       "      <td>False</td>\n",
       "      <td>True</td>\n",
       "      <td>2</td>\n",
       "    </tr>\n",
       "    <tr>\n",
       "      <th>958</th>\n",
       "      <td>Monday</td>\n",
       "      <td>10</td>\n",
       "      <td>evening</td>\n",
       "      <td>17</td>\n",
       "      <td>True</td>\n",
       "      <td>False</td>\n",
       "      <td>2</td>\n",
       "    </tr>\n",
       "  </tbody>\n",
       "</table>\n",
       "</div>"
      ],
      "text/plain": [
       "    day_of_week  num_of_guests        hour  table  dessert  not_dessert  Bill\n",
       "id                                                                           \n",
       "754     Tuesday              4       night      4     True        False     1\n",
       "916      Friday              4  after-noon     18    False         True     2\n",
       "462      Friday              3     evening     21    False         True     2\n",
       "719      Friday              2  after-noon      4    False         True     2\n",
       "958      Monday             10     evening     17     True        False     2"
      ]
     },
     "execution_count": 165,
     "metadata": {},
     "output_type": "execute_result"
    }
   ],
   "source": [
    "df_work_days = df.loc[~df['day_of_week'].isin(['Saturday', 'Sunday'])]\n",
    "df_work_days.head()\n",
    "\n",
    "# df_weekend = df[(df.day_of_week == \"Friday\") | (df.day_of_week == \"Saturday\")]  # df[df.day_of_week.isin([\"Friday\", \"Saturday\"])]\n",
    "# df_weekend.head()"
   ]
  },
  {
   "cell_type": "markdown",
   "metadata": {
    "id": "eD_-3zdgbdZ7",
    "tags": []
   },
   "source": [
    "### Solution"
   ]
  },
  {
   "cell_type": "code",
   "execution_count": 166,
   "metadata": {
    "id": "8q1vF0h8ZDzY"
   },
   "outputs": [
    {
     "data": {
      "text/html": [
       "<div>\n",
       "<style scoped>\n",
       "    .dataframe tbody tr th:only-of-type {\n",
       "        vertical-align: middle;\n",
       "    }\n",
       "\n",
       "    .dataframe tbody tr th {\n",
       "        vertical-align: top;\n",
       "    }\n",
       "\n",
       "    .dataframe thead th {\n",
       "        text-align: right;\n",
       "    }\n",
       "</style>\n",
       "<table border=\"1\" class=\"dataframe\">\n",
       "  <thead>\n",
       "    <tr style=\"text-align: right;\">\n",
       "      <th></th>\n",
       "      <th>day_of_week</th>\n",
       "      <th>num_of_guests</th>\n",
       "      <th>hour</th>\n",
       "      <th>table</th>\n",
       "      <th>dessert</th>\n",
       "      <th>not_dessert</th>\n",
       "      <th>Bill</th>\n",
       "    </tr>\n",
       "    <tr>\n",
       "      <th>id</th>\n",
       "      <th></th>\n",
       "      <th></th>\n",
       "      <th></th>\n",
       "      <th></th>\n",
       "      <th></th>\n",
       "      <th></th>\n",
       "      <th></th>\n",
       "    </tr>\n",
       "  </thead>\n",
       "  <tbody>\n",
       "    <tr>\n",
       "      <th>754</th>\n",
       "      <td>Tuesday</td>\n",
       "      <td>4</td>\n",
       "      <td>night</td>\n",
       "      <td>4</td>\n",
       "      <td>True</td>\n",
       "      <td>False</td>\n",
       "      <td>1</td>\n",
       "    </tr>\n",
       "    <tr>\n",
       "      <th>105</th>\n",
       "      <td>Sunday</td>\n",
       "      <td>2</td>\n",
       "      <td>evening</td>\n",
       "      <td>3</td>\n",
       "      <td>True</td>\n",
       "      <td>False</td>\n",
       "      <td>1</td>\n",
       "    </tr>\n",
       "    <tr>\n",
       "      <th>872</th>\n",
       "      <td>Saturday</td>\n",
       "      <td>9</td>\n",
       "      <td>noon</td>\n",
       "      <td>13</td>\n",
       "      <td>True</td>\n",
       "      <td>False</td>\n",
       "      <td>2</td>\n",
       "    </tr>\n",
       "    <tr>\n",
       "      <th>916</th>\n",
       "      <td>Friday</td>\n",
       "      <td>4</td>\n",
       "      <td>after-noon</td>\n",
       "      <td>18</td>\n",
       "      <td>False</td>\n",
       "      <td>True</td>\n",
       "      <td>2</td>\n",
       "    </tr>\n",
       "    <tr>\n",
       "      <th>462</th>\n",
       "      <td>Friday</td>\n",
       "      <td>3</td>\n",
       "      <td>evening</td>\n",
       "      <td>21</td>\n",
       "      <td>False</td>\n",
       "      <td>True</td>\n",
       "      <td>2</td>\n",
       "    </tr>\n",
       "  </tbody>\n",
       "</table>\n",
       "</div>"
      ],
      "text/plain": [
       "    day_of_week  num_of_guests        hour  table  dessert  not_dessert  Bill\n",
       "id                                                                           \n",
       "754     Tuesday              4       night      4     True        False     1\n",
       "105      Sunday              2     evening      3     True        False     1\n",
       "872    Saturday              9        noon     13     True        False     2\n",
       "916      Friday              4  after-noon     18    False         True     2\n",
       "462      Friday              3     evening     21    False         True     2"
      ]
     },
     "execution_count": 166,
     "metadata": {},
     "output_type": "execute_result"
    }
   ],
   "source": [
    "# Add a column called not_dessert with the inverse of dessert\n",
    "df[\"not_dessert\"] = ~df[\"dessert\"]\n",
    "df.head()"
   ]
  },
  {
   "cell_type": "code",
   "execution_count": 167,
   "metadata": {
    "id": "DOXvZD-CZDzY"
   },
   "outputs": [],
   "source": [
    "# Add a column with random positive numbers and call it Bill\n",
    "from random import randint\n",
    "\n",
    "df[\"bill\"] = None\n",
    "df.bill = df.bill.apply(lambda _: randint(5, 200))\n",
    "df.head()\n",
    "\n",
    "# Alternatively (using simple for loops)\n",
    "random_bills = []\n",
    "for _ in range(len(df)):\n",
    "  random_bills.append(\n",
    "      randint(5, 200)\n",
    "  )\n",
    "df[\"bill\"] = random_bills\n",
    "\n",
    "# And yet another alternative\n",
    "# df[\"bill\"] = np.random.random_integers(5, 200, size=len(df))"
   ]
  },
  {
   "cell_type": "code",
   "execution_count": 168,
   "metadata": {
    "id": "LviitnbyZDzZ"
   },
   "outputs": [
    {
     "data": {
      "text/html": [
       "<div>\n",
       "<style scoped>\n",
       "    .dataframe tbody tr th:only-of-type {\n",
       "        vertical-align: middle;\n",
       "    }\n",
       "\n",
       "    .dataframe tbody tr th {\n",
       "        vertical-align: top;\n",
       "    }\n",
       "\n",
       "    .dataframe thead th {\n",
       "        text-align: right;\n",
       "    }\n",
       "</style>\n",
       "<table border=\"1\" class=\"dataframe\">\n",
       "  <thead>\n",
       "    <tr style=\"text-align: right;\">\n",
       "      <th></th>\n",
       "      <th>day_of_week</th>\n",
       "      <th>num_of_guests</th>\n",
       "      <th>hour</th>\n",
       "      <th>table</th>\n",
       "      <th>dessert</th>\n",
       "      <th>not_dessert</th>\n",
       "      <th>Bill</th>\n",
       "      <th>bill</th>\n",
       "    </tr>\n",
       "    <tr>\n",
       "      <th>id</th>\n",
       "      <th></th>\n",
       "      <th></th>\n",
       "      <th></th>\n",
       "      <th></th>\n",
       "      <th></th>\n",
       "      <th></th>\n",
       "      <th></th>\n",
       "      <th></th>\n",
       "    </tr>\n",
       "  </thead>\n",
       "  <tbody>\n",
       "    <tr>\n",
       "      <th>398</th>\n",
       "      <td>Thursday</td>\n",
       "      <td>5</td>\n",
       "      <td>evening</td>\n",
       "      <td>21</td>\n",
       "      <td>False</td>\n",
       "      <td>True</td>\n",
       "      <td>38</td>\n",
       "      <td>5</td>\n",
       "    </tr>\n",
       "    <tr>\n",
       "      <th>846</th>\n",
       "      <td>Tuesday</td>\n",
       "      <td>4</td>\n",
       "      <td>after-noon</td>\n",
       "      <td>13</td>\n",
       "      <td>False</td>\n",
       "      <td>True</td>\n",
       "      <td>68</td>\n",
       "      <td>5</td>\n",
       "    </tr>\n",
       "    <tr>\n",
       "      <th>347</th>\n",
       "      <td>Saturday</td>\n",
       "      <td>2</td>\n",
       "      <td>night</td>\n",
       "      <td>4</td>\n",
       "      <td>True</td>\n",
       "      <td>False</td>\n",
       "      <td>35</td>\n",
       "      <td>5</td>\n",
       "    </tr>\n",
       "    <tr>\n",
       "      <th>278</th>\n",
       "      <td>Saturday</td>\n",
       "      <td>2</td>\n",
       "      <td>after-noon</td>\n",
       "      <td>14</td>\n",
       "      <td>False</td>\n",
       "      <td>True</td>\n",
       "      <td>98</td>\n",
       "      <td>5</td>\n",
       "    </tr>\n",
       "    <tr>\n",
       "      <th>842</th>\n",
       "      <td>Sunday</td>\n",
       "      <td>5</td>\n",
       "      <td>night</td>\n",
       "      <td>19</td>\n",
       "      <td>True</td>\n",
       "      <td>False</td>\n",
       "      <td>47</td>\n",
       "      <td>5</td>\n",
       "    </tr>\n",
       "    <tr>\n",
       "      <th>...</th>\n",
       "      <td>...</td>\n",
       "      <td>...</td>\n",
       "      <td>...</td>\n",
       "      <td>...</td>\n",
       "      <td>...</td>\n",
       "      <td>...</td>\n",
       "      <td>...</td>\n",
       "      <td>...</td>\n",
       "    </tr>\n",
       "    <tr>\n",
       "      <th>716</th>\n",
       "      <td>Saturday</td>\n",
       "      <td>2</td>\n",
       "      <td>evening</td>\n",
       "      <td>7</td>\n",
       "      <td>True</td>\n",
       "      <td>False</td>\n",
       "      <td>81</td>\n",
       "      <td>200</td>\n",
       "    </tr>\n",
       "    <tr>\n",
       "      <th>437</th>\n",
       "      <td>Monday</td>\n",
       "      <td>3</td>\n",
       "      <td>after-noon</td>\n",
       "      <td>3</td>\n",
       "      <td>False</td>\n",
       "      <td>True</td>\n",
       "      <td>29</td>\n",
       "      <td>200</td>\n",
       "    </tr>\n",
       "    <tr>\n",
       "      <th>721</th>\n",
       "      <td>Wednesday</td>\n",
       "      <td>4</td>\n",
       "      <td>noon</td>\n",
       "      <td>12</td>\n",
       "      <td>True</td>\n",
       "      <td>False</td>\n",
       "      <td>67</td>\n",
       "      <td>200</td>\n",
       "    </tr>\n",
       "    <tr>\n",
       "      <th>338</th>\n",
       "      <td>Tuesday</td>\n",
       "      <td>4</td>\n",
       "      <td>evening</td>\n",
       "      <td>19</td>\n",
       "      <td>True</td>\n",
       "      <td>False</td>\n",
       "      <td>100</td>\n",
       "      <td>200</td>\n",
       "    </tr>\n",
       "    <tr>\n",
       "      <th>727</th>\n",
       "      <td>Monday</td>\n",
       "      <td>3</td>\n",
       "      <td>after-noon</td>\n",
       "      <td>8</td>\n",
       "      <td>False</td>\n",
       "      <td>True</td>\n",
       "      <td>39</td>\n",
       "      <td>200</td>\n",
       "    </tr>\n",
       "  </tbody>\n",
       "</table>\n",
       "<p>1000 rows × 8 columns</p>\n",
       "</div>"
      ],
      "text/plain": [
       "    day_of_week  num_of_guests        hour  table  dessert  not_dessert  Bill  \\\n",
       "id                                                                              \n",
       "398    Thursday              5     evening     21    False         True    38   \n",
       "846     Tuesday              4  after-noon     13    False         True    68   \n",
       "347    Saturday              2       night      4     True        False    35   \n",
       "278    Saturday              2  after-noon     14    False         True    98   \n",
       "842      Sunday              5       night     19     True        False    47   \n",
       "..          ...            ...         ...    ...      ...          ...   ...   \n",
       "716    Saturday              2     evening      7     True        False    81   \n",
       "437      Monday              3  after-noon      3    False         True    29   \n",
       "721   Wednesday              4        noon     12     True        False    67   \n",
       "338     Tuesday              4     evening     19     True        False   100   \n",
       "727      Monday              3  after-noon      8    False         True    39   \n",
       "\n",
       "     bill  \n",
       "id         \n",
       "398     5  \n",
       "846     5  \n",
       "347     5  \n",
       "278     5  \n",
       "842     5  \n",
       "..    ...  \n",
       "716   200  \n",
       "437   200  \n",
       "721   200  \n",
       "338   200  \n",
       "727   200  \n",
       "\n",
       "[1000 rows x 8 columns]"
      ]
     },
     "execution_count": 168,
     "metadata": {},
     "output_type": "execute_result"
    }
   ],
   "source": [
    "# Use sort_values() to sort the data by the bill\n",
    "df.sort_values(by=\"bill\")"
   ]
  },
  {
   "cell_type": "code",
   "execution_count": 169,
   "metadata": {
    "id": "-4SzW9OcZDzZ"
   },
   "outputs": [
    {
     "data": {
      "text/html": [
       "<div>\n",
       "<style scoped>\n",
       "    .dataframe tbody tr th:only-of-type {\n",
       "        vertical-align: middle;\n",
       "    }\n",
       "\n",
       "    .dataframe tbody tr th {\n",
       "        vertical-align: top;\n",
       "    }\n",
       "\n",
       "    .dataframe thead th {\n",
       "        text-align: right;\n",
       "    }\n",
       "</style>\n",
       "<table border=\"1\" class=\"dataframe\">\n",
       "  <thead>\n",
       "    <tr style=\"text-align: right;\">\n",
       "      <th></th>\n",
       "      <th>day_of_week</th>\n",
       "      <th>num_of_guests</th>\n",
       "      <th>hour</th>\n",
       "      <th>table</th>\n",
       "      <th>dessert</th>\n",
       "      <th>not_dessert</th>\n",
       "      <th>Bill</th>\n",
       "      <th>bill</th>\n",
       "    </tr>\n",
       "    <tr>\n",
       "      <th>id</th>\n",
       "      <th></th>\n",
       "      <th></th>\n",
       "      <th></th>\n",
       "      <th></th>\n",
       "      <th></th>\n",
       "      <th></th>\n",
       "      <th></th>\n",
       "      <th></th>\n",
       "    </tr>\n",
       "  </thead>\n",
       "  <tbody>\n",
       "    <tr>\n",
       "      <th>754</th>\n",
       "      <td>Tuesday</td>\n",
       "      <td>4</td>\n",
       "      <td>night</td>\n",
       "      <td>4</td>\n",
       "      <td>True</td>\n",
       "      <td>False</td>\n",
       "      <td>1</td>\n",
       "      <td>24</td>\n",
       "    </tr>\n",
       "    <tr>\n",
       "      <th>105</th>\n",
       "      <td>Sunday</td>\n",
       "      <td>2</td>\n",
       "      <td>evening</td>\n",
       "      <td>3</td>\n",
       "      <td>True</td>\n",
       "      <td>False</td>\n",
       "      <td>1</td>\n",
       "      <td>60</td>\n",
       "    </tr>\n",
       "    <tr>\n",
       "      <th>872</th>\n",
       "      <td>Saturday</td>\n",
       "      <td>9</td>\n",
       "      <td>noon</td>\n",
       "      <td>13</td>\n",
       "      <td>True</td>\n",
       "      <td>False</td>\n",
       "      <td>2</td>\n",
       "      <td>148</td>\n",
       "    </tr>\n",
       "    <tr>\n",
       "      <th>916</th>\n",
       "      <td>Friday</td>\n",
       "      <td>4</td>\n",
       "      <td>after-noon</td>\n",
       "      <td>18</td>\n",
       "      <td>False</td>\n",
       "      <td>True</td>\n",
       "      <td>2</td>\n",
       "      <td>169</td>\n",
       "    </tr>\n",
       "    <tr>\n",
       "      <th>462</th>\n",
       "      <td>Friday</td>\n",
       "      <td>3</td>\n",
       "      <td>evening</td>\n",
       "      <td>21</td>\n",
       "      <td>False</td>\n",
       "      <td>True</td>\n",
       "      <td>2</td>\n",
       "      <td>75</td>\n",
       "    </tr>\n",
       "  </tbody>\n",
       "</table>\n",
       "</div>"
      ],
      "text/plain": [
       "    day_of_week  num_of_guests        hour  table  dessert  not_dessert  Bill  \\\n",
       "id                                                                              \n",
       "754     Tuesday              4       night      4     True        False     1   \n",
       "105      Sunday              2     evening      3     True        False     1   \n",
       "872    Saturday              9        noon     13     True        False     2   \n",
       "916      Friday              4  after-noon     18    False         True     2   \n",
       "462      Friday              3     evening     21    False         True     2   \n",
       "\n",
       "     bill  \n",
       "id         \n",
       "754    24  \n",
       "105    60  \n",
       "872   148  \n",
       "916   169  \n",
       "462    75  "
      ]
     },
     "execution_count": 169,
     "metadata": {},
     "output_type": "execute_result"
    }
   ],
   "source": [
    "# Use rename() to change all the points (.) to underscores (_)\n",
    "df.rename(mapper={\"day.of.week\": \"day_of_week\", \"num.of.guests\": \"num_of_guests\"}, axis=1, inplace=True)\n",
    "df.head()"
   ]
  },
  {
   "cell_type": "code",
   "execution_count": 170,
   "metadata": {
    "id": "1k3pwcje9SWy"
   },
   "outputs": [
    {
     "data": {
      "text/html": [
       "<div>\n",
       "<style scoped>\n",
       "    .dataframe tbody tr th:only-of-type {\n",
       "        vertical-align: middle;\n",
       "    }\n",
       "\n",
       "    .dataframe tbody tr th {\n",
       "        vertical-align: top;\n",
       "    }\n",
       "\n",
       "    .dataframe thead th {\n",
       "        text-align: right;\n",
       "    }\n",
       "</style>\n",
       "<table border=\"1\" class=\"dataframe\">\n",
       "  <thead>\n",
       "    <tr style=\"text-align: right;\">\n",
       "      <th></th>\n",
       "      <th>day_of_week</th>\n",
       "      <th>num_of_guests</th>\n",
       "      <th>hour</th>\n",
       "      <th>table</th>\n",
       "      <th>dessert</th>\n",
       "      <th>not_dessert</th>\n",
       "      <th>Bill</th>\n",
       "      <th>bill</th>\n",
       "    </tr>\n",
       "    <tr>\n",
       "      <th>id</th>\n",
       "      <th></th>\n",
       "      <th></th>\n",
       "      <th></th>\n",
       "      <th></th>\n",
       "      <th></th>\n",
       "      <th></th>\n",
       "      <th></th>\n",
       "      <th></th>\n",
       "    </tr>\n",
       "  </thead>\n",
       "  <tbody>\n",
       "    <tr>\n",
       "      <th>754</th>\n",
       "      <td>Tuesday</td>\n",
       "      <td>4</td>\n",
       "      <td>night</td>\n",
       "      <td>4</td>\n",
       "      <td>True</td>\n",
       "      <td>False</td>\n",
       "      <td>1</td>\n",
       "      <td>24</td>\n",
       "    </tr>\n",
       "    <tr>\n",
       "      <th>105</th>\n",
       "      <td>Sunday</td>\n",
       "      <td>2</td>\n",
       "      <td>evening</td>\n",
       "      <td>3</td>\n",
       "      <td>True</td>\n",
       "      <td>False</td>\n",
       "      <td>1</td>\n",
       "      <td>60</td>\n",
       "    </tr>\n",
       "    <tr>\n",
       "      <th>872</th>\n",
       "      <td>Saturday</td>\n",
       "      <td>9</td>\n",
       "      <td>noon</td>\n",
       "      <td>13</td>\n",
       "      <td>True</td>\n",
       "      <td>False</td>\n",
       "      <td>2</td>\n",
       "      <td>148</td>\n",
       "    </tr>\n",
       "    <tr>\n",
       "      <th>916</th>\n",
       "      <td>Friday</td>\n",
       "      <td>4</td>\n",
       "      <td>after-noon</td>\n",
       "      <td>18</td>\n",
       "      <td>False</td>\n",
       "      <td>True</td>\n",
       "      <td>2</td>\n",
       "      <td>169</td>\n",
       "    </tr>\n",
       "    <tr>\n",
       "      <th>462</th>\n",
       "      <td>Friday</td>\n",
       "      <td>3</td>\n",
       "      <td>evening</td>\n",
       "      <td>21</td>\n",
       "      <td>False</td>\n",
       "      <td>True</td>\n",
       "      <td>2</td>\n",
       "      <td>75</td>\n",
       "    </tr>\n",
       "  </tbody>\n",
       "</table>\n",
       "</div>"
      ],
      "text/plain": [
       "    day_of_week  num_of_guests        hour  table  dessert  not_dessert  Bill  \\\n",
       "id                                                                              \n",
       "754     Tuesday              4       night      4     True        False     1   \n",
       "105      Sunday              2     evening      3     True        False     1   \n",
       "872    Saturday              9        noon     13     True        False     2   \n",
       "916      Friday              4  after-noon     18    False         True     2   \n",
       "462      Friday              3     evening     21    False         True     2   \n",
       "\n",
       "     bill  \n",
       "id         \n",
       "754    24  \n",
       "105    60  \n",
       "872   148  \n",
       "916   169  \n",
       "462    75  "
      ]
     },
     "execution_count": 170,
     "metadata": {},
     "output_type": "execute_result"
    }
   ],
   "source": [
    "# [for those interested...] Generic rename\n",
    "\n",
    "rename_dict = {}\n",
    "for column_name in df.columns:\n",
    "    if \".\" in column_name:\n",
    "        rename_dict[column_name] = column_name.replace(\".\", \"_\")\n",
    "\n",
    "df.rename(columns=rename_dict, inplace=True)\n",
    "df.head()"
   ]
  },
  {
   "cell_type": "code",
   "execution_count": 171,
   "metadata": {
    "id": "YGtO5SlVZDza"
   },
   "outputs": [
    {
     "data": {
      "text/html": [
       "<div>\n",
       "<style scoped>\n",
       "    .dataframe tbody tr th:only-of-type {\n",
       "        vertical-align: middle;\n",
       "    }\n",
       "\n",
       "    .dataframe tbody tr th {\n",
       "        vertical-align: top;\n",
       "    }\n",
       "\n",
       "    .dataframe thead th {\n",
       "        text-align: right;\n",
       "    }\n",
       "</style>\n",
       "<table border=\"1\" class=\"dataframe\">\n",
       "  <thead>\n",
       "    <tr style=\"text-align: right;\">\n",
       "      <th></th>\n",
       "      <th>day_of_week</th>\n",
       "      <th>num_of_guests</th>\n",
       "      <th>hour</th>\n",
       "      <th>table</th>\n",
       "      <th>dessert</th>\n",
       "      <th>not_dessert</th>\n",
       "      <th>Bill</th>\n",
       "      <th>bill</th>\n",
       "    </tr>\n",
       "    <tr>\n",
       "      <th>id</th>\n",
       "      <th></th>\n",
       "      <th></th>\n",
       "      <th></th>\n",
       "      <th></th>\n",
       "      <th></th>\n",
       "      <th></th>\n",
       "      <th></th>\n",
       "      <th></th>\n",
       "    </tr>\n",
       "  </thead>\n",
       "  <tbody>\n",
       "    <tr>\n",
       "      <th>872</th>\n",
       "      <td>Saturday</td>\n",
       "      <td>9</td>\n",
       "      <td>noon</td>\n",
       "      <td>13</td>\n",
       "      <td>True</td>\n",
       "      <td>False</td>\n",
       "      <td>2</td>\n",
       "      <td>148</td>\n",
       "    </tr>\n",
       "    <tr>\n",
       "      <th>916</th>\n",
       "      <td>Friday</td>\n",
       "      <td>4</td>\n",
       "      <td>after-noon</td>\n",
       "      <td>18</td>\n",
       "      <td>False</td>\n",
       "      <td>True</td>\n",
       "      <td>2</td>\n",
       "      <td>169</td>\n",
       "    </tr>\n",
       "    <tr>\n",
       "      <th>462</th>\n",
       "      <td>Friday</td>\n",
       "      <td>3</td>\n",
       "      <td>evening</td>\n",
       "      <td>21</td>\n",
       "      <td>False</td>\n",
       "      <td>True</td>\n",
       "      <td>2</td>\n",
       "      <td>75</td>\n",
       "    </tr>\n",
       "    <tr>\n",
       "      <th>719</th>\n",
       "      <td>Friday</td>\n",
       "      <td>2</td>\n",
       "      <td>after-noon</td>\n",
       "      <td>4</td>\n",
       "      <td>False</td>\n",
       "      <td>True</td>\n",
       "      <td>2</td>\n",
       "      <td>22</td>\n",
       "    </tr>\n",
       "    <tr>\n",
       "      <th>692</th>\n",
       "      <td>Friday</td>\n",
       "      <td>4</td>\n",
       "      <td>night</td>\n",
       "      <td>20</td>\n",
       "      <td>False</td>\n",
       "      <td>True</td>\n",
       "      <td>2</td>\n",
       "      <td>27</td>\n",
       "    </tr>\n",
       "  </tbody>\n",
       "</table>\n",
       "</div>"
      ],
      "text/plain": [
       "    day_of_week  num_of_guests        hour  table  dessert  not_dessert  Bill  \\\n",
       "id                                                                              \n",
       "872    Saturday              9        noon     13     True        False     2   \n",
       "916      Friday              4  after-noon     18    False         True     2   \n",
       "462      Friday              3     evening     21    False         True     2   \n",
       "719      Friday              2  after-noon      4    False         True     2   \n",
       "692      Friday              4       night     20    False         True     2   \n",
       "\n",
       "     bill  \n",
       "id         \n",
       "872   148  \n",
       "916   169  \n",
       "462    75  \n",
       "719    22  \n",
       "692    27  "
      ]
     },
     "execution_count": 171,
     "metadata": {},
     "output_type": "execute_result"
    }
   ],
   "source": [
    "# Create separate dataframes for working days and weekends\n",
    "df_weekend = df[(df.day_of_week == \"Friday\") | (df.day_of_week == \"Saturday\")]  # df[df.day_of_week.isin([\"Friday\", \"Saturday\"])]\n",
    "df_weekend.head()"
   ]
  },
  {
   "cell_type": "code",
   "execution_count": 172,
   "metadata": {
    "id": "b2yCRdt1ZDza"
   },
   "outputs": [
    {
     "data": {
      "text/html": [
       "<div>\n",
       "<style scoped>\n",
       "    .dataframe tbody tr th:only-of-type {\n",
       "        vertical-align: middle;\n",
       "    }\n",
       "\n",
       "    .dataframe tbody tr th {\n",
       "        vertical-align: top;\n",
       "    }\n",
       "\n",
       "    .dataframe thead th {\n",
       "        text-align: right;\n",
       "    }\n",
       "</style>\n",
       "<table border=\"1\" class=\"dataframe\">\n",
       "  <thead>\n",
       "    <tr style=\"text-align: right;\">\n",
       "      <th></th>\n",
       "      <th>day_of_week</th>\n",
       "      <th>num_of_guests</th>\n",
       "      <th>hour</th>\n",
       "      <th>table</th>\n",
       "      <th>dessert</th>\n",
       "      <th>not_dessert</th>\n",
       "      <th>Bill</th>\n",
       "      <th>bill</th>\n",
       "    </tr>\n",
       "    <tr>\n",
       "      <th>id</th>\n",
       "      <th></th>\n",
       "      <th></th>\n",
       "      <th></th>\n",
       "      <th></th>\n",
       "      <th></th>\n",
       "      <th></th>\n",
       "      <th></th>\n",
       "      <th></th>\n",
       "    </tr>\n",
       "  </thead>\n",
       "  <tbody>\n",
       "    <tr>\n",
       "      <th>754</th>\n",
       "      <td>Tuesday</td>\n",
       "      <td>4</td>\n",
       "      <td>night</td>\n",
       "      <td>4</td>\n",
       "      <td>True</td>\n",
       "      <td>False</td>\n",
       "      <td>1</td>\n",
       "      <td>24</td>\n",
       "    </tr>\n",
       "    <tr>\n",
       "      <th>105</th>\n",
       "      <td>Sunday</td>\n",
       "      <td>2</td>\n",
       "      <td>evening</td>\n",
       "      <td>3</td>\n",
       "      <td>True</td>\n",
       "      <td>False</td>\n",
       "      <td>1</td>\n",
       "      <td>60</td>\n",
       "    </tr>\n",
       "    <tr>\n",
       "      <th>958</th>\n",
       "      <td>Monday</td>\n",
       "      <td>10</td>\n",
       "      <td>evening</td>\n",
       "      <td>17</td>\n",
       "      <td>True</td>\n",
       "      <td>False</td>\n",
       "      <td>2</td>\n",
       "      <td>87</td>\n",
       "    </tr>\n",
       "    <tr>\n",
       "      <th>49</th>\n",
       "      <td>Tuesday</td>\n",
       "      <td>3</td>\n",
       "      <td>evening</td>\n",
       "      <td>7</td>\n",
       "      <td>True</td>\n",
       "      <td>False</td>\n",
       "      <td>2</td>\n",
       "      <td>192</td>\n",
       "    </tr>\n",
       "    <tr>\n",
       "      <th>668</th>\n",
       "      <td>Monday</td>\n",
       "      <td>2</td>\n",
       "      <td>evening</td>\n",
       "      <td>22</td>\n",
       "      <td>True</td>\n",
       "      <td>False</td>\n",
       "      <td>2</td>\n",
       "      <td>28</td>\n",
       "    </tr>\n",
       "  </tbody>\n",
       "</table>\n",
       "</div>"
      ],
      "text/plain": [
       "    day_of_week  num_of_guests     hour  table  dessert  not_dessert  Bill  \\\n",
       "id                                                                           \n",
       "754     Tuesday              4    night      4     True        False     1   \n",
       "105      Sunday              2  evening      3     True        False     1   \n",
       "958      Monday             10  evening     17     True        False     2   \n",
       "49      Tuesday              3  evening      7     True        False     2   \n",
       "668      Monday              2  evening     22     True        False     2   \n",
       "\n",
       "     bill  \n",
       "id         \n",
       "754    24  \n",
       "105    60  \n",
       "958    87  \n",
       "49    192  \n",
       "668    28  "
      ]
     },
     "execution_count": 172,
     "metadata": {},
     "output_type": "execute_result"
    }
   ],
   "source": [
    "df_working_days = df[(df.day_of_week != \"Friday\") & (df.day_of_week != \"Saturday\")]  # df[~df.day_of_week.isin([\"Friday\", \"Saturday\"])]\n",
    "df_working_days.head()"
   ]
  },
  {
   "cell_type": "markdown",
   "metadata": {
    "id": "lOtFbITLXpmO"
   },
   "source": [
    "### @@@ Extras"
   ]
  },
  {
   "cell_type": "code",
   "execution_count": 173,
   "metadata": {
    "id": "y5djwwEjXmqz"
   },
   "outputs": [
    {
     "data": {
      "text/html": [
       "<div>\n",
       "<style scoped>\n",
       "    .dataframe tbody tr th:only-of-type {\n",
       "        vertical-align: middle;\n",
       "    }\n",
       "\n",
       "    .dataframe tbody tr th {\n",
       "        vertical-align: top;\n",
       "    }\n",
       "\n",
       "    .dataframe thead th {\n",
       "        text-align: right;\n",
       "    }\n",
       "</style>\n",
       "<table border=\"1\" class=\"dataframe\">\n",
       "  <thead>\n",
       "    <tr style=\"text-align: right;\">\n",
       "      <th></th>\n",
       "      <th>day_of_week</th>\n",
       "      <th>num_of_guests</th>\n",
       "      <th>hour</th>\n",
       "      <th>table</th>\n",
       "      <th>dessert</th>\n",
       "      <th>not_dessert</th>\n",
       "      <th>Bill</th>\n",
       "      <th>bill</th>\n",
       "    </tr>\n",
       "    <tr>\n",
       "      <th>id</th>\n",
       "      <th></th>\n",
       "      <th></th>\n",
       "      <th></th>\n",
       "      <th></th>\n",
       "      <th></th>\n",
       "      <th></th>\n",
       "      <th></th>\n",
       "      <th></th>\n",
       "    </tr>\n",
       "  </thead>\n",
       "  <tbody>\n",
       "  </tbody>\n",
       "</table>\n",
       "</div>"
      ],
      "text/plain": [
       "Empty DataFrame\n",
       "Columns: [day_of_week, num_of_guests, hour, table, dessert, not_dessert, Bill, bill]\n",
       "Index: []"
      ]
     },
     "execution_count": 173,
     "metadata": {},
     "output_type": "execute_result"
    }
   ],
   "source": [
    "# Query\n",
    "df.query(\"Bill > 150 and hour == 'evening'\")\n",
    "# df[(df.Bill > 50) & (df.hour == 'evening')]"
   ]
  },
  {
   "cell_type": "code",
   "execution_count": 174,
   "metadata": {
    "id": "IDDxpW9ALqZn"
   },
   "outputs": [],
   "source": [
    "df.query?"
   ]
  },
  {
   "cell_type": "markdown",
   "metadata": {
    "id": "vwj8OgDMr8Ro"
   },
   "source": [
    "# The _GroupBy()_ class"
   ]
  },
  {
   "cell_type": "markdown",
   "metadata": {
    "id": "uo4S5Ao_r8Ro"
   },
   "source": [
    "_pandas_ supports many SQL-like featrues, including Boolean indexing (WHERE/HAVING), join() (JOIN), append() (UNION), sort_values() (ORDER BY) and many others. One of the most important features is the [_GroupBy_ class][1], which is a superset of  the GROUP BY command in SQL. It supports a neat **Split-Apply-Combine** mechanism which facilitates the application of (mostly) aggregative functions on sub-groups of the data.\n",
    "\n",
    "The _GroupBy_ Split-Apply-Combine mechanism has a fairly simple 2-step call.\n",
    "\n",
    "* The 1st step is to call _groupby(key)_. This will **split** the data by the specified _key_, and return a _GroupBy_ object.\n",
    "* The 2nd step is to call some aggregative function on the object. This will **apply** the function to each split and **combine** the results back.\n",
    "\n",
    "The returned value after the \"combine\" step is a new _DataFrame_, with the same rows as the original one, except for the _key_ column(s) which become the _index_.\n",
    "\n",
    "[1]: https://pandas.pydata.org/pandas-docs/stable/reference/groupby.html \"The GroupBy class\""
   ]
  },
  {
   "cell_type": "code",
   "execution_count": 175,
   "metadata": {
    "id": "g9Ppim5EZDzb"
   },
   "outputs": [
    {
     "data": {
      "text/html": [
       "<div>\n",
       "<style scoped>\n",
       "    .dataframe tbody tr th:only-of-type {\n",
       "        vertical-align: middle;\n",
       "    }\n",
       "\n",
       "    .dataframe tbody tr th {\n",
       "        vertical-align: top;\n",
       "    }\n",
       "\n",
       "    .dataframe thead th {\n",
       "        text-align: right;\n",
       "    }\n",
       "</style>\n",
       "<table border=\"1\" class=\"dataframe\">\n",
       "  <thead>\n",
       "    <tr style=\"text-align: right;\">\n",
       "      <th></th>\n",
       "      <th>day.of.week</th>\n",
       "      <th>num.of.guests</th>\n",
       "      <th>hour</th>\n",
       "      <th>table</th>\n",
       "      <th>dessert</th>\n",
       "    </tr>\n",
       "    <tr>\n",
       "      <th>id</th>\n",
       "      <th></th>\n",
       "      <th></th>\n",
       "      <th></th>\n",
       "      <th></th>\n",
       "      <th></th>\n",
       "    </tr>\n",
       "  </thead>\n",
       "  <tbody>\n",
       "    <tr>\n",
       "      <th>1</th>\n",
       "      <td>Monday</td>\n",
       "      <td>2</td>\n",
       "      <td>evening</td>\n",
       "      <td>13</td>\n",
       "      <td>True</td>\n",
       "    </tr>\n",
       "    <tr>\n",
       "      <th>2</th>\n",
       "      <td>Saturday</td>\n",
       "      <td>4</td>\n",
       "      <td>night</td>\n",
       "      <td>19</td>\n",
       "      <td>True</td>\n",
       "    </tr>\n",
       "    <tr>\n",
       "      <th>3</th>\n",
       "      <td>Saturday</td>\n",
       "      <td>4</td>\n",
       "      <td>after-noon</td>\n",
       "      <td>12</td>\n",
       "      <td>False</td>\n",
       "    </tr>\n",
       "    <tr>\n",
       "      <th>4</th>\n",
       "      <td>Thursday</td>\n",
       "      <td>3</td>\n",
       "      <td>night</td>\n",
       "      <td>5</td>\n",
       "      <td>True</td>\n",
       "    </tr>\n",
       "    <tr>\n",
       "      <th>5</th>\n",
       "      <td>Monday</td>\n",
       "      <td>7</td>\n",
       "      <td>noon</td>\n",
       "      <td>10</td>\n",
       "      <td>True</td>\n",
       "    </tr>\n",
       "  </tbody>\n",
       "</table>\n",
       "</div>"
      ],
      "text/plain": [
       "   day.of.week  num.of.guests        hour  table  dessert\n",
       "id                                                       \n",
       "1       Monday              2     evening     13     True\n",
       "2     Saturday              4       night     19     True\n",
       "3     Saturday              4  after-noon     12    False\n",
       "4     Thursday              3       night      5     True\n",
       "5       Monday              7        noon     10     True"
      ]
     },
     "execution_count": 175,
     "metadata": {},
     "output_type": "execute_result"
    }
   ],
   "source": [
    "df = pd.read_csv(\"dessert.csv\", index_col=\"id\")\n",
    "df.head()"
   ]
  },
  {
   "cell_type": "code",
   "execution_count": 176,
   "metadata": {},
   "outputs": [],
   "source": [
    "pd.read_csv?"
   ]
  },
  {
   "cell_type": "code",
   "execution_count": 177,
   "metadata": {},
   "outputs": [
    {
     "data": {
      "text/plain": [
       "<bound method DataFrame.info of      day.of.week  num.of.guests        hour  table  dessert\n",
       "id                                                         \n",
       "1         Monday              2     evening     13     True\n",
       "2       Saturday              4       night     19     True\n",
       "3       Saturday              4  after-noon     12    False\n",
       "4       Thursday              3       night      5     True\n",
       "5         Monday              7        noon     10     True\n",
       "...          ...            ...         ...    ...      ...\n",
       "996       Friday              3  after-noon      5    False\n",
       "997    Wednesday              5     evening     14     True\n",
       "998     Thursday              2     evening     20     True\n",
       "999     Saturday              2     evening      3     True\n",
       "1000      Friday              2     evening      9    False\n",
       "\n",
       "[1000 rows x 5 columns]>"
      ]
     },
     "execution_count": 177,
     "metadata": {},
     "output_type": "execute_result"
    }
   ],
   "source": [
    "df.info"
   ]
  },
  {
   "cell_type": "code",
   "execution_count": 178,
   "metadata": {
    "id": "erQeOs27r8Ro"
   },
   "outputs": [
    {
     "data": {
      "text/plain": [
       "<pandas.core.groupby.generic.DataFrameGroupBy object at 0x000002039CC0DAF0>"
      ]
     },
     "execution_count": 178,
     "metadata": {},
     "output_type": "execute_result"
    }
   ],
   "source": [
    "grpby_dow = df.groupby('day.of.week')\n",
    "grpby_dow"
   ]
  },
  {
   "cell_type": "code",
   "execution_count": 179,
   "metadata": {},
   "outputs": [
    {
     "name": "stdout",
     "output_type": "stream",
     "text": [
      "<class 'pandas.core.groupby.generic.DataFrameGroupBy'>\n"
     ]
    }
   ],
   "source": [
    "print(type(grpby_dow))"
   ]
  },
  {
   "cell_type": "code",
   "execution_count": 180,
   "metadata": {},
   "outputs": [
    {
     "data": {
      "text/plain": [
       "['Friday', 'Monday', 'Saturday', 'Sunday', 'Thursday', 'Tuesday', 'Wednesday']"
      ]
     },
     "execution_count": 180,
     "metadata": {},
     "output_type": "execute_result"
    }
   ],
   "source": [
    "list(grpby_dow.groups.keys())"
   ]
  },
  {
   "cell_type": "code",
   "execution_count": 181,
   "metadata": {
    "id": "ULUrfnnXM6Xg"
   },
   "outputs": [
    {
     "data": {
      "text/plain": [
       "3255"
      ]
     },
     "execution_count": 181,
     "metadata": {},
     "output_type": "execute_result"
    }
   ],
   "source": [
    "df['num.of.guests'].sum()"
   ]
  },
  {
   "cell_type": "code",
   "execution_count": 182,
   "metadata": {
    "id": "jaHYZAa6vI2l"
   },
   "outputs": [
    {
     "data": {
      "text/plain": [
       "day.of.week\n",
       "Friday       739\n",
       "Monday       337\n",
       "Saturday     714\n",
       "Sunday       301\n",
       "Thursday     346\n",
       "Tuesday      401\n",
       "Wednesday    417\n",
       "Name: num.of.guests, dtype: int64"
      ]
     },
     "execution_count": 182,
     "metadata": {},
     "output_type": "execute_result"
    }
   ],
   "source": [
    "(\n",
    "     df                       # dataframe      \n",
    "    .groupby('day.of.week')  # grouping criteria\n",
    "    [\"num.of.guests\"]        # which columns\n",
    "    .sum()                   # what agregation function? # returnes series\n",
    ")  \n"
   ]
  },
  {
   "cell_type": "markdown",
   "metadata": {
    "id": "FDxJSCvl9SWz"
   },
   "source": [
    "It is possible to groub by more than one column:"
   ]
  },
  {
   "cell_type": "code",
   "execution_count": 183,
   "metadata": {
    "id": "Wg7zs1Mhr8Rq"
   },
   "outputs": [
    {
     "data": {
      "text/plain": [
       "day.of.week  hour      \n",
       "Friday       after-noon     77\n",
       "             evening       338\n",
       "             night         122\n",
       "             noon          202\n",
       "Monday       after-noon     30\n",
       "             evening       154\n",
       "             night          53\n",
       "             noon          100\n",
       "Saturday     after-noon     56\n",
       "             evening       276\n",
       "             night         138\n",
       "             noon          244\n",
       "Sunday       after-noon     49\n",
       "             evening       127\n",
       "             night          58\n",
       "             noon           67\n",
       "Thursday     after-noon     29\n",
       "             evening       150\n",
       "             night          56\n",
       "             noon          111\n",
       "Tuesday      after-noon     42\n",
       "             evening       161\n",
       "             night          86\n",
       "             noon          112\n",
       "Wednesday    after-noon     39\n",
       "             evening       191\n",
       "             night          65\n",
       "             noon          122\n",
       "Name: num.of.guests, dtype: int64"
      ]
     },
     "execution_count": 183,
     "metadata": {},
     "output_type": "execute_result"
    }
   ],
   "source": [
    "grpby_dow_sum = df.groupby(['day.of.week', \"hour\"])[\"num.of.guests\"].sum()\n",
    "grpby_dow_sum"
   ]
  },
  {
   "cell_type": "code",
   "execution_count": 184,
   "metadata": {
    "id": "q9Vbk0o5xBtp"
   },
   "outputs": [
    {
     "data": {
      "text/plain": [
       "MultiIndex([(   'Friday', 'after-noon'),\n",
       "            (   'Friday',    'evening'),\n",
       "            (   'Friday',      'night'),\n",
       "            (   'Friday',       'noon'),\n",
       "            (   'Monday', 'after-noon'),\n",
       "            (   'Monday',    'evening'),\n",
       "            (   'Monday',      'night'),\n",
       "            (   'Monday',       'noon'),\n",
       "            ( 'Saturday', 'after-noon'),\n",
       "            ( 'Saturday',    'evening'),\n",
       "            ( 'Saturday',      'night'),\n",
       "            ( 'Saturday',       'noon'),\n",
       "            (   'Sunday', 'after-noon'),\n",
       "            (   'Sunday',    'evening'),\n",
       "            (   'Sunday',      'night'),\n",
       "            (   'Sunday',       'noon'),\n",
       "            ( 'Thursday', 'after-noon'),\n",
       "            ( 'Thursday',    'evening'),\n",
       "            ( 'Thursday',      'night'),\n",
       "            ( 'Thursday',       'noon'),\n",
       "            (  'Tuesday', 'after-noon'),\n",
       "            (  'Tuesday',    'evening'),\n",
       "            (  'Tuesday',      'night'),\n",
       "            (  'Tuesday',       'noon'),\n",
       "            ('Wednesday', 'after-noon'),\n",
       "            ('Wednesday',    'evening'),\n",
       "            ('Wednesday',      'night'),\n",
       "            ('Wednesday',       'noon')],\n",
       "           names=['day.of.week', 'hour'])"
      ]
     },
     "execution_count": 184,
     "metadata": {},
     "output_type": "execute_result"
    }
   ],
   "source": [
    "grpby_dow_sum.index"
   ]
  },
  {
   "cell_type": "code",
   "execution_count": 185,
   "metadata": {
    "id": "3Qn_X8Cm9SWz"
   },
   "outputs": [
    {
     "data": {
      "text/plain": [
       "65"
      ]
     },
     "execution_count": 185,
     "metadata": {},
     "output_type": "execute_result"
    }
   ],
   "source": [
    "# Extra - accessing using multi-index\n",
    "grpby_dow_sum[('Wednesday', 'night')]"
   ]
  },
  {
   "cell_type": "code",
   "execution_count": 186,
   "metadata": {
    "id": "eaI_olrHFAkW"
   },
   "outputs": [
    {
     "data": {
      "text/html": [
       "<div>\n",
       "<style scoped>\n",
       "    .dataframe tbody tr th:only-of-type {\n",
       "        vertical-align: middle;\n",
       "    }\n",
       "\n",
       "    .dataframe tbody tr th {\n",
       "        vertical-align: top;\n",
       "    }\n",
       "\n",
       "    .dataframe thead th {\n",
       "        text-align: right;\n",
       "    }\n",
       "</style>\n",
       "<table border=\"1\" class=\"dataframe\">\n",
       "  <thead>\n",
       "    <tr style=\"text-align: right;\">\n",
       "      <th></th>\n",
       "      <th>num.of.guests</th>\n",
       "      <th>dessert</th>\n",
       "      <th>table</th>\n",
       "    </tr>\n",
       "    <tr>\n",
       "      <th>day.of.week</th>\n",
       "      <th></th>\n",
       "      <th></th>\n",
       "      <th></th>\n",
       "    </tr>\n",
       "  </thead>\n",
       "  <tbody>\n",
       "    <tr>\n",
       "      <th>Friday</th>\n",
       "      <td>3.158120</td>\n",
       "      <td>68</td>\n",
       "      <td>2</td>\n",
       "    </tr>\n",
       "    <tr>\n",
       "      <th>Monday</th>\n",
       "      <td>3.209524</td>\n",
       "      <td>70</td>\n",
       "      <td>1</td>\n",
       "    </tr>\n",
       "    <tr>\n",
       "      <th>Saturday</th>\n",
       "      <td>3.320930</td>\n",
       "      <td>155</td>\n",
       "      <td>1</td>\n",
       "    </tr>\n",
       "    <tr>\n",
       "      <th>Sunday</th>\n",
       "      <td>3.202128</td>\n",
       "      <td>59</td>\n",
       "      <td>19</td>\n",
       "    </tr>\n",
       "    <tr>\n",
       "      <th>Thursday</th>\n",
       "      <td>3.392157</td>\n",
       "      <td>73</td>\n",
       "      <td>20</td>\n",
       "    </tr>\n",
       "    <tr>\n",
       "      <th>Tuesday</th>\n",
       "      <td>3.208000</td>\n",
       "      <td>110</td>\n",
       "      <td>[1, 8, 10, 13]</td>\n",
       "    </tr>\n",
       "    <tr>\n",
       "      <th>Wednesday</th>\n",
       "      <td>3.336000</td>\n",
       "      <td>115</td>\n",
       "      <td>23</td>\n",
       "    </tr>\n",
       "  </tbody>\n",
       "</table>\n",
       "</div>"
      ],
      "text/plain": [
       "             num.of.guests  dessert           table\n",
       "day.of.week                                        \n",
       "Friday            3.158120       68               2\n",
       "Monday            3.209524       70               1\n",
       "Saturday          3.320930      155               1\n",
       "Sunday            3.202128       59              19\n",
       "Thursday          3.392157       73              20\n",
       "Tuesday           3.208000      110  [1, 8, 10, 13]\n",
       "Wednesday         3.336000      115              23"
      ]
     },
     "execution_count": 186,
     "metadata": {},
     "output_type": "execute_result"
    }
   ],
   "source": [
    "df.groupby('day.of.week').agg(             # agg function\n",
    "    {\n",
    "        'num.of.guests': pd.Series.mean,\n",
    "        'dessert': sum,\n",
    "        \"table\": pd.Series.mode,\n",
    "     }\n",
    ")"
   ]
  },
  {
   "cell_type": "markdown",
   "metadata": {
    "id": "fRyNnvDAr8Rs"
   },
   "source": [
    "The apply-combine steps can be executed on a specific column(s)."
   ]
  },
  {
   "cell_type": "code",
   "execution_count": 187,
   "metadata": {
    "id": "Q3b2UspNr8Rs"
   },
   "outputs": [
    {
     "data": {
      "text/html": [
       "<div>\n",
       "<style scoped>\n",
       "    .dataframe tbody tr th:only-of-type {\n",
       "        vertical-align: middle;\n",
       "    }\n",
       "\n",
       "    .dataframe tbody tr th {\n",
       "        vertical-align: top;\n",
       "    }\n",
       "\n",
       "    .dataframe thead th {\n",
       "        text-align: right;\n",
       "    }\n",
       "</style>\n",
       "<table border=\"1\" class=\"dataframe\">\n",
       "  <thead>\n",
       "    <tr style=\"text-align: right;\">\n",
       "      <th></th>\n",
       "      <th>num.of.guests</th>\n",
       "      <th>hour</th>\n",
       "      <th>table</th>\n",
       "      <th>dessert</th>\n",
       "    </tr>\n",
       "    <tr>\n",
       "      <th>day.of.week</th>\n",
       "      <th></th>\n",
       "      <th></th>\n",
       "      <th></th>\n",
       "      <th></th>\n",
       "    </tr>\n",
       "  </thead>\n",
       "  <tbody>\n",
       "    <tr>\n",
       "      <th>Friday</th>\n",
       "      <td>234</td>\n",
       "      <td>234</td>\n",
       "      <td>234</td>\n",
       "      <td>234</td>\n",
       "    </tr>\n",
       "    <tr>\n",
       "      <th>Monday</th>\n",
       "      <td>105</td>\n",
       "      <td>105</td>\n",
       "      <td>105</td>\n",
       "      <td>105</td>\n",
       "    </tr>\n",
       "    <tr>\n",
       "      <th>Saturday</th>\n",
       "      <td>215</td>\n",
       "      <td>215</td>\n",
       "      <td>215</td>\n",
       "      <td>215</td>\n",
       "    </tr>\n",
       "    <tr>\n",
       "      <th>Sunday</th>\n",
       "      <td>94</td>\n",
       "      <td>94</td>\n",
       "      <td>94</td>\n",
       "      <td>94</td>\n",
       "    </tr>\n",
       "    <tr>\n",
       "      <th>Thursday</th>\n",
       "      <td>102</td>\n",
       "      <td>102</td>\n",
       "      <td>102</td>\n",
       "      <td>102</td>\n",
       "    </tr>\n",
       "    <tr>\n",
       "      <th>Tuesday</th>\n",
       "      <td>125</td>\n",
       "      <td>125</td>\n",
       "      <td>125</td>\n",
       "      <td>125</td>\n",
       "    </tr>\n",
       "    <tr>\n",
       "      <th>Wednesday</th>\n",
       "      <td>125</td>\n",
       "      <td>125</td>\n",
       "      <td>125</td>\n",
       "      <td>125</td>\n",
       "    </tr>\n",
       "  </tbody>\n",
       "</table>\n",
       "</div>"
      ],
      "text/plain": [
       "             num.of.guests  hour  table  dessert\n",
       "day.of.week                                     \n",
       "Friday                 234   234    234      234\n",
       "Monday                 105   105    105      105\n",
       "Saturday               215   215    215      215\n",
       "Sunday                  94    94     94       94\n",
       "Thursday               102   102    102      102\n",
       "Tuesday                125   125    125      125\n",
       "Wednesday              125   125    125      125"
      ]
     },
     "execution_count": 187,
     "metadata": {},
     "output_type": "execute_result"
    }
   ],
   "source": [
    "grpby_dow.count()"
   ]
  },
  {
   "cell_type": "code",
   "execution_count": 188,
   "metadata": {},
   "outputs": [
    {
     "data": {
      "text/plain": [
       "day.of.week\n",
       "Friday       234\n",
       "Monday       105\n",
       "Saturday     215\n",
       "Sunday        94\n",
       "Thursday     102\n",
       "Tuesday      125\n",
       "Wednesday    125\n",
       "Name: num.of.guests, dtype: int64"
      ]
     },
     "execution_count": 188,
     "metadata": {},
     "output_type": "execute_result"
    }
   ],
   "source": [
    "grpby_dow.count()['num.of.guests']"
   ]
  },
  {
   "cell_type": "code",
   "execution_count": 189,
   "metadata": {},
   "outputs": [
    {
     "data": {
      "text/plain": [
       "day.of.week\n",
       "Friday       234\n",
       "Monday       105\n",
       "Saturday     215\n",
       "Sunday        94\n",
       "Thursday     102\n",
       "Tuesday      125\n",
       "Wednesday    125\n",
       "Name: num.of.guests, dtype: int64"
      ]
     },
     "execution_count": 189,
     "metadata": {},
     "output_type": "execute_result"
    }
   ],
   "source": [
    "grpby_dow['num.of.guests'].count()"
   ]
  },
  {
   "cell_type": "markdown",
   "metadata": {
    "id": "KmkICNFFs3Y9"
   },
   "source": [
    "It worth noting that the grouping can be also applied using a function. This can be found in the [DataFrame.groupby() constructor](https://pandas.pydata.org/pandas-docs/stable/reference/api/pandas.DataFrame.groupby.html#pandas.DataFrame.groupby), and is illustrated below."
   ]
  },
  {
   "cell_type": "code",
   "execution_count": 190,
   "metadata": {
    "id": "KegJ_iIUZDzf"
   },
   "outputs": [],
   "source": [
    "def size_grouper(ix):\n",
    "    size = df.loc[ix, 'num.of.guests']\n",
    "    if size <= 6:\n",
    "        return 'Small'\n",
    "    else:\n",
    "        return 'Large'"
   ]
  },
  {
   "cell_type": "code",
   "execution_count": 191,
   "metadata": {
    "id": "XGKems5lpQI_"
   },
   "outputs": [],
   "source": [
    "grp_dessert = df.groupby(size_grouper)"
   ]
  },
  {
   "cell_type": "code",
   "execution_count": 192,
   "metadata": {
    "id": "D2yCuT-jZDzf"
   },
   "outputs": [
    {
     "data": {
      "text/html": [
       "<div>\n",
       "<style scoped>\n",
       "    .dataframe tbody tr th:only-of-type {\n",
       "        vertical-align: middle;\n",
       "    }\n",
       "\n",
       "    .dataframe tbody tr th {\n",
       "        vertical-align: top;\n",
       "    }\n",
       "\n",
       "    .dataframe thead th {\n",
       "        text-align: right;\n",
       "    }\n",
       "</style>\n",
       "<table border=\"1\" class=\"dataframe\">\n",
       "  <thead>\n",
       "    <tr style=\"text-align: right;\">\n",
       "      <th></th>\n",
       "      <th>day.of.week</th>\n",
       "      <th>num.of.guests</th>\n",
       "      <th>hour</th>\n",
       "      <th>table</th>\n",
       "      <th>dessert</th>\n",
       "    </tr>\n",
       "    <tr>\n",
       "      <th>id</th>\n",
       "      <th></th>\n",
       "      <th></th>\n",
       "      <th></th>\n",
       "      <th></th>\n",
       "      <th></th>\n",
       "    </tr>\n",
       "  </thead>\n",
       "  <tbody>\n",
       "    <tr>\n",
       "      <th>Large</th>\n",
       "      <td>54</td>\n",
       "      <td>54</td>\n",
       "      <td>54</td>\n",
       "      <td>54</td>\n",
       "      <td>54</td>\n",
       "    </tr>\n",
       "    <tr>\n",
       "      <th>Small</th>\n",
       "      <td>946</td>\n",
       "      <td>946</td>\n",
       "      <td>946</td>\n",
       "      <td>946</td>\n",
       "      <td>946</td>\n",
       "    </tr>\n",
       "  </tbody>\n",
       "</table>\n",
       "</div>"
      ],
      "text/plain": [
       "       day.of.week  num.of.guests  hour  table  dessert\n",
       "id                                                     \n",
       "Large           54             54    54     54       54\n",
       "Small          946            946   946    946      946"
      ]
     },
     "execution_count": 192,
     "metadata": {},
     "output_type": "execute_result"
    }
   ],
   "source": [
    "grp_dessert.count()"
   ]
  },
  {
   "cell_type": "code",
   "execution_count": 193,
   "metadata": {
    "id": "400zhOaTQBDp"
   },
   "outputs": [
    {
     "data": {
      "text/html": [
       "<div>\n",
       "<style scoped>\n",
       "    .dataframe tbody tr th:only-of-type {\n",
       "        vertical-align: middle;\n",
       "    }\n",
       "\n",
       "    .dataframe tbody tr th {\n",
       "        vertical-align: top;\n",
       "    }\n",
       "\n",
       "    .dataframe thead th {\n",
       "        text-align: right;\n",
       "    }\n",
       "</style>\n",
       "<table border=\"1\" class=\"dataframe\">\n",
       "  <thead>\n",
       "    <tr style=\"text-align: right;\">\n",
       "      <th></th>\n",
       "      <th>day.of.week</th>\n",
       "      <th>num.of.guests</th>\n",
       "      <th>hour</th>\n",
       "      <th>table</th>\n",
       "      <th>dessert</th>\n",
       "    </tr>\n",
       "    <tr>\n",
       "      <th>num.of.guests</th>\n",
       "      <th></th>\n",
       "      <th></th>\n",
       "      <th></th>\n",
       "      <th></th>\n",
       "      <th></th>\n",
       "    </tr>\n",
       "  </thead>\n",
       "  <tbody>\n",
       "    <tr>\n",
       "      <th>0</th>\n",
       "      <td>567</td>\n",
       "      <td>567</td>\n",
       "      <td>567</td>\n",
       "      <td>567</td>\n",
       "      <td>567</td>\n",
       "    </tr>\n",
       "    <tr>\n",
       "      <th>1</th>\n",
       "      <td>433</td>\n",
       "      <td>433</td>\n",
       "      <td>433</td>\n",
       "      <td>433</td>\n",
       "      <td>433</td>\n",
       "    </tr>\n",
       "  </tbody>\n",
       "</table>\n",
       "</div>"
      ],
      "text/plain": [
       "               day.of.week  num.of.guests  hour  table  dessert\n",
       "num.of.guests                                                  \n",
       "0                      567            567   567    567      567\n",
       "1                      433            433   433    433      433"
      ]
     },
     "execution_count": 193,
     "metadata": {},
     "output_type": "execute_result"
    }
   ],
   "source": [
    "# Even an expression can be used as a grouping criteria\n",
    "df.groupby(df[\"num.of.guests\"] % 2).count()"
   ]
  },
  {
   "cell_type": "code",
   "execution_count": 194,
   "metadata": {
    "id": "IF1zX4_A0-Ka"
   },
   "outputs": [
    {
     "data": {
      "text/html": [
       "<div>\n",
       "<style scoped>\n",
       "    .dataframe tbody tr th:only-of-type {\n",
       "        vertical-align: middle;\n",
       "    }\n",
       "\n",
       "    .dataframe tbody tr th {\n",
       "        vertical-align: top;\n",
       "    }\n",
       "\n",
       "    .dataframe thead th {\n",
       "        text-align: right;\n",
       "    }\n",
       "</style>\n",
       "<table border=\"1\" class=\"dataframe\">\n",
       "  <thead>\n",
       "    <tr style=\"text-align: right;\">\n",
       "      <th></th>\n",
       "      <th>dessert</th>\n",
       "      <th>num.of.guests</th>\n",
       "    </tr>\n",
       "    <tr>\n",
       "      <th>id</th>\n",
       "      <th></th>\n",
       "      <th></th>\n",
       "    </tr>\n",
       "  </thead>\n",
       "  <tbody>\n",
       "    <tr>\n",
       "      <th>Large</th>\n",
       "      <td>46</td>\n",
       "      <td>443</td>\n",
       "    </tr>\n",
       "    <tr>\n",
       "      <th>Small</th>\n",
       "      <td>604</td>\n",
       "      <td>2812</td>\n",
       "    </tr>\n",
       "  </tbody>\n",
       "</table>\n",
       "</div>"
      ],
      "text/plain": [
       "       dessert  num.of.guests\n",
       "id                           \n",
       "Large       46            443\n",
       "Small      604           2812"
      ]
     },
     "execution_count": 194,
     "metadata": {},
     "output_type": "execute_result"
    }
   ],
   "source": [
    "df.groupby(size_grouper)[['dessert', \"num.of.guests\"]].sum()"
   ]
  },
  {
   "cell_type": "code",
   "execution_count": 195,
   "metadata": {},
   "outputs": [
    {
     "data": {
      "text/html": [
       "<div>\n",
       "<style scoped>\n",
       "    .dataframe tbody tr th:only-of-type {\n",
       "        vertical-align: middle;\n",
       "    }\n",
       "\n",
       "    .dataframe tbody tr th {\n",
       "        vertical-align: top;\n",
       "    }\n",
       "\n",
       "    .dataframe thead th {\n",
       "        text-align: right;\n",
       "    }\n",
       "</style>\n",
       "<table border=\"1\" class=\"dataframe\">\n",
       "  <thead>\n",
       "    <tr style=\"text-align: right;\">\n",
       "      <th></th>\n",
       "      <th>num.of.guests</th>\n",
       "    </tr>\n",
       "    <tr>\n",
       "      <th>id</th>\n",
       "      <th></th>\n",
       "    </tr>\n",
       "  </thead>\n",
       "  <tbody>\n",
       "    <tr>\n",
       "      <th>Large</th>\n",
       "      <td>443</td>\n",
       "    </tr>\n",
       "    <tr>\n",
       "      <th>Small</th>\n",
       "      <td>2812</td>\n",
       "    </tr>\n",
       "  </tbody>\n",
       "</table>\n",
       "</div>"
      ],
      "text/plain": [
       "       num.of.guests\n",
       "id                  \n",
       "Large            443\n",
       "Small           2812"
      ]
     },
     "execution_count": 195,
     "metadata": {},
     "output_type": "execute_result"
    }
   ],
   "source": [
    "df.groupby(size_grouper)[[\"num.of.guests\"]].sum() # table with one column is series"
   ]
  },
  {
   "cell_type": "code",
   "execution_count": 196,
   "metadata": {},
   "outputs": [
    {
     "data": {
      "text/html": [
       "<div>\n",
       "<style scoped>\n",
       "    .dataframe tbody tr th:only-of-type {\n",
       "        vertical-align: middle;\n",
       "    }\n",
       "\n",
       "    .dataframe tbody tr th {\n",
       "        vertical-align: top;\n",
       "    }\n",
       "\n",
       "    .dataframe thead th {\n",
       "        text-align: right;\n",
       "    }\n",
       "</style>\n",
       "<table border=\"1\" class=\"dataframe\">\n",
       "  <thead>\n",
       "    <tr style=\"text-align: right;\">\n",
       "      <th></th>\n",
       "      <th>day.of.week</th>\n",
       "      <th>num.of.guests</th>\n",
       "      <th>hour</th>\n",
       "      <th>table</th>\n",
       "      <th>dessert</th>\n",
       "    </tr>\n",
       "    <tr>\n",
       "      <th>num.of.guests</th>\n",
       "      <th></th>\n",
       "      <th></th>\n",
       "      <th></th>\n",
       "      <th></th>\n",
       "      <th></th>\n",
       "    </tr>\n",
       "  </thead>\n",
       "  <tbody>\n",
       "    <tr>\n",
       "      <th>0</th>\n",
       "      <td>567</td>\n",
       "      <td>567</td>\n",
       "      <td>567</td>\n",
       "      <td>567</td>\n",
       "      <td>567</td>\n",
       "    </tr>\n",
       "    <tr>\n",
       "      <th>1</th>\n",
       "      <td>433</td>\n",
       "      <td>433</td>\n",
       "      <td>433</td>\n",
       "      <td>433</td>\n",
       "      <td>433</td>\n",
       "    </tr>\n",
       "  </tbody>\n",
       "</table>\n",
       "</div>"
      ],
      "text/plain": [
       "               day.of.week  num.of.guests  hour  table  dessert\n",
       "num.of.guests                                                  \n",
       "0                      567            567   567    567      567\n",
       "1                      433            433   433    433      433"
      ]
     },
     "execution_count": 196,
     "metadata": {},
     "output_type": "execute_result"
    }
   ],
   "source": [
    "# even an expression can be used as grouping criteria\n",
    "df.groupby(df[\"num.of.guests\"] % 2).count()"
   ]
  },
  {
   "cell_type": "code",
   "execution_count": 197,
   "metadata": {},
   "outputs": [
    {
     "data": {
      "text/html": [
       "<div>\n",
       "<style scoped>\n",
       "    .dataframe tbody tr th:only-of-type {\n",
       "        vertical-align: middle;\n",
       "    }\n",
       "\n",
       "    .dataframe tbody tr th {\n",
       "        vertical-align: top;\n",
       "    }\n",
       "\n",
       "    .dataframe thead th {\n",
       "        text-align: right;\n",
       "    }\n",
       "</style>\n",
       "<table border=\"1\" class=\"dataframe\">\n",
       "  <thead>\n",
       "    <tr style=\"text-align: right;\">\n",
       "      <th></th>\n",
       "      <th>day.of.week</th>\n",
       "      <th>num.of.guests</th>\n",
       "      <th>hour</th>\n",
       "      <th>table</th>\n",
       "      <th>dessert</th>\n",
       "      <th>year</th>\n",
       "    </tr>\n",
       "    <tr>\n",
       "      <th>id</th>\n",
       "      <th></th>\n",
       "      <th></th>\n",
       "      <th></th>\n",
       "      <th></th>\n",
       "      <th></th>\n",
       "      <th></th>\n",
       "    </tr>\n",
       "  </thead>\n",
       "  <tbody>\n",
       "    <tr>\n",
       "      <th>1</th>\n",
       "      <td>Monday</td>\n",
       "      <td>2</td>\n",
       "      <td>evening</td>\n",
       "      <td>13</td>\n",
       "      <td>True</td>\n",
       "      <td>2001</td>\n",
       "    </tr>\n",
       "    <tr>\n",
       "      <th>2</th>\n",
       "      <td>Saturday</td>\n",
       "      <td>4</td>\n",
       "      <td>night</td>\n",
       "      <td>19</td>\n",
       "      <td>True</td>\n",
       "      <td>1989</td>\n",
       "    </tr>\n",
       "    <tr>\n",
       "      <th>3</th>\n",
       "      <td>Saturday</td>\n",
       "      <td>4</td>\n",
       "      <td>after-noon</td>\n",
       "      <td>12</td>\n",
       "      <td>False</td>\n",
       "      <td>2018</td>\n",
       "    </tr>\n",
       "    <tr>\n",
       "      <th>4</th>\n",
       "      <td>Thursday</td>\n",
       "      <td>3</td>\n",
       "      <td>night</td>\n",
       "      <td>5</td>\n",
       "      <td>True</td>\n",
       "      <td>1992</td>\n",
       "    </tr>\n",
       "    <tr>\n",
       "      <th>5</th>\n",
       "      <td>Monday</td>\n",
       "      <td>7</td>\n",
       "      <td>noon</td>\n",
       "      <td>10</td>\n",
       "      <td>True</td>\n",
       "      <td>2003</td>\n",
       "    </tr>\n",
       "    <tr>\n",
       "      <th>...</th>\n",
       "      <td>...</td>\n",
       "      <td>...</td>\n",
       "      <td>...</td>\n",
       "      <td>...</td>\n",
       "      <td>...</td>\n",
       "      <td>...</td>\n",
       "    </tr>\n",
       "    <tr>\n",
       "      <th>996</th>\n",
       "      <td>Friday</td>\n",
       "      <td>3</td>\n",
       "      <td>after-noon</td>\n",
       "      <td>5</td>\n",
       "      <td>False</td>\n",
       "      <td>1987</td>\n",
       "    </tr>\n",
       "    <tr>\n",
       "      <th>997</th>\n",
       "      <td>Wednesday</td>\n",
       "      <td>5</td>\n",
       "      <td>evening</td>\n",
       "      <td>14</td>\n",
       "      <td>True</td>\n",
       "      <td>2004</td>\n",
       "    </tr>\n",
       "    <tr>\n",
       "      <th>998</th>\n",
       "      <td>Thursday</td>\n",
       "      <td>2</td>\n",
       "      <td>evening</td>\n",
       "      <td>20</td>\n",
       "      <td>True</td>\n",
       "      <td>1999</td>\n",
       "    </tr>\n",
       "    <tr>\n",
       "      <th>999</th>\n",
       "      <td>Saturday</td>\n",
       "      <td>2</td>\n",
       "      <td>evening</td>\n",
       "      <td>3</td>\n",
       "      <td>True</td>\n",
       "      <td>1965</td>\n",
       "    </tr>\n",
       "    <tr>\n",
       "      <th>1000</th>\n",
       "      <td>Friday</td>\n",
       "      <td>2</td>\n",
       "      <td>evening</td>\n",
       "      <td>9</td>\n",
       "      <td>False</td>\n",
       "      <td>1963</td>\n",
       "    </tr>\n",
       "  </tbody>\n",
       "</table>\n",
       "<p>1000 rows × 6 columns</p>\n",
       "</div>"
      ],
      "text/plain": [
       "     day.of.week  num.of.guests        hour  table  dessert  year\n",
       "id                                                               \n",
       "1         Monday              2     evening     13     True  2001\n",
       "2       Saturday              4       night     19     True  1989\n",
       "3       Saturday              4  after-noon     12    False  2018\n",
       "4       Thursday              3       night      5     True  1992\n",
       "5         Monday              7        noon     10     True  2003\n",
       "...          ...            ...         ...    ...      ...   ...\n",
       "996       Friday              3  after-noon      5    False  1987\n",
       "997    Wednesday              5     evening     14     True  2004\n",
       "998     Thursday              2     evening     20     True  1999\n",
       "999     Saturday              2     evening      3     True  1965\n",
       "1000      Friday              2     evening      9    False  1963\n",
       "\n",
       "[1000 rows x 6 columns]"
      ]
     },
     "execution_count": 197,
     "metadata": {},
     "output_type": "execute_result"
    }
   ],
   "source": [
    "# This list comprehension generates a list of random integers between 1950 (inclusive) and 2024 (exclusive), \n",
    "# with the length equal to the number of rows in the DataFrame.\n",
    "# for _ in range(len(df))\n",
    "# The _ is used as a placeholder variable that is not intended to be used in the loop. It's a common convention to use _ for variables that are not needed in the loop body.\n",
    "\n",
    "df[\"year\"] = [np.random.randint(1950, 2024) for _ in range(len(df))]\n",
    "df   "
   ]
  },
  {
   "cell_type": "code",
   "execution_count": 198,
   "metadata": {},
   "outputs": [
    {
     "data": {
      "text/plain": [
       "id\n",
       "1       2000\n",
       "2       1980\n",
       "3       2010\n",
       "4       1990\n",
       "5       2000\n",
       "        ... \n",
       "996     1980\n",
       "997     2000\n",
       "998     1990\n",
       "999     1960\n",
       "1000    1960\n",
       "Name: year, Length: 1000, dtype: int64"
      ]
     },
     "execution_count": 198,
     "metadata": {},
     "output_type": "execute_result"
    }
   ],
   "source": [
    "(df.year // 10) * 10 # generates decade year"
   ]
  },
  {
   "cell_type": "markdown",
   "metadata": {
    "id": "eMMZbrlFdEgE"
   },
   "source": [
    "> **Your turn:**\n",
    "> * Find the names which are both boy and girl names.\n",
    "> * How many distinct names are there per year?\n",
    "> * What is the most common name per year?\n"
   ]
  },
  {
   "cell_type": "code",
   "execution_count": 199,
   "metadata": {
    "id": "qiKYZIGKzGNe"
   },
   "outputs": [],
   "source": [
    "df_names = pd.read_csv('baby_names.csv')"
   ]
  },
  {
   "cell_type": "code",
   "execution_count": 200,
   "metadata": {
    "id": "Am8H9f4WbdaC",
    "tags": []
   },
   "outputs": [
    {
     "data": {
      "text/html": [
       "<div>\n",
       "<style scoped>\n",
       "    .dataframe tbody tr th:only-of-type {\n",
       "        vertical-align: middle;\n",
       "    }\n",
       "\n",
       "    .dataframe tbody tr th {\n",
       "        vertical-align: top;\n",
       "    }\n",
       "\n",
       "    .dataframe thead th {\n",
       "        text-align: right;\n",
       "    }\n",
       "</style>\n",
       "<table border=\"1\" class=\"dataframe\">\n",
       "  <thead>\n",
       "    <tr style=\"text-align: right;\">\n",
       "      <th></th>\n",
       "      <th>year</th>\n",
       "      <th>name</th>\n",
       "      <th>prop</th>\n",
       "      <th>sex</th>\n",
       "      <th>soundex</th>\n",
       "    </tr>\n",
       "  </thead>\n",
       "  <tbody>\n",
       "    <tr>\n",
       "      <th>187675</th>\n",
       "      <td>1938</td>\n",
       "      <td>Robin</td>\n",
       "      <td>0.000091</td>\n",
       "      <td>girl</td>\n",
       "      <td>R150</td>\n",
       "    </tr>\n",
       "    <tr>\n",
       "      <th>185438</th>\n",
       "      <td>1936</td>\n",
       "      <td>Annabelle</td>\n",
       "      <td>0.000201</td>\n",
       "      <td>girl</td>\n",
       "      <td>A514</td>\n",
       "    </tr>\n",
       "    <tr>\n",
       "      <th>86058</th>\n",
       "      <td>1966</td>\n",
       "      <td>Wayne</td>\n",
       "      <td>0.002690</td>\n",
       "      <td>boy</td>\n",
       "      <td>W500</td>\n",
       "    </tr>\n",
       "    <tr>\n",
       "      <th>40987</th>\n",
       "      <td>1920</td>\n",
       "      <td>Ewell</td>\n",
       "      <td>0.000045</td>\n",
       "      <td>boy</td>\n",
       "      <td>E400</td>\n",
       "    </tr>\n",
       "    <tr>\n",
       "      <th>105105</th>\n",
       "      <td>1985</td>\n",
       "      <td>Luke</td>\n",
       "      <td>0.001425</td>\n",
       "      <td>boy</td>\n",
       "      <td>L200</td>\n",
       "    </tr>\n",
       "  </tbody>\n",
       "</table>\n",
       "</div>"
      ],
      "text/plain": [
       "        year       name      prop   sex soundex\n",
       "187675  1938      Robin  0.000091  girl    R150\n",
       "185438  1936  Annabelle  0.000201  girl    A514\n",
       "86058   1966      Wayne  0.002690   boy    W500\n",
       "40987   1920      Ewell  0.000045   boy    E400\n",
       "105105  1985       Luke  0.001425   boy    L200"
      ]
     },
     "execution_count": 200,
     "metadata": {},
     "output_type": "execute_result"
    }
   ],
   "source": [
    "df_names.sample(5)"
   ]
  },
  {
   "cell_type": "markdown",
   "metadata": {
    "id": "TYa0goaJbdaD",
    "tags": []
   },
   "source": [
    "### Solution"
   ]
  },
  {
   "cell_type": "code",
   "execution_count": 201,
   "metadata": {
    "id": "WKA4napjbdaD"
   },
   "outputs": [
    {
     "data": {
      "text/plain": [
       "{'Aaron',\n",
       " 'Abbie',\n",
       " 'Ada',\n",
       " 'Addie',\n",
       " 'Addison',\n",
       " 'Adrian',\n",
       " 'Agnes',\n",
       " 'Akira',\n",
       " 'Alba',\n",
       " 'Albert',\n",
       " 'Alex',\n",
       " 'Alexander',\n",
       " 'Alexis',\n",
       " 'Alfred',\n",
       " 'Ali',\n",
       " 'Alice',\n",
       " 'Allie',\n",
       " 'Allison',\n",
       " 'Allyn',\n",
       " 'Alma',\n",
       " 'Alpha',\n",
       " 'Alta',\n",
       " 'Alva',\n",
       " 'Amanda',\n",
       " 'Amari',\n",
       " 'Amy',\n",
       " 'Andra',\n",
       " 'Andrea',\n",
       " 'Andrew',\n",
       " 'Angel',\n",
       " 'Angela',\n",
       " 'Ann',\n",
       " 'Anna',\n",
       " 'Annie',\n",
       " 'Anthony',\n",
       " 'Antonia',\n",
       " 'Archie',\n",
       " 'Ardell',\n",
       " 'Arden',\n",
       " 'Ariel',\n",
       " 'Arley',\n",
       " 'Arlie',\n",
       " 'Armani',\n",
       " 'Arthur',\n",
       " 'Artie',\n",
       " 'Ashley',\n",
       " 'Ashton',\n",
       " 'Atha',\n",
       " 'Aubrey',\n",
       " 'Audie',\n",
       " 'Audrey',\n",
       " 'Augusta',\n",
       " 'Augustine',\n",
       " 'Austin',\n",
       " 'Avery',\n",
       " 'Baby',\n",
       " 'Bailey',\n",
       " 'Barbara',\n",
       " 'Beatrice',\n",
       " 'Bee',\n",
       " 'Bell',\n",
       " 'Bennie',\n",
       " 'Bernice',\n",
       " 'Bert',\n",
       " 'Bertha',\n",
       " 'Bertie',\n",
       " 'Beryl',\n",
       " 'Bessie',\n",
       " 'Bethel',\n",
       " 'Betty',\n",
       " 'Beulah',\n",
       " 'Beverly',\n",
       " 'Billie',\n",
       " 'Billy',\n",
       " 'Bird',\n",
       " 'Blair',\n",
       " 'Blake',\n",
       " 'Blanche',\n",
       " 'Bobbie',\n",
       " 'Bobby',\n",
       " 'Bonnie',\n",
       " 'Brandon',\n",
       " 'Brandy',\n",
       " 'Brenda',\n",
       " 'Brett',\n",
       " 'Brian',\n",
       " 'Britt',\n",
       " 'Brittany',\n",
       " 'Brook',\n",
       " 'Burnice',\n",
       " 'Byrd',\n",
       " 'Callie',\n",
       " 'Cameron',\n",
       " 'Camille',\n",
       " 'Campbell',\n",
       " 'Camryn',\n",
       " 'Carey',\n",
       " 'Carl',\n",
       " 'Carlie',\n",
       " 'Carmel',\n",
       " 'Carmen',\n",
       " 'Carol',\n",
       " 'Caroline',\n",
       " 'Carolyn',\n",
       " 'Carrie',\n",
       " 'Carrol',\n",
       " 'Carroll',\n",
       " 'Carson',\n",
       " 'Cary',\n",
       " 'Casey',\n",
       " 'Cassidy',\n",
       " 'Cassie',\n",
       " 'Catherine',\n",
       " 'Cecil',\n",
       " 'Chandler',\n",
       " 'Channing',\n",
       " 'Charles',\n",
       " 'Charlie',\n",
       " 'Chase',\n",
       " 'Cheryl',\n",
       " 'Chester',\n",
       " 'Cheyenne',\n",
       " 'Chris',\n",
       " 'Christian',\n",
       " 'Christina',\n",
       " 'Christopher',\n",
       " 'Christy',\n",
       " 'Clair',\n",
       " 'Claire',\n",
       " 'Clara',\n",
       " 'Clare',\n",
       " 'Clarence',\n",
       " 'Claude',\n",
       " 'Claudie',\n",
       " 'Clem',\n",
       " 'Clemence',\n",
       " 'Clemmie',\n",
       " 'Cleo',\n",
       " 'Clifford',\n",
       " 'Clyde',\n",
       " 'Cody',\n",
       " 'Connie',\n",
       " 'Cora',\n",
       " 'Corey',\n",
       " 'Cortney',\n",
       " 'Cory',\n",
       " 'Courtney',\n",
       " 'Cruz',\n",
       " 'Crystal',\n",
       " 'Cynthia',\n",
       " 'Daisy',\n",
       " 'Dakota',\n",
       " 'Dale',\n",
       " 'Dallas',\n",
       " 'Dana',\n",
       " 'Daniel',\n",
       " 'Danielle',\n",
       " 'Dannie',\n",
       " 'Darby',\n",
       " 'Darcy',\n",
       " 'Darian',\n",
       " 'Daryl',\n",
       " 'Dave',\n",
       " 'David',\n",
       " 'Dean',\n",
       " 'Deborah',\n",
       " 'Debra',\n",
       " 'Dee',\n",
       " 'Dell',\n",
       " 'Della',\n",
       " 'Delma',\n",
       " 'Dennie',\n",
       " 'Dennis',\n",
       " 'Dessie',\n",
       " 'Devan',\n",
       " 'Devin',\n",
       " 'Devon',\n",
       " 'Devyn',\n",
       " 'Dewey',\n",
       " 'Diamond',\n",
       " 'Diane',\n",
       " 'Dixie',\n",
       " 'Dolores',\n",
       " 'Dominique',\n",
       " 'Dominque',\n",
       " 'Domonique',\n",
       " 'Donald',\n",
       " 'Donna',\n",
       " 'Donnie',\n",
       " 'Dora',\n",
       " 'Doris',\n",
       " 'Dorothy',\n",
       " 'Dorris',\n",
       " 'Drew',\n",
       " 'Dusty',\n",
       " 'Dylan',\n",
       " 'Earl',\n",
       " 'Earlie',\n",
       " 'Eddie',\n",
       " 'Eden',\n",
       " 'Edgar',\n",
       " 'Edie',\n",
       " 'Edith',\n",
       " 'Edna',\n",
       " 'Edward',\n",
       " 'Effie',\n",
       " 'Eleanor',\n",
       " 'Elgie',\n",
       " 'Elisha',\n",
       " 'Eliza',\n",
       " 'Elizabeth',\n",
       " 'Ella',\n",
       " 'Ellen',\n",
       " 'Ellie',\n",
       " 'Ellis',\n",
       " 'Elmer',\n",
       " 'Elsie',\n",
       " 'Elva',\n",
       " 'Elvie',\n",
       " 'Elza',\n",
       " 'Elzie',\n",
       " 'Emerson',\n",
       " 'Emery',\n",
       " 'Emma',\n",
       " 'Eric',\n",
       " 'Erie',\n",
       " 'Erin',\n",
       " 'Ernest',\n",
       " 'Essie',\n",
       " 'Esta',\n",
       " 'Estell',\n",
       " 'Ester',\n",
       " 'Esther',\n",
       " 'Ethel',\n",
       " 'Eugene',\n",
       " 'Eula',\n",
       " 'Eunice',\n",
       " 'Eva',\n",
       " 'Evelyn',\n",
       " 'Fannie',\n",
       " 'Fay',\n",
       " 'Fern',\n",
       " 'Finley',\n",
       " 'Flora',\n",
       " 'Florence',\n",
       " 'Floy',\n",
       " 'Floyd',\n",
       " 'Forest',\n",
       " 'Forrest',\n",
       " 'Frances',\n",
       " 'Francis',\n",
       " 'Frank',\n",
       " 'Frankie',\n",
       " 'Fred',\n",
       " 'Freddie',\n",
       " 'Gabriel',\n",
       " 'Gail',\n",
       " 'Gale',\n",
       " 'Garnet',\n",
       " 'Garnett',\n",
       " 'Gary',\n",
       " 'Gay',\n",
       " 'Gayle',\n",
       " 'Gene',\n",
       " 'Genie',\n",
       " 'George',\n",
       " 'Georgia',\n",
       " 'Georgie',\n",
       " 'Gerald',\n",
       " 'Germaine',\n",
       " 'Gerry',\n",
       " 'Gertrude',\n",
       " 'Gladys',\n",
       " 'Glenn',\n",
       " 'Gloria',\n",
       " 'Golden',\n",
       " 'Goldie',\n",
       " 'Grace',\n",
       " 'Grover',\n",
       " 'Guadalupe',\n",
       " 'Gussie',\n",
       " 'Hadley',\n",
       " 'Halley',\n",
       " 'Hallie',\n",
       " 'Harley',\n",
       " 'Harold',\n",
       " 'Harper',\n",
       " 'Harry',\n",
       " 'Hattie',\n",
       " 'Haven',\n",
       " 'Hayden',\n",
       " 'Hazel',\n",
       " 'Heather',\n",
       " 'Helen',\n",
       " 'Henry',\n",
       " 'Hester',\n",
       " 'Hilary',\n",
       " 'Hillary',\n",
       " 'Hollie',\n",
       " 'Hollis',\n",
       " 'Holly',\n",
       " 'Hope',\n",
       " 'Howard',\n",
       " 'Hunter',\n",
       " 'Ida',\n",
       " 'Infant',\n",
       " 'Ira',\n",
       " 'Irene',\n",
       " 'Iva',\n",
       " 'Ivey',\n",
       " 'Ivory',\n",
       " 'Ivy',\n",
       " 'Jack',\n",
       " 'Jackie',\n",
       " 'Jade',\n",
       " 'Jaden',\n",
       " 'Jadyn',\n",
       " 'Jaiden',\n",
       " 'Jaidyn',\n",
       " 'Jaime',\n",
       " 'Jaimie',\n",
       " 'James',\n",
       " 'Jamey',\n",
       " 'Jamie',\n",
       " 'Jammie',\n",
       " 'Jan',\n",
       " 'Janet',\n",
       " 'Janice',\n",
       " 'Jasmine',\n",
       " 'Jason',\n",
       " 'Jayden',\n",
       " 'Jaylen',\n",
       " 'Jaylin',\n",
       " 'Jayme',\n",
       " 'Jean',\n",
       " 'Jeffie',\n",
       " 'Jeffrey',\n",
       " 'Jennie',\n",
       " 'Jennifer',\n",
       " 'Jensen',\n",
       " 'Jeremy',\n",
       " 'Jerry',\n",
       " 'Jesse',\n",
       " 'Jessica',\n",
       " 'Jessie',\n",
       " 'Jettie',\n",
       " 'Jewel',\n",
       " 'Jewell',\n",
       " 'Jimmie',\n",
       " 'Jimmy',\n",
       " 'Joan',\n",
       " 'Jodie',\n",
       " 'Jody',\n",
       " 'Joe',\n",
       " 'Joey',\n",
       " 'John',\n",
       " 'Johnie',\n",
       " 'Johnnie',\n",
       " 'Johnny',\n",
       " 'Jonathan',\n",
       " 'Jonnie',\n",
       " 'Jordan',\n",
       " 'Jordyn',\n",
       " 'Joseph',\n",
       " 'Josephine',\n",
       " 'Joshua',\n",
       " 'Joy',\n",
       " 'Joyce',\n",
       " 'Judith',\n",
       " 'Judy',\n",
       " 'Jule',\n",
       " 'Julia',\n",
       " 'June',\n",
       " 'Justice',\n",
       " 'Justin',\n",
       " 'Justine',\n",
       " 'Kamari',\n",
       " 'Kameron',\n",
       " 'Kamryn',\n",
       " 'Karen',\n",
       " 'Kasey',\n",
       " 'Katherine',\n",
       " 'Kathleen',\n",
       " 'Kathryn',\n",
       " 'Kay',\n",
       " 'Kayden',\n",
       " 'Kaye',\n",
       " 'Kelley',\n",
       " 'Kelly',\n",
       " 'Kelsey',\n",
       " 'Kendal',\n",
       " 'Kendall',\n",
       " 'Kennedy',\n",
       " 'Kenneth',\n",
       " 'Kenya',\n",
       " 'Kenyatta',\n",
       " 'Kerry',\n",
       " 'Kevin',\n",
       " 'Kiara',\n",
       " 'Kiley',\n",
       " 'Kim',\n",
       " 'Kimberly',\n",
       " 'Kirby',\n",
       " 'Kris',\n",
       " 'Kristen',\n",
       " 'Kristian',\n",
       " 'Kristin',\n",
       " 'Kyle',\n",
       " 'Lacey',\n",
       " 'Lacy',\n",
       " 'Lannie',\n",
       " 'Larry',\n",
       " 'Larue',\n",
       " 'Lashawn',\n",
       " 'Laura',\n",
       " 'Laurel',\n",
       " 'Lauren',\n",
       " 'Laurie',\n",
       " 'Lavern',\n",
       " 'Laverne',\n",
       " 'Lavon',\n",
       " 'Lea',\n",
       " 'Lee',\n",
       " 'Leigh',\n",
       " 'Leland',\n",
       " 'Lena',\n",
       " 'Lennie',\n",
       " 'Leo',\n",
       " 'Leona',\n",
       " 'Lesley',\n",
       " 'Leslie',\n",
       " 'Lessie',\n",
       " 'Lester',\n",
       " 'Lexie',\n",
       " 'Lillian',\n",
       " 'Lillie',\n",
       " 'Linda',\n",
       " 'Lindsay',\n",
       " 'Lindsey',\n",
       " 'Lindy',\n",
       " 'Linnie',\n",
       " 'Lisa',\n",
       " 'Lizzie',\n",
       " 'Logan',\n",
       " 'Lois',\n",
       " 'Lola',\n",
       " 'London',\n",
       " 'Lonie',\n",
       " 'Lonnie',\n",
       " 'Lora',\n",
       " 'Loren',\n",
       " 'Lorenza',\n",
       " 'Lou',\n",
       " 'Louie',\n",
       " 'Louis',\n",
       " 'Louise',\n",
       " 'Love',\n",
       " 'Lovie',\n",
       " 'Lucille',\n",
       " 'Lucy',\n",
       " 'Lue',\n",
       " 'Lula',\n",
       " 'Lupe',\n",
       " 'Luverne',\n",
       " 'Lyn',\n",
       " 'Lynn',\n",
       " 'Lyric',\n",
       " 'Mabel',\n",
       " 'Mackenzie',\n",
       " 'Madison',\n",
       " 'Mae',\n",
       " 'Maggie',\n",
       " 'Mamie',\n",
       " 'Mannie',\n",
       " 'Margaret',\n",
       " 'Maria',\n",
       " 'Marian',\n",
       " 'Marie',\n",
       " 'Marilyn',\n",
       " 'Marion',\n",
       " 'Mark',\n",
       " 'Marley',\n",
       " 'Marlo',\n",
       " 'Marlyn',\n",
       " 'Martha',\n",
       " 'Marty',\n",
       " 'Mary',\n",
       " 'Matthew',\n",
       " 'Mattie',\n",
       " 'Maud',\n",
       " 'Maude',\n",
       " 'Maurice',\n",
       " 'Maxie',\n",
       " 'May',\n",
       " 'Mckinley',\n",
       " 'Melissa',\n",
       " 'Mell',\n",
       " 'Melvin',\n",
       " 'Meredith',\n",
       " 'Merle',\n",
       " 'Micah',\n",
       " 'Michael',\n",
       " 'Michal',\n",
       " 'Michele',\n",
       " 'Michelle',\n",
       " 'Mickey',\n",
       " 'Mildred',\n",
       " 'Minnie',\n",
       " 'Montana',\n",
       " 'Montie',\n",
       " 'Morgan',\n",
       " 'Murl',\n",
       " 'Myrl',\n",
       " 'Myrtle',\n",
       " 'Nakia',\n",
       " 'Nancy',\n",
       " 'Nellie',\n",
       " 'Nicholas',\n",
       " 'Nicole',\n",
       " 'Noel',\n",
       " 'Nora',\n",
       " 'Norman',\n",
       " 'Ocie',\n",
       " 'Oda',\n",
       " 'Odell',\n",
       " 'Odie',\n",
       " 'Ola',\n",
       " 'Olie',\n",
       " 'Olive',\n",
       " 'Ollie',\n",
       " 'Opal',\n",
       " 'Ora',\n",
       " 'Oral',\n",
       " 'Orrie',\n",
       " 'Osie',\n",
       " 'Ossie',\n",
       " 'Otha',\n",
       " 'Ottie',\n",
       " 'Ova',\n",
       " 'Ozell',\n",
       " 'Ozie',\n",
       " 'Pamela',\n",
       " 'Paris',\n",
       " 'Parker',\n",
       " 'Pat',\n",
       " 'Patricia',\n",
       " 'Patsy',\n",
       " 'Paul',\n",
       " 'Pauline',\n",
       " 'Payton',\n",
       " 'Pearl',\n",
       " 'Pearlie',\n",
       " 'Perry',\n",
       " 'Peyton',\n",
       " 'Phoenix',\n",
       " 'Pink',\n",
       " 'Presley',\n",
       " 'Quinn',\n",
       " 'Rachel',\n",
       " 'Rae',\n",
       " 'Ralph',\n",
       " 'Randy',\n",
       " 'Raven',\n",
       " 'Ray',\n",
       " 'Raymond',\n",
       " 'Reagan',\n",
       " 'Rebecca',\n",
       " 'Reese',\n",
       " 'Regan',\n",
       " 'Reilly',\n",
       " 'Rene',\n",
       " 'Rhoda',\n",
       " 'Richard',\n",
       " 'Ricki',\n",
       " 'Riley',\n",
       " 'Robbie',\n",
       " 'Robbin',\n",
       " 'Robert',\n",
       " 'Robin',\n",
       " 'Roma',\n",
       " 'Ronald',\n",
       " 'Ronnie',\n",
       " 'Rory',\n",
       " 'Rosa',\n",
       " 'Rosario',\n",
       " 'Rose',\n",
       " 'Rossie',\n",
       " 'Rowan',\n",
       " 'Roy',\n",
       " 'Ruby',\n",
       " 'Ruth',\n",
       " 'Ryan',\n",
       " 'Rylee',\n",
       " 'Sage',\n",
       " 'Samantha',\n",
       " 'Sammie',\n",
       " 'Sandra',\n",
       " 'Sandy',\n",
       " 'Santana',\n",
       " 'Santos',\n",
       " 'Sarah',\n",
       " 'Scott',\n",
       " 'Shane',\n",
       " 'Shannon',\n",
       " 'Shanon',\n",
       " 'Sharon',\n",
       " 'Shaun',\n",
       " 'Shawn',\n",
       " 'Shay',\n",
       " 'Shea',\n",
       " 'Shelby',\n",
       " 'Shelley',\n",
       " 'Shellie',\n",
       " 'Shelly',\n",
       " 'Sheridan',\n",
       " 'Sherrill',\n",
       " 'Shirley',\n",
       " 'Sidney',\n",
       " 'Skylar',\n",
       " 'Skyler',\n",
       " 'Stacey',\n",
       " 'Stacy',\n",
       " 'Stephanie',\n",
       " 'Steven',\n",
       " 'Stevie',\n",
       " 'Susan',\n",
       " 'Susie',\n",
       " 'Sydney',\n",
       " 'Tammy',\n",
       " 'Tayler',\n",
       " 'Taylor',\n",
       " 'Teagan',\n",
       " 'Terry',\n",
       " 'Thelma',\n",
       " 'Theo',\n",
       " 'Thomas',\n",
       " 'Tiffany',\n",
       " 'Timothy',\n",
       " 'Tina',\n",
       " 'Toby',\n",
       " 'Tom',\n",
       " 'Tommie',\n",
       " 'Tory',\n",
       " 'Tracey',\n",
       " 'Tracy',\n",
       " 'Trinidad',\n",
       " 'Trinity',\n",
       " 'Tristan',\n",
       " 'Tristen',\n",
       " 'Troy',\n",
       " 'Tyler',\n",
       " 'Unknown',\n",
       " 'Val',\n",
       " 'Valentine',\n",
       " 'Vera',\n",
       " 'Verna',\n",
       " 'Verne',\n",
       " 'Vernell',\n",
       " 'Vernie',\n",
       " 'Vernon',\n",
       " 'Viola',\n",
       " 'Virgie',\n",
       " 'Virgil',\n",
       " 'Virginia',\n",
       " 'Vivian',\n",
       " 'Walter',\n",
       " 'Whitney',\n",
       " 'Will',\n",
       " 'William',\n",
       " 'Willie',\n",
       " 'Winifred',\n",
       " 'Winnie',\n",
       " 'Zion'}"
      ]
     },
     "execution_count": 201,
     "metadata": {},
     "output_type": "execute_result"
    }
   ],
   "source": [
    "# Find the names which are both boy and girl names.\n",
    "\n",
    "set(df_names[df_names.sex == \"boy\"].name.unique()) & set(df_names[df_names.sex == \"girl\"].name.unique())"
   ]
  },
  {
   "cell_type": "code",
   "execution_count": 202,
   "metadata": {
    "id": "cLy_rhRjbdaD"
   },
   "outputs": [
    {
     "data": {
      "text/plain": [
       "year\n",
       "1880    1884\n",
       "1881    1885\n",
       "1882    1898\n",
       "1883    1884\n",
       "1884    1886\n",
       "        ... \n",
       "2004    1931\n",
       "2005    1935\n",
       "2006    1941\n",
       "2007    1938\n",
       "2008    1936\n",
       "Name: name, Length: 129, dtype: int64"
      ]
     },
     "execution_count": 202,
     "metadata": {},
     "output_type": "execute_result"
    }
   ],
   "source": [
    "# How many distinct names are there per year?\n",
    "df_names.groupby(\"year\").name.apply(lambda per_year_names: per_year_names.nunique())"
   ]
  },
  {
   "cell_type": "code",
   "execution_count": 203,
   "metadata": {
    "id": "PImOCa-KbdaD"
   },
   "outputs": [
    {
     "data": {
      "text/plain": [
       "year        \n",
       "1888  8000         John\n",
       "1936  56000      Robert\n",
       "1971  91000     Michael\n",
       "1954  74000     Michael\n",
       "1880  0            John\n",
       "1943  63000       James\n",
       "1890  10000        John\n",
       "1957  77000     Michael\n",
       "1908  28000        John\n",
       "1905  25000        John\n",
       "1974  94000     Michael\n",
       "1963  83000     Michael\n",
       "1992  112000    Michael\n",
       "1949  198000      Linda\n",
       "1965  85000     Michael\n",
       "1940  60000       James\n",
       "1953  73000      Robert\n",
       "1904  24000        John\n",
       "1947  196000      Linda\n",
       "1899  19000        John\n",
       "Name: name, dtype: object"
      ]
     },
     "execution_count": 203,
     "metadata": {},
     "output_type": "execute_result"
    }
   ],
   "source": [
    "# What is the most common name per year?\n",
    "(\n",
    "    df_names\n",
    "    .groupby(\"year\")\n",
    "    .apply(lambda year_group: year_group[year_group.prop == year_group.prop.max()].name)\n",
    "    .sample(20)\n",
    ")"
   ]
  },
  {
   "cell_type": "markdown",
   "metadata": {
    "id": "lZ4PBfnKdsAB"
   },
   "source": [
    "## [optional] Additional GroupBy operations"
   ]
  },
  {
   "cell_type": "markdown",
   "metadata": {
    "id": "-Ol0TlGil3jU"
   },
   "source": [
    "In the apply step, we might wish to do one of the following:\n",
    "* **Aggregation (`apply()`):** compute a summary statistic (or statistics) for each group. (This is the type of examples we've just seen)\n",
    "* **Transformation (`transform()`):** perform some group-specific computations and return a like-indexed object.\n",
    "* **Filtration (`filter()`):** discard some groups, according to a group-wise computation that evaluates True or False.\n",
    "\n",
    "We will see examples of these functionalities in our pandas practice later in this course."
   ]
  },
  {
   "cell_type": "code",
   "execution_count": 204,
   "metadata": {
    "id": "ZBsS6X_q0Q8X"
   },
   "outputs": [
    {
     "data": {
      "text/html": [
       "<div>\n",
       "<style scoped>\n",
       "    .dataframe tbody tr th:only-of-type {\n",
       "        vertical-align: middle;\n",
       "    }\n",
       "\n",
       "    .dataframe tbody tr th {\n",
       "        vertical-align: top;\n",
       "    }\n",
       "\n",
       "    .dataframe thead th {\n",
       "        text-align: right;\n",
       "    }\n",
       "</style>\n",
       "<table border=\"1\" class=\"dataframe\">\n",
       "  <thead>\n",
       "    <tr style=\"text-align: right;\">\n",
       "      <th></th>\n",
       "      <th>day.of.week</th>\n",
       "      <th>num.of.guests</th>\n",
       "      <th>hour</th>\n",
       "      <th>table</th>\n",
       "      <th>dessert</th>\n",
       "    </tr>\n",
       "    <tr>\n",
       "      <th>id</th>\n",
       "      <th></th>\n",
       "      <th></th>\n",
       "      <th></th>\n",
       "      <th></th>\n",
       "      <th></th>\n",
       "    </tr>\n",
       "  </thead>\n",
       "  <tbody>\n",
       "    <tr>\n",
       "      <th>1</th>\n",
       "      <td>Monday</td>\n",
       "      <td>2</td>\n",
       "      <td>evening</td>\n",
       "      <td>13</td>\n",
       "      <td>True</td>\n",
       "    </tr>\n",
       "    <tr>\n",
       "      <th>2</th>\n",
       "      <td>Saturday</td>\n",
       "      <td>4</td>\n",
       "      <td>night</td>\n",
       "      <td>19</td>\n",
       "      <td>True</td>\n",
       "    </tr>\n",
       "    <tr>\n",
       "      <th>3</th>\n",
       "      <td>Saturday</td>\n",
       "      <td>4</td>\n",
       "      <td>after-noon</td>\n",
       "      <td>12</td>\n",
       "      <td>False</td>\n",
       "    </tr>\n",
       "    <tr>\n",
       "      <th>4</th>\n",
       "      <td>Thursday</td>\n",
       "      <td>3</td>\n",
       "      <td>night</td>\n",
       "      <td>5</td>\n",
       "      <td>True</td>\n",
       "    </tr>\n",
       "    <tr>\n",
       "      <th>5</th>\n",
       "      <td>Monday</td>\n",
       "      <td>7</td>\n",
       "      <td>noon</td>\n",
       "      <td>10</td>\n",
       "      <td>True</td>\n",
       "    </tr>\n",
       "  </tbody>\n",
       "</table>\n",
       "</div>"
      ],
      "text/plain": [
       "   day.of.week  num.of.guests        hour  table  dessert\n",
       "id                                                       \n",
       "1       Monday              2     evening     13     True\n",
       "2     Saturday              4       night     19     True\n",
       "3     Saturday              4  after-noon     12    False\n",
       "4     Thursday              3       night      5     True\n",
       "5       Monday              7        noon     10     True"
      ]
     },
     "execution_count": 204,
     "metadata": {},
     "output_type": "execute_result"
    }
   ],
   "source": [
    "df = pd.read_csv(\"dessert.csv\", index_col=\"id\")\n",
    "df.head()"
   ]
  },
  {
   "cell_type": "code",
   "execution_count": 205,
   "metadata": {
    "id": "rYvUE4po62vd"
   },
   "outputs": [
    {
     "data": {
      "text/plain": [
       "day.of.week\n",
       "Friday       2\n",
       "Monday       2\n",
       "Saturday     2\n",
       "Sunday       2\n",
       "Thursday     2\n",
       "Tuesday      2\n",
       "Wednesday    2\n",
       "dtype: int64"
      ]
     },
     "execution_count": 205,
     "metadata": {},
     "output_type": "execute_result"
    }
   ],
   "source": [
    "# .apply\n",
    "# Argument to .apply is a function which takes a set of rows, a group.\n",
    "# In statistics \"mode\" refers to a value which appears most often.\n",
    "def mode(df_single_group):\n",
    "  return df_single_group[\"num.of.guests\"].value_counts().index[0]\n",
    "\n",
    "df.groupby(\"day.of.week\").apply(mode)"
   ]
  },
  {
   "cell_type": "code",
   "execution_count": 206,
   "metadata": {
    "id": "MdZ0D1ie95rt"
   },
   "outputs": [
    {
     "data": {
      "text/html": [
       "<div>\n",
       "<style scoped>\n",
       "    .dataframe tbody tr th:only-of-type {\n",
       "        vertical-align: middle;\n",
       "    }\n",
       "\n",
       "    .dataframe tbody tr th {\n",
       "        vertical-align: top;\n",
       "    }\n",
       "\n",
       "    .dataframe thead th {\n",
       "        text-align: right;\n",
       "    }\n",
       "</style>\n",
       "<table border=\"1\" class=\"dataframe\">\n",
       "  <thead>\n",
       "    <tr style=\"text-align: right;\">\n",
       "      <th></th>\n",
       "      <th>day.of.week</th>\n",
       "      <th>num.of.guests</th>\n",
       "      <th>hour</th>\n",
       "      <th>table</th>\n",
       "      <th>dessert</th>\n",
       "      <th>dow.ptp</th>\n",
       "    </tr>\n",
       "    <tr>\n",
       "      <th>id</th>\n",
       "      <th></th>\n",
       "      <th></th>\n",
       "      <th></th>\n",
       "      <th></th>\n",
       "      <th></th>\n",
       "      <th></th>\n",
       "    </tr>\n",
       "  </thead>\n",
       "  <tbody>\n",
       "    <tr>\n",
       "      <th>366</th>\n",
       "      <td>Thursday</td>\n",
       "      <td>4</td>\n",
       "      <td>evening</td>\n",
       "      <td>16</td>\n",
       "      <td>False</td>\n",
       "      <td>9</td>\n",
       "    </tr>\n",
       "    <tr>\n",
       "      <th>325</th>\n",
       "      <td>Sunday</td>\n",
       "      <td>3</td>\n",
       "      <td>noon</td>\n",
       "      <td>22</td>\n",
       "      <td>True</td>\n",
       "      <td>9</td>\n",
       "    </tr>\n",
       "    <tr>\n",
       "      <th>432</th>\n",
       "      <td>Sunday</td>\n",
       "      <td>2</td>\n",
       "      <td>night</td>\n",
       "      <td>6</td>\n",
       "      <td>True</td>\n",
       "      <td>9</td>\n",
       "    </tr>\n",
       "    <tr>\n",
       "      <th>874</th>\n",
       "      <td>Monday</td>\n",
       "      <td>4</td>\n",
       "      <td>after-noon</td>\n",
       "      <td>20</td>\n",
       "      <td>False</td>\n",
       "      <td>9</td>\n",
       "    </tr>\n",
       "    <tr>\n",
       "      <th>866</th>\n",
       "      <td>Friday</td>\n",
       "      <td>3</td>\n",
       "      <td>after-noon</td>\n",
       "      <td>20</td>\n",
       "      <td>False</td>\n",
       "      <td>9</td>\n",
       "    </tr>\n",
       "    <tr>\n",
       "      <th>175</th>\n",
       "      <td>Saturday</td>\n",
       "      <td>3</td>\n",
       "      <td>noon</td>\n",
       "      <td>11</td>\n",
       "      <td>True</td>\n",
       "      <td>8</td>\n",
       "    </tr>\n",
       "    <tr>\n",
       "      <th>452</th>\n",
       "      <td>Sunday</td>\n",
       "      <td>4</td>\n",
       "      <td>noon</td>\n",
       "      <td>2</td>\n",
       "      <td>True</td>\n",
       "      <td>9</td>\n",
       "    </tr>\n",
       "    <tr>\n",
       "      <th>811</th>\n",
       "      <td>Friday</td>\n",
       "      <td>3</td>\n",
       "      <td>evening</td>\n",
       "      <td>6</td>\n",
       "      <td>False</td>\n",
       "      <td>9</td>\n",
       "    </tr>\n",
       "    <tr>\n",
       "      <th>514</th>\n",
       "      <td>Friday</td>\n",
       "      <td>10</td>\n",
       "      <td>night</td>\n",
       "      <td>3</td>\n",
       "      <td>True</td>\n",
       "      <td>9</td>\n",
       "    </tr>\n",
       "    <tr>\n",
       "      <th>353</th>\n",
       "      <td>Friday</td>\n",
       "      <td>2</td>\n",
       "      <td>night</td>\n",
       "      <td>19</td>\n",
       "      <td>True</td>\n",
       "      <td>9</td>\n",
       "    </tr>\n",
       "  </tbody>\n",
       "</table>\n",
       "</div>"
      ],
      "text/plain": [
       "    day.of.week  num.of.guests        hour  table  dessert  dow.ptp\n",
       "id                                                                 \n",
       "366    Thursday              4     evening     16    False        9\n",
       "325      Sunday              3        noon     22     True        9\n",
       "432      Sunday              2       night      6     True        9\n",
       "874      Monday              4  after-noon     20    False        9\n",
       "866      Friday              3  after-noon     20    False        9\n",
       "175    Saturday              3        noon     11     True        8\n",
       "452      Sunday              4        noon      2     True        9\n",
       "811      Friday              3     evening      6    False        9\n",
       "514      Friday             10       night      3     True        9\n",
       "353      Friday              2       night     19     True        9"
      ]
     },
     "execution_count": 206,
     "metadata": {},
     "output_type": "execute_result"
    }
   ],
   "source": [
    "# .transform\n",
    "# Similar to .apply, operating per column. Index structure must be maintained.\n",
    "# Take care to select the columns your function expects to work on.\n",
    "# In statistics, \"ptp\" (peak-to-peak) means the range of values in a given set of numbers (i.e., max - min).\n",
    "df[\"dow.ptp\"] = df.groupby(\"day.of.week\")[\"num.of.guests\"].transform(lambda column_series: column_series.max() - column_series.min())\n",
    "df.sample(10)"
   ]
  },
  {
   "cell_type": "code",
   "execution_count": 207,
   "metadata": {
    "id": "DNi_ZyYZFt22"
   },
   "outputs": [
    {
     "data": {
      "text/html": [
       "<div>\n",
       "<style scoped>\n",
       "    .dataframe tbody tr th:only-of-type {\n",
       "        vertical-align: middle;\n",
       "    }\n",
       "\n",
       "    .dataframe tbody tr th {\n",
       "        vertical-align: top;\n",
       "    }\n",
       "\n",
       "    .dataframe thead th {\n",
       "        text-align: right;\n",
       "    }\n",
       "</style>\n",
       "<table border=\"1\" class=\"dataframe\">\n",
       "  <thead>\n",
       "    <tr style=\"text-align: right;\">\n",
       "      <th></th>\n",
       "      <th>day.of.week</th>\n",
       "      <th>num.of.guests</th>\n",
       "      <th>hour</th>\n",
       "      <th>table</th>\n",
       "      <th>dessert</th>\n",
       "      <th>dow.ptp</th>\n",
       "    </tr>\n",
       "    <tr>\n",
       "      <th>id</th>\n",
       "      <th></th>\n",
       "      <th></th>\n",
       "      <th></th>\n",
       "      <th></th>\n",
       "      <th></th>\n",
       "      <th></th>\n",
       "    </tr>\n",
       "  </thead>\n",
       "  <tbody>\n",
       "    <tr>\n",
       "      <th>1</th>\n",
       "      <td>Monday</td>\n",
       "      <td>2</td>\n",
       "      <td>evening</td>\n",
       "      <td>13</td>\n",
       "      <td>True</td>\n",
       "      <td>9</td>\n",
       "    </tr>\n",
       "    <tr>\n",
       "      <th>4</th>\n",
       "      <td>Thursday</td>\n",
       "      <td>3</td>\n",
       "      <td>night</td>\n",
       "      <td>5</td>\n",
       "      <td>True</td>\n",
       "      <td>9</td>\n",
       "    </tr>\n",
       "    <tr>\n",
       "      <th>5</th>\n",
       "      <td>Monday</td>\n",
       "      <td>7</td>\n",
       "      <td>noon</td>\n",
       "      <td>10</td>\n",
       "      <td>True</td>\n",
       "      <td>9</td>\n",
       "    </tr>\n",
       "    <tr>\n",
       "      <th>6</th>\n",
       "      <td>Friday</td>\n",
       "      <td>2</td>\n",
       "      <td>evening</td>\n",
       "      <td>19</td>\n",
       "      <td>False</td>\n",
       "      <td>9</td>\n",
       "    </tr>\n",
       "    <tr>\n",
       "      <th>7</th>\n",
       "      <td>Monday</td>\n",
       "      <td>2</td>\n",
       "      <td>evening</td>\n",
       "      <td>22</td>\n",
       "      <td>True</td>\n",
       "      <td>9</td>\n",
       "    </tr>\n",
       "    <tr>\n",
       "      <th>...</th>\n",
       "      <td>...</td>\n",
       "      <td>...</td>\n",
       "      <td>...</td>\n",
       "      <td>...</td>\n",
       "      <td>...</td>\n",
       "      <td>...</td>\n",
       "    </tr>\n",
       "    <tr>\n",
       "      <th>995</th>\n",
       "      <td>Friday</td>\n",
       "      <td>1</td>\n",
       "      <td>noon</td>\n",
       "      <td>8</td>\n",
       "      <td>False</td>\n",
       "      <td>9</td>\n",
       "    </tr>\n",
       "    <tr>\n",
       "      <th>996</th>\n",
       "      <td>Friday</td>\n",
       "      <td>3</td>\n",
       "      <td>after-noon</td>\n",
       "      <td>5</td>\n",
       "      <td>False</td>\n",
       "      <td>9</td>\n",
       "    </tr>\n",
       "    <tr>\n",
       "      <th>997</th>\n",
       "      <td>Wednesday</td>\n",
       "      <td>5</td>\n",
       "      <td>evening</td>\n",
       "      <td>14</td>\n",
       "      <td>True</td>\n",
       "      <td>9</td>\n",
       "    </tr>\n",
       "    <tr>\n",
       "      <th>998</th>\n",
       "      <td>Thursday</td>\n",
       "      <td>2</td>\n",
       "      <td>evening</td>\n",
       "      <td>20</td>\n",
       "      <td>True</td>\n",
       "      <td>9</td>\n",
       "    </tr>\n",
       "    <tr>\n",
       "      <th>1000</th>\n",
       "      <td>Friday</td>\n",
       "      <td>2</td>\n",
       "      <td>evening</td>\n",
       "      <td>9</td>\n",
       "      <td>False</td>\n",
       "      <td>9</td>\n",
       "    </tr>\n",
       "  </tbody>\n",
       "</table>\n",
       "<p>785 rows × 6 columns</p>\n",
       "</div>"
      ],
      "text/plain": [
       "     day.of.week  num.of.guests        hour  table  dessert  dow.ptp\n",
       "id                                                                  \n",
       "1         Monday              2     evening     13     True        9\n",
       "4       Thursday              3       night      5     True        9\n",
       "5         Monday              7        noon     10     True        9\n",
       "6         Friday              2     evening     19    False        9\n",
       "7         Monday              2     evening     22     True        9\n",
       "...          ...            ...         ...    ...      ...      ...\n",
       "995       Friday              1        noon      8    False        9\n",
       "996       Friday              3  after-noon      5    False        9\n",
       "997    Wednesday              5     evening     14     True        9\n",
       "998     Thursday              2     evening     20     True        9\n",
       "1000      Friday              2     evening      9    False        9\n",
       "\n",
       "[785 rows x 6 columns]"
      ]
     },
     "execution_count": 207,
     "metadata": {},
     "output_type": "execute_result"
    }
   ],
   "source": [
    "# .filter # HAVING IN SQL\n",
    "# Filter groups based on some criteria, as calculated by a function (similar to HAVING clause in SQL)\n",
    "# df.groupby(\"day.of.week\")[\"num.of.guests\"].max()\n",
    "df.groupby(\"day.of.week\").filter(lambda df_single_group: df_single_group[\"num.of.guests\"].max() > 9)"
   ]
  },
  {
   "cell_type": "markdown",
   "metadata": {
    "id": "DvAFWWdK2KbC"
   },
   "source": [
    "# Exercise <--- Homework 25/7/2024"
   ]
  },
  {
   "cell_type": "markdown",
   "metadata": {
    "id": "Frbofg0i2QjH"
   },
   "source": [
    "The dataset `diamonds.csv` contains data on diamonds, their attributes and their prices. Familiarize yourself with the dataset (you can have a quick look here if you'd like to understand the meaning behind some of the column names https://www.gia.edu/diamond-quality-factor) and answer the following questions:\n",
    "\n",
    "1. What is the most expensive diamond?\n",
    "2. What is the carat of the most Expensive diamond?\n",
    "3. What is the mean price of each diamond color?\n",
    "4. What is the max carat for each diamon cut?\n",
    "5. What is the most expensive combination of depth and clarity?\n",
    "6. What is the most common carat?\n",
    "7. What is the mean carat for clarity SI2 and depth greater than 60?"
   ]
  },
  {
   "cell_type": "code",
   "execution_count": 208,
   "metadata": {
    "id": "_eEJw_Z0zeRc"
   },
   "outputs": [
    {
     "data": {
      "text/html": [
       "<div>\n",
       "<style scoped>\n",
       "    .dataframe tbody tr th:only-of-type {\n",
       "        vertical-align: middle;\n",
       "    }\n",
       "\n",
       "    .dataframe tbody tr th {\n",
       "        vertical-align: top;\n",
       "    }\n",
       "\n",
       "    .dataframe thead th {\n",
       "        text-align: right;\n",
       "    }\n",
       "</style>\n",
       "<table border=\"1\" class=\"dataframe\">\n",
       "  <thead>\n",
       "    <tr style=\"text-align: right;\">\n",
       "      <th></th>\n",
       "      <th>#</th>\n",
       "      <th>carat</th>\n",
       "      <th>cut</th>\n",
       "      <th>color</th>\n",
       "      <th>clarity</th>\n",
       "      <th>depth</th>\n",
       "      <th>table</th>\n",
       "      <th>price</th>\n",
       "      <th>x</th>\n",
       "      <th>y</th>\n",
       "      <th>z</th>\n",
       "    </tr>\n",
       "  </thead>\n",
       "  <tbody>\n",
       "    <tr>\n",
       "      <th>0</th>\n",
       "      <td>1</td>\n",
       "      <td>0.23</td>\n",
       "      <td>Ideal</td>\n",
       "      <td>E</td>\n",
       "      <td>SI2</td>\n",
       "      <td>61.5</td>\n",
       "      <td>55.0</td>\n",
       "      <td>326</td>\n",
       "      <td>3.95</td>\n",
       "      <td>3.98</td>\n",
       "      <td>2.43</td>\n",
       "    </tr>\n",
       "    <tr>\n",
       "      <th>1</th>\n",
       "      <td>2</td>\n",
       "      <td>0.21</td>\n",
       "      <td>Premium</td>\n",
       "      <td>E</td>\n",
       "      <td>SI1</td>\n",
       "      <td>59.8</td>\n",
       "      <td>61.0</td>\n",
       "      <td>326</td>\n",
       "      <td>3.89</td>\n",
       "      <td>3.84</td>\n",
       "      <td>2.31</td>\n",
       "    </tr>\n",
       "    <tr>\n",
       "      <th>2</th>\n",
       "      <td>3</td>\n",
       "      <td>0.23</td>\n",
       "      <td>Good</td>\n",
       "      <td>E</td>\n",
       "      <td>VS1</td>\n",
       "      <td>56.9</td>\n",
       "      <td>65.0</td>\n",
       "      <td>327</td>\n",
       "      <td>4.05</td>\n",
       "      <td>4.07</td>\n",
       "      <td>2.31</td>\n",
       "    </tr>\n",
       "    <tr>\n",
       "      <th>3</th>\n",
       "      <td>4</td>\n",
       "      <td>0.29</td>\n",
       "      <td>Premium</td>\n",
       "      <td>I</td>\n",
       "      <td>VS2</td>\n",
       "      <td>62.4</td>\n",
       "      <td>58.0</td>\n",
       "      <td>334</td>\n",
       "      <td>4.20</td>\n",
       "      <td>4.23</td>\n",
       "      <td>2.63</td>\n",
       "    </tr>\n",
       "    <tr>\n",
       "      <th>4</th>\n",
       "      <td>5</td>\n",
       "      <td>0.31</td>\n",
       "      <td>Good</td>\n",
       "      <td>J</td>\n",
       "      <td>SI2</td>\n",
       "      <td>63.3</td>\n",
       "      <td>58.0</td>\n",
       "      <td>335</td>\n",
       "      <td>4.34</td>\n",
       "      <td>4.35</td>\n",
       "      <td>2.75</td>\n",
       "    </tr>\n",
       "  </tbody>\n",
       "</table>\n",
       "</div>"
      ],
      "text/plain": [
       "   #  carat      cut color clarity  depth  table  price     x     y     z\n",
       "0  1   0.23    Ideal     E     SI2   61.5   55.0    326  3.95  3.98  2.43\n",
       "1  2   0.21  Premium     E     SI1   59.8   61.0    326  3.89  3.84  2.31\n",
       "2  3   0.23     Good     E     VS1   56.9   65.0    327  4.05  4.07  2.31\n",
       "3  4   0.29  Premium     I     VS2   62.4   58.0    334  4.20  4.23  2.63\n",
       "4  5   0.31     Good     J     SI2   63.3   58.0    335  4.34  4.35  2.75"
      ]
     },
     "execution_count": 208,
     "metadata": {},
     "output_type": "execute_result"
    }
   ],
   "source": [
    "dataset = pd.read_csv('diamonds.csv')\n",
    "dataset.head()"
   ]
  },
  {
   "cell_type": "code",
   "execution_count": 209,
   "metadata": {},
   "outputs": [
    {
     "data": {
      "text/html": [
       "<div>\n",
       "<style scoped>\n",
       "    .dataframe tbody tr th:only-of-type {\n",
       "        vertical-align: middle;\n",
       "    }\n",
       "\n",
       "    .dataframe tbody tr th {\n",
       "        vertical-align: top;\n",
       "    }\n",
       "\n",
       "    .dataframe thead th {\n",
       "        text-align: right;\n",
       "    }\n",
       "</style>\n",
       "<table border=\"1\" class=\"dataframe\">\n",
       "  <thead>\n",
       "    <tr style=\"text-align: right;\">\n",
       "      <th></th>\n",
       "      <th>#</th>\n",
       "      <th>carat</th>\n",
       "      <th>cut</th>\n",
       "      <th>color</th>\n",
       "      <th>clarity</th>\n",
       "      <th>depth</th>\n",
       "      <th>table</th>\n",
       "      <th>price</th>\n",
       "      <th>x</th>\n",
       "      <th>y</th>\n",
       "      <th>z</th>\n",
       "    </tr>\n",
       "  </thead>\n",
       "  <tbody>\n",
       "    <tr>\n",
       "      <th>27749</th>\n",
       "      <td>27750</td>\n",
       "      <td>2.29</td>\n",
       "      <td>Premium</td>\n",
       "      <td>I</td>\n",
       "      <td>VS2</td>\n",
       "      <td>60.8</td>\n",
       "      <td>60.0</td>\n",
       "      <td>18823</td>\n",
       "      <td>8.5</td>\n",
       "      <td>8.47</td>\n",
       "      <td>5.16</td>\n",
       "    </tr>\n",
       "  </tbody>\n",
       "</table>\n",
       "</div>"
      ],
      "text/plain": [
       "           #  carat      cut color clarity  depth  table  price    x     y  \\\n",
       "27749  27750   2.29  Premium     I     VS2   60.8   60.0  18823  8.5  8.47   \n",
       "\n",
       "          z  \n",
       "27749  5.16  "
      ]
     },
     "execution_count": 209,
     "metadata": {},
     "output_type": "execute_result"
    }
   ],
   "source": [
    "# 1. What is the most expensive diamond?\n",
    "dataset.sort_values(by = 'price', ascending=False).head(1)\n"
   ]
  },
  {
   "cell_type": "code",
   "execution_count": 210,
   "metadata": {},
   "outputs": [
    {
     "data": {
      "text/plain": [
       "27749    2.29\n",
       "Name: carat, dtype: float64"
      ]
     },
     "execution_count": 210,
     "metadata": {},
     "output_type": "execute_result"
    }
   ],
   "source": [
    "# 2. What is the carat of the most Expensive diamond?\n",
    "dataset.sort_values(by = 'price', ascending=False).head(1)['carat']"
   ]
  },
  {
   "cell_type": "code",
   "execution_count": 211,
   "metadata": {},
   "outputs": [
    {
     "data": {
      "text/plain": [
       "color\n",
       "D    3169.95\n",
       "E    3076.75\n",
       "F    3724.89\n",
       "G    3999.14\n",
       "H    4486.67\n",
       "I    5091.87\n",
       "J    5323.82\n",
       "Name: price, dtype: float64"
      ]
     },
     "execution_count": 211,
     "metadata": {},
     "output_type": "execute_result"
    }
   ],
   "source": [
    "# 3. What is the mean price of each diamond color?\n",
    "dataset.groupby('color')['price'].mean().round(2)"
   ]
  },
  {
   "cell_type": "code",
   "execution_count": 213,
   "metadata": {},
   "outputs": [
    {
     "data": {
      "text/plain": [
       "cut\n",
       "Fair         5.01\n",
       "Good         3.01\n",
       "Ideal        3.50\n",
       "Premium      4.01\n",
       "Very Good    4.00\n",
       "Name: carat, dtype: float64"
      ]
     },
     "execution_count": 213,
     "metadata": {},
     "output_type": "execute_result"
    }
   ],
   "source": [
    "# 4. What is the max carat for each diamon cut?\n",
    "dataset.groupby('cut')['carat'].max()"
   ]
  },
  {
   "cell_type": "code",
   "execution_count": 212,
   "metadata": {},
   "outputs": [
    {
     "data": {
      "text/plain": [
       "depth  clarity\n",
       "60.8   VS2        18823\n",
       "Name: price, dtype: int64"
      ]
     },
     "execution_count": 212,
     "metadata": {},
     "output_type": "execute_result"
    }
   ],
   "source": [
    "# 5. What is the most expensive combination of depth and clarity?\n",
    "dataset.groupby(['depth', 'clarity'])['price'].max().sort_values(ascending=False).head(1)"
   ]
  },
  {
   "cell_type": "code",
   "execution_count": 214,
   "metadata": {},
   "outputs": [
    {
     "data": {
      "text/plain": [
       "0.3"
      ]
     },
     "execution_count": 214,
     "metadata": {},
     "output_type": "execute_result"
    }
   ],
   "source": [
    "# 6. What is the most common carat?\n",
    "dataset.groupby('carat').x.count().sort_values().tail(1).index[0]\n",
    "\n",
    "# Another option:\n",
    "dataset.groupby('carat').size().sort_values().tail(1).index[0]"
   ]
  },
  {
   "cell_type": "code",
   "execution_count": 197,
   "metadata": {},
   "outputs": [
    {
     "data": {
      "text/plain": [
       "1.0724980988593247"
      ]
     },
     "execution_count": 197,
     "metadata": {},
     "output_type": "execute_result"
    }
   ],
   "source": [
    "# 7. What is the mean carat for clarity SI2 and depth greater than 60?\n",
    "dataset.loc[(dataset['clarity']=='SI2') & (dataset['depth']>60)].carat.mean()\n",
    "         \n"
   ]
  },
  {
   "cell_type": "markdown",
   "metadata": {
    "id": "K7qKgYJc3EZN"
   },
   "source": [
    "## Solution"
   ]
  },
  {
   "cell_type": "code",
   "execution_count": null,
   "metadata": {
    "id": "QcqGuqbL5nxl"
   },
   "outputs": [],
   "source": [
    "# 1. What is the most expensive diamond?\n",
    "# 2. What is the carat of the most Expensive diamond?\n",
    "dataset.sort_values(by='price', ascending=False).head(1)"
   ]
  },
  {
   "cell_type": "code",
   "execution_count": null,
   "metadata": {
    "id": "fwmPjC7b5IvW"
   },
   "outputs": [],
   "source": [
    "# 1. What is the most expensive diamond? option 2\n",
    "dataset['price'].idxmax()"
   ]
  },
  {
   "cell_type": "code",
   "execution_count": null,
   "metadata": {
    "id": "OQsWMCRg9SW5"
   },
   "outputs": [],
   "source": [
    "dataset.loc[27749]"
   ]
  },
  {
   "cell_type": "code",
   "execution_count": null,
   "metadata": {
    "id": "OSeFCuH05eX2"
   },
   "outputs": [],
   "source": [
    "# 3. What is the mean price of each diamon color?\n",
    "dataset.groupby('color')['price'].mean()"
   ]
  },
  {
   "cell_type": "code",
   "execution_count": null,
   "metadata": {
    "id": "6tXWpkaV6B-n"
   },
   "outputs": [],
   "source": [
    "# 4. What is the max carat for each diamon cut?\n",
    "dataset.groupby('cut')['carat'].max()"
   ]
  },
  {
   "cell_type": "code",
   "execution_count": null,
   "metadata": {
    "id": "NMHWSDTw6MLm"
   },
   "outputs": [],
   "source": [
    "# 5. What is the most expensive combination of depth and clarity?\n",
    "dataset.groupby(['depth','clarity'])['price'].max().sort_values(ascending=False).head(1)"
   ]
  },
  {
   "cell_type": "code",
   "execution_count": null,
   "metadata": {
    "id": "IyBkGVc03yeI"
   },
   "outputs": [],
   "source": [
    "# 6. What is the most common carat?\n",
    "dataset.groupby('carat').x.count().sort_values().tail(1).index[0]\n",
    "\n",
    "# Another option:\n",
    "dataset.groupby('carat').size().sort_values().tail(1).index[0]"
   ]
  },
  {
   "cell_type": "code",
   "execution_count": 196,
   "metadata": {
    "id": "xU677GUB35Ye"
   },
   "outputs": [
    {
     "data": {
      "text/plain": [
       "1.0724980988593247"
      ]
     },
     "execution_count": 196,
     "metadata": {},
     "output_type": "execute_result"
    }
   ],
   "source": [
    "# 7. What is the mean carat for clarity SI2 and depth greater than 60?\n",
    "dataset[(dataset['clarity'] == 'SI2') & (dataset['depth'] > 60)].carat.mean()"
   ]
  },
  {
   "cell_type": "markdown",
   "metadata": {
    "id": "fy0QJbgBr8Sa"
   },
   "source": [
    "# Example - US baby names (more)"
   ]
  },
  {
   "cell_type": "markdown",
   "metadata": {
    "id": "24CFX6zjr8Sa"
   },
   "source": [
    "The file \"Baby names.csv\" contains information about the most frequent names in the US. For each year from 1880 to 2008 it lists the 1000 most frequent names for both boys and girls (129 x 2 x 1000 = 258000 rows). Each row includes the year, the name, the sex, the [soundex][1] of the name (which we will ignore), and most importantly - the name's frequency among its gender. We will use _pandas_ to explore this data.\n",
    "\n",
    "[1]: https://en.wikipedia.org/wiki/Soundex \"soundex - Wikipedia\""
   ]
  },
  {
   "cell_type": "markdown",
   "metadata": {
    "id": "Qw51HBg-r8Sa"
   },
   "source": [
    "> **NOTE:** This example is fully based on a classic presentation given by _pandas_ main author Wes McKinney at 2012. The full presentation can be found on [YouTube][1]. The transcription itself is taken from [Jennifer Lee's GitHub page][2].\n",
    "\n",
    "[1]: https://www.youtube.com/watch?v=w26x-z-BdWQ \"Wes McKinney - Introdcution to pandas\"\n",
    "[2]: https://github.com/estimate/pandas-exercises \"Jennifer Lee's GitHub page\""
   ]
  },
  {
   "cell_type": "markdown",
   "metadata": {
    "id": "cI1QkO9br8Sb"
   },
   "source": [
    "## Exploration"
   ]
  },
  {
   "cell_type": "code",
   "execution_count": null,
   "metadata": {
    "id": "6LzqdAVer8Sb"
   },
   "outputs": [],
   "source": [
    "df_names = pd.read_csv('baby_names.csv', nrows=500000)"
   ]
  },
  {
   "cell_type": "code",
   "execution_count": null,
   "metadata": {
    "id": "FCP6Oeddr8Sc"
   },
   "outputs": [],
   "source": [
    "df_names.head(5)"
   ]
  },
  {
   "cell_type": "code",
   "execution_count": null,
   "metadata": {
    "id": "gOu5hv6er8Se"
   },
   "outputs": [],
   "source": [
    "df_names.tail(3)"
   ]
  },
  {
   "cell_type": "code",
   "execution_count": null,
   "metadata": {
    "id": "nnF5KTPXr8Sh"
   },
   "outputs": [],
   "source": [
    "df_names[df_names.year == 1880].tail()"
   ]
  },
  {
   "cell_type": "markdown",
   "metadata": {
    "id": "9ygh8Cn4r8Sm"
   },
   "source": [
    "We separate the data into two data frames - _boys_ and _girls_. We will do the exploration with the boys, and then apply the relevant scripts to the girls as well."
   ]
  },
  {
   "cell_type": "code",
   "execution_count": null,
   "metadata": {
    "id": "wrtIvD-6r8Sm"
   },
   "outputs": [],
   "source": [
    "df_boys = df_names[df_names.sex == 'boy']\n",
    "df_girls = df_names[df_names.sex == 'girl']"
   ]
  },
  {
   "cell_type": "markdown",
   "metadata": {
    "id": "a4KfrcNGr8Sq"
   },
   "source": [
    "The sum of the 'prop' column for each year does not sum to 1."
   ]
  },
  {
   "cell_type": "code",
   "execution_count": null,
   "metadata": {
    "id": "w0w72pHSiqtM"
   },
   "outputs": [],
   "source": [
    "df_boys.head()"
   ]
  },
  {
   "cell_type": "code",
   "execution_count": null,
   "metadata": {
    "id": "kvX-7R5ar8Sq"
   },
   "outputs": [],
   "source": [
    "boys_grouped = df_boys.groupby('year')\n",
    "boys_grouped"
   ]
  },
  {
   "cell_type": "code",
   "execution_count": null,
   "metadata": {
    "id": "T11_7RkqIvI3"
   },
   "outputs": [],
   "source": [
    "(\n",
    "  df_boys\n",
    "  .groupby('year')\n",
    "  ['prop']\n",
    "  .sum()\n",
    "  .plot()\n",
    ")"
   ]
  },
  {
   "cell_type": "markdown",
   "metadata": {
    "id": "7BR-YM8kfjlx"
   },
   "source": [
    "What does the graph demonstrate?"
   ]
  },
  {
   "cell_type": "markdown",
   "metadata": {
    "id": "iOEaTkV3r8Sr"
   },
   "source": [
    "## Part I"
   ]
  },
  {
   "cell_type": "markdown",
   "metadata": {
    "id": "IrVJ6grkr8Ss"
   },
   "source": [
    "**Task:** We wish to visualize the changes in the popularity of the most popular name through the years."
   ]
  },
  {
   "cell_type": "markdown",
   "metadata": {
    "id": "zOkuCWKlr8Ss"
   },
   "source": [
    "Our approach will be to group the data by year, then to extract from each group the record of the most frequent name, and then to plot the combined result."
   ]
  },
  {
   "cell_type": "code",
   "execution_count": null,
   "metadata": {
    "id": "rnqEpmrykXdX"
   },
   "outputs": [],
   "source": [
    "(\n",
    "    df_boys\n",
    "    .groupby('year')\n",
    "    ['prop']\n",
    "    .max()\n",
    "    .plot()\n",
    ")"
   ]
  },
  {
   "cell_type": "code",
   "execution_count": null,
   "metadata": {
    "id": "RYdQPL009SW7"
   },
   "outputs": [],
   "source": [
    "most_popular_indexes = (\n",
    "    df_boys\n",
    "    .groupby(\"year\")\n",
    "    .prop\n",
    "    .idxmax()\n",
    ")\n",
    "\n",
    "df_boys.loc[most_popular_indexes]"
   ]
  },
  {
   "cell_type": "markdown",
   "metadata": {
    "id": "rlGauYIjvBQj"
   },
   "source": [
    "Can you see the trend?"
   ]
  },
  {
   "cell_type": "markdown",
   "metadata": {
    "id": "kjcCffCFr8Sz"
   },
   "source": [
    "And finally..."
   ]
  },
  {
   "cell_type": "code",
   "execution_count": null,
   "metadata": {
    "id": "JuX6FFYEr8St"
   },
   "outputs": [],
   "source": [
    "# Same as above, but a slightly different approach\n",
    "\n",
    "def get_max_record(group):\n",
    "    return group.prop.max()"
   ]
  },
  {
   "cell_type": "code",
   "execution_count": null,
   "metadata": {
    "id": "ogtBd_R6r8Sv"
   },
   "outputs": [],
   "source": [
    "most_popular = df_boys.groupby('year').apply(get_max_record)\n",
    "most_popular.head()"
   ]
  },
  {
   "cell_type": "code",
   "execution_count": null,
   "metadata": {
    "id": "qDypaTDwr8S0"
   },
   "outputs": [],
   "source": [
    "most_popular.plot(title='Highest boys prop through years')"
   ]
  },
  {
   "cell_type": "code",
   "execution_count": null,
   "metadata": {
    "id": "b-fwlCtLr8S2"
   },
   "outputs": [],
   "source": [
    "most_popular = df_girls.groupby('year').apply(get_max_record)\n",
    "most_popular.plot(title='Highest girls prop through years')"
   ]
  },
  {
   "cell_type": "markdown",
   "metadata": {
    "id": "gPWmlr8rr8S3"
   },
   "source": [
    "## Part II"
   ]
  },
  {
   "cell_type": "markdown",
   "metadata": {
    "id": "j5YHzaL_r8S4"
   },
   "source": [
    "**Task:** Visualize the trend of a specific name through the years."
   ]
  },
  {
   "cell_type": "code",
   "execution_count": null,
   "metadata": {
    "id": "QR-4JYxolRml"
   },
   "outputs": [],
   "source": [
    "name = 'David'\n",
    "df_boys.loc[df_boys.name == name].set_index('year').prop.plot()\n",
    "# same as: df_boys.loc[df_boys.name==name].set_index('year')[\"prop\"].plot()\n",
    "# Column name, prop, could be omitted becuase after set_index, the only other numeric column is prop"
   ]
  },
  {
   "cell_type": "code",
   "execution_count": null,
   "metadata": {
    "id": "NgDdcoPTZD0a"
   },
   "outputs": [],
   "source": [
    "# same graph with explicit setting of X and Y\n",
    "df_boys[df_boys.name==name].plot(x=\"year\", y=\"prop\")"
   ]
  },
  {
   "cell_type": "markdown",
   "metadata": {
    "id": "FWY_21zer8S5"
   },
   "source": [
    "We can group by the name, but since we are not interested in the data of the other names, this is a wasteful approach. We can either slice the data of the relevant name, or reindex by the name. Also, since plots use the index as their x axis, it will be simpler to make the year a secondary index."
   ]
  },
  {
   "cell_type": "code",
   "execution_count": null,
   "metadata": {
    "id": "ByPkdKHAr8S6"
   },
   "outputs": [],
   "source": [
    "name = 'Elvis'"
   ]
  },
  {
   "cell_type": "code",
   "execution_count": null,
   "metadata": {
    "id": "iLoZdbK2r8S7"
   },
   "outputs": [],
   "source": [
    "df_boys2 = df_boys.set_index(['name', 'year'])\n",
    "# print(df_boys2.head())\n",
    "df_boys2.loc[name].prop.plot()"
   ]
  },
  {
   "cell_type": "markdown",
   "metadata": {
    "id": "pxHk3JBVr8S8"
   },
   "source": [
    "## Part III"
   ]
  },
  {
   "cell_type": "markdown",
   "metadata": {
    "id": "EgrycuTMr8S9"
   },
   "source": [
    "**Task:** Visualize the \"diversity\" - how many names are required in order to describe half of the population - through the years."
   ]
  },
  {
   "cell_type": "markdown",
   "metadata": {
    "id": "K9hj_3fBr8S9"
   },
   "source": [
    "For each year we will sum the 'prop' column (using the _cumsum()_ function) and find where this sum exceeds 0.5 (using the function [_searchsorted()_][1]).\n",
    "\n",
    "[1]: https://pandas.pydata.org/pandas-docs/stable/generated/pandas.Series.searchsorted.html"
   ]
  },
  {
   "cell_type": "markdown",
   "metadata": {
    "id": "7yWyUoB_r8S9"
   },
   "source": [
    "### Demonstration"
   ]
  },
  {
   "cell_type": "code",
   "execution_count": null,
   "metadata": {
    "id": "9nbGi19mr8S_"
   },
   "outputs": [],
   "source": [
    "df_1880 = df_boys[df_boys.year == 1880]\n",
    "df_1880.prop.head()"
   ]
  },
  {
   "cell_type": "code",
   "execution_count": null,
   "metadata": {
    "id": "nxLUr_D-r8TA"
   },
   "outputs": [],
   "source": [
    "df_1880.prop.cumsum().head()"
   ]
  },
  {
   "cell_type": "code",
   "execution_count": null,
   "metadata": {
    "id": "S6qYyI_Er8TB"
   },
   "outputs": [],
   "source": [
    "df_1880.prop.cumsum().searchsorted(0.5)"
   ]
  },
  {
   "cell_type": "code",
   "execution_count": null,
   "metadata": {
    "id": "7gJ5glsaqEEF"
   },
   "outputs": [],
   "source": [
    "# Generalize for all the years and plot\n",
    "(\n",
    "  df_girls\n",
    "  .groupby('year')\n",
    "  ['prop']\n",
    "  .apply(lambda year_prop_ser: year_prop_ser.cumsum().searchsorted(0.5))\n",
    "  .plot()\n",
    ")"
   ]
  },
  {
   "cell_type": "markdown",
   "metadata": {
    "id": "mlHfbnIUr8TD"
   },
   "source": [
    "### Solution"
   ]
  },
  {
   "cell_type": "code",
   "execution_count": null,
   "metadata": {
    "id": "YSdRF-u3r8TD"
   },
   "outputs": [],
   "source": [
    "def get_diversity(group):\n",
    "    return group.prop.cumsum().searchsorted(0.5)"
   ]
  },
  {
   "cell_type": "code",
   "execution_count": null,
   "metadata": {
    "id": "EUM6LObar8TE"
   },
   "outputs": [],
   "source": [
    "df_boys.groupby('year').apply(get_diversity).plot()"
   ]
  },
  {
   "cell_type": "code",
   "execution_count": null,
   "metadata": {
    "id": "npBCRWlOr8TG"
   },
   "outputs": [],
   "source": [
    "ax = df_boys.groupby('year').apply(get_diversity).plot(linewidth=3)\n",
    "ax = df_girls.groupby('year').apply(get_diversity).plot(linewidth=3, ax=ax)\n",
    "ax.legend(['boys', 'girls'], loc='best')"
   ]
  },
  {
   "cell_type": "code",
   "execution_count": null,
   "metadata": {
    "id": "jPseG4tp22pn",
    "tags": []
   },
   "outputs": [],
   "source": [
    "# Another option\n",
    "df_names.groupby([\"year\", \"sex\"]).apply(get_diversity).unstack(1).plot(linewidth=3)"
   ]
  },
  {
   "cell_type": "markdown",
   "metadata": {
    "id": "PnPaoo8Ur8Rn"
   },
   "source": [
    "# Visualization"
   ]
  },
  {
   "cell_type": "markdown",
   "metadata": {
    "id": "BEF7uvjYd4he"
   },
   "source": [
    "> **Note:** matplotlib is the visualization engine of pandas, and although most of our work will be done directly with pandas, it is a good idea to get acquainted with matplotlib basics through the [chapter about matplotlib](https://drive.google.com/drive/folders/1lwVdMjZva7OpPPYFDEocmvic8bib_x2K?usp=sharing). More specifically, one should be familiar with the concepts of Figure, Axes, the `plot` method and the varios advanced types of plot, like histogram, bars, scatter, etc."
   ]
  },
  {
   "cell_type": "markdown",
   "metadata": {
    "id": "ANo6XPYKKzfU"
   },
   "source": [
    "The DataFrame class supports the `plot` accessor, which is a simple wrapper for many of the matplotlib plotting functions.\n",
    "We will illustrate some of them here, using [Kaggle's bike sharing dataset](https://www.kaggle.com/c/bike-sharing-demand)."
   ]
  },
  {
   "cell_type": "markdown",
   "metadata": {
    "id": "G8ZfUa6CGlgn"
   },
   "source": [
    "We now read the data. The first column is a datetime column, so we indicate that using the [`parse_dates`](https://pandas.pydata.org/pandas-docs/stable/reference/api/pandas.read_csv.html) argument."
   ]
  },
  {
   "cell_type": "markdown",
   "metadata": {
    "id": "7b_AYZNQZDzu"
   },
   "source": [
    "<pre>\n",
    "Data Fields\n",
    "datetime - hourly date + timestamp  \n",
    "season -  1 = spring, 2 = summer, 3 = fall, 4 = winter\n",
    "holiday - whether the day is considered a holiday\n",
    "workingday - whether the day is neither a weekend nor holiday\n",
    "weather - 1: Clear, Few clouds, Partly cloudy, Partly cloudy\n",
    "2: Mist + Cloudy, Mist + Broken clouds, Mist + Few clouds, Mist\n",
    "3: Light Snow, Light Rain + Thunderstorm + Scattered clouds, Light Rain + Scattered clouds\n",
    "4: Heavy Rain + Ice Pallets + Thunderstorm + Mist, Snow + Fog\n",
    "temp - temperature in Celsius\n",
    "atemp - \"feels like\" temperature in Celsius\n",
    "humidity - relative humidity\n",
    "windspeed - wind speed\n",
    "casual - number of non-registered user rentals initiated\n",
    "registered - number of registered user rentals initiated\n",
    "count - number of total rentals\n",
    "</pre>"
   ]
  },
  {
   "cell_type": "code",
   "execution_count": null,
   "metadata": {
    "id": "2fIllnCADP-u"
   },
   "outputs": [],
   "source": [
    "bikes = pd.read_csv('bike sharing train.csv', parse_dates=[0])\n",
    "bikes.sample(10)"
   ]
  },
  {
   "cell_type": "code",
   "execution_count": null,
   "metadata": {
    "id": "XUzqAbkxti9C"
   },
   "outputs": [],
   "source": [
    "bikes[\"datetime\"] = bikes[\"datetime\"].astype(\"datetime64\")"
   ]
  },
  {
   "cell_type": "code",
   "execution_count": null,
   "metadata": {
    "id": "FiSFkrwrGX0B"
   },
   "outputs": [],
   "source": [
    "bikes.info()"
   ]
  },
  {
   "cell_type": "code",
   "execution_count": null,
   "metadata": {
    "id": "3QX_y8Bm9oZr"
   },
   "outputs": [],
   "source": [
    "bikes.describe()"
   ]
  },
  {
   "cell_type": "markdown",
   "metadata": {
    "id": "Uk5C59m8Fxpn"
   },
   "source": [
    "> **Note:** The graphs below serve a short demonstration. We will have a thorough EDA of this dataset later in the course."
   ]
  },
  {
   "cell_type": "markdown",
   "metadata": {
    "id": "O9H4-9ifLDed"
   },
   "source": [
    "The `hist()` method is a great visualization to stat with."
   ]
  },
  {
   "cell_type": "code",
   "execution_count": null,
   "metadata": {
    "id": "mj41vcsoK9U5"
   },
   "outputs": [],
   "source": [
    "ax = bikes.hist(figsize=(12, 12))"
   ]
  },
  {
   "cell_type": "markdown",
   "metadata": {
    "id": "frTcP32cHM6y"
   },
   "source": [
    "**Example 1** - Throughout the day and night hours, what is the difference between the usage of registered users and casual users? Is there a change considering the working day?"
   ]
  },
  {
   "cell_type": "code",
   "execution_count": null,
   "metadata": {
    "id": "pYdkRM2Cv8_2"
   },
   "outputs": [],
   "source": [
    "bikes.datetime.max() - bikes.datetime.min()"
   ]
  },
  {
   "cell_type": "code",
   "execution_count": null,
   "metadata": {
    "id": "F8CNx5t-Ik8I"
   },
   "outputs": [],
   "source": [
    "s_hour = bikes['datetime'].dt.hour\n",
    "s_hour"
   ]
  },
  {
   "cell_type": "code",
   "execution_count": null,
   "metadata": {
    "id": "mhgIhSefwjnc"
   },
   "outputs": [],
   "source": [
    "bikes.groupby(s_hour)[['casual', 'registered']].mean().head(3)"
   ]
  },
  {
   "cell_type": "code",
   "execution_count": null,
   "metadata": {
    "id": "5yTriHOZDT82"
   },
   "outputs": [],
   "source": [
    "# Overall difference in usage between registered and casual users (i.e., no division between workdays and weekends)\n",
    "bikes.groupby(s_hour)[['casual', 'registered']].mean().plot(figsize=(9, 6), lw=3)"
   ]
  },
  {
   "cell_type": "code",
   "execution_count": null,
   "metadata": {
    "id": "EmSuFKe_ZDz6"
   },
   "outputs": [],
   "source": [
    "# Same as above, but this time dividing between workdays and weekends\n",
    "bikes.groupby(['workingday', s_hour])[['casual', 'registered']].mean().plot(figsize=(9, 6), lw=3)"
   ]
  },
  {
   "cell_type": "code",
   "execution_count": null,
   "metadata": {
    "id": "9y2N6emkIaSH"
   },
   "outputs": [],
   "source": [
    "# Advanced - multi-index manipulation\n",
    "(\n",
    "  bikes\n",
    " .groupby(['workingday', s_hour])\n",
    " [['casual', 'registered']]\n",
    " .mean()\n",
    " .unstack(0)\n",
    " .plot(figsize=(9, 6), lw=3)\n",
    ")"
   ]
  },
  {
   "cell_type": "code",
   "execution_count": null,
   "metadata": {
    "id": "tuIIZ4V9hct4"
   },
   "outputs": [],
   "source": [
    "# Just for the fun of it, lets split the four plots into a grid of individual plots\n",
    "bikes.groupby(['workingday', s_hour])[['casual', 'registered']].mean().unstack(0)\\\n",
    "  .plot(\n",
    "      subplots=True,              # each column gets it's own plot\n",
    "      layout=(2, 2),              # subplots grid layout\n",
    "      sharex=True, sharey=True,   # same X and Y axes for all the plots\n",
    "      figsize=(10, 7)\n",
    "  )"
   ]
  },
  {
   "cell_type": "markdown",
   "metadata": {
    "id": "_jADRpfhKB9B"
   },
   "source": [
    "**Example 2** - What is the influence of workingday on the distribution of cyclists (i.e., distribution of the number of cyclists)?"
   ]
  },
  {
   "cell_type": "code",
   "execution_count": null,
   "metadata": {
    "id": "d6LaGFvtKFan"
   },
   "outputs": [],
   "source": [
    "ax = bikes.hist(column='casual', by='workingday', bins=50, sharex=True, sharey=True, figsize=(10, 4))"
   ]
  },
  {
   "cell_type": "code",
   "execution_count": null,
   "metadata": {
    "id": "XSx-6uIP-6Xu"
   },
   "outputs": [],
   "source": [
    "ax = bikes.hist(column='registered', by='workingday', bins=50, sharex=True, sharey=True, figsize=(10, 4))"
   ]
  },
  {
   "cell_type": "code",
   "execution_count": null,
   "metadata": {
    "id": "YhQoQwcy-2O_"
   },
   "outputs": [],
   "source": [
    "print(\"casual % on working days:\", bikes[bikes.workingday == 1].casual.sum() / bikes.casual.sum())\n",
    "print(\"registered % on working days:\", bikes[bikes.workingday == 1].registered.sum() / bikes.registered.sum())"
   ]
  },
  {
   "cell_type": "markdown",
   "metadata": {
    "id": "fT33AZxtC_fQ"
   },
   "source": [
    "> **Note:** Example 2 can be tried out with `weather` and `season`"
   ]
  },
  {
   "cell_type": "markdown",
   "metadata": {
    "id": "qoX2dd8zDbxp"
   },
   "source": [
    "**Example 3** - Given an hour of the day, what is the relation between the temperature and the number of cyclists?"
   ]
  },
  {
   "cell_type": "code",
   "execution_count": null,
   "metadata": {
    "id": "5v34cn2m_wik"
   },
   "outputs": [],
   "source": [
    "bikes.datetime.dt.hour"
   ]
  },
  {
   "cell_type": "code",
   "execution_count": null,
   "metadata": {
    "id": "6a44GGqVqnLQ"
   },
   "outputs": [],
   "source": [
    "hour = 9\n",
    "bikes[bikes['datetime'].dt.hour == hour].plot\\\n",
    "  .scatter(\n",
    "      x='temp', y='count',\n",
    "      c='red',\n",
    "      figsize=(9, 6)\n",
    ")"
   ]
  },
  {
   "cell_type": "code",
   "execution_count": null,
   "metadata": {
    "id": "1cnpgvBVqq4T"
   },
   "outputs": [],
   "source": [
    "# BTW, if you want to highlight densities (i.e., areas in the scatter where more dots are clustered),\n",
    "# \"hexbin\" plot may be useful.\n",
    "hour = 9\n",
    "(\n",
    "  bikes\n",
    "  [bikes['datetime'].dt.hour==hour]\n",
    "  .plot\n",
    "  .hexbin(\n",
    "      x='temp', y='count',\n",
    "      gridsize=15,\n",
    "      cmap=\"Reds\",\n",
    "      figsize=(9, 6)\n",
    "  )\n",
    ")"
   ]
  },
  {
   "cell_type": "code",
   "execution_count": null,
   "metadata": {
    "id": "ZgLJ5EG4E9Fm"
   },
   "outputs": [],
   "source": [
    "# splitting between \"casual\" and \"registered\" users\n",
    "hour = 9\n",
    "ax = bikes[bikes['datetime'].dt.hour == hour].plot.scatter(x='temp', y='registered', c='red')\n",
    "bikes[bikes['datetime'].dt.hour == hour].plot.scatter(x='temp', y='casual', c='blue', ax=ax)\n",
    "leg = ax.legend(['registered', 'casual'])"
   ]
  },
  {
   "cell_type": "markdown",
   "metadata": {
    "id": "Te5LbASZizPL"
   },
   "source": [
    "> **Your turn:** Plot the following for the dessert dataset:\n",
    "> * Plot 1 - A bar-plot indicating the number of buyers and non-buyers for each group size\n",
    "> * Plot 2 - A pie chart indicating the relative part of each weekday in the data"
   ]
  },
  {
   "cell_type": "markdown",
   "metadata": {
    "id": "y6j9Wi3OjLc8"
   },
   "source": [
    "#### Solution"
   ]
  },
  {
   "cell_type": "code",
   "execution_count": null,
   "metadata": {
    "id": "-yLjopmL5K5l"
   },
   "outputs": [],
   "source": [
    "df = pd.read_csv(\"dessert.csv\")\n",
    "df.head()"
   ]
  },
  {
   "cell_type": "code",
   "execution_count": null,
   "metadata": {
    "id": "nt3AAOe2ZDz_"
   },
   "outputs": [],
   "source": [
    "# Plot 1 - A bar-plot indicating the number of buyers and non-buyers for each group size\n",
    "df[\"no.dessert\"] = ~df[\"dessert\"]\n",
    "df.groupby(\"num.of.guests\")[[\"dessert\", \"no.dessert\"]].sum()"
   ]
  },
  {
   "cell_type": "code",
   "execution_count": null,
   "metadata": {
    "id": "2UacbhzlZD0A"
   },
   "outputs": [],
   "source": [
    "df.groupby(\"num.of.guests\")[[\"dessert\", \"no.dessert\"]].sum().plot.bar(figsize=(9, 6))   # try it using barh (just like in Matplotlib)"
   ]
  },
  {
   "cell_type": "code",
   "execution_count": null,
   "metadata": {
    "id": "AzA8J0pnG170"
   },
   "outputs": [],
   "source": [
    "# Eddy's solution\n",
    "df.groupby(['num.of.guests','dessert'])['id'].count().unstack(1).plot.bar()"
   ]
  },
  {
   "cell_type": "code",
   "execution_count": null,
   "metadata": {
    "id": "Kv0wD2KwZD0D"
   },
   "outputs": [],
   "source": [
    "# Plot 2 - A pie chart indicating the relative part of each weekday in the data\n",
    "df['day.of.week'].value_counts()"
   ]
  },
  {
   "cell_type": "code",
   "execution_count": null,
   "metadata": {
    "id": "I-rw5ohgdnN1"
   },
   "outputs": [],
   "source": [
    "df['day.of.week'].value_counts().plot.pie(figsize=(10, 7), autopct=\"%.1f\")"
   ]
  },
  {
   "cell_type": "markdown",
   "metadata": {
    "executionInfo": {
     "elapsed": 312,
     "status": "ok",
     "timestamp": 1674065947937,
     "user": {
      "displayName": "Alon Tam",
      "userId": "13843051219737434027"
     },
     "user_tz": -120
    },
    "id": "wfn15ZZlGjkF",
    "outputId": "2862b7da-e6a3-43fd-971d-098c108a3251"
   },
   "source": [
    "### Worth mentioning..."
   ]
  },
  {
   "cell_type": "code",
   "execution_count": null,
   "metadata": {
    "id": "kpFXbKxBHoU6"
   },
   "outputs": [],
   "source": [
    "df.pivot_table?"
   ]
  },
  {
   "cell_type": "code",
   "execution_count": null,
   "metadata": {
    "id": "IuZp2OOoHv87"
   },
   "outputs": [],
   "source": [
    "df.melt?"
   ]
  }
 ],
 "metadata": {
  "colab": {
   "collapsed_sections": [
    "tUhQy79sbdZd"
   ],
   "provenance": []
  },
  "kernelspec": {
   "display_name": "Python 3 (ipykernel)",
   "language": "python",
   "name": "python3"
  },
  "language_info": {
   "codemirror_mode": {
    "name": "ipython",
    "version": 3
   },
   "file_extension": ".py",
   "mimetype": "text/x-python",
   "name": "python",
   "nbconvert_exporter": "python",
   "pygments_lexer": "ipython3",
   "version": "3.9.7"
  }
 },
 "nbformat": 4,
 "nbformat_minor": 1
}
