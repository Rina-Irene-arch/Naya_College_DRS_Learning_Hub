{
 "cells": [
  {
   "cell_type": "markdown",
   "metadata": {
    "id": "6vnRPZwfvU5D"
   },
   "source": [
    "# Introduction"
   ]
  },
  {
   "cell_type": "markdown",
   "metadata": {
    "id": "xItS1zUEvU5C"
   },
   "source": [
    "A function is a block of organized, reusable code. Functions provide better modularity for your application and a high degree of code reusing. In addition, they also make your code more readable, as they keep the **main code** simple by assigning tasks to auxiliary funtions.\n",
    "\n",
    "We already know many of Python's built-in functions like _input()_, _max()_, _float()_, etc., and in this chapter we will learn how to create our own functions. These functions are called **user-defined functions**.\n",
    "\n",
    "A function receives **input arguments** and **returns** some **output** based on them. Both the input and the output can in general contain zero arguments, for example the function _print_ returns no argument, and the list method _pop()_ may be called without an input argument (for this chapter we will not distinguish between functions and methods). The terminology for using a function is to _call_ it.\n",
    "\n",
    "Every function definition starts with a **signature**, containing the prefix **def** followed by the name of the function and parentheses, in which the input arguments are listed. Then, following a colon and an indentation, the function **block** is written, possibly containing a **return** statement(s)."
   ]
  },
  {
   "cell_type": "markdown",
   "metadata": {
    "id": "1IorArtJvU5D"
   },
   "source": [
    "The following function adds the input arguments `x` and `y` and return their sum."
   ]
  },
  {
   "cell_type": "code",
   "execution_count": null,
   "metadata": {
    "id": "HIB-F5nuvU5E"
   },
   "outputs": [],
   "source": [
    "def add_items(x, y):\n",
    "    total = x + y\n",
    "    return total"
   ]
  },
  {
   "cell_type": "markdown",
   "metadata": {
    "id": "NI4Bhe89vU5I"
   },
   "source": [
    "Now the function `add_items()` can be called during the execution of the main code."
   ]
  },
  {
   "cell_type": "code",
   "execution_count": null,
   "metadata": {
    "colab": {
     "base_uri": "https://localhost:8080/"
    },
    "executionInfo": {
     "elapsed": 328,
     "status": "ok",
     "timestamp": 1720111613094,
     "user": {
      "displayName": "Alon Tam",
      "userId": "13843051219737434027"
     },
     "user_tz": -180
    },
    "id": "zivW6RYlvU5I",
    "outputId": "dedbde31-a6bd-412d-bc6c-c7e1751bc926"
   },
   "outputs": [
    {
     "name": "stdout",
     "output_type": "stream",
     "text": [
      "8\n"
     ]
    }
   ],
   "source": [
    "a = 3\n",
    "b = 5\n",
    "\n",
    "c = add_items(a, b)\n",
    "\n",
    "print(c)"
   ]
  },
  {
   "cell_type": "markdown",
   "metadata": {
    "id": "7IPT06Q0vU5N"
   },
   "source": [
    "We note that since Python is a dynamic language, which does not require pre-assignment of data types, the input of `add_items()` may be of any type, as long as the `+` sign is appropriate."
   ]
  },
  {
   "cell_type": "code",
   "execution_count": null,
   "metadata": {
    "colab": {
     "base_uri": "https://localhost:8080/"
    },
    "executionInfo": {
     "elapsed": 318,
     "status": "ok",
     "timestamp": 1720111786857,
     "user": {
      "displayName": "Alon Tam",
      "userId": "13843051219737434027"
     },
     "user_tz": -180
    },
    "id": "tKE1xxQuvU5O",
    "outputId": "0d1fe58e-f56b-4481-c1f2-cd8ef9e4e0d0"
   },
   "outputs": [
    {
     "name": "stdout",
     "output_type": "stream",
     "text": [
      "international\n"
     ]
    }
   ],
   "source": [
    "a = 'inter'\n",
    "b = 'national'\n",
    "\n",
    "c = add_items(a, b)\n",
    "\n",
    "print(c)"
   ]
  },
  {
   "cell_type": "markdown",
   "metadata": {
    "id": "IZhcEbbjvU5S"
   },
   "source": [
    "> **Note:** In the example above the main code has variables `a` and `b`, while the function renames them **locally** as `x` and `y`. Understanding the relationship between the outer variables and their local counterparts is quiet complicated and we will not cover it here. However, we should remember that if the variables are **mutable**, then changing the local variables makes the change in the outer variables."
   ]
  },
  {
   "cell_type": "markdown",
   "metadata": {
    "id": "Td3GU3ZBvU5n"
   },
   "source": [
    "### Examples"
   ]
  },
  {
   "cell_type": "markdown",
   "metadata": {
    "id": "QkSCdKzPxHSJ"
   },
   "source": [
    "Write a function which prints the string \"hello\".\n",
    "\n",
    "\n"
   ]
  },
  {
   "cell_type": "code",
   "execution_count": null,
   "metadata": {
    "id": "f1hHyPrCxFg-"
   },
   "outputs": [],
   "source": [
    "def print_hello():\n",
    "  print(\"hello\")"
   ]
  },
  {
   "cell_type": "code",
   "execution_count": null,
   "metadata": {
    "colab": {
     "base_uri": "https://localhost:8080/"
    },
    "executionInfo": {
     "elapsed": 11,
     "status": "ok",
     "timestamp": 1720437830865,
     "user": {
      "displayName": "Rina Irene Rafalski",
      "userId": "17396273602632308485"
     },
     "user_tz": -180
    },
    "id": "Nt-6vDxzx-Y9",
    "outputId": "bfacc87c-ab71-4e63-f951-c3894656e075"
   },
   "outputs": [
    {
     "name": "stdout",
     "output_type": "stream",
     "text": [
      "hello\n"
     ]
    }
   ],
   "source": [
    "print_hello()"
   ]
  },
  {
   "cell_type": "code",
   "execution_count": null,
   "metadata": {
    "id": "CDmJdIQIqq-H"
   },
   "outputs": [],
   "source": [
    "def get_current_time():\n",
    "  ...\n",
    "  return current_time"
   ]
  },
  {
   "cell_type": "markdown",
   "metadata": {
    "id": "8n4mptc3xc5M"
   },
   "source": [
    "Write a function which accepts a number as input, and prints the number raised by the power of 2."
   ]
  },
  {
   "cell_type": "code",
   "execution_count": null,
   "metadata": {
    "id": "S6feO5dNyne9"
   },
   "outputs": [],
   "source": [
    "def power_of_2(num1):\n",
    "  print(num1**2)"
   ]
  },
  {
   "cell_type": "markdown",
   "metadata": {
    "id": "rPs0Fm1svU5p"
   },
   "source": [
    "Write a function which accepts a list of strings as input and returns the longest string in the list as output."
   ]
  },
  {
   "cell_type": "code",
   "execution_count": null,
   "metadata": {
    "id": "J3nLGIfSvU5r"
   },
   "outputs": [],
   "source": [
    "def get_longest_word(words_list):\n",
    "\n",
    "    longest_word = ''\n",
    "\n",
    "    for word in words_list:\n",
    "        if len(word) > len(longest_word):\n",
    "            longest_word = word\n",
    "\n",
    "    return longest_word"
   ]
  },
  {
   "cell_type": "code",
   "execution_count": null,
   "metadata": {
    "colab": {
     "base_uri": "https://localhost:8080/",
     "height": 36
    },
    "executionInfo": {
     "elapsed": 461,
     "status": "ok",
     "timestamp": 1720437963838,
     "user": {
      "displayName": "Rina Irene Rafalski",
      "userId": "17396273602632308485"
     },
     "user_tz": -180
    },
    "id": "C2PgKPWC8lZY",
    "outputId": "e7f3361d-e737-4637-d640-213362d3f678"
   },
   "outputs": [
    {
     "data": {
      "application/vnd.google.colaboratory.intrinsic+json": {
       "type": "string"
      },
      "text/plain": [
       "'Encyclopedia'"
      ]
     },
     "execution_count": 6,
     "metadata": {},
     "output_type": "execute_result"
    }
   ],
   "source": [
    "some_words = [\"Home\", \"Encyclopedia\", \"War\", \"Peace\", \"Wheels\"]\n",
    "\n",
    "get_longest_word(some_words)"
   ]
  },
  {
   "cell_type": "markdown",
   "metadata": {
    "id": "0nJsEGR0Iyk4"
   },
   "source": [
    "> **Your turn:**\n",
    "\n",
    "1. Write a function called 'print_my_name(name, last_name)', which prints the sentence \"My first name is ___ and my last name is ____\"\n",
    "2. Write a function called 'multiplication(a, b)' which prints the multiplication of a and b.\n",
    "3. Write a function called `sum_of_numbers(numbers_list)` which prints the sum of the numbers of list `numbers_list`."
   ]
  },
  {
   "cell_type": "code",
   "execution_count": null,
   "metadata": {
    "colab": {
     "base_uri": "https://localhost:8080/"
    },
    "executionInfo": {
     "elapsed": 458,
     "status": "ok",
     "timestamp": 1720438155921,
     "user": {
      "displayName": "Rina Irene Rafalski",
      "userId": "17396273602632308485"
     },
     "user_tz": -180
    },
    "id": "eQ-CTr_DGLjq",
    "outputId": "110d4134-1052-43d3-f884-6d88fda72948"
   },
   "outputs": [
    {
     "name": "stdout",
     "output_type": "stream",
     "text": [
      "My first name is Rina and my last name is Raf\n"
     ]
    }
   ],
   "source": [
    "# 1. Write a function called 'print_my_name(name, last_name)', which prints the sentence \"My first name is _ and my last name is __\"\n",
    "\n",
    "def print_my_name(name, last_name):\n",
    "  print('My first name is', name, 'and my last name is', last_name)\n",
    "  return\n",
    "\n",
    "print_my_name('Rina', 'Raf')"
   ]
  },
  {
   "cell_type": "code",
   "execution_count": null,
   "metadata": {
    "colab": {
     "base_uri": "https://localhost:8080/"
    },
    "executionInfo": {
     "elapsed": 463,
     "status": "ok",
     "timestamp": 1720438354051,
     "user": {
      "displayName": "Rina Irene Rafalski",
      "userId": "17396273602632308485"
     },
     "user_tz": -180
    },
    "id": "C3zw9D1hG-pt",
    "outputId": "037294d6-bec3-44f3-cfb4-638095aac797"
   },
   "outputs": [
    {
     "data": {
      "text/plain": [
       "90"
      ]
     },
     "execution_count": 8,
     "metadata": {},
     "output_type": "execute_result"
    }
   ],
   "source": [
    "# 2. Write a function called 'multiplication(a, b)' which prints the multiplication of a and b.\n",
    "def multiplication(a, b):\n",
    "  mult_result = a*b\n",
    "  return mult_result\n",
    "\n",
    "multiplication(10, 9)"
   ]
  },
  {
   "cell_type": "code",
   "execution_count": null,
   "metadata": {
    "colab": {
     "base_uri": "https://localhost:8080/"
    },
    "executionInfo": {
     "elapsed": 450,
     "status": "ok",
     "timestamp": 1720438838341,
     "user": {
      "displayName": "Rina Irene Rafalski",
      "userId": "17396273602632308485"
     },
     "user_tz": -180
    },
    "id": "1KFQViNm9r_X",
    "outputId": "fc5c5019-b522-4aed-e6bc-6996e25ad841"
   },
   "outputs": [
    {
     "data": {
      "text/plain": [
       "10"
      ]
     },
     "execution_count": 11,
     "metadata": {},
     "output_type": "execute_result"
    }
   ],
   "source": [
    "# 3. Write a function called sum_of_numbers(numbers_list) which prints the sum of the numbers of list numbers_list.\n",
    "numbers_list = [1, 2, 3, 4]\n",
    "def sum_of_numbers(numbers_list):\n",
    "  sum_of_numbers = 0\n",
    "  for num in numbers_list:\n",
    "    sum_of_numbers += num\n",
    "  return sum_of_numbers\n",
    "\n",
    "sum_of_numbers(numbers_list)"
   ]
  },
  {
   "cell_type": "markdown",
   "metadata": {
    "id": "78_myf3D3qNy"
   },
   "source": [
    "### Solution"
   ]
  },
  {
   "cell_type": "code",
   "execution_count": null,
   "metadata": {
    "id": "5mdtinCmmlaN"
   },
   "outputs": [],
   "source": [
    "# 1.\n",
    "def print_my_name(first_name, last_name):\n",
    "  # line = f\"My first name is {first_name.lower().capitalize()} and my last name is {last_name.lower().title()}.\"\n",
    "  line = \"My first name is \" + first_name.lower().capitalize() + \" and my last name is \" + last_name.lower().capitalize() + \".\"\n",
    "  print(line)"
   ]
  },
  {
   "cell_type": "code",
   "execution_count": null,
   "metadata": {
    "colab": {
     "base_uri": "https://localhost:8080/"
    },
    "executionInfo": {
     "elapsed": 9,
     "status": "ok",
     "timestamp": 1720438867512,
     "user": {
      "displayName": "Rina Irene Rafalski",
      "userId": "17396273602632308485"
     },
     "user_tz": -180
    },
    "id": "QvGREGjsnhKP",
    "outputId": "ccd680c0-a973-4595-dadb-59e879703e21"
   },
   "outputs": [
    {
     "name": "stdout",
     "output_type": "stream",
     "text": [
      "My first name is David and my last name is Ezra.\n"
     ]
    }
   ],
   "source": [
    "print_my_name(\"daVID\", \"eZra\")"
   ]
  },
  {
   "cell_type": "code",
   "execution_count": null,
   "metadata": {
    "id": "DE6jjhM6mlGN"
   },
   "outputs": [],
   "source": [
    "# 2.\n",
    "def multiplication(a, b):\n",
    "  product = a * b\n",
    "  return product"
   ]
  },
  {
   "cell_type": "code",
   "execution_count": null,
   "metadata": {
    "colab": {
     "base_uri": "https://localhost:8080/"
    },
    "executionInfo": {
     "elapsed": 7,
     "status": "ok",
     "timestamp": 1720438867513,
     "user": {
      "displayName": "Rina Irene Rafalski",
      "userId": "17396273602632308485"
     },
     "user_tz": -180
    },
    "id": "9me6JI6en-as",
    "outputId": "7f52f505-41ac-4c62-e4cd-5f2f8086f769"
   },
   "outputs": [
    {
     "data": {
      "text/plain": [
       "270"
      ]
     },
     "execution_count": 15,
     "metadata": {},
     "output_type": "execute_result"
    }
   ],
   "source": [
    "multiplication(10, 27)"
   ]
  },
  {
   "cell_type": "code",
   "execution_count": null,
   "metadata": {
    "id": "KO-bS2g0_ivX"
   },
   "outputs": [],
   "source": [
    "# 3.\n",
    "def sum_of_numbers(numbers_list):\n",
    "\n",
    "    total = 0\n",
    "\n",
    "    for num in numbers_list:\n",
    "        total = total + num\n",
    "\n",
    "    return total"
   ]
  },
  {
   "cell_type": "code",
   "execution_count": null,
   "metadata": {
    "colab": {
     "base_uri": "https://localhost:8080/"
    },
    "executionInfo": {
     "elapsed": 5,
     "status": "ok",
     "timestamp": 1720438867513,
     "user": {
      "displayName": "Rina Irene Rafalski",
      "userId": "17396273602632308485"
     },
     "user_tz": -180
    },
    "id": "N_bR_E0pk61L",
    "outputId": "05a3d663-d9e0-45bd-8e68-dcd059668106"
   },
   "outputs": [
    {
     "data": {
      "text/plain": [
       "10"
      ]
     },
     "execution_count": 17,
     "metadata": {},
     "output_type": "execute_result"
    }
   ],
   "source": [
    "my_numbers_list = [1, 2, 3, 4]\n",
    "sum_of_numbers(my_numbers_list)"
   ]
  },
  {
   "cell_type": "markdown",
   "metadata": {
    "id": "gyrt4gVfIoJv"
   },
   "source": [
    "## The `return` statement"
   ]
  },
  {
   "cell_type": "markdown",
   "metadata": {
    "id": "hWVZ3WlcvU5T"
   },
   "source": [
    "The **`return`** statement can return more than a single value by separating the output values with commas. However, the entire output is considered a single _tuple_, and may be unpacked by the caller."
   ]
  },
  {
   "cell_type": "markdown",
   "metadata": {
    "id": "m36HskIAvU5b"
   },
   "source": [
    "The `return` statement aborts the function instantly (similar to `break`). This allows the coexistence of several `return` statements in a single function."
   ]
  },
  {
   "cell_type": "code",
   "execution_count": null,
   "metadata": {
    "id": "X4ie8xaB1kko"
   },
   "outputs": [],
   "source": [
    "var = None"
   ]
  },
  {
   "cell_type": "code",
   "execution_count": null,
   "metadata": {
    "id": "l6M6XkKe1s8u"
   },
   "outputs": [],
   "source": [
    "def just_do_it(x, y):\n",
    "  print(\"I was here\", x, y)\n",
    "  # return"
   ]
  },
  {
   "cell_type": "code",
   "execution_count": null,
   "metadata": {
    "colab": {
     "base_uri": "https://localhost:8080/"
    },
    "executionInfo": {
     "elapsed": 298,
     "status": "ok",
     "timestamp": 1720115052694,
     "user": {
      "displayName": "Alon Tam",
      "userId": "13843051219737434027"
     },
     "user_tz": -180
    },
    "id": "qUFjzMg615Le",
    "outputId": "f94c62f1-b909-4de8-ef8f-fae01dca7262"
   },
   "outputs": [
    {
     "name": "stdout",
     "output_type": "stream",
     "text": [
      "I was here 3 4\n"
     ]
    }
   ],
   "source": [
    "value = just_do_it(3, 4)"
   ]
  },
  {
   "cell_type": "code",
   "execution_count": null,
   "metadata": {
    "colab": {
     "base_uri": "https://localhost:8080/"
    },
    "executionInfo": {
     "elapsed": 357,
     "status": "ok",
     "timestamp": 1720115054951,
     "user": {
      "displayName": "Alon Tam",
      "userId": "13843051219737434027"
     },
     "user_tz": -180
    },
    "id": "g5NrwmBY2Cdu",
    "outputId": "e5aa494f-a0eb-4a39-be70-ef6f07c59bb0"
   },
   "outputs": [
    {
     "name": "stdout",
     "output_type": "stream",
     "text": [
      "None\n"
     ]
    }
   ],
   "source": [
    "print(value)"
   ]
  },
  {
   "cell_type": "code",
   "execution_count": null,
   "metadata": {
    "id": "e8Q-YSiAvU5c"
   },
   "outputs": [],
   "source": [
    "def count_the_vowels(sentence):\n",
    "\n",
    "    # Count the vowels\n",
    "    num_of_vowels = 0\n",
    "    for ch in sentence:\n",
    "        if ch in 'aeiou':\n",
    "          num_of_vowels = num_of_vowels + 1\n",
    "\n",
    "    if num_of_vowels < 13:\n",
    "        return \"not many\"\n",
    "    if num_of_vowels > 13:\n",
    "        return \"many\"\n"
   ]
  },
  {
   "cell_type": "code",
   "execution_count": null,
   "metadata": {
    "id": "pWGN6RkRvU5f"
   },
   "outputs": [],
   "source": [
    "truth = \"The return\"  # statement may appear more than once in a single function.\"\n",
    "# print(f\"There are {count_the_vowels(truth)} vowels in the sentence.\")"
   ]
  },
  {
   "cell_type": "code",
   "execution_count": null,
   "metadata": {
    "colab": {
     "base_uri": "https://localhost:8080/",
     "height": 36
    },
    "executionInfo": {
     "elapsed": 314,
     "status": "ok",
     "timestamp": 1720115316794,
     "user": {
      "displayName": "Alon Tam",
      "userId": "13843051219737434027"
     },
     "user_tz": -180
    },
    "id": "ZrlRqTiC3EL2",
    "outputId": "ffa7906d-d5ea-4165-c0cb-e4d20f5e4873"
   },
   "outputs": [
    {
     "data": {
      "application/vnd.google.colaboratory.intrinsic+json": {
       "type": "string"
      },
      "text/plain": [
       "'not many'"
      ]
     },
     "execution_count": 37,
     "metadata": {},
     "output_type": "execute_result"
    }
   ],
   "source": [
    "count_the_vowels(truth)"
   ]
  },
  {
   "cell_type": "markdown",
   "metadata": {
    "id": "SNP2EtI3vU5j"
   },
   "source": [
    "A function cannot returns anything, so even if the _return_ statement was not encountered during execution, a _None_ is returned."
   ]
  },
  {
   "cell_type": "code",
   "execution_count": null,
   "metadata": {
    "colab": {
     "base_uri": "https://localhost:8080/"
    },
    "executionInfo": {
     "elapsed": 308,
     "status": "ok",
     "timestamp": 1720115475935,
     "user": {
      "displayName": "Alon Tam",
      "userId": "13843051219737434027"
     },
     "user_tz": -180
    },
    "id": "zkaQSAOevU5k",
    "outputId": "4f8d34c4-378d-4509-bb01-766e5354d2f0"
   },
   "outputs": [
    {
     "name": "stdout",
     "output_type": "stream",
     "text": [
      "None\n"
     ]
    }
   ],
   "source": [
    "print(count_the_vowels(\"There are exactly 13 vowels in this sentence!\"))"
   ]
  },
  {
   "cell_type": "markdown",
   "metadata": {
    "id": "NKZENagD0FIb"
   },
   "source": [
    "### Multiple return values"
   ]
  },
  {
   "cell_type": "code",
   "execution_count": null,
   "metadata": {
    "id": "LU-IOmbY0EJr"
   },
   "outputs": [],
   "source": [
    "def just_do_it(x, y):\n",
    "  return x+y, x-y, x*y, x/y"
   ]
  },
  {
   "cell_type": "code",
   "execution_count": null,
   "metadata": {
    "colab": {
     "base_uri": "https://localhost:8080/"
    },
    "executionInfo": {
     "elapsed": 334,
     "status": "ok",
     "timestamp": 1720115683503,
     "user": {
      "displayName": "Alon Tam",
      "userId": "13843051219737434027"
     },
     "user_tz": -180
    },
    "id": "2_30jFHz4D7P",
    "outputId": "3abafe63-1e54-49bb-ccd9-53db0ac95598"
   },
   "outputs": [
    {
     "data": {
      "text/plain": [
       "(12, 8, 20, 5.0)"
      ]
     },
     "execution_count": 40,
     "metadata": {},
     "output_type": "execute_result"
    }
   ],
   "source": [
    "just_do_it(10, 2)"
   ]
  },
  {
   "cell_type": "code",
   "execution_count": null,
   "metadata": {
    "id": "U1BoYdIF0sQj"
   },
   "outputs": [],
   "source": [
    "sum_, diff, prod, div = just_do_it(10, 2)"
   ]
  },
  {
   "cell_type": "code",
   "execution_count": null,
   "metadata": {
    "colab": {
     "base_uri": "https://localhost:8080/"
    },
    "executionInfo": {
     "elapsed": 2,
     "status": "ok",
     "timestamp": 1720115756176,
     "user": {
      "displayName": "Alon Tam",
      "userId": "13843051219737434027"
     },
     "user_tz": -180
    },
    "id": "TrFw8esT05IV",
    "outputId": "883c68bc-9f5e-49f0-be65-dd952ac5a73f"
   },
   "outputs": [
    {
     "name": "stdout",
     "output_type": "stream",
     "text": [
      "12 8 20 5.0\n"
     ]
    }
   ],
   "source": [
    "print(sum_, diff, prod, div)"
   ]
  },
  {
   "cell_type": "markdown",
   "metadata": {
    "id": "qTvf9RSJvU51"
   },
   "source": [
    "Functions can be, and very often are, **chained**, namely call to one another. This allows the separation of large functionalities into smaller and smaller bits."
   ]
  },
  {
   "cell_type": "markdown",
   "metadata": {
    "id": "yGYIifsVvU53"
   },
   "source": [
    "### Example"
   ]
  },
  {
   "cell_type": "markdown",
   "metadata": {
    "id": "Uyj95HHdvU57"
   },
   "source": [
    "* Write a function, *is_prime* which receives an integer and returns a Boolean indicating whether the integer is a prime number.\n",
    "* Write a function, *primes_in_range* which takes a start number and an end number and prints all the prime numbers in between. Make sure to use *is_prime*.\n"
   ]
  },
  {
   "cell_type": "code",
   "execution_count": null,
   "metadata": {
    "id": "Ccjx8JeyvU5_"
   },
   "outputs": [],
   "source": [
    "# Write a function, is_prime which receives an integer and returns a Boolean indicating whether the integer is a prime number.\n",
    "def is_prime(n):\n",
    "      '''\n",
    "      Special Case for 1:\n",
    "      This line checks if n is equal to 1. If n is 1, the function returns False immediately because 1 is not considered a prime number.\n",
    "      '''\n",
    "    if n == 1:\n",
    "      return False\n",
    "      '''\n",
    "      We only need to check up to the square root of n\n",
    "      because if n is divisible by any number greater than its square root,\n",
    "      it will also be divisible by a smaller number.\n",
    "      This optimization reduces the number of checks needed.\n",
    "      '''\n",
    "    for k in range(2, int(n**0.5)+1):\n",
    "        if n % k == 0:\n",
    "            return False\n",
    "    return True"
   ]
  },
  {
   "cell_type": "code",
   "execution_count": null,
   "metadata": {
    "colab": {
     "base_uri": "https://localhost:8080/"
    },
    "executionInfo": {
     "elapsed": 296,
     "status": "ok",
     "timestamp": 1720116126617,
     "user": {
      "displayName": "Alon Tam",
      "userId": "13843051219737434027"
     },
     "user_tz": -180
    },
    "id": "Kx5ZOUYak61R",
    "outputId": "a78c8705-4425-4790-fb71-17372b512dea"
   },
   "outputs": [
    {
     "data": {
      "text/plain": [
       "False"
      ]
     },
     "execution_count": 51,
     "metadata": {},
     "output_type": "execute_result"
    }
   ],
   "source": [
    "is_prime(1)"
   ]
  },
  {
   "cell_type": "code",
   "execution_count": null,
   "metadata": {
    "colab": {
     "base_uri": "https://localhost:8080/"
    },
    "executionInfo": {
     "elapsed": 1,
     "status": "ok",
     "timestamp": 1720116127902,
     "user": {
      "displayName": "Alon Tam",
      "userId": "13843051219737434027"
     },
     "user_tz": -180
    },
    "id": "gnaa2r0GvU6D",
    "outputId": "550f1642-4259-4524-d120-0cc6aa2b79df"
   },
   "outputs": [
    {
     "data": {
      "text/plain": [
       "True"
      ]
     },
     "execution_count": 52,
     "metadata": {},
     "output_type": "execute_result"
    }
   ],
   "source": [
    "is_prime(17)"
   ]
  },
  {
   "cell_type": "code",
   "execution_count": null,
   "metadata": {
    "id": "OoBhXOQ7k61R"
   },
   "outputs": [],
   "source": [
    "# Write a function, primes_in_range which takes a start number and an end number and prints all the prime numbers in between. Make sure to use is_prime.\n",
    "def primes_in_range(from_num, to_num):\n",
    "    for num in range(from_num, to_num+1):\n",
    "        if is_prime(num):\n",
    "            print(num)"
   ]
  },
  {
   "cell_type": "code",
   "execution_count": null,
   "metadata": {
    "colab": {
     "base_uri": "https://localhost:8080/"
    },
    "executionInfo": {
     "elapsed": 277,
     "status": "ok",
     "timestamp": 1720116224353,
     "user": {
      "displayName": "Alon Tam",
      "userId": "13843051219737434027"
     },
     "user_tz": -180
    },
    "id": "73TxVxvpk61R",
    "outputId": "4b7cf92b-f7ce-41b6-8fdc-2a4fe0977f5d"
   },
   "outputs": [
    {
     "name": "stdout",
     "output_type": "stream",
     "text": [
      "23\n",
      "29\n",
      "31\n",
      "37\n"
     ]
    }
   ],
   "source": [
    "primes_in_range(20, 40)"
   ]
  },
  {
   "cell_type": "markdown",
   "metadata": {
    "id": "coSFwo4DNGET"
   },
   "source": [
    "> **Practice... Practice... Practice... Practice... Practice... Practice...**"
   ]
  },
  {
   "cell_type": "markdown",
   "metadata": {
    "id": "HBybBo9U4KoB"
   },
   "source": [
    "> **Your turn:**\n",
    "\n",
    "1. Write a function called 'max_number(a, b, c)' which returns the highest number between a, b and c.\n",
    "2. Write a function called 'longest_name(name_1, name_2, name_3)' which returns the longest name."
   ]
  },
  {
   "cell_type": "code",
   "execution_count": null,
   "metadata": {
    "colab": {
     "base_uri": "https://localhost:8080/"
    },
    "executionInfo": {
     "elapsed": 443,
     "status": "ok",
     "timestamp": 1720441897508,
     "user": {
      "displayName": "Rina Irene Rafalski",
      "userId": "17396273602632308485"
     },
     "user_tz": -180
    },
    "id": "QtEYeM_VSXOO",
    "outputId": "8096fc35-d290-4de9-92e2-f3d05a2e6e88"
   },
   "outputs": [
    {
     "data": {
      "text/plain": [
       "90"
      ]
     },
     "execution_count": 25,
     "metadata": {},
     "output_type": "execute_result"
    }
   ],
   "source": [
    "# 1. Write a function called 'max_number(a, b, c)' which returns the highest number between a, b and c.\n",
    "def max_number(a, b, c):\n",
    "  max_number = a\n",
    "  for num in (b,c):\n",
    "    if num > max_number:\n",
    "      max_number = num\n",
    "  return max_number\n",
    "\n",
    "max_number(74, 5, 90)"
   ]
  },
  {
   "cell_type": "code",
   "execution_count": null,
   "metadata": {
    "colab": {
     "base_uri": "https://localhost:8080/",
     "height": 36
    },
    "executionInfo": {
     "elapsed": 828,
     "status": "ok",
     "timestamp": 1720442241895,
     "user": {
      "displayName": "Rina Irene Rafalski",
      "userId": "17396273602632308485"
     },
     "user_tz": -180
    },
    "id": "Kaxh2KoCVE0V",
    "outputId": "55f0ae42-88b0-4c26-a517-fdeda72fbb4a"
   },
   "outputs": [
    {
     "data": {
      "application/vnd.google.colaboratory.intrinsic+json": {
       "type": "string"
      },
      "text/plain": [
       "'international'"
      ]
     },
     "execution_count": 26,
     "metadata": {},
     "output_type": "execute_result"
    }
   ],
   "source": [
    "# 2. Write a function called 'longest_name(name_1, name_2, name_3)' which returns the longest name.\n",
    "def longest_name(name_1, name_2, name_3):\n",
    "  longest_name = name_1\n",
    "  for name in (name_2, name_3):\n",
    "    if len(name) > len(longest_name):\n",
    "      longest_name = name\n",
    "  return longest_name\n",
    "\n",
    "longest_name('orange', 'samsung', 'international')"
   ]
  },
  {
   "cell_type": "markdown",
   "metadata": {
    "id": "9dzSBZwKk61R",
    "tags": []
   },
   "source": [
    "#### Solution"
   ]
  },
  {
   "cell_type": "code",
   "execution_count": null,
   "metadata": {
    "id": "dETteovk4mkJ"
   },
   "outputs": [],
   "source": [
    "def max_number(a, b, c):\n",
    "  highest = a\n",
    "  for num in (b, c):\n",
    "    if num > highest:\n",
    "      highest = num\n",
    "  return highest"
   ]
  },
  {
   "cell_type": "code",
   "execution_count": null,
   "metadata": {
    "id": "60fPbx-e5GIs"
   },
   "outputs": [],
   "source": [
    "def max_number_2(a, b, c):\n",
    "\n",
    "  highest = a\n",
    "  if b > highest:\n",
    "    highest = b\n",
    "  if c > highest:\n",
    "    highest = c\n",
    "\n",
    "  return highest"
   ]
  },
  {
   "cell_type": "code",
   "execution_count": null,
   "metadata": {
    "colab": {
     "base_uri": "https://localhost:8080/"
    },
    "executionInfo": {
     "elapsed": 12,
     "status": "ok",
     "timestamp": 1720442270687,
     "user": {
      "displayName": "Rina Irene Rafalski",
      "userId": "17396273602632308485"
     },
     "user_tz": -180
    },
    "id": "oIHeaTucAN33",
    "outputId": "493e364d-50fa-4045-90a2-a2cf6bc18ff0"
   },
   "outputs": [
    {
     "data": {
      "text/plain": [
       "1900"
      ]
     },
     "execution_count": 29,
     "metadata": {},
     "output_type": "execute_result"
    }
   ],
   "source": [
    "max_number_2(230, 91, 1900)"
   ]
  },
  {
   "cell_type": "code",
   "execution_count": null,
   "metadata": {
    "id": "1Gg7b-e25mh3"
   },
   "outputs": [],
   "source": [
    "def longest_name(name_1, name_2, name_3):\n",
    "\n",
    "  longest = name_1\n",
    "\n",
    "  if len(name_2) > len(longest):\n",
    "    longest = name_2\n",
    "  if len(name_3) > len(longest):\n",
    "    longest = name_3\n",
    "\n",
    "  return longest"
   ]
  },
  {
   "cell_type": "code",
   "execution_count": null,
   "metadata": {
    "colab": {
     "base_uri": "https://localhost:8080/",
     "height": 36
    },
    "executionInfo": {
     "elapsed": 9,
     "status": "ok",
     "timestamp": 1720442270688,
     "user": {
      "displayName": "Rina Irene Rafalski",
      "userId": "17396273602632308485"
     },
     "user_tz": -180
    },
    "id": "kysGD1jtAVH9",
    "outputId": "6d9b53a2-c4fd-4c78-d979-d52cf87f2d3e"
   },
   "outputs": [
    {
     "data": {
      "application/vnd.google.colaboratory.intrinsic+json": {
       "type": "string"
      },
      "text/plain": [
       "'Zurbavel'"
      ]
     },
     "execution_count": 31,
     "metadata": {},
     "output_type": "execute_result"
    }
   ],
   "source": [
    "longest_name(\"Zurbavel\", \"Dan\", \"Galit\")"
   ]
  },
  {
   "cell_type": "markdown",
   "metadata": {
    "id": "EIdNpvkfvU6L"
   },
   "source": [
    "# Arguments"
   ]
  },
  {
   "cell_type": "markdown",
   "metadata": {
    "id": "i1duCL12vU6M"
   },
   "source": [
    "When a function is called, it expects to be given a value for **all** it's arguments. If a function takes 2 arguments, it is not possible to call it providing only a single argument."
   ]
  },
  {
   "cell_type": "markdown",
   "metadata": {
    "id": "debtFy2IvU6M"
   },
   "source": [
    "## Default values"
   ]
  },
  {
   "cell_type": "markdown",
   "metadata": {
    "id": "yzkclSARvU6N"
   },
   "source": [
    "When defining a function, it is possible to give default values to its arguments, so that if the caller does not specify them, the function will use the default values."
   ]
  },
  {
   "cell_type": "markdown",
   "metadata": {
    "id": "Z5Do3hS-7Dl-"
   },
   "source": [
    "**IMPORTANT:** Arguments with default values must always come *after* arguments with no default values."
   ]
  },
  {
   "cell_type": "code",
   "execution_count": null,
   "metadata": {
    "id": "QHDv-Rd17bjo"
   },
   "outputs": [],
   "source": [
    "def greet(salutation, name=\"You\"):\n",
    "  print(\"Hello\", salutation, name, \"!\")"
   ]
  },
  {
   "cell_type": "code",
   "execution_count": null,
   "metadata": {
    "colab": {
     "base_uri": "https://localhost:8080/"
    },
    "executionInfo": {
     "elapsed": 5,
     "status": "ok",
     "timestamp": 1720442389569,
     "user": {
      "displayName": "Rina Irene Rafalski",
      "userId": "17396273602632308485"
     },
     "user_tz": -180
    },
    "id": "6_Q8Z31r7utn",
    "outputId": "457f6f7d-1e3e-4acc-861b-451f1eac73d8"
   },
   "outputs": [
    {
     "name": "stdout",
     "output_type": "stream",
     "text": [
      "Hello Mrs. Kaningham !\n"
     ]
    }
   ],
   "source": [
    "greet(\"Mrs.\", \"Kaningham\")"
   ]
  },
  {
   "cell_type": "code",
   "execution_count": null,
   "metadata": {
    "colab": {
     "base_uri": "https://localhost:8080/"
    },
    "executionInfo": {
     "elapsed": 477,
     "status": "ok",
     "timestamp": 1720442392701,
     "user": {
      "displayName": "Rina Irene Rafalski",
      "userId": "17396273602632308485"
     },
     "user_tz": -180
    },
    "id": "JS5ys4La7_RK",
    "outputId": "294287bd-9f5f-48c5-8226-82f2be8a1fed"
   },
   "outputs": [
    {
     "name": "stdout",
     "output_type": "stream",
     "text": [
      "Hello Mrs. You !\n"
     ]
    }
   ],
   "source": [
    "greet(\"Mrs.\")"
   ]
  },
  {
   "cell_type": "code",
   "execution_count": 2,
   "metadata": {
    "executionInfo": {
     "elapsed": 842,
     "status": "ok",
     "timestamp": 1720539617474,
     "user": {
      "displayName": "Rina Irene Rafalski",
      "userId": "17396273602632308485"
     },
     "user_tz": -180
    },
    "id": "iJGuyyR1Jl4w"
   },
   "outputs": [],
   "source": [
    "# checking arguments in function\n",
    "import pandas as pd\n",
    "pd.read_csv?"
   ]
  },
  {
   "cell_type": "markdown",
   "metadata": {
    "id": "MW_oTtBevU6O"
   },
   "source": [
    "### Example"
   ]
  },
  {
   "cell_type": "markdown",
   "metadata": {
    "id": "mxrwu4zpvU6O"
   },
   "source": [
    "The function `show_summary(lst, n_start, n_stop)` prints the first `n_start` and last `n_end` elements of `lst`. If the user does not specify how many elements he would like to see, then a defaul of three at each end is applied."
   ]
  },
  {
   "cell_type": "code",
   "execution_count": null,
   "metadata": {
    "id": "se3G7dqE6fz4"
   },
   "outputs": [],
   "source": [
    "import pandas as pd"
   ]
  },
  {
   "cell_type": "code",
   "execution_count": 3,
   "metadata": {
    "executionInfo": {
     "elapsed": 311,
     "status": "ok",
     "timestamp": 1720539784079,
     "user": {
      "displayName": "Rina Irene Rafalski",
      "userId": "17396273602632308485"
     },
     "user_tz": -180
    },
    "id": "0W1SGlfxTEHD"
   },
   "outputs": [],
   "source": [
    "def show_summary(lst, n_start=3, n_end=3):\n",
    "\n",
    "    if len(lst) < n_start + n_end:\n",
    "        print(lst)\n",
    "    else:\n",
    "        print(\"[\", end=' ')\n",
    "        for i in range(n_start):\n",
    "            print(lst[i], end=' ')\n",
    "        print('...', end=' ')\n",
    "        for i in reversed(list(range(n_end))):\n",
    "            print(lst[-i-1], end=' ')\n",
    "        print(\"]\")"
   ]
  },
  {
   "cell_type": "code",
   "execution_count": 4,
   "metadata": {
    "executionInfo": {
     "elapsed": 5,
     "status": "ok",
     "timestamp": 1720539785802,
     "user": {
      "displayName": "Rina Irene Rafalski",
      "userId": "17396273602632308485"
     },
     "user_tz": -180
    },
    "id": "hJFIKzgKTEA3"
   },
   "outputs": [],
   "source": [
    "my_list = ['a', 'b', 'c', 'd', 'e', 1, 2, 3, 4, 5]"
   ]
  },
  {
   "cell_type": "code",
   "execution_count": 5,
   "metadata": {
    "colab": {
     "base_uri": "https://localhost:8080/"
    },
    "executionInfo": {
     "elapsed": 315,
     "status": "ok",
     "timestamp": 1720539793362,
     "user": {
      "displayName": "Rina Irene Rafalski",
      "userId": "17396273602632308485"
     },
     "user_tz": -180
    },
    "id": "J61bVdp-TD6j",
    "outputId": "74e95cc3-1f82-429f-addc-636875ae3056"
   },
   "outputs": [
    {
     "name": "stdout",
     "output_type": "stream",
     "text": [
      "[ a b c ... 3 4 5 ]\n"
     ]
    }
   ],
   "source": [
    "# show_summary(my_list)\n",
    "# show_summary(my_list, 4, 2)\n",
    "# show_summary(my_list, 5)\n",
    "# show_summary(my_list, n_end=5)"
   ]
  },
  {
   "cell_type": "markdown",
   "metadata": {
    "id": "aqAbYVV4OH6Q"
   },
   "source": [
    "### [optional] Positional Arguments vs. Keyword Arguments"
   ]
  },
  {
   "cell_type": "code",
   "execution_count": null,
   "metadata": {
    "id": "F8vv6b6_DrzB"
   },
   "outputs": [],
   "source": [
    "def division(x, divisor=1):\n",
    "  return x / divisor"
   ]
  },
  {
   "cell_type": "code",
   "execution_count": null,
   "metadata": {
    "id": "FVy1SnspD7fP"
   },
   "outputs": [],
   "source": [
    "division(10, 2)"
   ]
  },
  {
   "cell_type": "code",
   "execution_count": null,
   "metadata": {
    "id": "djJuBq_sEOh7"
   },
   "outputs": [],
   "source": [
    "division(x=100, divisor=33)"
   ]
  },
  {
   "cell_type": "code",
   "execution_count": null,
   "metadata": {
    "id": "YIDr3dO9East"
   },
   "outputs": [],
   "source": [
    "division(divisor=33, x=100)"
   ]
  },
  {
   "cell_type": "code",
   "execution_count": null,
   "metadata": {
    "id": "71nMEYQ_EsOd"
   },
   "outputs": [],
   "source": [
    "division(100, divisor=33) # positional arguments follows keyword arguments"
   ]
  },
  {
   "cell_type": "code",
   "execution_count": null,
   "metadata": {
    "id": "FGUAEC34E5td"
   },
   "outputs": [],
   "source": [
    "division(divisor=33, 100) # error"
   ]
  },
  {
   "cell_type": "code",
   "execution_count": null,
   "metadata": {
    "id": "O5K6bx4uFlLO"
   },
   "outputs": [],
   "source": [
    "division(x=100)"
   ]
  },
  {
   "cell_type": "code",
   "execution_count": null,
   "metadata": {
    "id": "cnZrygVVOFs3"
   },
   "outputs": [],
   "source": [
    "show_summary(lst=my_list, n_end=4)"
   ]
  },
  {
   "cell_type": "code",
   "execution_count": null,
   "metadata": {
    "id": "GE0_JHINO_3F"
   },
   "outputs": [],
   "source": [
    "show_summary(n_start=2, lst=my_list, n_end=4)"
   ]
  },
  {
   "cell_type": "code",
   "execution_count": null,
   "metadata": {
    "id": "AdydgwXzPi4c"
   },
   "outputs": [],
   "source": [
    "# Mixing the two argument passing methods\n",
    "show_summary(my_list, n_end=1, n_start=5)"
   ]
  },
  {
   "cell_type": "markdown",
   "metadata": {
    "id": "mCPjgGjXvU6b"
   },
   "source": [
    ">**Your Turn**<br/>\n",
    ">Write a function, which takes 2 numbers and an opertor (+, -, \\*, /) and returns the result of applying the operator on the two numners. The defult value for the operator should be '+'. If an unsupperted / unrecognized operator is specified, return *None*."
   ]
  },
  {
   "cell_type": "code",
   "execution_count": 13,
   "metadata": {
    "colab": {
     "base_uri": "https://localhost:8080/"
    },
    "executionInfo": {
     "elapsed": 335,
     "status": "ok",
     "timestamp": 1720542629893,
     "user": {
      "displayName": "Rina Irene Rafalski",
      "userId": "17396273602632308485"
     },
     "user_tz": -180
    },
    "id": "44eimrOzR_us",
    "outputId": "c23f76a3-50eb-4477-ffca-12628388c02c"
   },
   "outputs": [
    {
     "data": {
      "text/plain": [
       "15"
      ]
     },
     "execution_count": 13,
     "metadata": {},
     "output_type": "execute_result"
    }
   ],
   "source": [
    "def calculate(number_1,number_2, operator = \"+\"):\n",
    "    if operator == '+':\n",
    "        return number_1 + number_2\n",
    "    elif operator == '-':\n",
    "        return number_1 - number_2\n",
    "    elif operator == '*':\n",
    "        return number_1 * number_2\n",
    "    elif operator == '/':\n",
    "        return number_1 / number_2\n",
    "\n",
    "    return\n",
    "\n",
    "calculate(10, 5, \"+\")"
   ]
  },
  {
   "cell_type": "code",
   "execution_count": null,
   "metadata": {
    "id": "cdx2qXh5V6tw"
   },
   "outputs": [],
   "source": [
    "expression = f"
   ]
  },
  {
   "cell_type": "markdown",
   "metadata": {
    "id": "vl93trUh8iU4"
   },
   "source": [
    "### Solution"
   ]
  },
  {
   "cell_type": "code",
   "execution_count": null,
   "metadata": {
    "id": "HWBzEgRNvU6d"
   },
   "outputs": [],
   "source": [
    "def calculate(number_1, number_2, operator=\"+\"):\n",
    "\n",
    "    # if operator not in \"+-*/\":\n",
    "    #   return\n",
    "\n",
    "    if operator == '+':\n",
    "        return number_1 + number_2\n",
    "    elif operator == '-':\n",
    "        return number_1 - number_2\n",
    "    elif operator == '*':\n",
    "        return number_1 * number_2\n",
    "    elif operator == '/':\n",
    "        return number_1 / number_2\n",
    "\n",
    "    return"
   ]
  },
  {
   "cell_type": "markdown",
   "metadata": {
    "id": "qbd329t4Oba6"
   },
   "source": [
    "> **Reference:** Python supports a very powerful system of [parameters](https://docs.python.org/3/glossary.html#term-parameter) through \\*args and \\*\\*kwargs. This is not covered here, but should be explained shortly. Extra information can be found in this [nice article from Real Python](https://realpython.com/python-kwargs-and-args/)."
   ]
  },
  {
   "cell_type": "markdown",
   "metadata": {
    "id": "HpXB_zMyvU7-"
   },
   "source": [
    "# Built-in functions"
   ]
  },
  {
   "cell_type": "markdown",
   "metadata": {
    "id": "c14A_BxPvU7-"
   },
   "source": [
    "Python includes many function as part of its core capabilities. Their implementation is very efficient, so it is highly advisable to use them when possible. The entire list of built-in functions is documented [here](https://docs.python.org/3.7/library/functions.html), but here are some examples:\n",
    "\n",
    "* **General utiliy**:  _map()_, _zip()_, _sorted()_, _all()_, _any()_, _enumerate()_, _filter()_, etc.\n",
    "* **Conversion**: _int()_, _str()_, _list()_, _dict()_, _unicode()_, etc.\n",
    "* **Math**: _abs()_, _min()_, _max()_, _sum()_, etc.\n",
    "* **Object-Oriented**: _isinstance()_, _hasattr()_, _delattr()_, _classmethod()_, etc.\n",
    "\n",
    "In this chappter we will discuss the general utility functions mentioned."
   ]
  },
  {
   "cell_type": "markdown",
   "metadata": {
    "id": "id50ES5avU80"
   },
   "source": [
    "## `sorted(iterable, key, reverse)`"
   ]
  },
  {
   "cell_type": "markdown",
   "metadata": {
    "id": "v8LD9ItgvU81"
   },
   "source": [
    "The function [`sorted(iterable, key, reverse)`][sorted] returns a list with the elements of _iterable_ sorted by the key defined by the _key_ function and displayed in reverse order if the Boolean `reverse` is `True`.\n",
    "\n",
    "\n",
    "[sorted]: https://docs.python.org/3.7/library/functions.html#sorted \"sorted() documentation\""
   ]
  },
  {
   "cell_type": "code",
   "execution_count": 16,
   "metadata": {
    "colab": {
     "base_uri": "https://localhost:8080/"
    },
    "executionInfo": {
     "elapsed": 1,
     "status": "ok",
     "timestamp": 1720543320817,
     "user": {
      "displayName": "Rina Irene Rafalski",
      "userId": "17396273602632308485"
     },
     "user_tz": -180
    },
    "id": "rrHWTSckXbCp",
    "outputId": "7a2847b6-7f09-4784-b07b-6ec41e4c859a"
   },
   "outputs": [
    {
     "data": {
      "text/plain": [
       "[12, 25, 72, 91, 231, 954]"
      ]
     },
     "execution_count": 16,
     "metadata": {},
     "output_type": "execute_result"
    }
   ],
   "source": [
    "numbers = [12, 91, 25, 231, 954, 72]\n",
    "sorted(numbers)"
   ]
  },
  {
   "cell_type": "code",
   "execution_count": 17,
   "metadata": {
    "colab": {
     "base_uri": "https://localhost:8080/"
    },
    "executionInfo": {
     "elapsed": 7,
     "status": "ok",
     "timestamp": 1720543370466,
     "user": {
      "displayName": "Rina Irene Rafalski",
      "userId": "17396273602632308485"
     },
     "user_tz": -180
    },
    "id": "FEJFAjd7X6os",
    "outputId": "4e50d5c9-00a1-4953-d773-51f8bad6b4f8"
   },
   "outputs": [
    {
     "data": {
      "text/plain": [
       "[954, 231, 91, 72, 25, 12]"
      ]
     },
     "execution_count": 17,
     "metadata": {},
     "output_type": "execute_result"
    }
   ],
   "source": [
    "sorted(numbers, reverse = True)"
   ]
  },
  {
   "cell_type": "markdown",
   "metadata": {
    "id": "fjPATH2YvU9F"
   },
   "source": [
    "#### Lexicographic order"
   ]
  },
  {
   "cell_type": "markdown",
   "metadata": {
    "id": "eAXZmNwWvU9G"
   },
   "source": [
    "If _key_ is not defined, then the standard lexicographic order is applied. The _reverse_ argument specifies whether the items should be displayed in reverse order."
   ]
  },
  {
   "cell_type": "code",
   "execution_count": null,
   "metadata": {
    "id": "UXSE0PK1Ly45"
   },
   "outputs": [],
   "source": [
    "names = [\"Roni\", \"Rami\", \"David\", \"Dafna\", \"Oz\", \"Gad\", \"Zurbavel\", \"Gideon\"]"
   ]
  },
  {
   "cell_type": "code",
   "execution_count": null,
   "metadata": {
    "id": "NxTbV365k61W"
   },
   "outputs": [],
   "source": [
    "sorted(names)"
   ]
  },
  {
   "cell_type": "markdown",
   "metadata": {
    "id": "MNJENdoxvU9L"
   },
   "source": [
    "If the elements of _iterable_ are iterables themselves, then the lexicographic order will be applied to their first element, then to their second, and so on."
   ]
  },
  {
   "cell_type": "markdown",
   "metadata": {
    "id": "KO7RiK2Hk61W"
   },
   "source": [
    "#### By *key*"
   ]
  },
  {
   "cell_type": "code",
   "execution_count": 18,
   "metadata": {
    "executionInfo": {
     "elapsed": 481,
     "status": "ok",
     "timestamp": 1720543384729,
     "user": {
      "displayName": "Rina Irene Rafalski",
      "userId": "17396273602632308485"
     },
     "user_tz": -180
    },
    "id": "GoZv6NFaM0Rw"
   },
   "outputs": [],
   "source": [
    "#           4       4       5        5      2      3        8           6\n",
    "names = [\"Roni\", \"Rami\", \"David\", \"Dafna\", \"Oz\", \"Gad\", \"Zurbavel\", \"Gideon\"]"
   ]
  },
  {
   "cell_type": "code",
   "execution_count": 20,
   "metadata": {
    "colab": {
     "base_uri": "https://localhost:8080/"
    },
    "executionInfo": {
     "elapsed": 319,
     "status": "ok",
     "timestamp": 1720543418077,
     "user": {
      "displayName": "Rina Irene Rafalski",
      "userId": "17396273602632308485"
     },
     "user_tz": -180
    },
    "id": "DfTlYETEYN7H",
    "outputId": "86c853c3-e7ea-4f9d-8d8f-a1bab73b2f45"
   },
   "outputs": [
    {
     "data": {
      "text/plain": [
       "['Dafna', 'David', 'Gad', 'Gideon', 'Oz', 'Rami', 'Roni', 'Zurbavel']"
      ]
     },
     "execution_count": 20,
     "metadata": {},
     "output_type": "execute_result"
    }
   ],
   "source": [
    "sorted(names)"
   ]
  },
  {
   "cell_type": "code",
   "execution_count": 19,
   "metadata": {
    "colab": {
     "base_uri": "https://localhost:8080/"
    },
    "executionInfo": {
     "elapsed": 7,
     "status": "ok",
     "timestamp": 1720543386970,
     "user": {
      "displayName": "Rina Irene Rafalski",
      "userId": "17396273602632308485"
     },
     "user_tz": -180
    },
    "id": "893YJjucMAvo",
    "outputId": "9a74a9f8-92e9-4e5e-e156-95586605aa56"
   },
   "outputs": [
    {
     "data": {
      "text/plain": [
       "['Oz', 'Gad', 'Roni', 'Rami', 'David', 'Dafna', 'Gideon', 'Zurbavel']"
      ]
     },
     "execution_count": 19,
     "metadata": {},
     "output_type": "execute_result"
    }
   ],
   "source": [
    "sorted(names, key=len)"
   ]
  },
  {
   "cell_type": "code",
   "execution_count": 21,
   "metadata": {
    "executionInfo": {
     "elapsed": 302,
     "status": "ok",
     "timestamp": 1720543929986,
     "user": {
      "displayName": "Rina Irene Rafalski",
      "userId": "17396273602632308485"
     },
     "user_tz": -180
    },
    "id": "3fXbrBaJZC47"
   },
   "outputs": [],
   "source": [
    "# selecting last letter as critereia\n",
    "def criteria_1(name):\n",
    "  return name[-1]"
   ]
  },
  {
   "cell_type": "code",
   "execution_count": 22,
   "metadata": {
    "colab": {
     "base_uri": "https://localhost:8080/"
    },
    "executionInfo": {
     "elapsed": 7,
     "status": "ok",
     "timestamp": 1720543931180,
     "user": {
      "displayName": "Rina Irene Rafalski",
      "userId": "17396273602632308485"
     },
     "user_tz": -180
    },
    "id": "4M9t_YUgZtlM",
    "outputId": "571f3ce7-a1de-476f-9497-a780a47ceaaa"
   },
   "outputs": [
    {
     "data": {
      "text/plain": [
       "['Dafna', 'David', 'Gad', 'Roni', 'Rami', 'Zurbavel', 'Gideon', 'Oz']"
      ]
     },
     "execution_count": 22,
     "metadata": {},
     "output_type": "execute_result"
    }
   ],
   "source": [
    "sorted(names, key=criteria_1)"
   ]
  },
  {
   "cell_type": "code",
   "execution_count": 24,
   "metadata": {
    "executionInfo": {
     "elapsed": 324,
     "status": "ok",
     "timestamp": 1720544423942,
     "user": {
      "displayName": "Rina Irene Rafalski",
      "userId": "17396273602632308485"
     },
     "user_tz": -180
    },
    "id": "oEMu7frXaWai"
   },
   "outputs": [],
   "source": [
    "def criteria_2(x):\n",
    "  return len(x), x"
   ]
  },
  {
   "cell_type": "code",
   "execution_count": 25,
   "metadata": {
    "colab": {
     "base_uri": "https://localhost:8080/"
    },
    "executionInfo": {
     "elapsed": 368,
     "status": "ok",
     "timestamp": 1720544426562,
     "user": {
      "displayName": "Rina Irene Rafalski",
      "userId": "17396273602632308485"
     },
     "user_tz": -180
    },
    "id": "_ztKDf2fax0L",
    "outputId": "7bf36b4d-86bc-4b0f-9d98-1983c94bdb35"
   },
   "outputs": [
    {
     "data": {
      "text/plain": [
       "['Oz', 'Gad', 'Rami', 'Roni', 'Dafna', 'David', 'Gideon', 'Zurbavel']"
      ]
     },
     "execution_count": 25,
     "metadata": {},
     "output_type": "execute_result"
    }
   ],
   "source": [
    "sorted(names, key=criteria_2)"
   ]
  },
  {
   "cell_type": "code",
   "execution_count": null,
   "metadata": {
    "id": "Ijq6Ot-CaPyv"
   },
   "outputs": [],
   "source": []
  },
  {
   "cell_type": "markdown",
   "metadata": {
    "id": "9ZI8fW4Wk61X"
   },
   "source": [
    "#### In-place"
   ]
  },
  {
   "cell_type": "code",
   "execution_count": null,
   "metadata": {
    "id": "SubXJx9TdwTh"
   },
   "outputs": [],
   "source": [
    "names.sort() # less memory usage"
   ]
  },
  {
   "cell_type": "code",
   "execution_count": null,
   "metadata": {
    "id": "6Ba316IUd6G-"
   },
   "outputs": [],
   "source": [
    "names"
   ]
  },
  {
   "cell_type": "code",
   "execution_count": null,
   "metadata": {
    "id": "pLmWej1ycnE8"
   },
   "outputs": [],
   "source": [
    "result_set = [\n",
    "    ['Alon', 32, 1.78],\n",
    "    ['David', 49, 1.82],\n",
    "    ['David', 49, 1.82]\n",
    "]"
   ]
  },
  {
   "cell_type": "code",
   "execution_count": null,
   "metadata": {
    "id": "5GY5XYQkdU8y"
   },
   "outputs": [],
   "source": [
    "def criteria_3(row):\n"
   ]
  },
  {
   "cell_type": "markdown",
   "metadata": {
    "id": "9doq0-lVT5yQ"
   },
   "source": [
    "## [optional] `all(iterable)` and `any(iterable)`"
   ]
  },
  {
   "cell_type": "markdown",
   "metadata": {
    "id": "U46MS27qT5yP"
   },
   "source": [
    "The function [`all(iterable)`][all] returns `True` if all the elements of `iterable` are `True`, and the function [`any(iterable)`][any] returns `True` if any of the elements of `iterable` is `True`.\n",
    "\n",
    "\n",
    "[all]: https://docs.python.org/2/library/functions.html#all \"all() documentation\"\n",
    "[any]: https://docs.python.org/2/library/functions.html#any \"any() documentation\""
   ]
  },
  {
   "cell_type": "code",
   "execution_count": null,
   "metadata": {
    "id": "U22QaHG2aIC7"
   },
   "outputs": [],
   "source": [
    "all([True, True, True, False, True, True])"
   ]
  },
  {
   "cell_type": "code",
   "execution_count": null,
   "metadata": {
    "id": "hbt0u0zGaUfC"
   },
   "outputs": [],
   "source": [
    "any([True, True, True, False, True, True])"
   ]
  },
  {
   "cell_type": "code",
   "execution_count": null,
   "metadata": {
    "id": "pFEuRnPtaY1h"
   },
   "outputs": [],
   "source": [
    "all([123, True, \"Meow!\", {\"aaa\": 111}, None, 13.6635, [1, 2, 3]])"
   ]
  },
  {
   "cell_type": "markdown",
   "metadata": {
    "id": "5hUy_BwPT5x9"
   },
   "source": [
    "## [optional] `enumerate(iterable, start)`"
   ]
  },
  {
   "cell_type": "markdown",
   "metadata": {
    "id": "_2PkIlW1T5x9"
   },
   "source": [
    "The function [`enumerate(iterable, start)`][enumerate] generates a list of tuples of the form `(i, element)`, where `i` is the index of the element `element` within `iterable`, starting to count from `start`, which equals 0 by default.\n",
    "\n",
    "the following two scripts demonstrate the (minor) advantage of using `enumerate()`.\n",
    "\n",
    "[enumerate]: https://docs.python.org/3.7/library/functions.html#enumerate \"enumerate() documentation\""
   ]
  },
  {
   "cell_type": "code",
   "execution_count": null,
   "metadata": {
    "id": "zixQzMMja5gp"
   },
   "outputs": [],
   "source": [
    "first_names = [\"Avi\", \"Gadi\", \"Adel\", \"Sima\", \"Harel\"]\n",
    "last_names = [\"Cohen\", \"Grinberg\", \"Atia\", \"Simchon\", \"Hanover\"]"
   ]
  },
  {
   "cell_type": "code",
   "execution_count": null,
   "metadata": {
    "id": "_HK305cVa5UK"
   },
   "outputs": [],
   "source": [
    "index = 0\n",
    "for first_name in first_names:\n",
    "  print(\"First Name:\", first_name, \"Last Name:\", last_names[index])\n",
    "  index = index + 1"
   ]
  },
  {
   "cell_type": "code",
   "execution_count": null,
   "metadata": {
    "id": "YlZCs9oIa5BS"
   },
   "outputs": [],
   "source": [
    "for index, first_name in enumerate(first_names):\n",
    "  print(\"First Name:\", first_name, \"Last Name:\", last_names[index])"
   ]
  },
  {
   "cell_type": "code",
   "execution_count": null,
   "metadata": {
    "id": "TkGG54qkcsXL"
   },
   "outputs": [],
   "source": [
    "list(\n",
    "    enumerate(first_names)\n",
    ")"
   ]
  },
  {
   "cell_type": "code",
   "execution_count": null,
   "metadata": {
    "id": "5QpKxm99T5x6"
   },
   "outputs": [],
   "source": [
    "students = {'Andy': ('m', 51), 'Brad': ('m', 34), 'Craig': ('m', 25), 'Dan': ('m', 36),\n",
    "            'Elaine': ('f', 36), 'Fiona': ('f', 36), 'George': ('m', 41), 'Herbert': ('m', 23),\n",
    "            'Isabel': ('f', 27), 'Jerry': ('m', 19), 'Kramer': ('m', 42), 'Lena': ('f', 22)}"
   ]
  },
  {
   "cell_type": "code",
   "execution_count": null,
   "metadata": {
    "id": "4-U60WG6T5xw"
   },
   "outputs": [],
   "source": [
    "for counter, (name, (gen, age)) in enumerate(students.items(), 1):\n",
    "    gender = 'male' if gen == 'm' else 'female'\n",
    "    print(\"{:2}: {:7} is a {}-year old {}\".format(counter, name, age, gender))"
   ]
  },
  {
   "cell_type": "markdown",
   "metadata": {
    "id": "3NCGqnaiT5xv"
   },
   "source": [
    "It is adventagous to use _enumerate()_ when you have something to do with the index of the item, e.g. call another object."
   ]
  },
  {
   "cell_type": "markdown",
   "metadata": {
    "id": "fzPYD--5davG"
   },
   "source": [
    "## [optional] Zip"
   ]
  },
  {
   "cell_type": "code",
   "execution_count": null,
   "metadata": {
    "id": "VoCQgv0ndYz6"
   },
   "outputs": [],
   "source": [
    "first_names = [\"Avi\", \"Gadi\", \"Adel\", \"Sima\", \"Harel\"]\n",
    "last_names = [\"Cohen\", \"Grinberg\", \"Atia\", \"Simchon\", \"Hanover\"]"
   ]
  },
  {
   "cell_type": "code",
   "execution_count": null,
   "metadata": {
    "id": "SB8dpANUdm6R"
   },
   "outputs": [],
   "source": [
    "for first_name, last_name in zip(first_names, last_names):\n",
    "  print(\"First Name:\", first_name, \"Last Name:\", last_name)"
   ]
  },
  {
   "cell_type": "code",
   "execution_count": null,
   "metadata": {
    "id": "59qoVJUWdxdR"
   },
   "outputs": [],
   "source": [
    "list(\n",
    "    zip(first_names, last_names)\n",
    ")"
   ]
  }
 ],
 "metadata": {
  "colab": {
   "collapsed_sections": [
    "fjPATH2YvU9F",
    "9doq0-lVT5yQ",
    "5hUy_BwPT5x9"
   ],
   "provenance": []
  },
  "kernelspec": {
   "display_name": "Python 3 (ipykernel)",
   "language": "python",
   "name": "python3"
  },
  "language_info": {
   "codemirror_mode": {
    "name": "ipython",
    "version": 3
   },
   "file_extension": ".py",
   "mimetype": "text/x-python",
   "name": "python",
   "nbconvert_exporter": "python",
   "pygments_lexer": "ipython3",
   "version": "3.9.7"
  }
 },
 "nbformat": 4,
 "nbformat_minor": 1
}
