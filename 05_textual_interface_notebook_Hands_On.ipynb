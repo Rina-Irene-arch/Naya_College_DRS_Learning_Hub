{
 "cells": [
  {
   "cell_type": "markdown",
   "metadata": {
    "id": "Rss0jumSzf8N"
   },
   "source": [
    "The textual interface with the user is done through the **console**, and we already met the `print()` function for printing data to the console. In this chapter we will learn about receiving input with the `input()` function and formatting output with the `format()` string method (or the equivalent f-string)."
   ]
  },
  {
   "cell_type": "code",
   "execution_count": null,
   "metadata": {
    "id": "kKh67mf1bYj_"
   },
   "outputs": [],
   "source": [
    "print('Hello!')"
   ]
  },
  {
   "cell_type": "markdown",
   "metadata": {
    "id": "i7gDf-k8zf8P"
   },
   "source": [
    "# The `input()` function"
   ]
  },
  {
   "cell_type": "markdown",
   "metadata": {
    "id": "6ZuoSQzSzf8Q"
   },
   "source": [
    "The function `input([prompt])` allows the user to type data in the console, so that the program reads it. This is executed in three steps:\n",
    "\n",
    "* The string `prompt` is presented to the user\n",
    "* The program waits until the Enter key is pressed\n",
    "* The user's input is returned by the function **as a string**"
   ]
  },
  {
   "cell_type": "code",
   "execution_count": null,
   "metadata": {
    "id": "HMsZg8uIdA0Z"
   },
   "outputs": [],
   "source": [
    "my_number = input()"
   ]
  },
  {
   "cell_type": "code",
   "execution_count": null,
   "metadata": {
    "id": "ppZ8R_J-dAv5"
   },
   "outputs": [],
   "source": [
    "print(my_number)"
   ]
  },
  {
   "cell_type": "code",
   "execution_count": null,
   "metadata": {
    "id": "pySOT1Gizf8R"
   },
   "outputs": [],
   "source": [
    "name = input(\"Please enter your name:\")\n",
    "print(\"Hi,\", name)"
   ]
  },
  {
   "cell_type": "code",
   "execution_count": null,
   "metadata": {
    "id": "RUTHqqAzzf8Y"
   },
   "outputs": [],
   "source": [
    "answer = input(\"Would you like to continue? (Y\\\\N)\\n\")\n",
    "if answer == \"Y\" or answer == \"N\":\n",
    "    print(\"Your answer was\", answer)\n",
    "else:\n",
    "    print(\"not valid answer\")"
   ]
  },
  {
   "cell_type": "code",
   "execution_count": null,
   "metadata": {
    "id": "sDzGftmTzf8c"
   },
   "outputs": [],
   "source": [
    "age = input(\"What is your age?\\n\")\n",
    "if age.isnumeric():\n",
    "    print(\"You are\", int(age), \"years old.\")\n",
    "else:\n",
    "    print(\"No jokes please\")"
   ]
  },
  {
   "cell_type": "code",
   "execution_count": null,
   "metadata": {
    "id": "3pPS3ByhdYYB"
   },
   "outputs": [],
   "source": [
    "num1 = input('Please provide first number:')\n",
    "num2 = input('Please provide second number:')\n",
    "print(float(num1) + float(num2))"
   ]
  },
  {
   "cell_type": "markdown",
   "metadata": {
    "id": "FYOwKMrvzf8h"
   },
   "source": [
    "> **Your turn:**\n",
    "\n",
    "- Write a script that asks the user for his name and prints \"Hello ____\" with the name.\n",
    "- Write a script that asks the user for two numbers and prints their sum.\n",
    "- Write a script that asks the user for number, and prints \"Low\" if the number if lower than 50, or \"High\" if the number is higher than 50.\n",
    "- Write a script that asks the user 5 times for number and prints their average (use a for loop)."
   ]
  },
  {
   "cell_type": "markdown",
   "metadata": {
    "id": "xIcy-Gnnzf8m"
   },
   "source": [
    "### Grand example (guess the number)"
   ]
  },
  {
   "cell_type": "code",
   "execution_count": null,
   "metadata": {
    "id": "lO7-0DF7jfjI"
   },
   "outputs": [],
   "source": [
    "import random\n",
    "\n",
    "guess_number = random.randint(1, 100)\n",
    "user_answer = -1\n",
    "tries_counter = 0\n",
    "\n",
    "while user_answer != guess_number:\n",
    "\n",
    "    user_answer = input(\"Your guess?\")\n",
    "\n",
    "    if not user_answer.isnumeric():\n",
    "        print(\"Not a valid number. Please try again.\")\n",
    "        continue\n",
    "\n",
    "    user_answer = int(user_answer)\n",
    "\n",
    "    if user_answer < 1 or user_answer > 100:\n",
    "        print(\"Number should be between 1 and 100. Please try again.\")\n",
    "        continue\n",
    "\n",
    "    if user_answer > guess_number:\n",
    "        print(\"You guees is too high.\")\n",
    "    elif user_answer < guess_number:\n",
    "        print(\"Your guess is too low.\")\n",
    "\n",
    "    tries_counter += 1\n",
    "\n",
    "print(f\"Correct! It took you {tries_counter} tries to guess the number.\")"
   ]
  },
  {
   "cell_type": "markdown",
   "metadata": {
    "id": "NFv7n-Ymzf8x"
   },
   "source": [
    "# String formatting - *format()*"
   ]
  },
  {
   "cell_type": "markdown",
   "metadata": {
    "id": "bxAgtr2Hzf8z"
   },
   "source": [
    "_format()_ is a **string method** that makes is easy to edit text with the help of \"replacement fields\" surrounded by curly braces. Let's see a simple example that demonstrates the use of _format()_ and then discuss some details."
   ]
  },
  {
   "cell_type": "code",
   "execution_count": 1,
   "metadata": {
    "executionInfo": {
     "elapsed": 322,
     "status": "ok",
     "timestamp": 1720717166760,
     "user": {
      "displayName": "Alon Tam",
      "userId": "13843051219737434027"
     },
     "user_tz": -180
    },
    "id": "OgZUPwQkzf80"
   },
   "outputs": [],
   "source": [
    "num1, num2 = 1.23456, 2.34567\n",
    "prod = num1 * num2"
   ]
  },
  {
   "cell_type": "code",
   "execution_count": 2,
   "metadata": {
    "colab": {
     "base_uri": "https://localhost:8080/"
    },
    "executionInfo": {
     "elapsed": 341,
     "status": "ok",
     "timestamp": 1720717173881,
     "user": {
      "displayName": "Alon Tam",
      "userId": "13843051219737434027"
     },
     "user_tz": -180
    },
    "id": "4t5dX26qzf84",
    "outputId": "8aa8cb42-dea6-454a-8810-d2b758f5a03a"
   },
   "outputs": [
    {
     "name": "stdout",
     "output_type": "stream",
     "text": [
      "1.23456 * 2.34567 = 2.8958703552000005\n"
     ]
    }
   ],
   "source": [
    "print (num1, '*', num2, '=', prod)"
   ]
  },
  {
   "cell_type": "markdown",
   "metadata": {
    "id": "M-seNFT-zf88"
   },
   "source": [
    "One advantage of _format()_ is the intuitive insertion of variables within the sentence."
   ]
  },
  {
   "cell_type": "code",
   "execution_count": 3,
   "metadata": {
    "executionInfo": {
     "elapsed": 297,
     "status": "ok",
     "timestamp": 1720717439838,
     "user": {
      "displayName": "Alon Tam",
      "userId": "13843051219737434027"
     },
     "user_tz": -180
    },
    "id": "-xmRr3_xvXM6"
   },
   "outputs": [],
   "source": [
    "TEMPLATE = \"The expression {} * {} equals to {}\"   # \"{} * {} = {}\\n\""
   ]
  },
  {
   "cell_type": "code",
   "execution_count": 4,
   "metadata": {
    "colab": {
     "base_uri": "https://localhost:8080/",
     "height": 36
    },
    "executionInfo": {
     "elapsed": 4,
     "status": "ok",
     "timestamp": 1720717441102,
     "user": {
      "displayName": "Alon Tam",
      "userId": "13843051219737434027"
     },
     "user_tz": -180
    },
    "id": "yXCk3LxG1--2",
    "outputId": "286995eb-bde7-41f5-c8e5-96ec9c84d703"
   },
   "outputs": [
    {
     "data": {
      "text/plain": [
       "'The expression 1.23456 * 2.34567 equals to 2.8958703552000005'"
      ]
     },
     "execution_count": 4,
     "metadata": {},
     "output_type": "execute_result"
    }
   ],
   "source": [
    "TEMPLATE.format(num1, num2, prod)"
   ]
  },
  {
   "cell_type": "code",
   "execution_count": 5,
   "metadata": {
    "id": "X8MNcWrU1-4n"
   },
   "outputs": [
    {
     "name": "stdout",
     "output_type": "stream",
     "text": [
      "The expression 1.23456 * 2.34567 equals to 2.8958703552000005\n",
      "\n"
     ]
    }
   ],
   "source": [
    "print (\"The expression {} * {} equals to {}\\n\".format(num1, num2, prod))"
   ]
  },
  {
   "cell_type": "code",
   "execution_count": 6,
   "metadata": {
    "colab": {
     "base_uri": "https://localhost:8080/"
    },
    "executionInfo": {
     "elapsed": 308,
     "status": "ok",
     "timestamp": 1720717451313,
     "user": {
      "displayName": "Alon Tam",
      "userId": "13843051219737434027"
     },
     "user_tz": -180
    },
    "id": "bS3Aa7Bp2riY",
    "outputId": "66e7a122-18bd-4a6b-a14c-c728ed24251e"
   },
   "outputs": [
    {
     "name": "stdout",
     "output_type": "stream",
     "text": [
      "1.23456\t*2.34567\t=2.8958703552000005\n"
     ]
    }
   ],
   "source": [
    "print (\"{}\\t*{}\\t={}\".format(num1, num2, prod))"
   ]
  },
  {
   "cell_type": "code",
   "execution_count": 7,
   "metadata": {
    "id": "niv0L3XXzf89"
   },
   "outputs": [
    {
     "name": "stdout",
     "output_type": "stream",
     "text": [
      "1.23456*2.34567=2.8958703552000005\n",
      "\n",
      "The expression 1.23456 * 2.34567 equals to 2.8958703552000005\n",
      "\n",
      "1.23456\t*\n",
      "2.34567\t=\n",
      "2.8958703552000005\n"
     ]
    }
   ],
   "source": [
    "print (\"{}*{}={}\\n\".format(num1, num2, prod))\n",
    "print (\"The expression {} * {} equals to {}\\n\".format(num1, num2, prod))\n",
    "print (\"{}\\t*\\n{}\\t=\\n{}\".format(num1, num2, prod))"
   ]
  },
  {
   "cell_type": "markdown",
   "metadata": {
    "id": "MHLJa3C-zf9A"
   },
   "source": [
    "Another advantage of _format()_ is the accuracy of float numbers."
   ]
  },
  {
   "cell_type": "code",
   "execution_count": 8,
   "metadata": {
    "colab": {
     "base_uri": "https://localhost:8080/"
    },
    "executionInfo": {
     "elapsed": 322,
     "status": "ok",
     "timestamp": 1720717604914,
     "user": {
      "displayName": "Alon Tam",
      "userId": "13843051219737434027"
     },
     "user_tz": -180
    },
    "id": "SDRX-wde27lo",
    "outputId": "65f84530-fa55-420c-d492-926d12c53902"
   },
   "outputs": [
    {
     "name": "stdout",
     "output_type": "stream",
     "text": [
      "1.23 * 2.35 = 2.90\n"
     ]
    }
   ],
   "source": [
    "print (\"{:.2f} * {:.2f} = {:.2f}\".format(num1, num2, prod))"
   ]
  },
  {
   "cell_type": "code",
   "execution_count": 9,
   "metadata": {
    "colab": {
     "base_uri": "https://localhost:8080/"
    },
    "executionInfo": {
     "elapsed": 316,
     "status": "ok",
     "timestamp": 1720717660675,
     "user": {
      "displayName": "Alon Tam",
      "userId": "13843051219737434027"
     },
     "user_tz": -180
    },
    "id": "eJJ4jj-Izf9B",
    "outputId": "896d19f1-e52a-48c9-9521-b3b65ec30b83"
   },
   "outputs": [
    {
     "name": "stdout",
     "output_type": "stream",
     "text": [
      "1.23456 * 2.34567 = 2.896\n",
      "1.235 * 2.346 = 2.8959\n"
     ]
    }
   ],
   "source": [
    "print (\"{} * {} = {:.3f}\".format(num1, num2, prod))\n",
    "print (\"{:.3f} * {:.3f} = {:.4f}\".format(num1, num2, prod))"
   ]
  },
  {
   "cell_type": "code",
   "execution_count": 10,
   "metadata": {
    "id": "JcMzNTgZVW0K"
   },
   "outputs": [],
   "source": [
    "basic_arithmatics = \"{} * {} = {:.3f}\".format(num1, num2, prod)"
   ]
  },
  {
   "cell_type": "code",
   "execution_count": 11,
   "metadata": {
    "id": "uP2k9ENTVdQ5"
   },
   "outputs": [
    {
     "data": {
      "text/plain": [
       "'1.23456 * 2.34567 = 2.896'"
      ]
     },
     "execution_count": 11,
     "metadata": {},
     "output_type": "execute_result"
    }
   ],
   "source": [
    "basic_arithmatics"
   ]
  },
  {
   "cell_type": "markdown",
   "metadata": {
    "id": "FHacX5lHzf9E"
   },
   "source": [
    "### Example"
   ]
  },
  {
   "cell_type": "markdown",
   "metadata": {
    "id": "hUTSlDDPzf9F"
   },
   "source": [
    "Create a dictionary with elements of the form {_name: (birth, death)_} (_death_ is _None_ if the the dude is alive), and for each element in the dictionary write the sentence \"_name_ was born in _birth_ and died on _death_\" (or \"is still alive\")."
   ]
  },
  {
   "cell_type": "code",
   "execution_count": 12,
   "metadata": {
    "executionInfo": {
     "elapsed": 303,
     "status": "ok",
     "timestamp": 1720717747702,
     "user": {
      "displayName": "Alon Tam",
      "userId": "13843051219737434027"
     },
     "user_tz": -180
    },
    "id": "nW8dWW2bzf9H"
   },
   "outputs": [],
   "source": [
    "band = {\n",
    "    'John': (1940, 1980),\n",
    "    'Paul': (1942, None),\n",
    "    'George': (1943, 2001),\n",
    "    'Ringo': (1940, None)\n",
    "}"
   ]
  },
  {
   "cell_type": "code",
   "execution_count": 13,
   "metadata": {
    "colab": {
     "base_uri": "https://localhost:8080/"
    },
    "executionInfo": {
     "elapsed": 336,
     "status": "ok",
     "timestamp": 1720717749506,
     "user": {
      "displayName": "Alon Tam",
      "userId": "13843051219737434027"
     },
     "user_tz": -180
    },
    "id": "-b2mTyjCiGaU",
    "outputId": "7ee26aad-6904-4947-c781-0681f2c6bbde"
   },
   "outputs": [
    {
     "name": "stdout",
     "output_type": "stream",
     "text": [
      "dict_items([('John', (1940, 1980)), ('Paul', (1942, None)), ('George', (1943, 2001)), ('Ringo', (1940, None))])\n"
     ]
    }
   ],
   "source": [
    "print(band.items())"
   ]
  },
  {
   "cell_type": "code",
   "execution_count": 14,
   "metadata": {
    "id": "jaB6VwHf4AbH"
   },
   "outputs": [],
   "source": [
    "NAME = \"\""
   ]
  },
  {
   "cell_type": "code",
   "execution_count": 15,
   "metadata": {
    "colab": {
     "base_uri": "https://localhost:8080/"
    },
    "executionInfo": {
     "elapsed": 312,
     "status": "ok",
     "timestamp": 1720717993281,
     "user": {
      "displayName": "Alon Tam",
      "userId": "13843051219737434027"
     },
     "user_tz": -180
    },
    "id": "jZL2rkibzf9W",
    "outputId": "31b0740b-c282-44ca-9de5-104edc7e5705"
   },
   "outputs": [
    {
     "name": "stdout",
     "output_type": "stream",
     "text": [
      "John was born in 1940 and died in 1980.\n",
      "Paul was born in 1942 and he is still alive.\n",
      "George was born in 1943 and died in 2001.\n",
      "Ringo was born in 1940 and he is still alive.\n"
     ]
    }
   ],
   "source": [
    "for player, years_tup in band.items():\n",
    "    # print(\"player = \", player, \" years_tup = \", years_tup)\n",
    "    birth, death = years_tup\n",
    "    if death:   # != None:\n",
    "        print (\"{} was born in {} and died in {}.\".format(player, birth, death))\n",
    "    else:\n",
    "        print (\"{} was born in {} and he is still alive.\".format(player, birth))"
   ]
  },
  {
   "cell_type": "markdown",
   "metadata": {
    "id": "0SCUYai1s8Xy"
   },
   "source": [
    "> **Your turn:**\n",
    "1. Write a script that asks the user for his name, last name, age and print \"My name is \\<first name\\> \\<last name\\> and my age is \\<age\\>.\" (use .format)\n",
    "2. Ask the user to enter two words, find the number of common letters between the words (excluding repetitions), and print the sentence \"The words \\<word1\\> and \\<word2\\> have \\_\\_\\_ common letters\"."
   ]
  },
  {
   "cell_type": "markdown",
   "metadata": {
    "id": "WJ6d7j2l3tyV"
   },
   "source": [
    "#### solution"
   ]
  },
  {
   "cell_type": "code",
   "execution_count": null,
   "metadata": {
    "id": "dQQjjiwP7OhB"
   },
   "outputs": [],
   "source": [
    "a = input('write a word:')\n",
    "b = input('write another word:')\n",
    "\n",
    "count = 0\n",
    "a_set = set(a.lower())\n",
    "b_set = set(b.lower())\n",
    "\n",
    "for letter in a_set:\n",
    "    if letter in b_set:\n",
    "        count += 1\n",
    "\n",
    "print(\"The words {} and {} have {} common letters\".format(a, b, count))"
   ]
  },
  {
   "cell_type": "markdown",
   "metadata": {
    "id": "6Del4Uy2zf9b"
   },
   "source": [
    "## String formatting - f-string"
   ]
  },
  {
   "cell_type": "markdown",
   "metadata": {
    "id": "O1_GGRFLzf9d"
   },
   "source": [
    "F-strings were introduced in Python 3.6. Unlike *.format*, they allow for any Python expression to be written within the curely braces. The expression is evaluated at runtime, and its value is put in place of the braces."
   ]
  },
  {
   "cell_type": "code",
   "execution_count": 16,
   "metadata": {
    "executionInfo": {
     "elapsed": 346,
     "status": "ok",
     "timestamp": 1720719079701,
     "user": {
      "displayName": "Alon Tam",
      "userId": "13843051219737434027"
     },
     "user_tz": -180
    },
    "id": "rwIQ5m_szf9f"
   },
   "outputs": [],
   "source": [
    "name = 'Fred'\n",
    "age = 42"
   ]
  },
  {
   "cell_type": "code",
   "execution_count": 17,
   "metadata": {
    "colab": {
     "base_uri": "https://localhost:8080/",
     "height": 36
    },
    "executionInfo": {
     "elapsed": 331,
     "status": "ok",
     "timestamp": 1720719115905,
     "user": {
      "displayName": "Alon Tam",
      "userId": "13843051219737434027"
     },
     "user_tz": -180
    },
    "id": "PH_1Jx7q9yW8",
    "outputId": "cd4925ac-be34-4ba8-89ca-2a3129f28358"
   },
   "outputs": [
    {
     "data": {
      "text/plain": [
       "'He said his name was Fred and he was 42 years old.'"
      ]
     },
     "execution_count": 17,
     "metadata": {},
     "output_type": "execute_result"
    }
   ],
   "source": [
    "'He said his name was {} and he was {} years old.'.format(name, age)"
   ]
  },
  {
   "cell_type": "code",
   "execution_count": 18,
   "metadata": {
    "colab": {
     "base_uri": "https://localhost:8080/",
     "height": 36
    },
    "executionInfo": {
     "elapsed": 313,
     "status": "ok",
     "timestamp": 1720719211442,
     "user": {
      "displayName": "Alon Tam",
      "userId": "13843051219737434027"
     },
     "user_tz": -180
    },
    "id": "RdCHB2lQzf9o",
    "outputId": "a21c9946-1469-4448-ea67-5a34fc98c736"
   },
   "outputs": [
    {
     "data": {
      "text/plain": [
       "'He said his name was Fred and he was 42 years old. In ten years, his age will be 52'"
      ]
     },
     "execution_count": 18,
     "metadata": {},
     "output_type": "execute_result"
    }
   ],
   "source": [
    "f'He said his name was {name} and he was {age} years old. In ten years, his age will be {age+10}'"
   ]
  },
  {
   "cell_type": "code",
   "execution_count": 19,
   "metadata": {
    "colab": {
     "base_uri": "https://localhost:8080/",
     "height": 36
    },
    "executionInfo": {
     "elapsed": 324,
     "status": "ok",
     "timestamp": 1720719262326,
     "user": {
      "displayName": "Alon Tam",
      "userId": "13843051219737434027"
     },
     "user_tz": -180
    },
    "id": "uHMNGAW827BZ",
    "outputId": "2b74b7e1-2b29-4dc2-dd11-c2bb44e726eb"
   },
   "outputs": [
    {
     "data": {
      "text/plain": [
       "\"Fred's name is 4 characters long.\""
      ]
     },
     "execution_count": 19,
     "metadata": {},
     "output_type": "execute_result"
    }
   ],
   "source": [
    "f\"{name}'s name is {len(name)} characters long.\""
   ]
  },
  {
   "cell_type": "code",
   "execution_count": 25,
   "metadata": {
    "colab": {
     "base_uri": "https://localhost:8080/",
     "height": 147
    },
    "executionInfo": {
     "elapsed": 321,
     "status": "error",
     "timestamp": 1720719405677,
     "user": {
      "displayName": "Alon Tam",
      "userId": "13843051219737434027"
     },
     "user_tz": -180
    },
    "id": "K5qW4j0H3Y2q",
    "outputId": "7a75a9b8-b551-4f63-846a-9a6f462a6ae8"
   },
   "outputs": [
    {
     "ename": "NameError",
     "evalue": "name 'first_name' is not defined",
     "output_type": "error",
     "traceback": [
      "\u001b[0;31m---------------------------------------------------------------------------\u001b[0m",
      "\u001b[0;31mNameError\u001b[0m                                 Traceback (most recent call last)",
      "\u001b[0;32m<ipython-input-25-887a0f8e21c4>\u001b[0m in \u001b[0;36m<cell line: 1>\u001b[0;34m()\u001b[0m\n\u001b[0;32m----> 1\u001b[0;31m \u001b[0msome_text\u001b[0m \u001b[0;34m=\u001b[0m \u001b[0;34mf\"{first_name}'s name is {len(first_name)} characters long.\"\u001b[0m\u001b[0;34m\u001b[0m\u001b[0;34m\u001b[0m\u001b[0m\n\u001b[0m",
      "\u001b[0;31mNameError\u001b[0m: name 'first_name' is not defined"
     ]
    }
   ],
   "source": [
    "some_text = f\"{first_name}'s name is {len(first_name)} characters long.\""
   ]
  },
  {
   "cell_type": "code",
   "execution_count": null,
   "metadata": {
    "id": "QaBFryrL9jmo"
   },
   "outputs": [],
   "source": [
    "print ('He said his name is {n} and he is {a} years old. {a} {a}'.format(a=age, n=name))"
   ]
  },
  {
   "cell_type": "markdown",
   "metadata": {
    "id": "A_cTbRCezf9w"
   },
   "source": [
    "### Formatting specifications"
   ]
  },
  {
   "cell_type": "markdown",
   "metadata": {
    "id": "EL3QHfYTzf9x"
   },
   "source": [
    "The _format()_ method has a wide range details and use-cases (all documented [here][format documentation]), but we will focus our attention on a single aspect called \"format specifications\". Format specifications are used within replacement fields contained within a format string to define how individual values are presented. The full description of optional specifications are documented under the section [Format Specification Mini-Language][specification documentation] of the string methods documentation, but its main features are listed and demonstrated below.\n",
    "\n",
    "The specifications are always preceded by a colon (:), and their general form is **\\[\\[fill\\]align\\]\\[sign\\]\\[#\\]\\[0\\]\\[width\\]\\[,\\]\\[.precision\\]\\[type\\]**. Adhering to this general form guarantees consistency and no ambiguity. This is a short explanation of the most useful parts:\n",
    "\n",
    "* _align_ - left (<), right (\\>) or center (^) alignment of the text\n",
    "* _width_ - decimal integer defining the minimum field width. If not specified, then the field width will be determined by the content.\n",
    "* _precision_ - decimal number indicating how many digits should be displayed after the decimal point.\n",
    "* _type_ - determines how the data should be presented\n",
    "    * _'s'_ - (default) string\n",
    "    * _'f', 'b', 'd', 'o', 'x'_ - float, binary, decimal, octal or hexagonal numeric representation\n",
    "    * _'e'_ - exponential form\n",
    "    * _'%'_ - percentage\n",
    "\n",
    "\n",
    "[format documentation]: https://docs.python.org/3/library/string.html#format-string-syntax \"format() Python documentation\"\n",
    "[specification documentation]: https://docs.python.org/3/library/string.html#format-specification-mini-language \"Format Specification Mini-Language\""
   ]
  },
  {
   "cell_type": "code",
   "execution_count": 27,
   "metadata": {
    "executionInfo": {
     "elapsed": 3,
     "status": "ok",
     "timestamp": 1720719695543,
     "user": {
      "displayName": "Alon Tam",
      "userId": "13843051219737434027"
     },
     "user_tz": -180
    },
    "id": "LeVvg-pu4qRC"
   },
   "outputs": [],
   "source": [
    "greeting = \"Welcome Home!\""
   ]
  },
  {
   "cell_type": "code",
   "execution_count": 28,
   "metadata": {
    "colab": {
     "base_uri": "https://localhost:8080/",
     "height": 36
    },
    "executionInfo": {
     "elapsed": 326,
     "status": "ok",
     "timestamp": 1720719699912,
     "user": {
      "displayName": "Alon Tam",
      "userId": "13843051219737434027"
     },
     "user_tz": -180
    },
    "id": "WXeSkDoNfexi",
    "outputId": "a924a110-dfa5-40e2-86a4-221ec069104e"
   },
   "outputs": [
    {
     "data": {
      "application/vnd.google.colaboratory.intrinsic+json": {
       "type": "string"
      },
      "text/plain": [
       "'~~~~~         Welcome Home!          ~~~~~'"
      ]
     },
     "execution_count": 28,
     "metadata": {},
     "output_type": "execute_result"
    }
   ],
   "source": [
    "\"~~~~~ {:^30s} ~~~~~\".format(greeting)"
   ]
  },
  {
   "cell_type": "code",
   "execution_count": 29,
   "metadata": {
    "colab": {
     "base_uri": "https://localhost:8080/",
     "height": 36
    },
    "executionInfo": {
     "elapsed": 320,
     "status": "ok",
     "timestamp": 1720719721419,
     "user": {
      "displayName": "Alon Tam",
      "userId": "13843051219737434027"
     },
     "user_tz": -180
    },
    "id": "gL-uco2J4vyh",
    "outputId": "1aa5a66d-2e5d-442e-a148-08009ab779cb"
   },
   "outputs": [
    {
     "data": {
      "application/vnd.google.colaboratory.intrinsic+json": {
       "type": "string"
      },
      "text/plain": [
       "'~~~~~         Welcome Home!          ~~~~~'"
      ]
     },
     "execution_count": 29,
     "metadata": {},
     "output_type": "execute_result"
    }
   ],
   "source": [
    "f\"~~~~~ {greeting:^30s} ~~~~~\""
   ]
  },
  {
   "cell_type": "code",
   "execution_count": 30,
   "metadata": {
    "colab": {
     "base_uri": "https://localhost:8080/",
     "height": 36
    },
    "executionInfo": {
     "elapsed": 324,
     "status": "ok",
     "timestamp": 1720719740213,
     "user": {
      "displayName": "Alon Tam",
      "userId": "13843051219737434027"
     },
     "user_tz": -180
    },
    "id": "lpq9t-Lvf40i",
    "outputId": "08a9c8b0-4a69-4b11-d65a-c6bbb8362c20"
   },
   "outputs": [
    {
     "data": {
      "application/vnd.google.colaboratory.intrinsic+json": {
       "type": "string"
      },
      "text/plain": [
       "'~~~~~                   ברוכים הבאים ~~~~~'"
      ]
     },
     "execution_count": 30,
     "metadata": {},
     "output_type": "execute_result"
    }
   ],
   "source": [
    "\"~~~~~ {:>30s} ~~~~~\".format(\"ברוכים הבאים\")"
   ]
  },
  {
   "cell_type": "code",
   "execution_count": 34,
   "metadata": {
    "colab": {
     "base_uri": "https://localhost:8080/"
    },
    "executionInfo": {
     "elapsed": 312,
     "status": "ok",
     "timestamp": 1720719876043,
     "user": {
      "displayName": "Alon Tam",
      "userId": "13843051219737434027"
     },
     "user_tz": -180
    },
    "id": "WFde-dP1gYOP",
    "outputId": "ed5a8bc6-0739-423b-c65d-1497ccccaa27"
   },
   "outputs": [
    {
     "name": "stdout",
     "output_type": "stream",
     "text": [
      "|  123|\n",
      "|41235|\n",
      "|9941237|\n"
     ]
    }
   ],
   "source": [
    "print(\"|{:>5d}|\".format(123))\n",
    "print(\"|{:>5d}|\".format(41235))\n",
    "print(\"|{:>5d}|\".format(9941237)) # right data prior to format!"
   ]
  },
  {
   "cell_type": "code",
   "execution_count": 35,
   "metadata": {
    "colab": {
     "base_uri": "https://localhost:8080/"
    },
    "executionInfo": {
     "elapsed": 289,
     "status": "ok",
     "timestamp": 1720720023569,
     "user": {
      "displayName": "Alon Tam",
      "userId": "13843051219737434027"
     },
     "user_tz": -180
    },
    "id": "mu_a50TxhoSN",
    "outputId": "ee9cec2b-62c7-49c7-ca45-0236bc1abea7"
   },
   "outputs": [
    {
     "name": "stdout",
     "output_type": "stream",
     "text": [
      "|   7B|\n"
     ]
    }
   ],
   "source": [
    "print(\"|{:>5X}|\".format(123))\n"
   ]
  },
  {
   "cell_type": "code",
   "execution_count": 37,
   "metadata": {
    "colab": {
     "base_uri": "https://localhost:8080/"
    },
    "executionInfo": {
     "elapsed": 331,
     "status": "ok",
     "timestamp": 1720720063822,
     "user": {
      "displayName": "Alon Tam",
      "userId": "13843051219737434027"
     },
     "user_tz": -180
    },
    "id": "KUJMXh-ghzKT",
    "outputId": "90e92f2a-1bcc-40aa-e4a0-7b30810441f0"
   },
   "outputs": [
    {
     "name": "stdout",
     "output_type": "stream",
     "text": [
      "|130.0%|\n"
     ]
    }
   ],
   "source": [
    "print(\"|{:>5.1%}|\".format(1.3))\n"
   ]
  },
  {
   "cell_type": "code",
   "execution_count": 38,
   "metadata": {
    "colab": {
     "base_uri": "https://localhost:8080/",
     "height": 36
    },
    "executionInfo": {
     "elapsed": 315,
     "status": "ok",
     "timestamp": 1720720127285,
     "user": {
      "displayName": "Alon Tam",
      "userId": "13843051219737434027"
     },
     "user_tz": -180
    },
    "id": "fkSpSy_4h7N7",
    "outputId": "f8069599-2b4e-4430-dde9-4ed54c6030d4"
   },
   "outputs": [
    {
     "data": {
      "application/vnd.google.colaboratory.intrinsic+json": {
       "type": "string"
      },
      "text/plain": [
       "'PI = 3.143'"
      ]
     },
     "execution_count": 38,
     "metadata": {},
     "output_type": "execute_result"
    }
   ],
   "source": [
    "f\"PI = {22/7:5.3f}\""
   ]
  },
  {
   "cell_type": "code",
   "execution_count": 39,
   "metadata": {
    "colab": {
     "base_uri": "https://localhost:8080/"
    },
    "executionInfo": {
     "elapsed": 318,
     "status": "ok",
     "timestamp": 1720720141869,
     "user": {
      "displayName": "Alon Tam",
      "userId": "13843051219737434027"
     },
     "user_tz": -180
    },
    "id": "CNy4erU0-mVp",
    "outputId": "e763a48a-fbf5-4aaf-e04f-bc4e544119ed"
   },
   "outputs": [
    {
     "name": "stdout",
     "output_type": "stream",
     "text": [
      "50.000000%\n"
     ]
    }
   ],
   "source": [
    "print(\"{:%}\".format(0.5))"
   ]
  },
  {
   "cell_type": "code",
   "execution_count": 40,
   "metadata": {
    "colab": {
     "base_uri": "https://localhost:8080/"
    },
    "executionInfo": {
     "elapsed": 305,
     "status": "ok",
     "timestamp": 1720720153476,
     "user": {
      "displayName": "Alon Tam",
      "userId": "13843051219737434027"
     },
     "user_tz": -180
    },
    "id": "8AOgOC8sYetJ",
    "outputId": "70570db9-8423-45ec-fa0a-60622b831162"
   },
   "outputs": [
    {
     "name": "stdout",
     "output_type": "stream",
     "text": [
      "50.000000\n",
      "110010\n",
      "50\n",
      "50.0\n",
      "50.0%\n",
      "50    60   \n"
     ]
    }
   ],
   "source": [
    "print(\"{:f}\".format(50))\n",
    "print(\"{:b}\".format(50))\n",
    "print(\"{:d}\".format(50))\n",
    "print(\"{:.1f}\".format(50))\n",
    "print(\"{:.1%}\".format(0.5))\n",
    "print(\"{:<5} {:<5}\".format(50,60))"
   ]
  },
  {
   "cell_type": "markdown",
   "metadata": {
    "id": "r_7IG6HNzf9x"
   },
   "source": [
    "### Example 1"
   ]
  },
  {
   "cell_type": "markdown",
   "metadata": {
    "id": "cjE8HtTtzf9y"
   },
   "source": [
    "Print the multiplication table."
   ]
  },
  {
   "cell_type": "markdown",
   "metadata": {
    "id": "Ro2R4VHYzf9z"
   },
   "source": [
    "#### Without formatting"
   ]
  },
  {
   "cell_type": "code",
   "execution_count": 41,
   "metadata": {
    "colab": {
     "base_uri": "https://localhost:8080/"
    },
    "executionInfo": {
     "elapsed": 337,
     "status": "ok",
     "timestamp": 1720720183079,
     "user": {
      "displayName": "Alon Tam",
      "userId": "13843051219737434027"
     },
     "user_tz": -180
    },
    "id": "2HFM6IpQzf90",
    "outputId": "fd3d1d54-3530-4d9a-a041-49f6c8d26792"
   },
   "outputs": [
    {
     "name": "stdout",
     "output_type": "stream",
     "text": [
      " 1 2 3 4 5 6 7 8 9 10\n",
      " 2 4 6 8 10 12 14 16 18 20\n",
      " 3 6 9 12 15 18 21 24 27 30\n",
      " 4 8 12 16 20 24 28 32 36 40\n",
      " 5 10 15 20 25 30 35 40 45 50\n",
      " 6 12 18 24 30 36 42 48 54 60\n",
      " 7 14 21 28 35 42 49 56 63 70\n",
      " 8 16 24 32 40 48 56 64 72 80\n",
      " 9 18 27 36 45 54 63 72 81 90\n",
      " 10 20 30 40 50 60 70 80 90 100\n"
     ]
    }
   ],
   "source": [
    "n = 10\n",
    "for i in range(1, n+1):\n",
    "    row = \"\"\n",
    "    for j in range(1, n+1):\n",
    "        row = row + \" \" + str(i*j)\n",
    "    print (row)"
   ]
  },
  {
   "cell_type": "markdown",
   "metadata": {
    "id": "K0Pa9Lovzf93"
   },
   "source": [
    "#### With formatting"
   ]
  },
  {
   "cell_type": "code",
   "execution_count": 42,
   "metadata": {
    "colab": {
     "base_uri": "https://localhost:8080/"
    },
    "executionInfo": {
     "elapsed": 332,
     "status": "ok",
     "timestamp": 1720720327208,
     "user": {
      "displayName": "Alon Tam",
      "userId": "13843051219737434027"
     },
     "user_tz": -180
    },
    "id": "F-teOOk8zf94",
    "outputId": "5bd47895-ec2e-4318-ebad-31b37d90c550"
   },
   "outputs": [
    {
     "name": "stdout",
     "output_type": "stream",
     "text": [
      "   1   2   3   4   5   6   7   8   9  10\n",
      "   2   4   6   8  10  12  14  16  18  20\n",
      "   3   6   9  12  15  18  21  24  27  30\n",
      "   4   8  12  16  20  24  28  32  36  40\n",
      "   5  10  15  20  25  30  35  40  45  50\n",
      "   6  12  18  24  30  36  42  48  54  60\n",
      "   7  14  21  28  35  42  49  56  63  70\n",
      "   8  16  24  32  40  48  56  64  72  80\n",
      "   9  18  27  36  45  54  63  72  81  90\n",
      "  10  20  30  40  50  60  70  80  90 100\n"
     ]
    }
   ],
   "source": [
    "n = 10\n",
    "for i in range(1, n+1):\n",
    "    row = ''\n",
    "    for j in range(1, n+1):\n",
    "        row = row + f'{i*j:>4d}'\n",
    "    print (row)"
   ]
  },
  {
   "cell_type": "markdown",
   "metadata": {
    "id": "Y4T0PmsL2So8"
   },
   "source": [
    "## Example 2"
   ]
  },
  {
   "cell_type": "markdown",
   "metadata": {
    "id": "qUTSKcGv4w9c"
   },
   "source": [
    "Print the number PI with 2, and 4 digits after the decimal point.<br/>\n",
    "Compare your results to the digists of PI below. Notice anything?"
   ]
  },
  {
   "cell_type": "code",
   "execution_count": null,
   "metadata": {
    "id": "vxCcHLu0s-Tp"
   },
   "outputs": [],
   "source": [
    "pi = 3.141592653589793238"
   ]
  },
  {
   "cell_type": "markdown",
   "metadata": {
    "id": "CddSDqr74CEG"
   },
   "source": [
    "### Solution"
   ]
  },
  {
   "cell_type": "code",
   "execution_count": null,
   "metadata": {
    "id": "jeQzRNr34zDa"
   },
   "outputs": [],
   "source": [
    "print(\"{:.2f}\".format(pi))\n",
    "print(\"{:.4f}\".format(pi))"
   ]
  },
  {
   "cell_type": "markdown",
   "metadata": {
    "id": "yEWN28ggzf9-"
   },
   "source": [
    "# Exercises"
   ]
  },
  {
   "cell_type": "markdown",
   "metadata": {
    "id": "G_Z8knjlxF4r"
   },
   "source": [
    "## Exercise 1 <--- Homework 11/7/2024"
   ]
  },
  {
   "cell_type": "markdown",
   "metadata": {
    "id": "YIqcJJjB5vep"
   },
   "source": [
    "Write a script that asks the user for 3 numbers, use f-string to print the average of the numbers with 3 digits after the decimal point (do the calculation within the f-string)."
   ]
  },
  {
   "cell_type": "code",
   "execution_count": 27,
   "metadata": {},
   "outputs": [
    {
     "name": "stdout",
     "output_type": "stream",
     "text": [
      "The avearage of 13, 100 and 72 is 61.667\n"
     ]
    }
   ],
   "source": [
    "num_1 = 13\n",
    "num_2 = 100\n",
    "num_3 = 72\n",
    "print(f\"The avearage of {num_1}, {num_2} and {num_3} is {(num_1+num_2+num_3)/3:3.3f}\")"
   ]
  },
  {
   "cell_type": "markdown",
   "metadata": {
    "id": "yPNDcC6OxHkg"
   },
   "source": [
    "### Solution"
   ]
  },
  {
   "cell_type": "code",
   "execution_count": null,
   "metadata": {
    "id": "Q397WOhc5940"
   },
   "outputs": [],
   "source": [
    "num1 = input(\"Enter number 1: \") # input always returns string\n",
    "num2 = input(\"Enter number 2: \")\n",
    "num3 = input(\"Enter number 3: \")\n",
    "\n",
    "print(f\"{(float(num1) + float(num2) + float(num3)) / 3:.3f}\")"
   ]
  },
  {
   "cell_type": "markdown",
   "metadata": {
    "id": "LZBu55hB6VkP"
   },
   "source": [
    "## Exercise 2 <--- Homework 11/7/2024"
   ]
  },
  {
   "cell_type": "markdown",
   "metadata": {
    "id": "KufVGsMI6nuo"
   },
   "source": [
    "Given the list of lists below, in which each of the inner-lists represents car data, write code which display the data in a nicely aligned tabular format.<br/>\n",
    "- Maker and model should be centered.\n",
    "- Other text fields shhould be aligned to the left.\n",
    "- Numbers should be aligned to the right.<br>\n",
    "For example:\n",
    "<pre>\n",
    "|11-345-89  |    Toyota     |     Yaris     |    151372|    356222652|\n",
    "|22-651-91  |     Ford      |     Focus     |     95012|    253987454|\n",
    "|33-496-75  |     Mazda     |       3       |      5700|    249827458|\n",
    "</pre>"
   ]
  },
  {
   "cell_type": "code",
   "execution_count": 28,
   "metadata": {
    "id": "rQrW632gzfcJ"
   },
   "outputs": [],
   "source": [
    "# run this cell\n",
    "\n",
    "cars = [\n",
    "    # plate #   , maker   , model    year, KMs,    owner's ID\n",
    "    [\"11-345-89\", \"Toyota\", \"Yaris\", 2011, 151372, 356222652],\n",
    "    [\"22-651-91\", \"Ford\", \"Focus\", 2016, 95012, 253987454],\n",
    "    [\"33-496-75\", \"Mazda\", \"3\", 2022, 5700, 249827458],\n",
    "]"
   ]
  },
  {
   "cell_type": "code",
   "execution_count": 30,
   "metadata": {},
   "outputs": [
    {
     "name": "stdout",
     "output_type": "stream",
     "text": [
      "|11-345-89   |   Toyota   |   Yaris    |      151372|   356222652|\n",
      "|22-651-91   |    Ford    |   Focus    |       95012|   253987454|\n",
      "|33-496-75   |   Mazda    |     3      |        5700|   249827458|\n"
     ]
    }
   ],
   "source": [
    "for car in cars:\n",
    "    print(f\"|{car[0]:<12s}|{car[1]:^12s}|{car[2]:^12s}|{car[4]:>12d}|{car[5]:>12d}|\")"
   ]
  },
  {
   "cell_type": "markdown",
   "metadata": {
    "id": "tzMTm0V50yxO"
   },
   "source": [
    "### Solution"
   ]
  },
  {
   "cell_type": "code",
   "execution_count": null,
   "metadata": {
    "id": "m-Sk-Q1f6WH0"
   },
   "outputs": [],
   "source": [
    "print(f'|{\"license_pl\":^11s}|{\"maker\":^15s}|{\"model\":^15s}|{\"kms\":^10s}|{\"owner\":^13s}|')\n",
    "print(\"-\"*(64 + 6))\n",
    "\n",
    "for license_plate, maker, model, year, kms, owner in cars:\n",
    "   line = f\"|{license_plate:11s}|{maker:^15s}|{model:^15s}|{kms:10d}|{owner:13d}|\"\n",
    "   print(line)"
   ]
  }
 ],
 "metadata": {
  "colab": {
   "collapsed_sections": [
    "WJ6d7j2l3tyV",
    "Y4T0PmsL2So8",
    "yPNDcC6OxHkg",
    "tzMTm0V50yxO"
   ],
   "provenance": []
  },
  "kernelspec": {
   "display_name": "Python 3 (ipykernel)",
   "language": "python",
   "name": "python3"
  },
  "language_info": {
   "codemirror_mode": {
    "name": "ipython",
    "version": 3
   },
   "file_extension": ".py",
   "mimetype": "text/x-python",
   "name": "python",
   "nbconvert_exporter": "python",
   "pygments_lexer": "ipython3",
   "version": "3.9.7"
  }
 },
 "nbformat": 4,
 "nbformat_minor": 1
}
