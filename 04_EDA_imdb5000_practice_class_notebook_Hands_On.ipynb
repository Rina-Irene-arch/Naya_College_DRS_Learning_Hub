{
 "cells": [
  {
   "cell_type": "markdown",
   "metadata": {
    "id": "QdokgyPNsRpx"
   },
   "source": [
    "# Preliminaries"
   ]
  },
  {
   "cell_type": "code",
   "execution_count": 1,
   "metadata": {
    "id": "c2Ao6YTcsRps"
   },
   "outputs": [],
   "source": [
    "import pandas as pd"
   ]
  },
  {
   "cell_type": "code",
   "execution_count": 2,
   "metadata": {
    "id": "x10WKDVZt38i"
   },
   "outputs": [],
   "source": [
    "imdb = pd.read_csv(\"imdb5000-2.csv\")"
   ]
  },
  {
   "cell_type": "code",
   "execution_count": 3,
   "metadata": {
    "id": "WWx-S25_uttn"
   },
   "outputs": [
    {
     "data": {
      "text/html": [
       "<div>\n",
       "<style scoped>\n",
       "    .dataframe tbody tr th:only-of-type {\n",
       "        vertical-align: middle;\n",
       "    }\n",
       "\n",
       "    .dataframe tbody tr th {\n",
       "        vertical-align: top;\n",
       "    }\n",
       "\n",
       "    .dataframe thead th {\n",
       "        text-align: right;\n",
       "    }\n",
       "</style>\n",
       "<table border=\"1\" class=\"dataframe\">\n",
       "  <thead>\n",
       "    <tr style=\"text-align: right;\">\n",
       "      <th></th>\n",
       "      <th>color</th>\n",
       "      <th>director_name</th>\n",
       "      <th>num_critic_for_reviews</th>\n",
       "      <th>duration</th>\n",
       "      <th>director_facebook_likes</th>\n",
       "      <th>actor_3_facebook_likes</th>\n",
       "      <th>actor_2_name</th>\n",
       "      <th>actor_1_facebook_likes</th>\n",
       "      <th>gross</th>\n",
       "      <th>genres</th>\n",
       "      <th>...</th>\n",
       "      <th>num_user_for_reviews</th>\n",
       "      <th>language</th>\n",
       "      <th>country</th>\n",
       "      <th>content_rating</th>\n",
       "      <th>budget</th>\n",
       "      <th>title_year</th>\n",
       "      <th>actor_2_facebook_likes</th>\n",
       "      <th>imdb_score</th>\n",
       "      <th>aspect_ratio</th>\n",
       "      <th>movie_facebook_likes</th>\n",
       "    </tr>\n",
       "  </thead>\n",
       "  <tbody>\n",
       "    <tr>\n",
       "      <th>3825</th>\n",
       "      <td>Color</td>\n",
       "      <td>Jeff Nichols</td>\n",
       "      <td>359.0</td>\n",
       "      <td>121.0</td>\n",
       "      <td>337.0</td>\n",
       "      <td>41.0</td>\n",
       "      <td>Shea Whigham</td>\n",
       "      <td>982.0</td>\n",
       "      <td>1729969.0</td>\n",
       "      <td>Drama|Thriller</td>\n",
       "      <td>...</td>\n",
       "      <td>219.0</td>\n",
       "      <td>English</td>\n",
       "      <td>USA</td>\n",
       "      <td>R</td>\n",
       "      <td>5000000.0</td>\n",
       "      <td>2011.0</td>\n",
       "      <td>463.0</td>\n",
       "      <td>7.4</td>\n",
       "      <td>2.35</td>\n",
       "      <td>14000</td>\n",
       "    </tr>\n",
       "    <tr>\n",
       "      <th>69</th>\n",
       "      <td>Color</td>\n",
       "      <td>Jon Favreau</td>\n",
       "      <td>486.0</td>\n",
       "      <td>126.0</td>\n",
       "      <td>4000.0</td>\n",
       "      <td>4000.0</td>\n",
       "      <td>Jeff Bridges</td>\n",
       "      <td>21000.0</td>\n",
       "      <td>318298180.0</td>\n",
       "      <td>Action|Adventure|Sci-Fi</td>\n",
       "      <td>...</td>\n",
       "      <td>1055.0</td>\n",
       "      <td>English</td>\n",
       "      <td>USA</td>\n",
       "      <td>PG-13</td>\n",
       "      <td>140000000.0</td>\n",
       "      <td>2008.0</td>\n",
       "      <td>12000.0</td>\n",
       "      <td>7.9</td>\n",
       "      <td>2.35</td>\n",
       "      <td>10000</td>\n",
       "    </tr>\n",
       "    <tr>\n",
       "      <th>4582</th>\n",
       "      <td>Color</td>\n",
       "      <td>Mike Cahill</td>\n",
       "      <td>140.0</td>\n",
       "      <td>106.0</td>\n",
       "      <td>135.0</td>\n",
       "      <td>11.0</td>\n",
       "      <td>Cara Seymour</td>\n",
       "      <td>7000.0</td>\n",
       "      <td>334658.0</td>\n",
       "      <td>Drama|Romance|Sci-Fi</td>\n",
       "      <td>...</td>\n",
       "      <td>160.0</td>\n",
       "      <td>English</td>\n",
       "      <td>USA</td>\n",
       "      <td>R</td>\n",
       "      <td>NaN</td>\n",
       "      <td>2014.0</td>\n",
       "      <td>71.0</td>\n",
       "      <td>7.3</td>\n",
       "      <td>2.39</td>\n",
       "      <td>32000</td>\n",
       "    </tr>\n",
       "    <tr>\n",
       "      <th>4461</th>\n",
       "      <td>Color</td>\n",
       "      <td>Thomas Vinterberg</td>\n",
       "      <td>98.0</td>\n",
       "      <td>105.0</td>\n",
       "      <td>346.0</td>\n",
       "      <td>141.0</td>\n",
       "      <td>Paprika Steen</td>\n",
       "      <td>280.0</td>\n",
       "      <td>1647780.0</td>\n",
       "      <td>Drama</td>\n",
       "      <td>...</td>\n",
       "      <td>258.0</td>\n",
       "      <td>Danish</td>\n",
       "      <td>Denmark</td>\n",
       "      <td>R</td>\n",
       "      <td>1300000.0</td>\n",
       "      <td>1998.0</td>\n",
       "      <td>278.0</td>\n",
       "      <td>8.1</td>\n",
       "      <td>1.33</td>\n",
       "      <td>5000</td>\n",
       "    </tr>\n",
       "    <tr>\n",
       "      <th>4826</th>\n",
       "      <td>Color</td>\n",
       "      <td>Lauren Lazin</td>\n",
       "      <td>26.0</td>\n",
       "      <td>112.0</td>\n",
       "      <td>2.0</td>\n",
       "      <td>321.0</td>\n",
       "      <td>Gary Coleman</td>\n",
       "      <td>786.0</td>\n",
       "      <td>7707563.0</td>\n",
       "      <td>Biography|Documentary|Music</td>\n",
       "      <td>...</td>\n",
       "      <td>32.0</td>\n",
       "      <td>English</td>\n",
       "      <td>USA</td>\n",
       "      <td>R</td>\n",
       "      <td>NaN</td>\n",
       "      <td>2003.0</td>\n",
       "      <td>633.0</td>\n",
       "      <td>8.0</td>\n",
       "      <td>1.85</td>\n",
       "      <td>0</td>\n",
       "    </tr>\n",
       "    <tr>\n",
       "      <th>3819</th>\n",
       "      <td>Color</td>\n",
       "      <td>Jirí Menzel</td>\n",
       "      <td>99.0</td>\n",
       "      <td>113.0</td>\n",
       "      <td>44.0</td>\n",
       "      <td>4.0</td>\n",
       "      <td>Ivan Barnev</td>\n",
       "      <td>61.0</td>\n",
       "      <td>617228.0</td>\n",
       "      <td>Comedy|Drama|Romance|War</td>\n",
       "      <td>...</td>\n",
       "      <td>27.0</td>\n",
       "      <td>Czech</td>\n",
       "      <td>Czech Republic</td>\n",
       "      <td>R</td>\n",
       "      <td>84450000.0</td>\n",
       "      <td>2006.0</td>\n",
       "      <td>12.0</td>\n",
       "      <td>7.4</td>\n",
       "      <td>1.85</td>\n",
       "      <td>1000</td>\n",
       "    </tr>\n",
       "    <tr>\n",
       "      <th>257</th>\n",
       "      <td>Black and White</td>\n",
       "      <td>Martin Scorsese</td>\n",
       "      <td>267.0</td>\n",
       "      <td>170.0</td>\n",
       "      <td>17000.0</td>\n",
       "      <td>827.0</td>\n",
       "      <td>Adam Scott</td>\n",
       "      <td>29000.0</td>\n",
       "      <td>102608827.0</td>\n",
       "      <td>Biography|Drama</td>\n",
       "      <td>...</td>\n",
       "      <td>799.0</td>\n",
       "      <td>English</td>\n",
       "      <td>USA</td>\n",
       "      <td>PG-13</td>\n",
       "      <td>110000000.0</td>\n",
       "      <td>2004.0</td>\n",
       "      <td>3000.0</td>\n",
       "      <td>7.5</td>\n",
       "      <td>2.35</td>\n",
       "      <td>0</td>\n",
       "    </tr>\n",
       "    <tr>\n",
       "      <th>4369</th>\n",
       "      <td>Color</td>\n",
       "      <td>Ted Post</td>\n",
       "      <td>26.0</td>\n",
       "      <td>114.0</td>\n",
       "      <td>57.0</td>\n",
       "      <td>426.0</td>\n",
       "      <td>Bruce Dern</td>\n",
       "      <td>16000.0</td>\n",
       "      <td>NaN</td>\n",
       "      <td>Western</td>\n",
       "      <td>...</td>\n",
       "      <td>109.0</td>\n",
       "      <td>English</td>\n",
       "      <td>USA</td>\n",
       "      <td>M</td>\n",
       "      <td>1800000.0</td>\n",
       "      <td>1968.0</td>\n",
       "      <td>844.0</td>\n",
       "      <td>7.0</td>\n",
       "      <td>1.85</td>\n",
       "      <td>0</td>\n",
       "    </tr>\n",
       "    <tr>\n",
       "      <th>55</th>\n",
       "      <td>Color</td>\n",
       "      <td>Peter Sohn</td>\n",
       "      <td>298.0</td>\n",
       "      <td>93.0</td>\n",
       "      <td>113.0</td>\n",
       "      <td>113.0</td>\n",
       "      <td>Jack McGraw</td>\n",
       "      <td>275.0</td>\n",
       "      <td>123070338.0</td>\n",
       "      <td>Adventure|Animation|Comedy|Family|Fantasy</td>\n",
       "      <td>...</td>\n",
       "      <td>345.0</td>\n",
       "      <td>English</td>\n",
       "      <td>USA</td>\n",
       "      <td>PG</td>\n",
       "      <td>NaN</td>\n",
       "      <td>2015.0</td>\n",
       "      <td>150.0</td>\n",
       "      <td>6.8</td>\n",
       "      <td>2.35</td>\n",
       "      <td>20000</td>\n",
       "    </tr>\n",
       "    <tr>\n",
       "      <th>221</th>\n",
       "      <td>Color</td>\n",
       "      <td>Wolfgang Petersen</td>\n",
       "      <td>231.0</td>\n",
       "      <td>130.0</td>\n",
       "      <td>249.0</td>\n",
       "      <td>461.0</td>\n",
       "      <td>Mary Elizabeth Mastrantonio</td>\n",
       "      <td>784.0</td>\n",
       "      <td>182618434.0</td>\n",
       "      <td>Action|Adventure|Drama|Thriller</td>\n",
       "      <td>...</td>\n",
       "      <td>779.0</td>\n",
       "      <td>English</td>\n",
       "      <td>USA</td>\n",
       "      <td>PG-13</td>\n",
       "      <td>140000000.0</td>\n",
       "      <td>2000.0</td>\n",
       "      <td>638.0</td>\n",
       "      <td>6.4</td>\n",
       "      <td>2.35</td>\n",
       "      <td>0</td>\n",
       "    </tr>\n",
       "  </tbody>\n",
       "</table>\n",
       "<p>10 rows × 28 columns</p>\n",
       "</div>"
      ],
      "text/plain": [
       "                 color      director_name  num_critic_for_reviews  duration  \\\n",
       "3825             Color       Jeff Nichols                   359.0     121.0   \n",
       "69               Color        Jon Favreau                   486.0     126.0   \n",
       "4582             Color        Mike Cahill                   140.0     106.0   \n",
       "4461             Color  Thomas Vinterberg                    98.0     105.0   \n",
       "4826             Color       Lauren Lazin                    26.0     112.0   \n",
       "3819             Color        Jirí Menzel                    99.0     113.0   \n",
       "257    Black and White    Martin Scorsese                   267.0     170.0   \n",
       "4369             Color           Ted Post                    26.0     114.0   \n",
       "55               Color         Peter Sohn                   298.0      93.0   \n",
       "221              Color  Wolfgang Petersen                   231.0     130.0   \n",
       "\n",
       "      director_facebook_likes  actor_3_facebook_likes  \\\n",
       "3825                    337.0                    41.0   \n",
       "69                     4000.0                  4000.0   \n",
       "4582                    135.0                    11.0   \n",
       "4461                    346.0                   141.0   \n",
       "4826                      2.0                   321.0   \n",
       "3819                     44.0                     4.0   \n",
       "257                   17000.0                   827.0   \n",
       "4369                     57.0                   426.0   \n",
       "55                      113.0                   113.0   \n",
       "221                     249.0                   461.0   \n",
       "\n",
       "                     actor_2_name  actor_1_facebook_likes        gross  \\\n",
       "3825                 Shea Whigham                   982.0    1729969.0   \n",
       "69                   Jeff Bridges                 21000.0  318298180.0   \n",
       "4582                 Cara Seymour                  7000.0     334658.0   \n",
       "4461                Paprika Steen                   280.0    1647780.0   \n",
       "4826                 Gary Coleman                   786.0    7707563.0   \n",
       "3819                  Ivan Barnev                    61.0     617228.0   \n",
       "257                    Adam Scott                 29000.0  102608827.0   \n",
       "4369                   Bruce Dern                 16000.0          NaN   \n",
       "55                    Jack McGraw                   275.0  123070338.0   \n",
       "221   Mary Elizabeth Mastrantonio                   784.0  182618434.0   \n",
       "\n",
       "                                         genres  ... num_user_for_reviews  \\\n",
       "3825                             Drama|Thriller  ...                219.0   \n",
       "69                      Action|Adventure|Sci-Fi  ...               1055.0   \n",
       "4582                       Drama|Romance|Sci-Fi  ...                160.0   \n",
       "4461                                      Drama  ...                258.0   \n",
       "4826                Biography|Documentary|Music  ...                 32.0   \n",
       "3819                   Comedy|Drama|Romance|War  ...                 27.0   \n",
       "257                             Biography|Drama  ...                799.0   \n",
       "4369                                    Western  ...                109.0   \n",
       "55    Adventure|Animation|Comedy|Family|Fantasy  ...                345.0   \n",
       "221             Action|Adventure|Drama|Thriller  ...                779.0   \n",
       "\n",
       "     language         country  content_rating       budget  title_year  \\\n",
       "3825  English             USA               R    5000000.0      2011.0   \n",
       "69    English             USA           PG-13  140000000.0      2008.0   \n",
       "4582  English             USA               R          NaN      2014.0   \n",
       "4461   Danish         Denmark               R    1300000.0      1998.0   \n",
       "4826  English             USA               R          NaN      2003.0   \n",
       "3819    Czech  Czech Republic               R   84450000.0      2006.0   \n",
       "257   English             USA           PG-13  110000000.0      2004.0   \n",
       "4369  English             USA               M    1800000.0      1968.0   \n",
       "55    English             USA              PG          NaN      2015.0   \n",
       "221   English             USA           PG-13  140000000.0      2000.0   \n",
       "\n",
       "     actor_2_facebook_likes imdb_score  aspect_ratio movie_facebook_likes  \n",
       "3825                  463.0        7.4          2.35                14000  \n",
       "69                  12000.0        7.9          2.35                10000  \n",
       "4582                   71.0        7.3          2.39                32000  \n",
       "4461                  278.0        8.1          1.33                 5000  \n",
       "4826                  633.0        8.0          1.85                    0  \n",
       "3819                   12.0        7.4          1.85                 1000  \n",
       "257                  3000.0        7.5          2.35                    0  \n",
       "4369                  844.0        7.0          1.85                    0  \n",
       "55                    150.0        6.8          2.35                20000  \n",
       "221                   638.0        6.4          2.35                    0  \n",
       "\n",
       "[10 rows x 28 columns]"
      ]
     },
     "execution_count": 3,
     "metadata": {},
     "output_type": "execute_result"
    }
   ],
   "source": [
    "imdb.sample(10)"
   ]
  },
  {
   "cell_type": "code",
   "execution_count": 4,
   "metadata": {
    "id": "KtIeKD1Su0BC"
   },
   "outputs": [
    {
     "data": {
      "text/html": [
       "<div>\n",
       "<style scoped>\n",
       "    .dataframe tbody tr th:only-of-type {\n",
       "        vertical-align: middle;\n",
       "    }\n",
       "\n",
       "    .dataframe tbody tr th {\n",
       "        vertical-align: top;\n",
       "    }\n",
       "\n",
       "    .dataframe thead th {\n",
       "        text-align: right;\n",
       "    }\n",
       "</style>\n",
       "<table border=\"1\" class=\"dataframe\">\n",
       "  <thead>\n",
       "    <tr style=\"text-align: right;\">\n",
       "      <th></th>\n",
       "      <th>color</th>\n",
       "      <th>director_name</th>\n",
       "      <th>num_critic_for_reviews</th>\n",
       "      <th>duration</th>\n",
       "      <th>director_facebook_likes</th>\n",
       "      <th>actor_3_facebook_likes</th>\n",
       "      <th>actor_2_name</th>\n",
       "      <th>actor_1_facebook_likes</th>\n",
       "      <th>gross</th>\n",
       "      <th>genres</th>\n",
       "      <th>...</th>\n",
       "      <th>num_user_for_reviews</th>\n",
       "      <th>language</th>\n",
       "      <th>country</th>\n",
       "      <th>content_rating</th>\n",
       "      <th>budget</th>\n",
       "      <th>title_year</th>\n",
       "      <th>actor_2_facebook_likes</th>\n",
       "      <th>imdb_score</th>\n",
       "      <th>aspect_ratio</th>\n",
       "      <th>movie_facebook_likes</th>\n",
       "    </tr>\n",
       "    <tr>\n",
       "      <th>movie_title</th>\n",
       "      <th></th>\n",
       "      <th></th>\n",
       "      <th></th>\n",
       "      <th></th>\n",
       "      <th></th>\n",
       "      <th></th>\n",
       "      <th></th>\n",
       "      <th></th>\n",
       "      <th></th>\n",
       "      <th></th>\n",
       "      <th></th>\n",
       "      <th></th>\n",
       "      <th></th>\n",
       "      <th></th>\n",
       "      <th></th>\n",
       "      <th></th>\n",
       "      <th></th>\n",
       "      <th></th>\n",
       "      <th></th>\n",
       "      <th></th>\n",
       "      <th></th>\n",
       "    </tr>\n",
       "  </thead>\n",
       "  <tbody>\n",
       "    <tr>\n",
       "      <th>Down Terrace</th>\n",
       "      <td>Color</td>\n",
       "      <td>Ben Wheatley</td>\n",
       "      <td>53.0</td>\n",
       "      <td>93.0</td>\n",
       "      <td>214.0</td>\n",
       "      <td>59.0</td>\n",
       "      <td>Tony Way</td>\n",
       "      <td>177.0</td>\n",
       "      <td>9609.0</td>\n",
       "      <td>Comedy|Crime|Drama</td>\n",
       "      <td>...</td>\n",
       "      <td>22.0</td>\n",
       "      <td>English</td>\n",
       "      <td>UK</td>\n",
       "      <td>R</td>\n",
       "      <td>NaN</td>\n",
       "      <td>2009.0</td>\n",
       "      <td>95.0</td>\n",
       "      <td>6.5</td>\n",
       "      <td>NaN</td>\n",
       "      <td>535</td>\n",
       "    </tr>\n",
       "    <tr>\n",
       "      <th>State Fair</th>\n",
       "      <td>Color</td>\n",
       "      <td>Walter Lang</td>\n",
       "      <td>17.0</td>\n",
       "      <td>100.0</td>\n",
       "      <td>9.0</td>\n",
       "      <td>37.0</td>\n",
       "      <td>Jeanne Crain</td>\n",
       "      <td>188.0</td>\n",
       "      <td>NaN</td>\n",
       "      <td>Musical|Romance</td>\n",
       "      <td>...</td>\n",
       "      <td>55.0</td>\n",
       "      <td>English</td>\n",
       "      <td>USA</td>\n",
       "      <td>Approved</td>\n",
       "      <td>NaN</td>\n",
       "      <td>1945.0</td>\n",
       "      <td>135.0</td>\n",
       "      <td>7.1</td>\n",
       "      <td>1.37</td>\n",
       "      <td>501</td>\n",
       "    </tr>\n",
       "    <tr>\n",
       "      <th>Jersey Boys</th>\n",
       "      <td>Color</td>\n",
       "      <td>Clint Eastwood</td>\n",
       "      <td>249.0</td>\n",
       "      <td>134.0</td>\n",
       "      <td>16000.0</td>\n",
       "      <td>235.0</td>\n",
       "      <td>Steve Schirripa</td>\n",
       "      <td>880.0</td>\n",
       "      <td>47034272.0</td>\n",
       "      <td>Biography|Drama|Music|Musical</td>\n",
       "      <td>...</td>\n",
       "      <td>190.0</td>\n",
       "      <td>English</td>\n",
       "      <td>USA</td>\n",
       "      <td>R</td>\n",
       "      <td>40000000.0</td>\n",
       "      <td>2014.0</td>\n",
       "      <td>413.0</td>\n",
       "      <td>6.9</td>\n",
       "      <td>2.35</td>\n",
       "      <td>16000</td>\n",
       "    </tr>\n",
       "    <tr>\n",
       "      <th>Penitentiary</th>\n",
       "      <td>Color</td>\n",
       "      <td>Jamaa Fanaka</td>\n",
       "      <td>23.0</td>\n",
       "      <td>99.0</td>\n",
       "      <td>9.0</td>\n",
       "      <td>10.0</td>\n",
       "      <td>Chuck Mitchell</td>\n",
       "      <td>116.0</td>\n",
       "      <td>NaN</td>\n",
       "      <td>Crime|Drama|Sport</td>\n",
       "      <td>...</td>\n",
       "      <td>10.0</td>\n",
       "      <td>English</td>\n",
       "      <td>USA</td>\n",
       "      <td>R</td>\n",
       "      <td>100000.0</td>\n",
       "      <td>1979.0</td>\n",
       "      <td>24.0</td>\n",
       "      <td>5.8</td>\n",
       "      <td>1.85</td>\n",
       "      <td>157</td>\n",
       "    </tr>\n",
       "    <tr>\n",
       "      <th>Return to Oz</th>\n",
       "      <td>Color</td>\n",
       "      <td>Walter Murch</td>\n",
       "      <td>56.0</td>\n",
       "      <td>109.0</td>\n",
       "      <td>181.0</td>\n",
       "      <td>137.0</td>\n",
       "      <td>Jean Marsh</td>\n",
       "      <td>303.0</td>\n",
       "      <td>NaN</td>\n",
       "      <td>Adventure|Family|Fantasy|Horror|Mystery</td>\n",
       "      <td>...</td>\n",
       "      <td>208.0</td>\n",
       "      <td>English</td>\n",
       "      <td>UK</td>\n",
       "      <td>PG</td>\n",
       "      <td>25000000.0</td>\n",
       "      <td>1985.0</td>\n",
       "      <td>146.0</td>\n",
       "      <td>6.7</td>\n",
       "      <td>1.85</td>\n",
       "      <td>0</td>\n",
       "    </tr>\n",
       "    <tr>\n",
       "      <th>The Fast and the Furious</th>\n",
       "      <td>Color</td>\n",
       "      <td>Rob Cohen</td>\n",
       "      <td>187.0</td>\n",
       "      <td>106.0</td>\n",
       "      <td>357.0</td>\n",
       "      <td>4000.0</td>\n",
       "      <td>Vin Diesel</td>\n",
       "      <td>23000.0</td>\n",
       "      <td>144512310.0</td>\n",
       "      <td>Action|Crime|Thriller</td>\n",
       "      <td>...</td>\n",
       "      <td>988.0</td>\n",
       "      <td>English</td>\n",
       "      <td>USA</td>\n",
       "      <td>PG-13</td>\n",
       "      <td>38000000.0</td>\n",
       "      <td>2001.0</td>\n",
       "      <td>14000.0</td>\n",
       "      <td>6.7</td>\n",
       "      <td>2.35</td>\n",
       "      <td>14000</td>\n",
       "    </tr>\n",
       "    <tr>\n",
       "      <th>Into the Woods</th>\n",
       "      <td>Color</td>\n",
       "      <td>Rob Marshall</td>\n",
       "      <td>321.0</td>\n",
       "      <td>125.0</td>\n",
       "      <td>252.0</td>\n",
       "      <td>10000.0</td>\n",
       "      <td>Meryl Streep</td>\n",
       "      <td>40000.0</td>\n",
       "      <td>127997349.0</td>\n",
       "      <td>Adventure|Comedy|Drama|Fantasy|Musical</td>\n",
       "      <td>...</td>\n",
       "      <td>779.0</td>\n",
       "      <td>English</td>\n",
       "      <td>USA</td>\n",
       "      <td>PG</td>\n",
       "      <td>50000000.0</td>\n",
       "      <td>2014.0</td>\n",
       "      <td>11000.0</td>\n",
       "      <td>6.0</td>\n",
       "      <td>2.39</td>\n",
       "      <td>90000</td>\n",
       "    </tr>\n",
       "    <tr>\n",
       "      <th>Spaceballs</th>\n",
       "      <td>Color</td>\n",
       "      <td>Mel Brooks</td>\n",
       "      <td>103.0</td>\n",
       "      <td>96.0</td>\n",
       "      <td>0.0</td>\n",
       "      <td>542.0</td>\n",
       "      <td>Dick Van Patten</td>\n",
       "      <td>1000.0</td>\n",
       "      <td>38119483.0</td>\n",
       "      <td>Adventure|Comedy|Sci-Fi</td>\n",
       "      <td>...</td>\n",
       "      <td>273.0</td>\n",
       "      <td>English</td>\n",
       "      <td>USA</td>\n",
       "      <td>PG</td>\n",
       "      <td>22700000.0</td>\n",
       "      <td>1987.0</td>\n",
       "      <td>605.0</td>\n",
       "      <td>7.1</td>\n",
       "      <td>1.85</td>\n",
       "      <td>13000</td>\n",
       "    </tr>\n",
       "    <tr>\n",
       "      <th>The Conjuring</th>\n",
       "      <td>Color</td>\n",
       "      <td>James Wan</td>\n",
       "      <td>511.0</td>\n",
       "      <td>112.0</td>\n",
       "      <td>0.0</td>\n",
       "      <td>697.0</td>\n",
       "      <td>Lili Taylor</td>\n",
       "      <td>6000.0</td>\n",
       "      <td>137387272.0</td>\n",
       "      <td>Horror|Mystery|Thriller</td>\n",
       "      <td>...</td>\n",
       "      <td>807.0</td>\n",
       "      <td>English</td>\n",
       "      <td>USA</td>\n",
       "      <td>R</td>\n",
       "      <td>20000000.0</td>\n",
       "      <td>2013.0</td>\n",
       "      <td>960.0</td>\n",
       "      <td>7.5</td>\n",
       "      <td>2.35</td>\n",
       "      <td>131000</td>\n",
       "    </tr>\n",
       "    <tr>\n",
       "      <th>The Big Year</th>\n",
       "      <td>Color</td>\n",
       "      <td>David Frankel</td>\n",
       "      <td>108.0</td>\n",
       "      <td>100.0</td>\n",
       "      <td>64.0</td>\n",
       "      <td>296.0</td>\n",
       "      <td>Kevin Pollak</td>\n",
       "      <td>734.0</td>\n",
       "      <td>7204138.0</td>\n",
       "      <td>Comedy</td>\n",
       "      <td>...</td>\n",
       "      <td>125.0</td>\n",
       "      <td>English</td>\n",
       "      <td>USA</td>\n",
       "      <td>PG</td>\n",
       "      <td>41000000.0</td>\n",
       "      <td>2011.0</td>\n",
       "      <td>574.0</td>\n",
       "      <td>6.2</td>\n",
       "      <td>2.35</td>\n",
       "      <td>11000</td>\n",
       "    </tr>\n",
       "  </tbody>\n",
       "</table>\n",
       "<p>10 rows × 27 columns</p>\n",
       "</div>"
      ],
      "text/plain": [
       "                          color   director_name  num_critic_for_reviews  \\\n",
       "movie_title                                                               \n",
       "Down Terrace              Color    Ben Wheatley                    53.0   \n",
       "State Fair                Color     Walter Lang                    17.0   \n",
       "Jersey Boys               Color  Clint Eastwood                   249.0   \n",
       "Penitentiary              Color    Jamaa Fanaka                    23.0   \n",
       "Return to Oz              Color    Walter Murch                    56.0   \n",
       "The Fast and the Furious  Color       Rob Cohen                   187.0   \n",
       "Into the Woods            Color    Rob Marshall                   321.0   \n",
       "Spaceballs                Color      Mel Brooks                   103.0   \n",
       "The Conjuring             Color       James Wan                   511.0   \n",
       "The Big Year              Color   David Frankel                   108.0   \n",
       "\n",
       "                          duration  director_facebook_likes  \\\n",
       "movie_title                                                   \n",
       "Down Terrace                  93.0                    214.0   \n",
       "State Fair                   100.0                      9.0   \n",
       "Jersey Boys                  134.0                  16000.0   \n",
       "Penitentiary                  99.0                      9.0   \n",
       "Return to Oz                 109.0                    181.0   \n",
       "The Fast and the Furious     106.0                    357.0   \n",
       "Into the Woods               125.0                    252.0   \n",
       "Spaceballs                    96.0                      0.0   \n",
       "The Conjuring                112.0                      0.0   \n",
       "The Big Year                 100.0                     64.0   \n",
       "\n",
       "                          actor_3_facebook_likes     actor_2_name  \\\n",
       "movie_title                                                         \n",
       "Down Terrace                                59.0         Tony Way   \n",
       "State Fair                                  37.0     Jeanne Crain   \n",
       "Jersey Boys                                235.0  Steve Schirripa   \n",
       "Penitentiary                                10.0   Chuck Mitchell   \n",
       "Return to Oz                               137.0       Jean Marsh   \n",
       "The Fast and the Furious                  4000.0       Vin Diesel   \n",
       "Into the Woods                           10000.0     Meryl Streep   \n",
       "Spaceballs                                 542.0  Dick Van Patten   \n",
       "The Conjuring                              697.0      Lili Taylor   \n",
       "The Big Year                               296.0     Kevin Pollak   \n",
       "\n",
       "                          actor_1_facebook_likes        gross  \\\n",
       "movie_title                                                     \n",
       "Down Terrace                               177.0       9609.0   \n",
       "State Fair                                 188.0          NaN   \n",
       "Jersey Boys                                880.0   47034272.0   \n",
       "Penitentiary                               116.0          NaN   \n",
       "Return to Oz                               303.0          NaN   \n",
       "The Fast and the Furious                 23000.0  144512310.0   \n",
       "Into the Woods                           40000.0  127997349.0   \n",
       "Spaceballs                                1000.0   38119483.0   \n",
       "The Conjuring                             6000.0  137387272.0   \n",
       "The Big Year                               734.0    7204138.0   \n",
       "\n",
       "                                                           genres  ...  \\\n",
       "movie_title                                                        ...   \n",
       "Down Terrace                                   Comedy|Crime|Drama  ...   \n",
       "State Fair                                        Musical|Romance  ...   \n",
       "Jersey Boys                         Biography|Drama|Music|Musical  ...   \n",
       "Penitentiary                                    Crime|Drama|Sport  ...   \n",
       "Return to Oz              Adventure|Family|Fantasy|Horror|Mystery  ...   \n",
       "The Fast and the Furious                    Action|Crime|Thriller  ...   \n",
       "Into the Woods             Adventure|Comedy|Drama|Fantasy|Musical  ...   \n",
       "Spaceballs                                Adventure|Comedy|Sci-Fi  ...   \n",
       "The Conjuring                             Horror|Mystery|Thriller  ...   \n",
       "The Big Year                                               Comedy  ...   \n",
       "\n",
       "                         num_user_for_reviews  language  country  \\\n",
       "movie_title                                                        \n",
       "Down Terrace                             22.0   English       UK   \n",
       "State Fair                               55.0   English      USA   \n",
       "Jersey Boys                             190.0   English      USA   \n",
       "Penitentiary                             10.0   English      USA   \n",
       "Return to Oz                            208.0   English       UK   \n",
       "The Fast and the Furious                988.0   English      USA   \n",
       "Into the Woods                          779.0   English      USA   \n",
       "Spaceballs                              273.0   English      USA   \n",
       "The Conjuring                           807.0   English      USA   \n",
       "The Big Year                            125.0   English      USA   \n",
       "\n",
       "                         content_rating      budget title_year  \\\n",
       "movie_title                                                      \n",
       "Down Terrace                          R         NaN     2009.0   \n",
       "State Fair                     Approved         NaN     1945.0   \n",
       "Jersey Boys                           R  40000000.0     2014.0   \n",
       "Penitentiary                          R    100000.0     1979.0   \n",
       "Return to Oz                         PG  25000000.0     1985.0   \n",
       "The Fast and the Furious          PG-13  38000000.0     2001.0   \n",
       "Into the Woods                       PG  50000000.0     2014.0   \n",
       "Spaceballs                           PG  22700000.0     1987.0   \n",
       "The Conjuring                         R  20000000.0     2013.0   \n",
       "The Big Year                         PG  41000000.0     2011.0   \n",
       "\n",
       "                         actor_2_facebook_likes  imdb_score aspect_ratio  \\\n",
       "movie_title                                                                \n",
       "Down Terrace                               95.0         6.5          NaN   \n",
       "State Fair                                135.0         7.1         1.37   \n",
       "Jersey Boys                               413.0         6.9         2.35   \n",
       "Penitentiary                               24.0         5.8         1.85   \n",
       "Return to Oz                              146.0         6.7         1.85   \n",
       "The Fast and the Furious                14000.0         6.7         2.35   \n",
       "Into the Woods                          11000.0         6.0         2.39   \n",
       "Spaceballs                                605.0         7.1         1.85   \n",
       "The Conjuring                             960.0         7.5         2.35   \n",
       "The Big Year                              574.0         6.2         2.35   \n",
       "\n",
       "                         movie_facebook_likes  \n",
       "movie_title                                    \n",
       "Down Terrace                              535  \n",
       "State Fair                                501  \n",
       "Jersey Boys                             16000  \n",
       "Penitentiary                              157  \n",
       "Return to Oz                                0  \n",
       "The Fast and the Furious                14000  \n",
       "Into the Woods                          90000  \n",
       "Spaceballs                              13000  \n",
       "The Conjuring                          131000  \n",
       "The Big Year                            11000  \n",
       "\n",
       "[10 rows x 27 columns]"
      ]
     },
     "execution_count": 4,
     "metadata": {},
     "output_type": "execute_result"
    }
   ],
   "source": [
    "# Set the movie name as index. It will make things a little more convinient later on.\n",
    "\n",
    "imdb.set_index(\"movie_title\", inplace=True)\n",
    "\n",
    "imdb.sample(10)"
   ]
  },
  {
   "cell_type": "markdown",
   "metadata": {
    "id": "l2Kl1FPrQoUL"
   },
   "source": [
    "# Data inspection"
   ]
  },
  {
   "cell_type": "markdown",
   "metadata": {
    "id": "Eym0t05KQvzw"
   },
   "source": [
    "### Make yourself familiar with the data by answering questions like what do the columns mean, what are their types and what are their values and distribution."
   ]
  },
  {
   "cell_type": "markdown",
   "metadata": {
    "id": "1Spca0zBYQ7k"
   },
   "source": [
    "> **Note:** This part has no strict flow, and it just encourages you to have a thorough look on the data before moving on."
   ]
  },
  {
   "cell_type": "code",
   "execution_count": null,
   "metadata": {
    "id": "4MKUfGpIIdWd"
   },
   "outputs": [],
   "source": []
  },
  {
   "cell_type": "markdown",
   "metadata": {
    "id": "Mga9D_hZHfTS",
    "jp-MarkdownHeadingCollapsed": true,
    "tags": []
   },
   "source": [
    "#### Solution"
   ]
  },
  {
   "cell_type": "code",
   "execution_count": 5,
   "metadata": {
    "id": "3hhQfL-YZhpJ"
   },
   "outputs": [
    {
     "name": "stdout",
     "output_type": "stream",
     "text": [
      "<class 'pandas.core.frame.DataFrame'>\n",
      "Index: 5043 entries, Avatar to My Date with Drew\n",
      "Data columns (total 27 columns):\n",
      " #   Column                     Non-Null Count  Dtype  \n",
      "---  ------                     --------------  -----  \n",
      " 0   color                      5024 non-null   object \n",
      " 1   director_name              4939 non-null   object \n",
      " 2   num_critic_for_reviews     4993 non-null   float64\n",
      " 3   duration                   5028 non-null   float64\n",
      " 4   director_facebook_likes    4939 non-null   float64\n",
      " 5   actor_3_facebook_likes     5020 non-null   float64\n",
      " 6   actor_2_name               5030 non-null   object \n",
      " 7   actor_1_facebook_likes     5036 non-null   float64\n",
      " 8   gross                      4159 non-null   float64\n",
      " 9   genres                     5043 non-null   object \n",
      " 10  actor_1_name               5036 non-null   object \n",
      " 11  num_voted_users            5043 non-null   int64  \n",
      " 12  cast_total_facebook_likes  5043 non-null   int64  \n",
      " 13  actor_3_name               5020 non-null   object \n",
      " 14  facenumber_in_poster       5030 non-null   float64\n",
      " 15  plot_keywords              4890 non-null   object \n",
      " 16  movie_imdb_link            5043 non-null   object \n",
      " 17  num_user_for_reviews       5022 non-null   float64\n",
      " 18  language                   5031 non-null   object \n",
      " 19  country                    5038 non-null   object \n",
      " 20  content_rating             4740 non-null   object \n",
      " 21  budget                     4551 non-null   float64\n",
      " 22  title_year                 4935 non-null   float64\n",
      " 23  actor_2_facebook_likes     5030 non-null   float64\n",
      " 24  imdb_score                 5043 non-null   float64\n",
      " 25  aspect_ratio               4714 non-null   float64\n",
      " 26  movie_facebook_likes       5043 non-null   int64  \n",
      "dtypes: float64(13), int64(3), object(11)\n",
      "memory usage: 1.1+ MB\n"
     ]
    }
   ],
   "source": [
    "imdb.info()"
   ]
  },
  {
   "cell_type": "code",
   "execution_count": 6,
   "metadata": {
    "id": "t4CxYbZLIfIK"
   },
   "outputs": [
    {
     "data": {
      "text/html": [
       "<div>\n",
       "<style scoped>\n",
       "    .dataframe tbody tr th:only-of-type {\n",
       "        vertical-align: middle;\n",
       "    }\n",
       "\n",
       "    .dataframe tbody tr th {\n",
       "        vertical-align: top;\n",
       "    }\n",
       "\n",
       "    .dataframe thead th {\n",
       "        text-align: right;\n",
       "    }\n",
       "</style>\n",
       "<table border=\"1\" class=\"dataframe\">\n",
       "  <thead>\n",
       "    <tr style=\"text-align: right;\">\n",
       "      <th></th>\n",
       "      <th>num_critic_for_reviews</th>\n",
       "      <th>duration</th>\n",
       "      <th>director_facebook_likes</th>\n",
       "      <th>actor_3_facebook_likes</th>\n",
       "      <th>actor_1_facebook_likes</th>\n",
       "      <th>gross</th>\n",
       "      <th>num_voted_users</th>\n",
       "      <th>cast_total_facebook_likes</th>\n",
       "      <th>facenumber_in_poster</th>\n",
       "      <th>num_user_for_reviews</th>\n",
       "      <th>budget</th>\n",
       "      <th>title_year</th>\n",
       "      <th>actor_2_facebook_likes</th>\n",
       "      <th>imdb_score</th>\n",
       "      <th>aspect_ratio</th>\n",
       "      <th>movie_facebook_likes</th>\n",
       "    </tr>\n",
       "  </thead>\n",
       "  <tbody>\n",
       "    <tr>\n",
       "      <th>count</th>\n",
       "      <td>4993.000000</td>\n",
       "      <td>5028.000000</td>\n",
       "      <td>4939.000000</td>\n",
       "      <td>5020.000000</td>\n",
       "      <td>5036.000000</td>\n",
       "      <td>4.159000e+03</td>\n",
       "      <td>5.043000e+03</td>\n",
       "      <td>5043.000000</td>\n",
       "      <td>5030.000000</td>\n",
       "      <td>5022.000000</td>\n",
       "      <td>4.551000e+03</td>\n",
       "      <td>4935.000000</td>\n",
       "      <td>5030.000000</td>\n",
       "      <td>5043.000000</td>\n",
       "      <td>4714.000000</td>\n",
       "      <td>5043.000000</td>\n",
       "    </tr>\n",
       "    <tr>\n",
       "      <th>mean</th>\n",
       "      <td>140.194272</td>\n",
       "      <td>107.201074</td>\n",
       "      <td>686.509212</td>\n",
       "      <td>645.009761</td>\n",
       "      <td>6560.047061</td>\n",
       "      <td>4.846841e+07</td>\n",
       "      <td>8.366816e+04</td>\n",
       "      <td>9699.063851</td>\n",
       "      <td>1.371173</td>\n",
       "      <td>272.770808</td>\n",
       "      <td>3.975262e+07</td>\n",
       "      <td>2002.470517</td>\n",
       "      <td>1651.754473</td>\n",
       "      <td>6.442138</td>\n",
       "      <td>2.220403</td>\n",
       "      <td>7525.964505</td>\n",
       "    </tr>\n",
       "    <tr>\n",
       "      <th>std</th>\n",
       "      <td>121.601675</td>\n",
       "      <td>25.197441</td>\n",
       "      <td>2813.328607</td>\n",
       "      <td>1665.041728</td>\n",
       "      <td>15020.759120</td>\n",
       "      <td>6.845299e+07</td>\n",
       "      <td>1.384853e+05</td>\n",
       "      <td>18163.799124</td>\n",
       "      <td>2.013576</td>\n",
       "      <td>377.982886</td>\n",
       "      <td>2.061149e+08</td>\n",
       "      <td>12.474599</td>\n",
       "      <td>4042.438863</td>\n",
       "      <td>1.125116</td>\n",
       "      <td>1.385113</td>\n",
       "      <td>19320.445110</td>\n",
       "    </tr>\n",
       "    <tr>\n",
       "      <th>min</th>\n",
       "      <td>1.000000</td>\n",
       "      <td>7.000000</td>\n",
       "      <td>0.000000</td>\n",
       "      <td>0.000000</td>\n",
       "      <td>0.000000</td>\n",
       "      <td>1.620000e+02</td>\n",
       "      <td>5.000000e+00</td>\n",
       "      <td>0.000000</td>\n",
       "      <td>0.000000</td>\n",
       "      <td>1.000000</td>\n",
       "      <td>2.180000e+02</td>\n",
       "      <td>1916.000000</td>\n",
       "      <td>0.000000</td>\n",
       "      <td>1.600000</td>\n",
       "      <td>1.180000</td>\n",
       "      <td>0.000000</td>\n",
       "    </tr>\n",
       "    <tr>\n",
       "      <th>25%</th>\n",
       "      <td>50.000000</td>\n",
       "      <td>93.000000</td>\n",
       "      <td>7.000000</td>\n",
       "      <td>133.000000</td>\n",
       "      <td>614.000000</td>\n",
       "      <td>5.340988e+06</td>\n",
       "      <td>8.593500e+03</td>\n",
       "      <td>1411.000000</td>\n",
       "      <td>0.000000</td>\n",
       "      <td>65.000000</td>\n",
       "      <td>6.000000e+06</td>\n",
       "      <td>1999.000000</td>\n",
       "      <td>281.000000</td>\n",
       "      <td>5.800000</td>\n",
       "      <td>1.850000</td>\n",
       "      <td>0.000000</td>\n",
       "    </tr>\n",
       "    <tr>\n",
       "      <th>50%</th>\n",
       "      <td>110.000000</td>\n",
       "      <td>103.000000</td>\n",
       "      <td>49.000000</td>\n",
       "      <td>371.500000</td>\n",
       "      <td>988.000000</td>\n",
       "      <td>2.551750e+07</td>\n",
       "      <td>3.435900e+04</td>\n",
       "      <td>3090.000000</td>\n",
       "      <td>1.000000</td>\n",
       "      <td>156.000000</td>\n",
       "      <td>2.000000e+07</td>\n",
       "      <td>2005.000000</td>\n",
       "      <td>595.000000</td>\n",
       "      <td>6.600000</td>\n",
       "      <td>2.350000</td>\n",
       "      <td>166.000000</td>\n",
       "    </tr>\n",
       "    <tr>\n",
       "      <th>75%</th>\n",
       "      <td>195.000000</td>\n",
       "      <td>118.000000</td>\n",
       "      <td>194.500000</td>\n",
       "      <td>636.000000</td>\n",
       "      <td>11000.000000</td>\n",
       "      <td>6.230944e+07</td>\n",
       "      <td>9.630900e+04</td>\n",
       "      <td>13756.500000</td>\n",
       "      <td>2.000000</td>\n",
       "      <td>326.000000</td>\n",
       "      <td>4.500000e+07</td>\n",
       "      <td>2011.000000</td>\n",
       "      <td>918.000000</td>\n",
       "      <td>7.200000</td>\n",
       "      <td>2.350000</td>\n",
       "      <td>3000.000000</td>\n",
       "    </tr>\n",
       "    <tr>\n",
       "      <th>max</th>\n",
       "      <td>813.000000</td>\n",
       "      <td>511.000000</td>\n",
       "      <td>23000.000000</td>\n",
       "      <td>23000.000000</td>\n",
       "      <td>640000.000000</td>\n",
       "      <td>7.605058e+08</td>\n",
       "      <td>1.689764e+06</td>\n",
       "      <td>656730.000000</td>\n",
       "      <td>43.000000</td>\n",
       "      <td>5060.000000</td>\n",
       "      <td>1.221550e+10</td>\n",
       "      <td>2016.000000</td>\n",
       "      <td>137000.000000</td>\n",
       "      <td>9.500000</td>\n",
       "      <td>16.000000</td>\n",
       "      <td>349000.000000</td>\n",
       "    </tr>\n",
       "  </tbody>\n",
       "</table>\n",
       "</div>"
      ],
      "text/plain": [
       "       num_critic_for_reviews     duration  director_facebook_likes  \\\n",
       "count             4993.000000  5028.000000              4939.000000   \n",
       "mean               140.194272   107.201074               686.509212   \n",
       "std                121.601675    25.197441              2813.328607   \n",
       "min                  1.000000     7.000000                 0.000000   \n",
       "25%                 50.000000    93.000000                 7.000000   \n",
       "50%                110.000000   103.000000                49.000000   \n",
       "75%                195.000000   118.000000               194.500000   \n",
       "max                813.000000   511.000000             23000.000000   \n",
       "\n",
       "       actor_3_facebook_likes  actor_1_facebook_likes         gross  \\\n",
       "count             5020.000000             5036.000000  4.159000e+03   \n",
       "mean               645.009761             6560.047061  4.846841e+07   \n",
       "std               1665.041728            15020.759120  6.845299e+07   \n",
       "min                  0.000000                0.000000  1.620000e+02   \n",
       "25%                133.000000              614.000000  5.340988e+06   \n",
       "50%                371.500000              988.000000  2.551750e+07   \n",
       "75%                636.000000            11000.000000  6.230944e+07   \n",
       "max              23000.000000           640000.000000  7.605058e+08   \n",
       "\n",
       "       num_voted_users  cast_total_facebook_likes  facenumber_in_poster  \\\n",
       "count     5.043000e+03                5043.000000           5030.000000   \n",
       "mean      8.366816e+04                9699.063851              1.371173   \n",
       "std       1.384853e+05               18163.799124              2.013576   \n",
       "min       5.000000e+00                   0.000000              0.000000   \n",
       "25%       8.593500e+03                1411.000000              0.000000   \n",
       "50%       3.435900e+04                3090.000000              1.000000   \n",
       "75%       9.630900e+04               13756.500000              2.000000   \n",
       "max       1.689764e+06              656730.000000             43.000000   \n",
       "\n",
       "       num_user_for_reviews        budget   title_year  \\\n",
       "count           5022.000000  4.551000e+03  4935.000000   \n",
       "mean             272.770808  3.975262e+07  2002.470517   \n",
       "std              377.982886  2.061149e+08    12.474599   \n",
       "min                1.000000  2.180000e+02  1916.000000   \n",
       "25%               65.000000  6.000000e+06  1999.000000   \n",
       "50%              156.000000  2.000000e+07  2005.000000   \n",
       "75%              326.000000  4.500000e+07  2011.000000   \n",
       "max             5060.000000  1.221550e+10  2016.000000   \n",
       "\n",
       "       actor_2_facebook_likes   imdb_score  aspect_ratio  movie_facebook_likes  \n",
       "count             5030.000000  5043.000000   4714.000000           5043.000000  \n",
       "mean              1651.754473     6.442138      2.220403           7525.964505  \n",
       "std               4042.438863     1.125116      1.385113          19320.445110  \n",
       "min                  0.000000     1.600000      1.180000              0.000000  \n",
       "25%                281.000000     5.800000      1.850000              0.000000  \n",
       "50%                595.000000     6.600000      2.350000            166.000000  \n",
       "75%                918.000000     7.200000      2.350000           3000.000000  \n",
       "max             137000.000000     9.500000     16.000000         349000.000000  "
      ]
     },
     "execution_count": 6,
     "metadata": {},
     "output_type": "execute_result"
    }
   ],
   "source": [
    "imdb.describe()"
   ]
  },
  {
   "cell_type": "markdown",
   "metadata": {
    "id": "CF6HNqsePjoQ"
   },
   "source": [
    "### How many missing values per column?"
   ]
  },
  {
   "cell_type": "markdown",
   "metadata": {
    "id": "CdT0IlGaHfTT",
    "jp-MarkdownHeadingCollapsed": true,
    "tags": []
   },
   "source": [
    "#### Solution"
   ]
  },
  {
   "cell_type": "code",
   "execution_count": 7,
   "metadata": {
    "id": "O6sDTBqnZhpL"
   },
   "outputs": [
    {
     "data": {
      "text/plain": [
       "gross                        884\n",
       "budget                       492\n",
       "aspect_ratio                 329\n",
       "content_rating               303\n",
       "plot_keywords                153\n",
       "title_year                   108\n",
       "director_name                104\n",
       "director_facebook_likes      104\n",
       "num_critic_for_reviews        50\n",
       "actor_3_name                  23\n",
       "actor_3_facebook_likes        23\n",
       "num_user_for_reviews          21\n",
       "color                         19\n",
       "duration                      15\n",
       "facenumber_in_poster          13\n",
       "actor_2_name                  13\n",
       "actor_2_facebook_likes        13\n",
       "language                      12\n",
       "actor_1_name                   7\n",
       "actor_1_facebook_likes         7\n",
       "country                        5\n",
       "cast_total_facebook_likes      0\n",
       "num_voted_users                0\n",
       "movie_imdb_link                0\n",
       "genres                         0\n",
       "imdb_score                     0\n",
       "movie_facebook_likes           0\n",
       "dtype: int64"
      ]
     },
     "execution_count": 7,
     "metadata": {},
     "output_type": "execute_result"
    }
   ],
   "source": [
    "# Note the different format chaining the operations. Some people like this format better as it\n",
    "# is arguable more readable (recipe-like).\n",
    "(\n",
    "    imdb\n",
    "    .isnull()\n",
    "    .sum(axis=0)                    # axis=0 is the default. from bottom to value.\n",
    "    .sort_values(ascending=False)\n",
    ")"
   ]
  },
  {
   "cell_type": "markdown",
   "metadata": {
    "id": "5u8O-3pyQwyU",
    "tags": []
   },
   "source": [
    "### How many movies have 1, 2, 3, ..., N missing values (i.e., per row)?"
   ]
  },
  {
   "cell_type": "code",
   "execution_count": null,
   "metadata": {
    "id": "4k8w2qU7Ihnv"
   },
   "outputs": [],
   "source": []
  },
  {
   "cell_type": "markdown",
   "metadata": {
    "id": "VH72Sxd1HfTU",
    "jp-MarkdownHeadingCollapsed": true,
    "tags": []
   },
   "source": [
    "#### Solution"
   ]
  },
  {
   "cell_type": "code",
   "execution_count": 10,
   "metadata": {
    "id": "1AXT62GcZhpM"
   },
   "outputs": [
    {
     "data": {
      "text/plain": [
       "0     3756\n",
       "1      695\n",
       "2      268\n",
       "3      127\n",
       "5       70\n",
       "4       53\n",
       "6       36\n",
       "7       20\n",
       "8       11\n",
       "10       2\n",
       "11       2\n",
       "14       1\n",
       "15       1\n",
       "9        1\n",
       "dtype: int64"
      ]
     },
     "execution_count": 10,
     "metadata": {},
     "output_type": "execute_result"
    }
   ],
   "source": [
    "(\n",
    "  imdb\n",
    "  .isnull()\n",
    "  .sum(axis=1)\n",
    "  .value_counts()\n",
    ")"
   ]
  },
  {
   "cell_type": "code",
   "execution_count": 11,
   "metadata": {
    "id": "UvtxCtUbZhpM"
   },
   "outputs": [
    {
     "data": {
      "text/plain": [
       "0     0.744795\n",
       "1     0.137815\n",
       "2     0.053143\n",
       "3     0.025183\n",
       "5     0.013881\n",
       "4     0.010510\n",
       "6     0.007139\n",
       "7     0.003966\n",
       "8     0.002181\n",
       "10    0.000397\n",
       "11    0.000397\n",
       "14    0.000198\n",
       "15    0.000198\n",
       "9     0.000198\n",
       "dtype: float64"
      ]
     },
     "execution_count": 11,
     "metadata": {},
     "output_type": "execute_result"
    }
   ],
   "source": [
    "# Same as above, but displaying proportions.\n",
    "imdb.isnull().sum(axis=1).value_counts(normalize=True)"
   ]
  },
  {
   "cell_type": "markdown",
   "metadata": {
    "id": "-cSdbaxlgmdf"
   },
   "source": [
    "# Data cleaning"
   ]
  },
  {
   "cell_type": "markdown",
   "metadata": {
    "id": "B50dBvS9mtCg"
   },
   "source": [
    "### Based on our preliminary inspection we decide to drop movies with more than 4 `NaN`'s.\n",
    "- step 2"
   ]
  },
  {
   "cell_type": "code",
   "execution_count": null,
   "metadata": {
    "id": "6_EIac6mIjgj"
   },
   "outputs": [],
   "source": []
  },
  {
   "cell_type": "markdown",
   "metadata": {
    "id": "S0lsjGXuHfTV",
    "jp-MarkdownHeadingCollapsed": true,
    "tags": []
   },
   "source": [
    "#### Solution"
   ]
  },
  {
   "cell_type": "code",
   "execution_count": 18,
   "metadata": {
    "id": "l5UgxzRpzZtB"
   },
   "outputs": [
    {
     "data": {
      "text/html": [
       "<div>\n",
       "<style scoped>\n",
       "    .dataframe tbody tr th:only-of-type {\n",
       "        vertical-align: middle;\n",
       "    }\n",
       "\n",
       "    .dataframe tbody tr th {\n",
       "        vertical-align: top;\n",
       "    }\n",
       "\n",
       "    .dataframe thead th {\n",
       "        text-align: right;\n",
       "    }\n",
       "</style>\n",
       "<table border=\"1\" class=\"dataframe\">\n",
       "  <thead>\n",
       "    <tr style=\"text-align: right;\">\n",
       "      <th></th>\n",
       "      <th>color</th>\n",
       "      <th>director_name</th>\n",
       "      <th>duration</th>\n",
       "      <th>actor_2_name</th>\n",
       "      <th>gross</th>\n",
       "      <th>genres</th>\n",
       "      <th>actor_1_name</th>\n",
       "      <th>actor_3_name</th>\n",
       "      <th>plot_keywords</th>\n",
       "      <th>movie_imdb_link</th>\n",
       "      <th>language</th>\n",
       "      <th>country</th>\n",
       "      <th>content_rating</th>\n",
       "      <th>budget</th>\n",
       "      <th>title_year</th>\n",
       "      <th>imdb_score</th>\n",
       "      <th>aspect_ratio</th>\n",
       "    </tr>\n",
       "    <tr>\n",
       "      <th>movie_title</th>\n",
       "      <th></th>\n",
       "      <th></th>\n",
       "      <th></th>\n",
       "      <th></th>\n",
       "      <th></th>\n",
       "      <th></th>\n",
       "      <th></th>\n",
       "      <th></th>\n",
       "      <th></th>\n",
       "      <th></th>\n",
       "      <th></th>\n",
       "      <th></th>\n",
       "      <th></th>\n",
       "      <th></th>\n",
       "      <th></th>\n",
       "      <th></th>\n",
       "      <th></th>\n",
       "    </tr>\n",
       "  </thead>\n",
       "  <tbody>\n",
       "    <tr>\n",
       "      <th>Star Wars: Episode VII - The Force Awakens</th>\n",
       "      <td>NaN</td>\n",
       "      <td>Doug Walker</td>\n",
       "      <td>NaN</td>\n",
       "      <td>Rob Walker</td>\n",
       "      <td>NaN</td>\n",
       "      <td>Documentary</td>\n",
       "      <td>Doug Walker</td>\n",
       "      <td>NaN</td>\n",
       "      <td>NaN</td>\n",
       "      <td>http://www.imdb.com/title/tt5289954/?ref_=fn_t...</td>\n",
       "      <td>NaN</td>\n",
       "      <td>NaN</td>\n",
       "      <td>NaN</td>\n",
       "      <td>NaN</td>\n",
       "      <td>NaN</td>\n",
       "      <td>7.1</td>\n",
       "      <td>NaN</td>\n",
       "    </tr>\n",
       "    <tr>\n",
       "      <th>Harry Potter and the Deathly Hallows: Part II</th>\n",
       "      <td>Color</td>\n",
       "      <td>Matt Birch</td>\n",
       "      <td>NaN</td>\n",
       "      <td>Dave Legeno</td>\n",
       "      <td>NaN</td>\n",
       "      <td>Action|Fantasy</td>\n",
       "      <td>Rupert Grint</td>\n",
       "      <td>Ralph Ineson</td>\n",
       "      <td>NaN</td>\n",
       "      <td>http://www.imdb.com/title/tt1680310/?ref_=fn_t...</td>\n",
       "      <td>English</td>\n",
       "      <td>UK</td>\n",
       "      <td>NaN</td>\n",
       "      <td>NaN</td>\n",
       "      <td>2011.0</td>\n",
       "      <td>7.5</td>\n",
       "      <td>NaN</td>\n",
       "    </tr>\n",
       "    <tr>\n",
       "      <th>Harry Potter and the Deathly Hallows: Part I</th>\n",
       "      <td>Color</td>\n",
       "      <td>Matt Birch</td>\n",
       "      <td>NaN</td>\n",
       "      <td>Toby Jones</td>\n",
       "      <td>NaN</td>\n",
       "      <td>Fantasy</td>\n",
       "      <td>Rupert Grint</td>\n",
       "      <td>Alfred Enoch</td>\n",
       "      <td>NaN</td>\n",
       "      <td>http://www.imdb.com/title/tt1571403/?ref_=fn_t...</td>\n",
       "      <td>English</td>\n",
       "      <td>UK</td>\n",
       "      <td>NaN</td>\n",
       "      <td>NaN</td>\n",
       "      <td>2010.0</td>\n",
       "      <td>6.4</td>\n",
       "      <td>NaN</td>\n",
       "    </tr>\n",
       "    <tr>\n",
       "      <th>10,000 B.C.</th>\n",
       "      <td>NaN</td>\n",
       "      <td>Christopher Barnard</td>\n",
       "      <td>22.0</td>\n",
       "      <td>NaN</td>\n",
       "      <td>NaN</td>\n",
       "      <td>Comedy</td>\n",
       "      <td>Mathew Buck</td>\n",
       "      <td>NaN</td>\n",
       "      <td>NaN</td>\n",
       "      <td>http://www.imdb.com/title/tt1869849/?ref_=fn_t...</td>\n",
       "      <td>NaN</td>\n",
       "      <td>NaN</td>\n",
       "      <td>NaN</td>\n",
       "      <td>NaN</td>\n",
       "      <td>NaN</td>\n",
       "      <td>7.2</td>\n",
       "      <td>NaN</td>\n",
       "    </tr>\n",
       "    <tr>\n",
       "      <th>Daredevil</th>\n",
       "      <td>NaN</td>\n",
       "      <td>NaN</td>\n",
       "      <td>54.0</td>\n",
       "      <td>Royce Johnson</td>\n",
       "      <td>NaN</td>\n",
       "      <td>Action|Adventure|Crime|Drama|Sci-Fi|Thriller</td>\n",
       "      <td>Elden Henson</td>\n",
       "      <td>Charlie Cox</td>\n",
       "      <td>corruption|lawyer|partnership|superhero|vigilante</td>\n",
       "      <td>http://www.imdb.com/title/tt3322312/?ref_=fn_t...</td>\n",
       "      <td>English</td>\n",
       "      <td>USA</td>\n",
       "      <td>TV-MA</td>\n",
       "      <td>NaN</td>\n",
       "      <td>NaN</td>\n",
       "      <td>8.8</td>\n",
       "      <td>16.00</td>\n",
       "    </tr>\n",
       "    <tr>\n",
       "      <th>...</th>\n",
       "      <td>...</td>\n",
       "      <td>...</td>\n",
       "      <td>...</td>\n",
       "      <td>...</td>\n",
       "      <td>...</td>\n",
       "      <td>...</td>\n",
       "      <td>...</td>\n",
       "      <td>...</td>\n",
       "      <td>...</td>\n",
       "      <td>...</td>\n",
       "      <td>...</td>\n",
       "      <td>...</td>\n",
       "      <td>...</td>\n",
       "      <td>...</td>\n",
       "      <td>...</td>\n",
       "      <td>...</td>\n",
       "      <td>...</td>\n",
       "    </tr>\n",
       "    <tr>\n",
       "      <th>The Blood of My Brother</th>\n",
       "      <td>Color</td>\n",
       "      <td>Andrew Berends</td>\n",
       "      <td>90.0</td>\n",
       "      <td>NaN</td>\n",
       "      <td>NaN</td>\n",
       "      <td>Documentary|War</td>\n",
       "      <td>NaN</td>\n",
       "      <td>NaN</td>\n",
       "      <td>american|blood|dream|patrol|tank</td>\n",
       "      <td>http://www.imdb.com/title/tt0488873/?ref_=fn_t...</td>\n",
       "      <td>English</td>\n",
       "      <td>USA</td>\n",
       "      <td>NaN</td>\n",
       "      <td>120000.0</td>\n",
       "      <td>2005.0</td>\n",
       "      <td>6.6</td>\n",
       "      <td>1.66</td>\n",
       "    </tr>\n",
       "    <tr>\n",
       "      <th>Romantic Schemer</th>\n",
       "      <td>Color</td>\n",
       "      <td>Valentine</td>\n",
       "      <td>NaN</td>\n",
       "      <td>Valentine</td>\n",
       "      <td>NaN</td>\n",
       "      <td>Romance</td>\n",
       "      <td>Diane Sorrentino</td>\n",
       "      <td>NaN</td>\n",
       "      <td>NaN</td>\n",
       "      <td>http://www.imdb.com/title/tt4607906/?ref_=fn_t...</td>\n",
       "      <td>English</td>\n",
       "      <td>USA</td>\n",
       "      <td>PG-13</td>\n",
       "      <td>125000.0</td>\n",
       "      <td>2015.0</td>\n",
       "      <td>5.1</td>\n",
       "      <td>NaN</td>\n",
       "    </tr>\n",
       "    <tr>\n",
       "      <th>The Naked Ape</th>\n",
       "      <td>Color</td>\n",
       "      <td>Daniel Mellitz</td>\n",
       "      <td>NaN</td>\n",
       "      <td>Chelse Swain</td>\n",
       "      <td>NaN</td>\n",
       "      <td>Comedy|Drama</td>\n",
       "      <td>Corbin Bernsen</td>\n",
       "      <td>Amanda MacDonald</td>\n",
       "      <td>coming of age|male nudity|road trip|skinny dip...</td>\n",
       "      <td>http://www.imdb.com/title/tt0381053/?ref_=fn_t...</td>\n",
       "      <td>English</td>\n",
       "      <td>USA</td>\n",
       "      <td>NaN</td>\n",
       "      <td>NaN</td>\n",
       "      <td>2006.0</td>\n",
       "      <td>4.7</td>\n",
       "      <td>NaN</td>\n",
       "    </tr>\n",
       "    <tr>\n",
       "      <th>Counting</th>\n",
       "      <td>Color</td>\n",
       "      <td>Jem Cohen</td>\n",
       "      <td>111.0</td>\n",
       "      <td>NaN</td>\n",
       "      <td>NaN</td>\n",
       "      <td>Documentary</td>\n",
       "      <td>NaN</td>\n",
       "      <td>NaN</td>\n",
       "      <td>city|city symphony|diary|essay|surveillance</td>\n",
       "      <td>http://www.imdb.com/title/tt4462082/?ref_=fn_t...</td>\n",
       "      <td>English</td>\n",
       "      <td>USA</td>\n",
       "      <td>NaN</td>\n",
       "      <td>50000.0</td>\n",
       "      <td>2015.0</td>\n",
       "      <td>6.0</td>\n",
       "      <td>1.78</td>\n",
       "    </tr>\n",
       "    <tr>\n",
       "      <th>Bending Steel</th>\n",
       "      <td>Color</td>\n",
       "      <td>Dave Carroll</td>\n",
       "      <td>92.0</td>\n",
       "      <td>NaN</td>\n",
       "      <td>NaN</td>\n",
       "      <td>Documentary</td>\n",
       "      <td>Chris 'Wonder' Schoeck</td>\n",
       "      <td>NaN</td>\n",
       "      <td>NaN</td>\n",
       "      <td>http://www.imdb.com/title/tt2181837/?ref_=fn_t...</td>\n",
       "      <td>English</td>\n",
       "      <td>USA</td>\n",
       "      <td>NaN</td>\n",
       "      <td>50000.0</td>\n",
       "      <td>2013.0</td>\n",
       "      <td>7.9</td>\n",
       "      <td>16.00</td>\n",
       "    </tr>\n",
       "  </tbody>\n",
       "</table>\n",
       "<p>74 rows × 17 columns</p>\n",
       "</div>"
      ],
      "text/plain": [
       "                                                    color  \\\n",
       "movie_title                                                 \n",
       "Star Wars: Episode VII - The Force Awakens     ...    NaN   \n",
       "Harry Potter and the Deathly Hallows: Part II       Color   \n",
       "Harry Potter and the Deathly Hallows: Part I        Color   \n",
       "10,000 B.C.                                           NaN   \n",
       "Daredevil                                             NaN   \n",
       "...                                                   ...   \n",
       "The Blood of My Brother                             Color   \n",
       "Romantic Schemer                                    Color   \n",
       "The Naked Ape                                       Color   \n",
       "Counting                                            Color   \n",
       "Bending Steel                                       Color   \n",
       "\n",
       "                                                          director_name  \\\n",
       "movie_title                                                               \n",
       "Star Wars: Episode VII - The Force Awakens     ...          Doug Walker   \n",
       "Harry Potter and the Deathly Hallows: Part II                Matt Birch   \n",
       "Harry Potter and the Deathly Hallows: Part I                 Matt Birch   \n",
       "10,000 B.C.                                         Christopher Barnard   \n",
       "Daredevil                                                           NaN   \n",
       "...                                                                 ...   \n",
       "The Blood of My Brother                                  Andrew Berends   \n",
       "Romantic Schemer                                              Valentine   \n",
       "The Naked Ape                                            Daniel Mellitz   \n",
       "Counting                                                      Jem Cohen   \n",
       "Bending Steel                                              Dave Carroll   \n",
       "\n",
       "                                                    duration   actor_2_name  \\\n",
       "movie_title                                                                   \n",
       "Star Wars: Episode VII - The Force Awakens     ...       NaN     Rob Walker   \n",
       "Harry Potter and the Deathly Hallows: Part II            NaN    Dave Legeno   \n",
       "Harry Potter and the Deathly Hallows: Part I             NaN     Toby Jones   \n",
       "10,000 B.C.                                             22.0            NaN   \n",
       "Daredevil                                               54.0  Royce Johnson   \n",
       "...                                                      ...            ...   \n",
       "The Blood of My Brother                                 90.0            NaN   \n",
       "Romantic Schemer                                         NaN      Valentine   \n",
       "The Naked Ape                                            NaN   Chelse Swain   \n",
       "Counting                                               111.0            NaN   \n",
       "Bending Steel                                           92.0            NaN   \n",
       "\n",
       "                                                    gross  \\\n",
       "movie_title                                                 \n",
       "Star Wars: Episode VII - The Force Awakens     ...    NaN   \n",
       "Harry Potter and the Deathly Hallows: Part II         NaN   \n",
       "Harry Potter and the Deathly Hallows: Part I          NaN   \n",
       "10,000 B.C.                                           NaN   \n",
       "Daredevil                                             NaN   \n",
       "...                                                   ...   \n",
       "The Blood of My Brother                               NaN   \n",
       "Romantic Schemer                                      NaN   \n",
       "The Naked Ape                                         NaN   \n",
       "Counting                                              NaN   \n",
       "Bending Steel                                         NaN   \n",
       "\n",
       "                                                                                          genres  \\\n",
       "movie_title                                                                                        \n",
       "Star Wars: Episode VII - The Force Awakens     ...                                   Documentary   \n",
       "Harry Potter and the Deathly Hallows: Part II                                     Action|Fantasy   \n",
       "Harry Potter and the Deathly Hallows: Part I                                             Fantasy   \n",
       "10,000 B.C.                                                                               Comedy   \n",
       "Daredevil                                           Action|Adventure|Crime|Drama|Sci-Fi|Thriller   \n",
       "...                                                                                          ...   \n",
       "The Blood of My Brother                                                          Documentary|War   \n",
       "Romantic Schemer                                                                         Romance   \n",
       "The Naked Ape                                                                       Comedy|Drama   \n",
       "Counting                                                                             Documentary   \n",
       "Bending Steel                                                                        Documentary   \n",
       "\n",
       "                                                              actor_1_name  \\\n",
       "movie_title                                                                  \n",
       "Star Wars: Episode VII - The Force Awakens     ...             Doug Walker   \n",
       "Harry Potter and the Deathly Hallows: Part II                 Rupert Grint   \n",
       "Harry Potter and the Deathly Hallows: Part I                  Rupert Grint   \n",
       "10,000 B.C.                                                    Mathew Buck   \n",
       "Daredevil                                                     Elden Henson   \n",
       "...                                                                    ...   \n",
       "The Blood of My Brother                                                NaN   \n",
       "Romantic Schemer                                          Diane Sorrentino   \n",
       "The Naked Ape                                               Corbin Bernsen   \n",
       "Counting                                                               NaN   \n",
       "Bending Steel                                       Chris 'Wonder' Schoeck   \n",
       "\n",
       "                                                        actor_3_name  \\\n",
       "movie_title                                                            \n",
       "Star Wars: Episode VII - The Force Awakens     ...               NaN   \n",
       "Harry Potter and the Deathly Hallows: Part II           Ralph Ineson   \n",
       "Harry Potter and the Deathly Hallows: Part I            Alfred Enoch   \n",
       "10,000 B.C.                                                      NaN   \n",
       "Daredevil                                                Charlie Cox   \n",
       "...                                                              ...   \n",
       "The Blood of My Brother                                          NaN   \n",
       "Romantic Schemer                                                 NaN   \n",
       "The Naked Ape                                       Amanda MacDonald   \n",
       "Counting                                                         NaN   \n",
       "Bending Steel                                                    NaN   \n",
       "\n",
       "                                                                                        plot_keywords  \\\n",
       "movie_title                                                                                             \n",
       "Star Wars: Episode VII - The Force Awakens     ...                                                NaN   \n",
       "Harry Potter and the Deathly Hallows: Part II                                                     NaN   \n",
       "Harry Potter and the Deathly Hallows: Part I                                                      NaN   \n",
       "10,000 B.C.                                                                                       NaN   \n",
       "Daredevil                                           corruption|lawyer|partnership|superhero|vigilante   \n",
       "...                                                                                               ...   \n",
       "The Blood of My Brother                                              american|blood|dream|patrol|tank   \n",
       "Romantic Schemer                                                                                  NaN   \n",
       "The Naked Ape                                       coming of age|male nudity|road trip|skinny dip...   \n",
       "Counting                                                  city|city symphony|diary|essay|surveillance   \n",
       "Bending Steel                                                                                     NaN   \n",
       "\n",
       "                                                                                      movie_imdb_link  \\\n",
       "movie_title                                                                                             \n",
       "Star Wars: Episode VII - The Force Awakens     ...  http://www.imdb.com/title/tt5289954/?ref_=fn_t...   \n",
       "Harry Potter and the Deathly Hallows: Part II       http://www.imdb.com/title/tt1680310/?ref_=fn_t...   \n",
       "Harry Potter and the Deathly Hallows: Part I        http://www.imdb.com/title/tt1571403/?ref_=fn_t...   \n",
       "10,000 B.C.                                         http://www.imdb.com/title/tt1869849/?ref_=fn_t...   \n",
       "Daredevil                                           http://www.imdb.com/title/tt3322312/?ref_=fn_t...   \n",
       "...                                                                                               ...   \n",
       "The Blood of My Brother                             http://www.imdb.com/title/tt0488873/?ref_=fn_t...   \n",
       "Romantic Schemer                                    http://www.imdb.com/title/tt4607906/?ref_=fn_t...   \n",
       "The Naked Ape                                       http://www.imdb.com/title/tt0381053/?ref_=fn_t...   \n",
       "Counting                                            http://www.imdb.com/title/tt4462082/?ref_=fn_t...   \n",
       "Bending Steel                                       http://www.imdb.com/title/tt2181837/?ref_=fn_t...   \n",
       "\n",
       "                                                   language country  \\\n",
       "movie_title                                                           \n",
       "Star Wars: Episode VII - The Force Awakens     ...      NaN     NaN   \n",
       "Harry Potter and the Deathly Hallows: Part II       English      UK   \n",
       "Harry Potter and the Deathly Hallows: Part I        English      UK   \n",
       "10,000 B.C.                                             NaN     NaN   \n",
       "Daredevil                                           English     USA   \n",
       "...                                                     ...     ...   \n",
       "The Blood of My Brother                             English     USA   \n",
       "Romantic Schemer                                    English     USA   \n",
       "The Naked Ape                                       English     USA   \n",
       "Counting                                            English     USA   \n",
       "Bending Steel                                       English     USA   \n",
       "\n",
       "                                                   content_rating    budget  \\\n",
       "movie_title                                                                   \n",
       "Star Wars: Episode VII - The Force Awakens     ...            NaN       NaN   \n",
       "Harry Potter and the Deathly Hallows: Part II                 NaN       NaN   \n",
       "Harry Potter and the Deathly Hallows: Part I                  NaN       NaN   \n",
       "10,000 B.C.                                                   NaN       NaN   \n",
       "Daredevil                                                   TV-MA       NaN   \n",
       "...                                                           ...       ...   \n",
       "The Blood of My Brother                                       NaN  120000.0   \n",
       "Romantic Schemer                                            PG-13  125000.0   \n",
       "The Naked Ape                                                 NaN       NaN   \n",
       "Counting                                                      NaN   50000.0   \n",
       "Bending Steel                                                 NaN   50000.0   \n",
       "\n",
       "                                                    title_year  imdb_score  \\\n",
       "movie_title                                                                  \n",
       "Star Wars: Episode VII - The Force Awakens     ...         NaN         7.1   \n",
       "Harry Potter and the Deathly Hallows: Part II           2011.0         7.5   \n",
       "Harry Potter and the Deathly Hallows: Part I            2010.0         6.4   \n",
       "10,000 B.C.                                                NaN         7.2   \n",
       "Daredevil                                                  NaN         8.8   \n",
       "...                                                        ...         ...   \n",
       "The Blood of My Brother                                 2005.0         6.6   \n",
       "Romantic Schemer                                        2015.0         5.1   \n",
       "The Naked Ape                                           2006.0         4.7   \n",
       "Counting                                                2015.0         6.0   \n",
       "Bending Steel                                           2013.0         7.9   \n",
       "\n",
       "                                                    aspect_ratio  \n",
       "movie_title                                                       \n",
       "Star Wars: Episode VII - The Force Awakens     ...           NaN  \n",
       "Harry Potter and the Deathly Hallows: Part II                NaN  \n",
       "Harry Potter and the Deathly Hallows: Part I                 NaN  \n",
       "10,000 B.C.                                                  NaN  \n",
       "Daredevil                                                  16.00  \n",
       "...                                                          ...  \n",
       "The Blood of My Brother                                     1.66  \n",
       "Romantic Schemer                                             NaN  \n",
       "The Naked Ape                                                NaN  \n",
       "Counting                                                    1.78  \n",
       "Bending Steel                                              16.00  \n",
       "\n",
       "[74 rows x 17 columns]"
      ]
     },
     "execution_count": 18,
     "metadata": {},
     "output_type": "execute_result"
    }
   ],
   "source": [
    "imdb[imdb.isnull().sum(axis=1) > 4]"
   ]
  },
  {
   "cell_type": "code",
   "execution_count": 19,
   "metadata": {
    "id": "tLOgqk1nV1mQ"
   },
   "outputs": [
    {
     "data": {
      "text/plain": [
       "74"
      ]
     },
     "execution_count": 19,
     "metadata": {},
     "output_type": "execute_result"
    }
   ],
   "source": [
    "# How many rows will remain after we do the cleanup?\n",
    "\n",
    "len(\n",
    "    imdb[imdb.isnull().sum(axis=1) > 4]\n",
    ")\n",
    "\n",
    "# Another option:\n",
    "# (imdb.isnull().sum(axis=1) > 4).sum()"
   ]
  },
  {
   "cell_type": "code",
   "execution_count": 21,
   "metadata": {
    "id": "LP2u58XHnvJW"
   },
   "outputs": [],
   "source": [
    "imdb = imdb[imdb.isnull().sum(axis=1) <= 4]"
   ]
  },
  {
   "cell_type": "code",
   "execution_count": 22,
   "metadata": {},
   "outputs": [
    {
     "data": {
      "text/plain": [
       "4969"
      ]
     },
     "execution_count": 22,
     "metadata": {},
     "output_type": "execute_result"
    }
   ],
   "source": [
    "5043-74"
   ]
  },
  {
   "cell_type": "code",
   "execution_count": 23,
   "metadata": {},
   "outputs": [
    {
     "data": {
      "text/plain": [
       "(4969, 17)"
      ]
     },
     "execution_count": 23,
     "metadata": {},
     "output_type": "execute_result"
    }
   ],
   "source": [
    "imdb.shape"
   ]
  },
  {
   "cell_type": "markdown",
   "metadata": {
    "id": "b8YcjhOBn6sV"
   },
   "source": [
    "### [optional] We decide that some columns are not important for our analysis, and we remove all the columns, whose name contains the words 'facebook' or 'num'.\n",
    "step 1"
   ]
  },
  {
   "cell_type": "markdown",
   "metadata": {
    "id": "rqhaEb3CHfTX",
    "jp-MarkdownHeadingCollapsed": true,
    "tags": []
   },
   "source": [
    "#### Solution"
   ]
  },
  {
   "cell_type": "code",
   "execution_count": 13,
   "metadata": {
    "id": "DnFxoPemZhpP"
   },
   "outputs": [
    {
     "data": {
      "text/plain": [
       "Index(['color', 'director_name', 'num_critic_for_reviews', 'duration',\n",
       "       'director_facebook_likes', 'actor_3_facebook_likes', 'actor_2_name',\n",
       "       'actor_1_facebook_likes', 'gross', 'genres', 'actor_1_name',\n",
       "       'num_voted_users', 'cast_total_facebook_likes', 'actor_3_name',\n",
       "       'facenumber_in_poster', 'plot_keywords', 'movie_imdb_link',\n",
       "       'num_user_for_reviews', 'language', 'country', 'content_rating',\n",
       "       'budget', 'title_year', 'actor_2_facebook_likes', 'imdb_score',\n",
       "       'aspect_ratio', 'movie_facebook_likes'],\n",
       "      dtype='object')"
      ]
     },
     "execution_count": 13,
     "metadata": {},
     "output_type": "execute_result"
    }
   ],
   "source": [
    "imdb.columns"
   ]
  },
  {
   "cell_type": "code",
   "execution_count": 14,
   "metadata": {
    "id": "yqsCLkm6ZhpQ"
   },
   "outputs": [
    {
     "data": {
      "text/plain": [
       "array([False, False,  True, False,  True,  True, False,  True, False,\n",
       "       False, False,  True,  True, False,  True, False, False,  True,\n",
       "       False, False, False, False, False,  True, False, False,  True])"
      ]
     },
     "execution_count": 14,
     "metadata": {},
     "output_type": "execute_result"
    }
   ],
   "source": [
    "# Columns containing the strings \"facebook\" or \"num\"\n",
    "imdb.columns.str.contains(r\"facebook|num\", case=False, regex=True)"
   ]
  },
  {
   "cell_type": "code",
   "execution_count": 15,
   "metadata": {
    "id": "u2RCZvkqW9zZ"
   },
   "outputs": [
    {
     "data": {
      "text/plain": [
       "array([ True,  True, False,  True, False, False,  True, False,  True,\n",
       "        True,  True, False, False,  True, False,  True,  True, False,\n",
       "        True,  True,  True,  True,  True, False,  True,  True, False])"
      ]
     },
     "execution_count": 15,
     "metadata": {},
     "output_type": "execute_result"
    }
   ],
   "source": [
    "# Columns NOT containing the string \"facebook\" or \"num\". We want to keep these columns.\n",
    "~imdb.columns.str.contains(r\"facebook|num\", case=False, regex=True)"
   ]
  },
  {
   "cell_type": "code",
   "execution_count": 16,
   "metadata": {
    "id": "1wHFDJQ1ZhpQ"
   },
   "outputs": [
    {
     "data": {
      "text/plain": [
       "Index(['color', 'director_name', 'duration', 'actor_2_name', 'gross', 'genres',\n",
       "       'actor_1_name', 'actor_3_name', 'plot_keywords', 'movie_imdb_link',\n",
       "       'language', 'country', 'content_rating', 'budget', 'title_year',\n",
       "       'imdb_score', 'aspect_ratio'],\n",
       "      dtype='object')"
      ]
     },
     "execution_count": 16,
     "metadata": {},
     "output_type": "execute_result"
    }
   ],
   "source": [
    "_cols_to_keep = imdb.columns[(~imdb.columns.str.contains(\"facebook\", case=False)) & (~imdb.columns.str.contains(\"num\", case=False))]\n",
    "# Using regex:\n",
    "# _cols_to_keep = imdb.columns[~imdb.columns.str.contains(r\"facebook|num\", case=False, regex=True)]\n",
    "_cols_to_keep"
   ]
  },
  {
   "cell_type": "code",
   "execution_count": 17,
   "metadata": {
    "id": "3t68UgiRZhpR"
   },
   "outputs": [
    {
     "data": {
      "text/plain": [
       "Index(['color', 'director_name', 'duration', 'actor_2_name', 'gross', 'genres',\n",
       "       'actor_1_name', 'actor_3_name', 'plot_keywords', 'movie_imdb_link',\n",
       "       'language', 'country', 'content_rating', 'budget', 'title_year',\n",
       "       'imdb_score', 'aspect_ratio'],\n",
       "      dtype='object')"
      ]
     },
     "execution_count": 17,
     "metadata": {},
     "output_type": "execute_result"
    }
   ],
   "source": [
    "imdb = imdb.loc[:, _cols_to_keep]\n",
    "imdb.columns"
   ]
  },
  {
   "cell_type": "markdown",
   "metadata": {
    "id": "scFAsY9Rv-h2",
    "tags": []
   },
   "source": [
    "### Remove duplicates in the data. Be carefull with what you consider a duplicate."
   ]
  },
  {
   "cell_type": "code",
   "execution_count": null,
   "metadata": {
    "id": "3KRMI2U8Ilbo"
   },
   "outputs": [],
   "source": []
  },
  {
   "cell_type": "markdown",
   "metadata": {
    "id": "qLKhXur-HfTX",
    "jp-MarkdownHeadingCollapsed": true,
    "tags": []
   },
   "source": [
    "#### Solution"
   ]
  },
  {
   "cell_type": "code",
   "execution_count": 24,
   "metadata": {
    "id": "3A7XmZ-EZhpT"
   },
   "outputs": [
    {
     "data": {
      "text/plain": [
       "King Kong                   3\n",
       "Ben-Hur                     3\n",
       "Halloween                   3\n",
       "Pan                         3\n",
       "The Fast and the Furious    3\n",
       "                           ..\n",
       "The Five-Year Engagement    1\n",
       "Little Black Book           1\n",
       "Sanctum                     1\n",
       "Deliver Us from Evil        1\n",
       "My Date with Drew           1\n",
       "Name: movie_title, Length: 4843, dtype: int64"
      ]
     },
     "execution_count": 24,
     "metadata": {},
     "output_type": "execute_result"
    }
   ],
   "source": [
    "imdb.index.value_counts()\n",
    "# Are movies with the same name necessarily duplicates?"
   ]
  },
  {
   "cell_type": "code",
   "execution_count": 27,
   "metadata": {
    "id": "nrKTqs8XakPE"
   },
   "outputs": [
    {
     "data": {
      "text/html": [
       "<div>\n",
       "<style scoped>\n",
       "    .dataframe tbody tr th:only-of-type {\n",
       "        vertical-align: middle;\n",
       "    }\n",
       "\n",
       "    .dataframe tbody tr th {\n",
       "        vertical-align: top;\n",
       "    }\n",
       "\n",
       "    .dataframe thead th {\n",
       "        text-align: right;\n",
       "    }\n",
       "</style>\n",
       "<table border=\"1\" class=\"dataframe\">\n",
       "  <thead>\n",
       "    <tr style=\"text-align: right;\">\n",
       "      <th></th>\n",
       "      <th>movie_title</th>\n",
       "      <th>color</th>\n",
       "      <th>director_name</th>\n",
       "      <th>duration</th>\n",
       "      <th>actor_2_name</th>\n",
       "      <th>gross</th>\n",
       "      <th>genres</th>\n",
       "      <th>actor_1_name</th>\n",
       "      <th>actor_3_name</th>\n",
       "      <th>plot_keywords</th>\n",
       "      <th>movie_imdb_link</th>\n",
       "      <th>language</th>\n",
       "      <th>country</th>\n",
       "      <th>content_rating</th>\n",
       "      <th>budget</th>\n",
       "      <th>title_year</th>\n",
       "      <th>imdb_score</th>\n",
       "      <th>aspect_ratio</th>\n",
       "    </tr>\n",
       "  </thead>\n",
       "  <tbody>\n",
       "    <tr>\n",
       "      <th>227</th>\n",
       "      <td>20,000 Leagues Under the Sea</td>\n",
       "      <td>Color</td>\n",
       "      <td>Richard Fleischer</td>\n",
       "      <td>127.0</td>\n",
       "      <td>Robert J. Wilke</td>\n",
       "      <td>NaN</td>\n",
       "      <td>Adventure|Drama|Family|Fantasy|Sci-Fi</td>\n",
       "      <td>James Mason</td>\n",
       "      <td>Paul Lukas</td>\n",
       "      <td>captain|expedition|sea|submarine|whale</td>\n",
       "      <td>http://www.imdb.com/title/tt0046672/?ref_=fn_t...</td>\n",
       "      <td>English</td>\n",
       "      <td>USA</td>\n",
       "      <td>Approved</td>\n",
       "      <td>5000000.0</td>\n",
       "      <td>1954.0</td>\n",
       "      <td>7.2</td>\n",
       "      <td>1.37</td>\n",
       "    </tr>\n",
       "    <tr>\n",
       "      <th>177</th>\n",
       "      <td>20,000 Leagues Under the Sea</td>\n",
       "      <td>Color</td>\n",
       "      <td>Richard Fleischer</td>\n",
       "      <td>127.0</td>\n",
       "      <td>Robert J. Wilke</td>\n",
       "      <td>NaN</td>\n",
       "      <td>Adventure|Drama|Family|Fantasy|Sci-Fi</td>\n",
       "      <td>James Mason</td>\n",
       "      <td>Paul Lukas</td>\n",
       "      <td>captain|expedition|sea|submarine|whale</td>\n",
       "      <td>http://www.imdb.com/title/tt0046672/?ref_=fn_t...</td>\n",
       "      <td>English</td>\n",
       "      <td>USA</td>\n",
       "      <td>Approved</td>\n",
       "      <td>5000000.0</td>\n",
       "      <td>1954.0</td>\n",
       "      <td>7.2</td>\n",
       "      <td>1.37</td>\n",
       "    </tr>\n",
       "    <tr>\n",
       "      <th>233</th>\n",
       "      <td>A Dog's Breakfast</td>\n",
       "      <td>Color</td>\n",
       "      <td>David Hewlett</td>\n",
       "      <td>88.0</td>\n",
       "      <td>David Hewlett</td>\n",
       "      <td>NaN</td>\n",
       "      <td>Comedy</td>\n",
       "      <td>Christopher Judge</td>\n",
       "      <td>Paul McGillion</td>\n",
       "      <td>dog|vegetarian</td>\n",
       "      <td>http://www.imdb.com/title/tt0796314/?ref_=fn_t...</td>\n",
       "      <td>English</td>\n",
       "      <td>Canada</td>\n",
       "      <td>NaN</td>\n",
       "      <td>120000.0</td>\n",
       "      <td>2007.0</td>\n",
       "      <td>7.0</td>\n",
       "      <td>1.78</td>\n",
       "    </tr>\n",
       "    <tr>\n",
       "      <th>232</th>\n",
       "      <td>A Dog's Breakfast</td>\n",
       "      <td>Color</td>\n",
       "      <td>David Hewlett</td>\n",
       "      <td>88.0</td>\n",
       "      <td>David Hewlett</td>\n",
       "      <td>NaN</td>\n",
       "      <td>Comedy</td>\n",
       "      <td>Christopher Judge</td>\n",
       "      <td>Paul McGillion</td>\n",
       "      <td>dog|vegetarian</td>\n",
       "      <td>http://www.imdb.com/title/tt0796314/?ref_=fn_t...</td>\n",
       "      <td>English</td>\n",
       "      <td>Canada</td>\n",
       "      <td>NaN</td>\n",
       "      <td>120000.0</td>\n",
       "      <td>2007.0</td>\n",
       "      <td>7.0</td>\n",
       "      <td>1.78</td>\n",
       "    </tr>\n",
       "    <tr>\n",
       "      <th>203</th>\n",
       "      <td>A Nightmare on Elm Street</td>\n",
       "      <td>Color</td>\n",
       "      <td>Wes Craven</td>\n",
       "      <td>101.0</td>\n",
       "      <td>Lin Shaye</td>\n",
       "      <td>26505000.0</td>\n",
       "      <td>Horror</td>\n",
       "      <td>Johnny Depp</td>\n",
       "      <td>Amanda Wyss</td>\n",
       "      <td>freddy krueger|lucid dream|serial killer|slash...</td>\n",
       "      <td>http://www.imdb.com/title/tt0087800/?ref_=fn_t...</td>\n",
       "      <td>English</td>\n",
       "      <td>USA</td>\n",
       "      <td>X</td>\n",
       "      <td>1800000.0</td>\n",
       "      <td>1984.0</td>\n",
       "      <td>7.5</td>\n",
       "      <td>1.85</td>\n",
       "    </tr>\n",
       "    <tr>\n",
       "      <th>...</th>\n",
       "      <td>...</td>\n",
       "      <td>...</td>\n",
       "      <td>...</td>\n",
       "      <td>...</td>\n",
       "      <td>...</td>\n",
       "      <td>...</td>\n",
       "      <td>...</td>\n",
       "      <td>...</td>\n",
       "      <td>...</td>\n",
       "      <td>...</td>\n",
       "      <td>...</td>\n",
       "      <td>...</td>\n",
       "      <td>...</td>\n",
       "      <td>...</td>\n",
       "      <td>...</td>\n",
       "      <td>...</td>\n",
       "      <td>...</td>\n",
       "      <td>...</td>\n",
       "    </tr>\n",
       "    <tr>\n",
       "      <th>59</th>\n",
       "      <td>Victor Frankenstein</td>\n",
       "      <td>Color</td>\n",
       "      <td>Paul McGuigan</td>\n",
       "      <td>110.0</td>\n",
       "      <td>Spencer Wilding</td>\n",
       "      <td>5773519.0</td>\n",
       "      <td>Drama|Horror|Sci-Fi|Thriller</td>\n",
       "      <td>Daniel Radcliffe</td>\n",
       "      <td>Daniel Mays</td>\n",
       "      <td>assistant|experiment|frankenstein|medical stud...</td>\n",
       "      <td>http://www.imdb.com/title/tt1976009/?ref_=fn_t...</td>\n",
       "      <td>English</td>\n",
       "      <td>USA</td>\n",
       "      <td>PG-13</td>\n",
       "      <td>40000000.0</td>\n",
       "      <td>2015.0</td>\n",
       "      <td>6.0</td>\n",
       "      <td>2.35</td>\n",
       "    </tr>\n",
       "    <tr>\n",
       "      <th>104</th>\n",
       "      <td>Victor Frankenstein</td>\n",
       "      <td>Color</td>\n",
       "      <td>Paul McGuigan</td>\n",
       "      <td>110.0</td>\n",
       "      <td>Spencer Wilding</td>\n",
       "      <td>5773519.0</td>\n",
       "      <td>Drama|Horror|Sci-Fi|Thriller</td>\n",
       "      <td>Daniel Radcliffe</td>\n",
       "      <td>Daniel Mays</td>\n",
       "      <td>assistant|experiment|frankenstein|medical stud...</td>\n",
       "      <td>http://www.imdb.com/title/tt1976009/?ref_=fn_t...</td>\n",
       "      <td>English</td>\n",
       "      <td>USA</td>\n",
       "      <td>PG-13</td>\n",
       "      <td>40000000.0</td>\n",
       "      <td>2015.0</td>\n",
       "      <td>6.0</td>\n",
       "      <td>2.35</td>\n",
       "    </tr>\n",
       "    <tr>\n",
       "      <th>64</th>\n",
       "      <td>Victor Frankenstein</td>\n",
       "      <td>Color</td>\n",
       "      <td>Paul McGuigan</td>\n",
       "      <td>110.0</td>\n",
       "      <td>Spencer Wilding</td>\n",
       "      <td>5773519.0</td>\n",
       "      <td>Drama|Horror|Sci-Fi|Thriller</td>\n",
       "      <td>Daniel Radcliffe</td>\n",
       "      <td>Daniel Mays</td>\n",
       "      <td>assistant|experiment|frankenstein|medical stud...</td>\n",
       "      <td>http://www.imdb.com/title/tt1976009/?ref_=fn_t...</td>\n",
       "      <td>English</td>\n",
       "      <td>USA</td>\n",
       "      <td>PG-13</td>\n",
       "      <td>40000000.0</td>\n",
       "      <td>2015.0</td>\n",
       "      <td>6.0</td>\n",
       "      <td>2.35</td>\n",
       "    </tr>\n",
       "    <tr>\n",
       "      <th>83</th>\n",
       "      <td>Wicker Park</td>\n",
       "      <td>Color</td>\n",
       "      <td>Paul McGuigan</td>\n",
       "      <td>114.0</td>\n",
       "      <td>Christopher Cousins</td>\n",
       "      <td>12831121.0</td>\n",
       "      <td>Drama|Mystery|Romance|Thriller</td>\n",
       "      <td>Jessica Paré</td>\n",
       "      <td>Mark Camacho</td>\n",
       "      <td>flashback|flashback within a flashback|multipl...</td>\n",
       "      <td>http://www.imdb.com/title/tt0324554/?ref_=fn_t...</td>\n",
       "      <td>English</td>\n",
       "      <td>USA</td>\n",
       "      <td>PG-13</td>\n",
       "      <td>30000000.0</td>\n",
       "      <td>2004.0</td>\n",
       "      <td>7.0</td>\n",
       "      <td>2.35</td>\n",
       "    </tr>\n",
       "    <tr>\n",
       "      <th>108</th>\n",
       "      <td>Wicker Park</td>\n",
       "      <td>Color</td>\n",
       "      <td>Paul McGuigan</td>\n",
       "      <td>114.0</td>\n",
       "      <td>Christopher Cousins</td>\n",
       "      <td>12831121.0</td>\n",
       "      <td>Drama|Mystery|Romance|Thriller</td>\n",
       "      <td>Jessica Paré</td>\n",
       "      <td>Mark Camacho</td>\n",
       "      <td>flashback|flashback within a flashback|multipl...</td>\n",
       "      <td>http://www.imdb.com/title/tt0324554/?ref_=fn_t...</td>\n",
       "      <td>English</td>\n",
       "      <td>USA</td>\n",
       "      <td>PG-13</td>\n",
       "      <td>30000000.0</td>\n",
       "      <td>2004.0</td>\n",
       "      <td>7.0</td>\n",
       "      <td>2.35</td>\n",
       "    </tr>\n",
       "  </tbody>\n",
       "</table>\n",
       "<p>237 rows × 18 columns</p>\n",
       "</div>"
      ],
      "text/plain": [
       "                      movie_title  color      director_name  duration  \\\n",
       "227  20,000 Leagues Under the Sea  Color  Richard Fleischer     127.0   \n",
       "177  20,000 Leagues Under the Sea  Color  Richard Fleischer     127.0   \n",
       "233             A Dog's Breakfast  Color      David Hewlett      88.0   \n",
       "232             A Dog's Breakfast  Color      David Hewlett      88.0   \n",
       "203     A Nightmare on Elm Street  Color         Wes Craven     101.0   \n",
       "..                            ...    ...                ...       ...   \n",
       "59            Victor Frankenstein  Color      Paul McGuigan     110.0   \n",
       "104           Victor Frankenstein  Color      Paul McGuigan     110.0   \n",
       "64            Victor Frankenstein  Color      Paul McGuigan     110.0   \n",
       "83                    Wicker Park  Color      Paul McGuigan     114.0   \n",
       "108                   Wicker Park  Color      Paul McGuigan     114.0   \n",
       "\n",
       "            actor_2_name       gross                                 genres  \\\n",
       "227      Robert J. Wilke         NaN  Adventure|Drama|Family|Fantasy|Sci-Fi   \n",
       "177      Robert J. Wilke         NaN  Adventure|Drama|Family|Fantasy|Sci-Fi   \n",
       "233        David Hewlett         NaN                                 Comedy   \n",
       "232        David Hewlett         NaN                                 Comedy   \n",
       "203            Lin Shaye  26505000.0                                 Horror   \n",
       "..                   ...         ...                                    ...   \n",
       "59       Spencer Wilding   5773519.0           Drama|Horror|Sci-Fi|Thriller   \n",
       "104      Spencer Wilding   5773519.0           Drama|Horror|Sci-Fi|Thriller   \n",
       "64       Spencer Wilding   5773519.0           Drama|Horror|Sci-Fi|Thriller   \n",
       "83   Christopher Cousins  12831121.0         Drama|Mystery|Romance|Thriller   \n",
       "108  Christopher Cousins  12831121.0         Drama|Mystery|Romance|Thriller   \n",
       "\n",
       "          actor_1_name    actor_3_name  \\\n",
       "227        James Mason      Paul Lukas   \n",
       "177        James Mason      Paul Lukas   \n",
       "233  Christopher Judge  Paul McGillion   \n",
       "232  Christopher Judge  Paul McGillion   \n",
       "203        Johnny Depp     Amanda Wyss   \n",
       "..                 ...             ...   \n",
       "59    Daniel Radcliffe     Daniel Mays   \n",
       "104   Daniel Radcliffe     Daniel Mays   \n",
       "64    Daniel Radcliffe     Daniel Mays   \n",
       "83        Jessica Paré    Mark Camacho   \n",
       "108       Jessica Paré    Mark Camacho   \n",
       "\n",
       "                                         plot_keywords  \\\n",
       "227             captain|expedition|sea|submarine|whale   \n",
       "177             captain|expedition|sea|submarine|whale   \n",
       "233                                     dog|vegetarian   \n",
       "232                                     dog|vegetarian   \n",
       "203  freddy krueger|lucid dream|serial killer|slash...   \n",
       "..                                                 ...   \n",
       "59   assistant|experiment|frankenstein|medical stud...   \n",
       "104  assistant|experiment|frankenstein|medical stud...   \n",
       "64   assistant|experiment|frankenstein|medical stud...   \n",
       "83   flashback|flashback within a flashback|multipl...   \n",
       "108  flashback|flashback within a flashback|multipl...   \n",
       "\n",
       "                                       movie_imdb_link language country  \\\n",
       "227  http://www.imdb.com/title/tt0046672/?ref_=fn_t...  English     USA   \n",
       "177  http://www.imdb.com/title/tt0046672/?ref_=fn_t...  English     USA   \n",
       "233  http://www.imdb.com/title/tt0796314/?ref_=fn_t...  English  Canada   \n",
       "232  http://www.imdb.com/title/tt0796314/?ref_=fn_t...  English  Canada   \n",
       "203  http://www.imdb.com/title/tt0087800/?ref_=fn_t...  English     USA   \n",
       "..                                                 ...      ...     ...   \n",
       "59   http://www.imdb.com/title/tt1976009/?ref_=fn_t...  English     USA   \n",
       "104  http://www.imdb.com/title/tt1976009/?ref_=fn_t...  English     USA   \n",
       "64   http://www.imdb.com/title/tt1976009/?ref_=fn_t...  English     USA   \n",
       "83   http://www.imdb.com/title/tt0324554/?ref_=fn_t...  English     USA   \n",
       "108  http://www.imdb.com/title/tt0324554/?ref_=fn_t...  English     USA   \n",
       "\n",
       "    content_rating      budget  title_year  imdb_score  aspect_ratio  \n",
       "227       Approved   5000000.0      1954.0         7.2          1.37  \n",
       "177       Approved   5000000.0      1954.0         7.2          1.37  \n",
       "233            NaN    120000.0      2007.0         7.0          1.78  \n",
       "232            NaN    120000.0      2007.0         7.0          1.78  \n",
       "203              X   1800000.0      1984.0         7.5          1.85  \n",
       "..             ...         ...         ...         ...           ...  \n",
       "59           PG-13  40000000.0      2015.0         6.0          2.35  \n",
       "104          PG-13  40000000.0      2015.0         6.0          2.35  \n",
       "64           PG-13  40000000.0      2015.0         6.0          2.35  \n",
       "83           PG-13  30000000.0      2004.0         7.0          2.35  \n",
       "108          PG-13  30000000.0      2004.0         7.0          2.35  \n",
       "\n",
       "[237 rows x 18 columns]"
      ]
     },
     "execution_count": 27,
     "metadata": {},
     "output_type": "execute_result"
    }
   ],
   "source": [
    "# Movies for which the title and director are the same (potential duplicates)\n",
    "(\n",
    "    imdb\n",
    "    .groupby([\"movie_title\", \"director_name\"])\n",
    "    .filter(lambda df_group: len(df_group) > 1)\n",
    "    .reset_index()\n",
    "    .sort_values(by = 'movie_title')\n",
    ")"
   ]
  },
  {
   "cell_type": "code",
   "execution_count": null,
   "metadata": {
    "id": "Efnbkj-ybqMq"
   },
   "outputs": [],
   "source": [
    "imdb.loc[\"Skyfall\"]"
   ]
  },
  {
   "cell_type": "code",
   "execution_count": 28,
   "metadata": {
    "id": "nV_WBOkPZhpU"
   },
   "outputs": [
    {
     "name": "stdout",
     "output_type": "stream",
     "text": [
      "Number of movies BEFORE: 4969\n",
      "Number of movies AFTER: 4845\n"
     ]
    }
   ],
   "source": [
    "# Drop the duplicates\n",
    "\n",
    "print(\"Number of movies BEFORE:\", len(imdb))\n",
    "\n",
    "imdb = (\n",
    "    imdb\n",
    "    .reset_index()\n",
    "    .drop_duplicates(subset=[\"movie_title\", \"director_name\"], keep='last')\n",
    "    .set_index(\"movie_title\")\n",
    ")\n",
    "\n",
    "print(\"Number of movies AFTER:\", len(imdb))"
   ]
  },
  {
   "cell_type": "markdown",
   "metadata": {
    "id": "WtAnwsiDBktl"
   },
   "source": [
    "# Warm-up questions"
   ]
  },
  {
   "cell_type": "markdown",
   "metadata": {
    "id": "DYgHVR9hBktn"
   },
   "source": [
    "### How many languages are represented?"
   ]
  },
  {
   "cell_type": "code",
   "execution_count": null,
   "metadata": {
    "id": "70d53WqSImlQ"
   },
   "outputs": [],
   "source": []
  },
  {
   "cell_type": "markdown",
   "metadata": {
    "id": "TQLUSX4zHfTZ",
    "jp-MarkdownHeadingCollapsed": true,
    "tags": []
   },
   "source": [
    "#### Solution"
   ]
  },
  {
   "cell_type": "code",
   "execution_count": 29,
   "metadata": {
    "id": "0-OcWmK6Bkto"
   },
   "outputs": [
    {
     "data": {
      "text/plain": [
       "46"
      ]
     },
     "execution_count": 29,
     "metadata": {},
     "output_type": "execute_result"
    }
   ],
   "source": [
    "imdb.language.nunique()"
   ]
  },
  {
   "cell_type": "code",
   "execution_count": 30,
   "metadata": {},
   "outputs": [
    {
     "data": {
      "text/plain": [
       "English       4525\n",
       "French          73\n",
       "Spanish         40\n",
       "Hindi           26\n",
       "Mandarin        24\n",
       "German          19\n",
       "Japanese        16\n",
       "Cantonese       11\n",
       "Russian         11\n",
       "Italian         10\n",
       "Korean           8\n",
       "Portuguese       8\n",
       "Hebrew           5\n",
       "Danish           5\n",
       "Swedish          4\n",
       "Norwegian        4\n",
       "Dutch            4\n",
       "Persian          4\n",
       "Arabic           4\n",
       "Thai             3\n",
       "Chinese          3\n",
       "Dari             2\n",
       "None             2\n",
       "Aboriginal       2\n",
       "Romanian         2\n",
       "Polish           2\n",
       "Indonesian       2\n",
       "Zulu             2\n",
       "Mongolian        1\n",
       "Tamil            1\n",
       "Greek            1\n",
       "Slovenian        1\n",
       "Urdu             1\n",
       "Vietnamese       1\n",
       "Dzongkha         1\n",
       "Czech            1\n",
       "Panjabi          1\n",
       "Filipino         1\n",
       "Maya             1\n",
       "Kazakh           1\n",
       "Icelandic        1\n",
       "Telugu           1\n",
       "Hungarian        1\n",
       "Bosnian          1\n",
       "Aramaic          1\n",
       "Swahili          1\n",
       "Name: language, dtype: int64"
      ]
     },
     "execution_count": 30,
     "metadata": {},
     "output_type": "execute_result"
    }
   ],
   "source": [
    "imdb.language.value_counts()"
   ]
  },
  {
   "cell_type": "markdown",
   "metadata": {
    "id": "BaQ6782UBkts",
    "jp-MarkdownHeadingCollapsed": true,
    "tags": []
   },
   "source": [
    "### What is the oldest movie?"
   ]
  },
  {
   "cell_type": "code",
   "execution_count": null,
   "metadata": {
    "id": "nLweRs62InPD"
   },
   "outputs": [],
   "source": []
  },
  {
   "cell_type": "markdown",
   "metadata": {
    "id": "s_xyrshOHfTc",
    "tags": []
   },
   "source": [
    "#### Solution"
   ]
  },
  {
   "cell_type": "code",
   "execution_count": 36,
   "metadata": {
    "id": "ZcqBFozLU3UD"
   },
   "outputs": [
    {
     "data": {
      "text/plain": [
       "1916.0"
      ]
     },
     "execution_count": 36,
     "metadata": {},
     "output_type": "execute_result"
    }
   ],
   "source": [
    "imdb.title_year.min()"
   ]
  },
  {
   "cell_type": "code",
   "execution_count": 34,
   "metadata": {},
   "outputs": [
    {
     "data": {
      "text/plain": [
       "\"Intolerance: Love's Struggle Throughout the Ages\""
      ]
     },
     "execution_count": 34,
     "metadata": {},
     "output_type": "execute_result"
    }
   ],
   "source": [
    "imdb.title_year.sort_values(ascending=True).index[0]"
   ]
  },
  {
   "cell_type": "code",
   "execution_count": 35,
   "metadata": {
    "id": "krvpcypuBktt"
   },
   "outputs": [
    {
     "data": {
      "text/plain": [
       "\"Intolerance: Love's Struggle Throughout the Ages\""
      ]
     },
     "execution_count": 35,
     "metadata": {},
     "output_type": "execute_result"
    }
   ],
   "source": [
    "# .idxmin method returns the INDEX value of the minimal value (instead of just the minimail value)\n",
    "imdb.title_year.idxmin()"
   ]
  },
  {
   "cell_type": "code",
   "execution_count": null,
   "metadata": {
    "id": "B8bfJKTkZhpc"
   },
   "outputs": [],
   "source": [
    "# Another option:\n",
    "imdb.sort_values(by=\"title_year\").index[0]"
   ]
  },
  {
   "cell_type": "code",
   "execution_count": null,
   "metadata": {
    "id": "nRKtD5Pa_6Xn"
   },
   "outputs": [],
   "source": [
    "imdb.title_year.sort_values().index[0]"
   ]
  },
  {
   "cell_type": "code",
   "execution_count": null,
   "metadata": {
    "id": "Zik9LM8hvOkg"
   },
   "outputs": [],
   "source": [
    "imdb.sample(5)"
   ]
  },
  {
   "cell_type": "markdown",
   "metadata": {
    "id": "AmhcTFWABktx"
   },
   "source": [
    "### Who is the director with the highest average imdb score?"
   ]
  },
  {
   "cell_type": "code",
   "execution_count": null,
   "metadata": {
    "id": "UEarA_GKIn-o"
   },
   "outputs": [],
   "source": []
  },
  {
   "cell_type": "markdown",
   "metadata": {
    "id": "Sa8ca9KbHfTd",
    "jp-MarkdownHeadingCollapsed": true,
    "tags": []
   },
   "source": [
    "#### Solution"
   ]
  },
  {
   "cell_type": "code",
   "execution_count": 38,
   "metadata": {
    "id": "PijCCYzUBkty"
   },
   "outputs": [
    {
     "data": {
      "text/plain": [
       "director_name\n",
       "Cary Bell             8.7\n",
       "Sadyk Sher-Niyaz      8.7\n",
       "Charles Chaplin       8.6\n",
       "Mike Mayhall          8.6\n",
       "Damien Chazelle       8.5\n",
       "                     ... \n",
       "Georgia Hilton        2.2\n",
       "Vondie Curtis-Hall    2.1\n",
       "Frédéric Auburtin     2.0\n",
       "A. Raven Cruz         1.9\n",
       "Lawrence Kasanoff     1.7\n",
       "Name: imdb_score, Length: 2375, dtype: float64"
      ]
     },
     "execution_count": 38,
     "metadata": {},
     "output_type": "execute_result"
    }
   ],
   "source": [
    "(\n",
    "    imdb\n",
    "    .groupby(\"director_name\")\n",
    "    .imdb_score\n",
    "    .mean()\n",
    "    #.idxmax()\n",
    "    .sort_values(ascending=False)\n",
    ")"
   ]
  },
  {
   "cell_type": "code",
   "execution_count": 39,
   "metadata": {
    "id": "4FjNQ1jiZhpd"
   },
   "outputs": [
    {
     "data": {
      "text/plain": [
       "1"
      ]
     },
     "execution_count": 39,
     "metadata": {},
     "output_type": "execute_result"
    }
   ],
   "source": [
    "# It would be interesting to know how many movies he has directed\n",
    "len(imdb[imdb.director_name == \"Cary Bell\"])"
   ]
  },
  {
   "cell_type": "code",
   "execution_count": 41,
   "metadata": {
    "id": "qubj4SUwZhpe"
   },
   "outputs": [
    {
     "data": {
      "text/plain": [
       "director_name\n",
       "Sergio Leone             8.475000\n",
       "Christopher Nolan        8.425000\n",
       "Pete Docter              8.233333\n",
       "Hayao Miyazaki           8.225000\n",
       "Quentin Tarantino        8.200000\n",
       "                           ...   \n",
       "Michael Tiddes           4.433333\n",
       "Robert Iscove            4.400000\n",
       "Brian Trenchard-Smith    4.166667\n",
       "Uwe Boll                 3.720000\n",
       "Jason Friedberg          2.600000\n",
       "Name: imdb_score, Length: 510, dtype: float64"
      ]
     },
     "execution_count": 41,
     "metadata": {},
     "output_type": "execute_result"
    }
   ],
   "source": [
    "# Maybe we should be considering only directors with at least 3 movies under their belt...\n",
    "(\n",
    "    imdb\n",
    "    .groupby(\"director_name\")\n",
    "    .filter(lambda group: len(group) >= 3)    # Include only movies by directors who directed 3 or more movies\n",
    "    .groupby(\"director_name\")                 # .filter retruns a filtered data frame\n",
    "    .imdb_score\n",
    "    .mean()\n",
    "    #.idxmax()\n",
    "    .sort_values(ascending=False)\n",
    ")"
   ]
  },
  {
   "cell_type": "markdown",
   "metadata": {
    "id": "OCtJc1V-BkuO",
    "tags": []
   },
   "source": [
    "### How many unique actors are represented? Consider all three columns."
   ]
  },
  {
   "cell_type": "code",
   "execution_count": null,
   "metadata": {
    "id": "KaoBzew4IqFb"
   },
   "outputs": [],
   "source": []
  },
  {
   "cell_type": "markdown",
   "metadata": {
    "id": "91SSkZH5HfTe",
    "jp-MarkdownHeadingCollapsed": true,
    "tags": []
   },
   "source": [
    "#### Solution"
   ]
  },
  {
   "cell_type": "code",
   "execution_count": 43,
   "metadata": {
    "id": "ppLSqWHKHfTe"
   },
   "outputs": [
    {
     "data": {
      "text/plain": [
       "6162"
      ]
     },
     "execution_count": 43,
     "metadata": {},
     "output_type": "execute_result"
    }
   ],
   "source": [
    "pd.concat([imdb.actor_1_name, imdb.actor_2_name, imdb.actor_3_name]).nunique()"
   ]
  },
  {
   "cell_type": "code",
   "execution_count": 44,
   "metadata": {
    "id": "RZnCOQ32BkuQ"
   },
   "outputs": [
    {
     "data": {
      "text/plain": [
       "6162"
      ]
     },
     "execution_count": 44,
     "metadata": {},
     "output_type": "execute_result"
    }
   ],
   "source": [
    "# Another solution using Python sets.\n",
    "# Note: Some actor name columns have NaN values, which is valid value in a set\n",
    "# (and counted towards the overall number of unique actors).\n",
    "len(\n",
    "    set(imdb.actor_1_name) | set(imdb.actor_2_name) | set(imdb.actor_3_name)\n",
    ") - 1 # cansell nAn"
   ]
  },
  {
   "cell_type": "markdown",
   "metadata": {
    "id": "7N4UJMEwzpvg"
   },
   "source": [
    "### To avoid analysis based on esoteric movies we decide to drop all the movies made by directors, for whom that movie is the only movie in the data. In other words we wish to remove all the directors who appear only once in the data. Then we repeat the question above."
   ]
  },
  {
   "cell_type": "code",
   "execution_count": null,
   "metadata": {
    "id": "3zmKuG_eIsFy"
   },
   "outputs": [],
   "source": []
  },
  {
   "cell_type": "markdown",
   "metadata": {
    "id": "yNISTIc9HfTe",
    "jp-MarkdownHeadingCollapsed": true,
    "tags": []
   },
   "source": [
    "#### Solution"
   ]
  },
  {
   "cell_type": "code",
   "execution_count": null,
   "metadata": {},
   "outputs": [],
   "source": [
    "def filter_func(dir_movies):\n",
    "    return len(dir_movies) > 1"
   ]
  },
  {
   "cell_type": "code",
   "execution_count": 45,
   "metadata": {
    "id": "7W7rGGmOZhph"
   },
   "outputs": [
    {
     "name": "stdout",
     "output_type": "stream",
     "text": [
      "Before: 4845\n",
      "after: 3288\n"
     ]
    }
   ],
   "source": [
    "print(\"Before:\", len(imdb))\n",
    "\n",
    "imdb = (\n",
    "    imdb\n",
    "    .groupby(\"director_name\")\n",
    "    .filter(lambda dir_movies: len(dir_movies) > 1)\n",
    ")\n",
    "\n",
    "print(\"after:\", len(imdb))"
   ]
  },
  {
   "cell_type": "markdown",
   "metadata": {
    "id": "hKZKwQY3Bkt2"
   },
   "source": [
    "### Finally, we wish to add a column called `profits` with the calculation of $gross - budget$ and answer: \n",
    "* What is the most profitable movie and what is the biggest failure?\n",
    "* Who is the most profitable director?"
   ]
  },
  {
   "cell_type": "code",
   "execution_count": 48,
   "metadata": {
    "id": "rmWfoEwBHfTf"
   },
   "outputs": [
    {
     "data": {
      "text/html": [
       "<div>\n",
       "<style scoped>\n",
       "    .dataframe tbody tr th:only-of-type {\n",
       "        vertical-align: middle;\n",
       "    }\n",
       "\n",
       "    .dataframe tbody tr th {\n",
       "        vertical-align: top;\n",
       "    }\n",
       "\n",
       "    .dataframe thead th {\n",
       "        text-align: right;\n",
       "    }\n",
       "</style>\n",
       "<table border=\"1\" class=\"dataframe\">\n",
       "  <thead>\n",
       "    <tr style=\"text-align: right;\">\n",
       "      <th></th>\n",
       "      <th>color</th>\n",
       "      <th>director_name</th>\n",
       "      <th>duration</th>\n",
       "      <th>actor_2_name</th>\n",
       "      <th>gross</th>\n",
       "      <th>genres</th>\n",
       "      <th>actor_1_name</th>\n",
       "      <th>actor_3_name</th>\n",
       "      <th>plot_keywords</th>\n",
       "      <th>movie_imdb_link</th>\n",
       "      <th>language</th>\n",
       "      <th>country</th>\n",
       "      <th>content_rating</th>\n",
       "      <th>budget</th>\n",
       "      <th>title_year</th>\n",
       "      <th>imdb_score</th>\n",
       "      <th>aspect_ratio</th>\n",
       "      <th>profits</th>\n",
       "    </tr>\n",
       "    <tr>\n",
       "      <th>movie_title</th>\n",
       "      <th></th>\n",
       "      <th></th>\n",
       "      <th></th>\n",
       "      <th></th>\n",
       "      <th></th>\n",
       "      <th></th>\n",
       "      <th></th>\n",
       "      <th></th>\n",
       "      <th></th>\n",
       "      <th></th>\n",
       "      <th></th>\n",
       "      <th></th>\n",
       "      <th></th>\n",
       "      <th></th>\n",
       "      <th></th>\n",
       "      <th></th>\n",
       "      <th></th>\n",
       "      <th></th>\n",
       "    </tr>\n",
       "  </thead>\n",
       "  <tbody>\n",
       "    <tr>\n",
       "      <th>Avatar</th>\n",
       "      <td>Color</td>\n",
       "      <td>James Cameron</td>\n",
       "      <td>178.0</td>\n",
       "      <td>Joel David Moore</td>\n",
       "      <td>760505847.0</td>\n",
       "      <td>Action|Adventure|Fantasy|Sci-Fi</td>\n",
       "      <td>CCH Pounder</td>\n",
       "      <td>Wes Studi</td>\n",
       "      <td>avatar|future|marine|native|paraplegic</td>\n",
       "      <td>http://www.imdb.com/title/tt0499549/?ref_=fn_t...</td>\n",
       "      <td>English</td>\n",
       "      <td>USA</td>\n",
       "      <td>PG-13</td>\n",
       "      <td>237000000.0</td>\n",
       "      <td>2009.0</td>\n",
       "      <td>7.9</td>\n",
       "      <td>1.78</td>\n",
       "      <td>523505847.0</td>\n",
       "    </tr>\n",
       "    <tr>\n",
       "      <th>Pirates of the Caribbean: At World's End</th>\n",
       "      <td>Color</td>\n",
       "      <td>Gore Verbinski</td>\n",
       "      <td>169.0</td>\n",
       "      <td>Orlando Bloom</td>\n",
       "      <td>309404152.0</td>\n",
       "      <td>Action|Adventure|Fantasy</td>\n",
       "      <td>Johnny Depp</td>\n",
       "      <td>Jack Davenport</td>\n",
       "      <td>goddess|marriage ceremony|marriage proposal|pi...</td>\n",
       "      <td>http://www.imdb.com/title/tt0449088/?ref_=fn_t...</td>\n",
       "      <td>English</td>\n",
       "      <td>USA</td>\n",
       "      <td>PG-13</td>\n",
       "      <td>300000000.0</td>\n",
       "      <td>2007.0</td>\n",
       "      <td>7.1</td>\n",
       "      <td>2.35</td>\n",
       "      <td>9404152.0</td>\n",
       "    </tr>\n",
       "    <tr>\n",
       "      <th>Spectre</th>\n",
       "      <td>Color</td>\n",
       "      <td>Sam Mendes</td>\n",
       "      <td>148.0</td>\n",
       "      <td>Rory Kinnear</td>\n",
       "      <td>200074175.0</td>\n",
       "      <td>Action|Adventure|Thriller</td>\n",
       "      <td>Christoph Waltz</td>\n",
       "      <td>Stephanie Sigman</td>\n",
       "      <td>bomb|espionage|sequel|spy|terrorist</td>\n",
       "      <td>http://www.imdb.com/title/tt2379713/?ref_=fn_t...</td>\n",
       "      <td>English</td>\n",
       "      <td>UK</td>\n",
       "      <td>PG-13</td>\n",
       "      <td>245000000.0</td>\n",
       "      <td>2015.0</td>\n",
       "      <td>6.8</td>\n",
       "      <td>2.35</td>\n",
       "      <td>-44925825.0</td>\n",
       "    </tr>\n",
       "    <tr>\n",
       "      <th>The Dark Knight Rises</th>\n",
       "      <td>Color</td>\n",
       "      <td>Christopher Nolan</td>\n",
       "      <td>164.0</td>\n",
       "      <td>Christian Bale</td>\n",
       "      <td>448130642.0</td>\n",
       "      <td>Action|Thriller</td>\n",
       "      <td>Tom Hardy</td>\n",
       "      <td>Joseph Gordon-Levitt</td>\n",
       "      <td>deception|imprisonment|lawlessness|police offi...</td>\n",
       "      <td>http://www.imdb.com/title/tt1345836/?ref_=fn_t...</td>\n",
       "      <td>English</td>\n",
       "      <td>USA</td>\n",
       "      <td>PG-13</td>\n",
       "      <td>250000000.0</td>\n",
       "      <td>2012.0</td>\n",
       "      <td>8.5</td>\n",
       "      <td>2.35</td>\n",
       "      <td>198130642.0</td>\n",
       "    </tr>\n",
       "    <tr>\n",
       "      <th>John Carter</th>\n",
       "      <td>Color</td>\n",
       "      <td>Andrew Stanton</td>\n",
       "      <td>132.0</td>\n",
       "      <td>Samantha Morton</td>\n",
       "      <td>73058679.0</td>\n",
       "      <td>Action|Adventure|Sci-Fi</td>\n",
       "      <td>Daryl Sabara</td>\n",
       "      <td>Polly Walker</td>\n",
       "      <td>alien|american civil war|male nipple|mars|prin...</td>\n",
       "      <td>http://www.imdb.com/title/tt0401729/?ref_=fn_t...</td>\n",
       "      <td>English</td>\n",
       "      <td>USA</td>\n",
       "      <td>PG-13</td>\n",
       "      <td>263700000.0</td>\n",
       "      <td>2012.0</td>\n",
       "      <td>6.6</td>\n",
       "      <td>2.35</td>\n",
       "      <td>-190641321.0</td>\n",
       "    </tr>\n",
       "    <tr>\n",
       "      <th>...</th>\n",
       "      <td>...</td>\n",
       "      <td>...</td>\n",
       "      <td>...</td>\n",
       "      <td>...</td>\n",
       "      <td>...</td>\n",
       "      <td>...</td>\n",
       "      <td>...</td>\n",
       "      <td>...</td>\n",
       "      <td>...</td>\n",
       "      <td>...</td>\n",
       "      <td>...</td>\n",
       "      <td>...</td>\n",
       "      <td>...</td>\n",
       "      <td>...</td>\n",
       "      <td>...</td>\n",
       "      <td>...</td>\n",
       "      <td>...</td>\n",
       "      <td>...</td>\n",
       "    </tr>\n",
       "    <tr>\n",
       "      <th>Pink Flamingos</th>\n",
       "      <td>Color</td>\n",
       "      <td>John Waters</td>\n",
       "      <td>108.0</td>\n",
       "      <td>Mink Stole</td>\n",
       "      <td>180483.0</td>\n",
       "      <td>Comedy|Crime|Horror</td>\n",
       "      <td>Divine</td>\n",
       "      <td>Edith Massey</td>\n",
       "      <td>absurd humor|egg|gross out humor|lesbian|sex</td>\n",
       "      <td>http://www.imdb.com/title/tt0069089/?ref_=fn_t...</td>\n",
       "      <td>English</td>\n",
       "      <td>USA</td>\n",
       "      <td>NC-17</td>\n",
       "      <td>10000.0</td>\n",
       "      <td>1972.0</td>\n",
       "      <td>6.1</td>\n",
       "      <td>1.37</td>\n",
       "      <td>170483.0</td>\n",
       "    </tr>\n",
       "    <tr>\n",
       "      <th>Clean</th>\n",
       "      <td>Color</td>\n",
       "      <td>Olivier Assayas</td>\n",
       "      <td>110.0</td>\n",
       "      <td>Béatrice Dalle</td>\n",
       "      <td>136007.0</td>\n",
       "      <td>Drama|Music|Romance</td>\n",
       "      <td>Maggie Cheung</td>\n",
       "      <td>Don McKellar</td>\n",
       "      <td>jail|junkie|money|motel|singer</td>\n",
       "      <td>http://www.imdb.com/title/tt0388838/?ref_=fn_t...</td>\n",
       "      <td>French</td>\n",
       "      <td>France</td>\n",
       "      <td>R</td>\n",
       "      <td>4500.0</td>\n",
       "      <td>2004.0</td>\n",
       "      <td>6.9</td>\n",
       "      <td>2.35</td>\n",
       "      <td>131507.0</td>\n",
       "    </tr>\n",
       "    <tr>\n",
       "      <th>El Mariachi</th>\n",
       "      <td>Color</td>\n",
       "      <td>Robert Rodriguez</td>\n",
       "      <td>81.0</td>\n",
       "      <td>Peter Marquardt</td>\n",
       "      <td>2040920.0</td>\n",
       "      <td>Action|Crime|Drama|Romance|Thriller</td>\n",
       "      <td>Carlos Gallardo</td>\n",
       "      <td>Consuelo Gómez</td>\n",
       "      <td>assassin|death|guitar|gun|mariachi</td>\n",
       "      <td>http://www.imdb.com/title/tt0104815/?ref_=fn_t...</td>\n",
       "      <td>Spanish</td>\n",
       "      <td>USA</td>\n",
       "      <td>R</td>\n",
       "      <td>7000.0</td>\n",
       "      <td>1992.0</td>\n",
       "      <td>6.9</td>\n",
       "      <td>1.37</td>\n",
       "      <td>2033920.0</td>\n",
       "    </tr>\n",
       "    <tr>\n",
       "      <th>Newlyweds</th>\n",
       "      <td>Color</td>\n",
       "      <td>Edward Burns</td>\n",
       "      <td>95.0</td>\n",
       "      <td>Caitlin FitzGerald</td>\n",
       "      <td>4584.0</td>\n",
       "      <td>Comedy|Drama</td>\n",
       "      <td>Kerry Bishé</td>\n",
       "      <td>Daniella Pineda</td>\n",
       "      <td>written and directed by cast member</td>\n",
       "      <td>http://www.imdb.com/title/tt1880418/?ref_=fn_t...</td>\n",
       "      <td>English</td>\n",
       "      <td>USA</td>\n",
       "      <td>Not Rated</td>\n",
       "      <td>9000.0</td>\n",
       "      <td>2011.0</td>\n",
       "      <td>6.4</td>\n",
       "      <td>NaN</td>\n",
       "      <td>-4416.0</td>\n",
       "    </tr>\n",
       "    <tr>\n",
       "      <th>My Date with Drew</th>\n",
       "      <td>Color</td>\n",
       "      <td>Jon Gunn</td>\n",
       "      <td>90.0</td>\n",
       "      <td>Brian Herzlinger</td>\n",
       "      <td>85222.0</td>\n",
       "      <td>Documentary</td>\n",
       "      <td>John August</td>\n",
       "      <td>Jon Gunn</td>\n",
       "      <td>actress name in title|crush|date|four word tit...</td>\n",
       "      <td>http://www.imdb.com/title/tt0378407/?ref_=fn_t...</td>\n",
       "      <td>English</td>\n",
       "      <td>USA</td>\n",
       "      <td>PG</td>\n",
       "      <td>1100.0</td>\n",
       "      <td>2004.0</td>\n",
       "      <td>6.6</td>\n",
       "      <td>1.85</td>\n",
       "      <td>84122.0</td>\n",
       "    </tr>\n",
       "  </tbody>\n",
       "</table>\n",
       "<p>3288 rows × 18 columns</p>\n",
       "</div>"
      ],
      "text/plain": [
       "                                          color      director_name  duration  \\\n",
       "movie_title                                                                    \n",
       "Avatar                                    Color      James Cameron     178.0   \n",
       "Pirates of the Caribbean: At World's End  Color     Gore Verbinski     169.0   \n",
       "Spectre                                   Color         Sam Mendes     148.0   \n",
       "The Dark Knight Rises                     Color  Christopher Nolan     164.0   \n",
       "John Carter                               Color     Andrew Stanton     132.0   \n",
       "...                                         ...                ...       ...   \n",
       "Pink Flamingos                            Color        John Waters     108.0   \n",
       "Clean                                     Color    Olivier Assayas     110.0   \n",
       "El Mariachi                               Color   Robert Rodriguez      81.0   \n",
       "Newlyweds                                 Color       Edward Burns      95.0   \n",
       "My Date with Drew                         Color           Jon Gunn      90.0   \n",
       "\n",
       "                                                actor_2_name        gross  \\\n",
       "movie_title                                                                 \n",
       "Avatar                                      Joel David Moore  760505847.0   \n",
       "Pirates of the Caribbean: At World's End       Orlando Bloom  309404152.0   \n",
       "Spectre                                         Rory Kinnear  200074175.0   \n",
       "The Dark Knight Rises                         Christian Bale  448130642.0   \n",
       "John Carter                                  Samantha Morton   73058679.0   \n",
       "...                                                      ...          ...   \n",
       "Pink Flamingos                                    Mink Stole     180483.0   \n",
       "Clean                                         Béatrice Dalle     136007.0   \n",
       "El Mariachi                                  Peter Marquardt    2040920.0   \n",
       "Newlyweds                                 Caitlin FitzGerald       4584.0   \n",
       "My Date with Drew                           Brian Herzlinger      85222.0   \n",
       "\n",
       "                                                                       genres  \\\n",
       "movie_title                                                                     \n",
       "Avatar                                        Action|Adventure|Fantasy|Sci-Fi   \n",
       "Pirates of the Caribbean: At World's End             Action|Adventure|Fantasy   \n",
       "Spectre                                             Action|Adventure|Thriller   \n",
       "The Dark Knight Rises                                         Action|Thriller   \n",
       "John Carter                                           Action|Adventure|Sci-Fi   \n",
       "...                                                                       ...   \n",
       "Pink Flamingos                                            Comedy|Crime|Horror   \n",
       "Clean                                                     Drama|Music|Romance   \n",
       "El Mariachi                               Action|Crime|Drama|Romance|Thriller   \n",
       "Newlyweds                                                        Comedy|Drama   \n",
       "My Date with Drew                                                 Documentary   \n",
       "\n",
       "                                             actor_1_name  \\\n",
       "movie_title                                                 \n",
       "Avatar                                        CCH Pounder   \n",
       "Pirates of the Caribbean: At World's End      Johnny Depp   \n",
       "Spectre                                   Christoph Waltz   \n",
       "The Dark Knight Rises                           Tom Hardy   \n",
       "John Carter                                  Daryl Sabara   \n",
       "...                                                   ...   \n",
       "Pink Flamingos                                     Divine   \n",
       "Clean                                       Maggie Cheung   \n",
       "El Mariachi                               Carlos Gallardo   \n",
       "Newlyweds                                     Kerry Bishé   \n",
       "My Date with Drew                             John August   \n",
       "\n",
       "                                                  actor_3_name  \\\n",
       "movie_title                                                      \n",
       "Avatar                                               Wes Studi   \n",
       "Pirates of the Caribbean: At World's End        Jack Davenport   \n",
       "Spectre                                       Stephanie Sigman   \n",
       "The Dark Knight Rises                     Joseph Gordon-Levitt   \n",
       "John Carter                                       Polly Walker   \n",
       "...                                                        ...   \n",
       "Pink Flamingos                                    Edith Massey   \n",
       "Clean                                             Don McKellar   \n",
       "El Mariachi                                     Consuelo Gómez   \n",
       "Newlyweds                                      Daniella Pineda   \n",
       "My Date with Drew                                     Jon Gunn   \n",
       "\n",
       "                                                                              plot_keywords  \\\n",
       "movie_title                                                                                   \n",
       "Avatar                                               avatar|future|marine|native|paraplegic   \n",
       "Pirates of the Caribbean: At World's End  goddess|marriage ceremony|marriage proposal|pi...   \n",
       "Spectre                                                 bomb|espionage|sequel|spy|terrorist   \n",
       "The Dark Knight Rises                     deception|imprisonment|lawlessness|police offi...   \n",
       "John Carter                               alien|american civil war|male nipple|mars|prin...   \n",
       "...                                                                                     ...   \n",
       "Pink Flamingos                                 absurd humor|egg|gross out humor|lesbian|sex   \n",
       "Clean                                                        jail|junkie|money|motel|singer   \n",
       "El Mariachi                                              assassin|death|guitar|gun|mariachi   \n",
       "Newlyweds                                               written and directed by cast member   \n",
       "My Date with Drew                         actress name in title|crush|date|four word tit...   \n",
       "\n",
       "                                                                            movie_imdb_link  \\\n",
       "movie_title                                                                                   \n",
       "Avatar                                    http://www.imdb.com/title/tt0499549/?ref_=fn_t...   \n",
       "Pirates of the Caribbean: At World's End  http://www.imdb.com/title/tt0449088/?ref_=fn_t...   \n",
       "Spectre                                   http://www.imdb.com/title/tt2379713/?ref_=fn_t...   \n",
       "The Dark Knight Rises                     http://www.imdb.com/title/tt1345836/?ref_=fn_t...   \n",
       "John Carter                               http://www.imdb.com/title/tt0401729/?ref_=fn_t...   \n",
       "...                                                                                     ...   \n",
       "Pink Flamingos                            http://www.imdb.com/title/tt0069089/?ref_=fn_t...   \n",
       "Clean                                     http://www.imdb.com/title/tt0388838/?ref_=fn_t...   \n",
       "El Mariachi                               http://www.imdb.com/title/tt0104815/?ref_=fn_t...   \n",
       "Newlyweds                                 http://www.imdb.com/title/tt1880418/?ref_=fn_t...   \n",
       "My Date with Drew                         http://www.imdb.com/title/tt0378407/?ref_=fn_t...   \n",
       "\n",
       "                                         language country content_rating  \\\n",
       "movie_title                                                                \n",
       "Avatar                                    English     USA          PG-13   \n",
       "Pirates of the Caribbean: At World's End  English     USA          PG-13   \n",
       "Spectre                                   English      UK          PG-13   \n",
       "The Dark Knight Rises                     English     USA          PG-13   \n",
       "John Carter                               English     USA          PG-13   \n",
       "...                                           ...     ...            ...   \n",
       "Pink Flamingos                            English     USA          NC-17   \n",
       "Clean                                      French  France              R   \n",
       "El Mariachi                               Spanish     USA              R   \n",
       "Newlyweds                                 English     USA      Not Rated   \n",
       "My Date with Drew                         English     USA             PG   \n",
       "\n",
       "                                               budget  title_year  imdb_score  \\\n",
       "movie_title                                                                     \n",
       "Avatar                                    237000000.0      2009.0         7.9   \n",
       "Pirates of the Caribbean: At World's End  300000000.0      2007.0         7.1   \n",
       "Spectre                                   245000000.0      2015.0         6.8   \n",
       "The Dark Knight Rises                     250000000.0      2012.0         8.5   \n",
       "John Carter                               263700000.0      2012.0         6.6   \n",
       "...                                               ...         ...         ...   \n",
       "Pink Flamingos                                10000.0      1972.0         6.1   \n",
       "Clean                                          4500.0      2004.0         6.9   \n",
       "El Mariachi                                    7000.0      1992.0         6.9   \n",
       "Newlyweds                                      9000.0      2011.0         6.4   \n",
       "My Date with Drew                              1100.0      2004.0         6.6   \n",
       "\n",
       "                                          aspect_ratio      profits  \n",
       "movie_title                                                          \n",
       "Avatar                                            1.78  523505847.0  \n",
       "Pirates of the Caribbean: At World's End          2.35    9404152.0  \n",
       "Spectre                                           2.35  -44925825.0  \n",
       "The Dark Knight Rises                             2.35  198130642.0  \n",
       "John Carter                                       2.35 -190641321.0  \n",
       "...                                                ...          ...  \n",
       "Pink Flamingos                                    1.37     170483.0  \n",
       "Clean                                             2.35     131507.0  \n",
       "El Mariachi                                       1.37    2033920.0  \n",
       "Newlyweds                                          NaN      -4416.0  \n",
       "My Date with Drew                                 1.85      84122.0  \n",
       "\n",
       "[3288 rows x 18 columns]"
      ]
     },
     "execution_count": 48,
     "metadata": {},
     "output_type": "execute_result"
    }
   ],
   "source": [
    "# Finally, we wish to add a column called `profits` with the calculation of $gross - budget$ and answer: \n",
    "imdb['profits'] = imdb['gross'] - imdb['budget']\n"
   ]
  },
  {
   "cell_type": "code",
   "execution_count": 54,
   "metadata": {},
   "outputs": [
    {
     "data": {
      "text/plain": [
       "'Avatar'"
      ]
     },
     "execution_count": 54,
     "metadata": {},
     "output_type": "execute_result"
    }
   ],
   "source": [
    "# Most profitable movie\n",
    "imdb.profits.idxmax() # index = movie title"
   ]
  },
  {
   "cell_type": "code",
   "execution_count": 55,
   "metadata": {},
   "outputs": [
    {
     "data": {
      "text/plain": [
       "'The Host'"
      ]
     },
     "execution_count": 55,
     "metadata": {},
     "output_type": "execute_result"
    }
   ],
   "source": [
    "# Biggest failure\n",
    "imdb.profits.idxmin()"
   ]
  },
  {
   "cell_type": "code",
   "execution_count": 53,
   "metadata": {
    "id": "Z87PRzB8HfTg"
   },
   "outputs": [
    {
     "data": {
      "text/plain": [
       "director_name\n",
       "Steven Spielberg    2.486332e+09\n",
       "George Lucas        1.386641e+09\n",
       "James Cameron       1.199626e+09\n",
       "Chris Columbus      9.417076e+08\n",
       "Peter Jackson       8.998839e+08\n",
       "                        ...     \n",
       "Karan Johar        -7.047059e+08\n",
       "Hayao Miyazaki     -2.444860e+09\n",
       "Katsuhiro Ôtomo    -3.226670e+09\n",
       "Chan-wook Park     -4.210905e+09\n",
       "Joon-ho Bong       -1.224794e+10\n",
       "Name: profits, Length: 873, dtype: float64"
      ]
     },
     "execution_count": 53,
     "metadata": {},
     "output_type": "execute_result"
    }
   ],
   "source": [
    "# Who is the most profitable director?\n",
    "imdb.groupby(\"director_name\")['profits'].sum().sort_values(ascending=False)"
   ]
  },
  {
   "cell_type": "markdown",
   "metadata": {
    "id": "IEpgFKIpHfTg",
    "jp-MarkdownHeadingCollapsed": true,
    "tags": []
   },
   "source": [
    "#### Solution"
   ]
  },
  {
   "cell_type": "code",
   "execution_count": null,
   "metadata": {
    "id": "dkpRpCX6Bkt3"
   },
   "outputs": [],
   "source": [
    "imdb[\"profits\"] = imdb.gross - imdb.budget"
   ]
  },
  {
   "cell_type": "code",
   "execution_count": null,
   "metadata": {
    "id": "XnrbXhTIZhpj"
   },
   "outputs": [],
   "source": [
    "# Most profitable movie\n",
    "imdb.profits.idxmax()"
   ]
  },
  {
   "cell_type": "code",
   "execution_count": null,
   "metadata": {
    "id": "VfPPEBg2Zhpk"
   },
   "outputs": [],
   "source": [
    "# Biggest failure\n",
    "imdb.profits.idxmin()"
   ]
  },
  {
   "cell_type": "code",
   "execution_count": null,
   "metadata": {
    "id": "3GK8qfx-Zhpk"
   },
   "outputs": [],
   "source": [
    "# Most profitable director\n",
    "(\n",
    "    imdb\n",
    "    .groupby(\"director_name\")\n",
    "    .profits\n",
    "    .sum()\n",
    "    .sort_values(ascending=False)\n",
    ")"
   ]
  },
  {
   "cell_type": "code",
   "execution_count": null,
   "metadata": {
    "id": "UxtHfC1VZhpl"
   },
   "outputs": [],
   "source": [
    "# [optional] What if we'd like to change the default scientific number notation for large numbers?\n",
    "pd.set_option(\"display.float_format\", lambda val: \"%.0f\" % val)"
   ]
  },
  {
   "cell_type": "code",
   "execution_count": null,
   "metadata": {
    "id": "kDFyS3MoZhpl"
   },
   "outputs": [],
   "source": [
    "(\n",
    "    imdb\n",
    "    .groupby(\"director_name\")\n",
    "    .profits\n",
    "    .sum()\n",
    "    .sort_values(ascending=False)\n",
    ")"
   ]
  },
  {
   "cell_type": "code",
   "execution_count": null,
   "metadata": {
    "id": "piPVxm-6Zhpm"
   },
   "outputs": [],
   "source": [
    "# If we just wanted the name\n",
    "(\n",
    "    imdb\n",
    "    .groupby(\"director_name\")\n",
    "    .profits\n",
    "    .sum()\n",
    "    .idxmax()\n",
    ")"
   ]
  },
  {
   "cell_type": "markdown",
   "metadata": {
    "id": "YD2wovncBkt6"
   },
   "source": [
    "# Visualizations"
   ]
  },
  {
   "cell_type": "markdown",
   "metadata": {
    "id": "q7cv8G-jBkt7",
    "tags": []
   },
   "source": [
    "### What was the median budget spent on a production every year?"
   ]
  },
  {
   "cell_type": "code",
   "execution_count": null,
   "metadata": {
    "id": "TGGpd-CXIvUS"
   },
   "outputs": [],
   "source": []
  },
  {
   "cell_type": "markdown",
   "metadata": {
    "id": "kQ_LnbAoHfTi",
    "jp-MarkdownHeadingCollapsed": true,
    "tags": []
   },
   "source": [
    "#### Solution"
   ]
  },
  {
   "cell_type": "code",
   "execution_count": 56,
   "metadata": {
    "id": "7ZMZhQHwBkt7"
   },
   "outputs": [
    {
     "data": {
      "text/plain": [
       "<AxesSubplot:xlabel='title_year'>"
      ]
     },
     "execution_count": 56,
     "metadata": {},
     "output_type": "execute_result"
    },
    {
     "data": {
      "image/png": "[encoded data removed]",
      "text/plain": [
       "<Figure size 648x432 with 1 Axes>"
      ]
     },
     "metadata": {
      "needs_background": "light"
     },
     "output_type": "display_data"
    }
   ],
   "source": [
    "(\n",
    "    imdb\n",
    "    .groupby(\"title_year\")\n",
    "    .budget\n",
    "    .median()\n",
    "    .plot(figsize=(9, 6))\n",
    ")"
   ]
  },
  {
   "cell_type": "markdown",
   "metadata": {
    "id": "Y-5flipJ6Dg_"
   },
   "source": [
    "### How many movies were released every year? Repeat the last question, but this time separate the graph into two plots - one for color movies and one for B/W movies."
   ]
  },
  {
   "cell_type": "code",
   "execution_count": null,
   "metadata": {
    "id": "EsL0HwjsIwCn"
   },
   "outputs": [],
   "source": []
  },
  {
   "cell_type": "markdown",
   "metadata": {
    "id": "vTdIghwdHfTi",
    "jp-MarkdownHeadingCollapsed": true,
    "tags": []
   },
   "source": [
    "#### Solution"
   ]
  },
  {
   "cell_type": "code",
   "execution_count": null,
   "metadata": {
    "id": "1GVEVakNZhpo"
   },
   "outputs": [],
   "source": [
    "imdb.columns"
   ]
  },
  {
   "cell_type": "code",
   "execution_count": 57,
   "metadata": {
    "id": "l44aZ_AvZhpp"
   },
   "outputs": [
    {
     "data": {
      "text/plain": [
       "<AxesSubplot:xlabel='title_year'>"
      ]
     },
     "execution_count": 57,
     "metadata": {},
     "output_type": "execute_result"
    },
    {
     "data": {
      "image/png": "[encoded data removed]",
      "text/plain": [
       "<Figure size 648x432 with 1 Axes>"
      ]
     },
     "metadata": {
      "needs_background": "light"
     },
     "output_type": "display_data"
    }
   ],
   "source": [
    "imdb.groupby(\"title_year\").color.count().plot(figsize=(9, 6))"
   ]
  },
  {
   "cell_type": "code",
   "execution_count": 58,
   "metadata": {
    "id": "tEo6jhxyn-Lh"
   },
   "outputs": [
    {
     "data": {
      "text/plain": [
       "array(['Color', ' Black and White', nan], dtype=object)"
      ]
     },
     "execution_count": 58,
     "metadata": {},
     "output_type": "execute_result"
    }
   ],
   "source": [
    "# Let's make sure what are the possible values of the \"color\" column\n",
    "imdb.color.unique()"
   ]
  },
  {
   "cell_type": "code",
   "execution_count": null,
   "metadata": {
    "id": "66-LKyVskRpx"
   },
   "outputs": [],
   "source": [
    "imdb[imdb.color.notnull()].color.unique()"
   ]
  },
  {
   "cell_type": "code",
   "execution_count": 59,
   "metadata": {
    "id": "WPWjfWmrHfTj"
   },
   "outputs": [
    {
     "data": {
      "text/plain": [
       "<AxesSubplot:xlabel='title_year'>"
      ]
     },
     "execution_count": 59,
     "metadata": {},
     "output_type": "execute_result"
    },
    {
     "data": {
      "image/png": "[encoded data removed]",
      "text/plain": [
       "<Figure size 648x432 with 1 Axes>"
      ]
     },
     "metadata": {
      "needs_background": "light"
     },
     "output_type": "display_data"
    }
   ],
   "source": [
    "ax = (\n",
    "    imdb\n",
    "    [imdb.color == \" Black and White\"]   # note the leading space\n",
    "    .groupby(\"title_year\")\n",
    "    .color\n",
    "    .size()\n",
    "    .plot(figsize=(9, 6))\n",
    ")\n",
    "\n",
    "(\n",
    "    imdb\n",
    "    [imdb.color == \"Color\"]\n",
    "    .groupby(\"title_year\")\n",
    "    .color\n",
    "    .size()\n",
    "    .plot(figsize=(9, 6), ax=ax)\n",
    ")"
   ]
  },
  {
   "cell_type": "code",
   "execution_count": 60,
   "metadata": {
    "id": "_AOUnkDnZhpp"
   },
   "outputs": [
    {
     "data": {
      "text/plain": [
       "title_year  color           \n",
       "1925.0       Black and White      1\n",
       "1934.0       Black and White      1\n",
       "1936.0       Black and White      1\n",
       "1938.0       Black and White      1\n",
       "1939.0       Black and White      2\n",
       "                               ... \n",
       "2013.0      Color               136\n",
       "2014.0       Black and White      2\n",
       "            Color               125\n",
       "2015.0      Color               105\n",
       "2016.0      Color                55\n",
       "Name: color, Length: 129, dtype: int64"
      ]
     },
     "execution_count": 60,
     "metadata": {},
     "output_type": "execute_result"
    }
   ],
   "source": [
    "# [optional] alternative approach\n",
    "(\n",
    "    imdb\n",
    "    .groupby([\"title_year\", \"color\"])\n",
    "    .color\n",
    "    .size()\n",
    "#     .unstack(1)   # Turn the \"color\" secondary row index into a column index\n",
    "#     .fillna(0)    # After unstack-ing, years with no color movies or no black-and-white movies would get a size of NaN.\n",
    "#     .plot(figsize=(9, 6))\n",
    ")"
   ]
  },
  {
   "cell_type": "code",
   "execution_count": 61,
   "metadata": {},
   "outputs": [
    {
     "data": {
      "text/html": [
       "<div>\n",
       "<style scoped>\n",
       "    .dataframe tbody tr th:only-of-type {\n",
       "        vertical-align: middle;\n",
       "    }\n",
       "\n",
       "    .dataframe tbody tr th {\n",
       "        vertical-align: top;\n",
       "    }\n",
       "\n",
       "    .dataframe thead th {\n",
       "        text-align: right;\n",
       "    }\n",
       "</style>\n",
       "<table border=\"1\" class=\"dataframe\">\n",
       "  <thead>\n",
       "    <tr style=\"text-align: right;\">\n",
       "      <th>color</th>\n",
       "      <th>Black and White</th>\n",
       "      <th>Color</th>\n",
       "    </tr>\n",
       "    <tr>\n",
       "      <th>title_year</th>\n",
       "      <th></th>\n",
       "      <th></th>\n",
       "    </tr>\n",
       "  </thead>\n",
       "  <tbody>\n",
       "    <tr>\n",
       "      <th>1925.0</th>\n",
       "      <td>1.0</td>\n",
       "      <td>NaN</td>\n",
       "    </tr>\n",
       "    <tr>\n",
       "      <th>1934.0</th>\n",
       "      <td>1.0</td>\n",
       "      <td>NaN</td>\n",
       "    </tr>\n",
       "    <tr>\n",
       "      <th>1936.0</th>\n",
       "      <td>1.0</td>\n",
       "      <td>NaN</td>\n",
       "    </tr>\n",
       "    <tr>\n",
       "      <th>1938.0</th>\n",
       "      <td>1.0</td>\n",
       "      <td>NaN</td>\n",
       "    </tr>\n",
       "    <tr>\n",
       "      <th>1939.0</th>\n",
       "      <td>2.0</td>\n",
       "      <td>1.0</td>\n",
       "    </tr>\n",
       "    <tr>\n",
       "      <th>...</th>\n",
       "      <td>...</td>\n",
       "      <td>...</td>\n",
       "    </tr>\n",
       "    <tr>\n",
       "      <th>2012.0</th>\n",
       "      <td>3.0</td>\n",
       "      <td>113.0</td>\n",
       "    </tr>\n",
       "    <tr>\n",
       "      <th>2013.0</th>\n",
       "      <td>2.0</td>\n",
       "      <td>136.0</td>\n",
       "    </tr>\n",
       "    <tr>\n",
       "      <th>2014.0</th>\n",
       "      <td>2.0</td>\n",
       "      <td>125.0</td>\n",
       "    </tr>\n",
       "    <tr>\n",
       "      <th>2015.0</th>\n",
       "      <td>NaN</td>\n",
       "      <td>105.0</td>\n",
       "    </tr>\n",
       "    <tr>\n",
       "      <th>2016.0</th>\n",
       "      <td>NaN</td>\n",
       "      <td>55.0</td>\n",
       "    </tr>\n",
       "  </tbody>\n",
       "</table>\n",
       "<p>81 rows × 2 columns</p>\n",
       "</div>"
      ],
      "text/plain": [
       "color        Black and White  Color\n",
       "title_year                         \n",
       "1925.0                   1.0    NaN\n",
       "1934.0                   1.0    NaN\n",
       "1936.0                   1.0    NaN\n",
       "1938.0                   1.0    NaN\n",
       "1939.0                   2.0    1.0\n",
       "...                      ...    ...\n",
       "2012.0                   3.0  113.0\n",
       "2013.0                   2.0  136.0\n",
       "2014.0                   2.0  125.0\n",
       "2015.0                   NaN  105.0\n",
       "2016.0                   NaN   55.0\n",
       "\n",
       "[81 rows x 2 columns]"
      ]
     },
     "execution_count": 61,
     "metadata": {},
     "output_type": "execute_result"
    }
   ],
   "source": [
    "# [optional] alternative approach\n",
    "(\n",
    "    imdb\n",
    "    .groupby([\"title_year\", \"color\"])\n",
    "    .color\n",
    "    .size()\n",
    "    .unstack(1)   # Turn the \"color\" secondary row index into a column index\n",
    "#     .fillna(0)    # After unstack-ing, years with no color movies or no black-and-white movies would get a size of NaN.\n",
    "#     .plot(figsize=(9, 6))\n",
    ")"
   ]
  },
  {
   "cell_type": "code",
   "execution_count": 62,
   "metadata": {},
   "outputs": [
    {
     "data": {
      "text/plain": [
       "<AxesSubplot:xlabel='title_year'>"
      ]
     },
     "execution_count": 62,
     "metadata": {},
     "output_type": "execute_result"
    },
    {
     "data": {
      "image/png": "[encoded data removed]",
      "text/plain": [
       "<Figure size 648x432 with 1 Axes>"
      ]
     },
     "metadata": {
      "needs_background": "light"
     },
     "output_type": "display_data"
    }
   ],
   "source": [
    "# [optional] alternative approach\n",
    "(\n",
    "    imdb\n",
    "    .groupby([\"title_year\", \"color\"])\n",
    "    .color\n",
    "    .size()\n",
    "    .unstack(1)   # Turn the \"color\" secondary row index into a column index\n",
    "    .fillna(0)    # After unstack-ing, years with no color movies or no black-and-white movies would get a size of NaN.\n",
    "    .plot(figsize=(9, 6))\n",
    ")"
   ]
  },
  {
   "cell_type": "markdown",
   "metadata": {
    "id": "c6llhcEdUEMk"
   },
   "source": [
    "### [optional] How many movies are there of each genre?"
   ]
  },
  {
   "cell_type": "markdown",
   "metadata": {
    "id": "JCRgpBw_UEMe"
   },
   "source": [
    "> **Note:** A movie can be of multiple genres, so the count of genres is higher the count of movies."
   ]
  },
  {
   "cell_type": "code",
   "execution_count": null,
   "metadata": {
    "id": "hlDrvB-RIyWz"
   },
   "outputs": [],
   "source": []
  },
  {
   "cell_type": "markdown",
   "metadata": {
    "id": "SeM73rv2HfTj",
    "jp-MarkdownHeadingCollapsed": true,
    "tags": []
   },
   "source": [
    "#### Solution"
   ]
  },
  {
   "cell_type": "code",
   "execution_count": null,
   "metadata": {
    "id": "FDLIqvudHuTH"
   },
   "outputs": [],
   "source": [
    "imdb.genres.sample(5)"
   ]
  },
  {
   "cell_type": "code",
   "execution_count": null,
   "metadata": {
    "id": "9gn-tNtRZhpr"
   },
   "outputs": [],
   "source": [
    "imdb.genres.unique()[:5]"
   ]
  },
  {
   "cell_type": "code",
   "execution_count": null,
   "metadata": {
    "id": "mDoE-i9vvrlC"
   },
   "outputs": [],
   "source": [
    "imdb.genres.str.split(\"|\")"
   ]
  },
  {
   "cell_type": "code",
   "execution_count": null,
   "metadata": {
    "id": "dmxxHvfqI3EA"
   },
   "outputs": [],
   "source": [
    "[\"Action\", \"Adventure\", \"Fantasy\"] + [\"Action\", \"Thriller\"]"
   ]
  },
  {
   "cell_type": "code",
   "execution_count": null,
   "metadata": {
    "id": "tdhviKjtm4sb"
   },
   "outputs": [],
   "source": [
    "# The .sum method simply adds values. In Python, it's perfectly okay to add lists\n",
    "imdb.genres.str.split(\"|\").sum()"
   ]
  },
  {
   "cell_type": "code",
   "execution_count": null,
   "metadata": {
    "id": "qtfVbkqWnIak"
   },
   "outputs": [],
   "source": [
    "(\n",
    "  pd.Series(\n",
    "      imdb.genres.str.split(\"|\").sum()  # returns a standard Python list object\n",
    "  )\n",
    "  .value_counts()\n",
    "  .plot.bar(figsize=(12, 8))\n",
    ")"
   ]
  },
  {
   "cell_type": "code",
   "execution_count": null,
   "metadata": {
    "id": "zED0OyS0J_I_"
   },
   "outputs": [],
   "source": [
    "from collections import Counter\n",
    "\n",
    "genres_counter = Counter(\n",
    "    imdb.genres.str.split(\"|\").sum()\n",
    ")\n",
    "genres_counter"
   ]
  },
  {
   "cell_type": "code",
   "execution_count": null,
   "metadata": {
    "id": "b6hXBS2gv4FZ"
   },
   "outputs": [],
   "source": [
    "# Another, more advanced option.\n",
    "# .split + expand generates a new column index per genre.\n",
    "\n",
    "imdb.genres.str.split(\"|\", expand=True)"
   ]
  },
  {
   "cell_type": "code",
   "execution_count": null,
   "metadata": {
    "id": "Uitl9ZfnZhps"
   },
   "outputs": [],
   "source": [
    "(\n",
    "    imdb\n",
    "    .genres\n",
    "    .str.split(\"|\", expand=True)\n",
    "    .stack()\n",
    "    .value_counts()\n",
    "    .plot.bar(figsize=(12, 8))\n",
    ")"
   ]
  }
 ],
 "metadata": {
  "colab": {
   "collapsed_sections": [
    "Mga9D_hZHfTS",
    "CdT0IlGaHfTT",
    "VH72Sxd1HfTU",
    "S0lsjGXuHfTV",
    "rqhaEb3CHfTX",
    "qLKhXur-HfTX",
    "TQLUSX4zHfTZ",
    "s_xyrshOHfTc",
    "Sa8ca9KbHfTd",
    "91SSkZH5HfTe",
    "yNISTIc9HfTe",
    "IEpgFKIpHfTg",
    "kQ_LnbAoHfTi",
    "vTdIghwdHfTi",
    "SeM73rv2HfTj"
   ],
   "provenance": []
  },
  "kernelspec": {
   "display_name": "Python 3 (ipykernel)",
   "language": "python",
   "name": "python3"
  },
  "language_info": {
   "codemirror_mode": {
    "name": "ipython",
    "version": 3
   },
   "file_extension": ".py",
   "mimetype": "text/x-python",
   "name": "python",
   "nbconvert_exporter": "python",
   "pygments_lexer": "ipython3",
   "version": "3.9.7"
  }
 },
 "nbformat": 4,
 "nbformat_minor": 1
}
